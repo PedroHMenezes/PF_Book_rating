{
 "cells": [
  {
   "cell_type": "markdown",
   "metadata": {},
   "source": [
    "# Classificação do modelo"
   ]
  },
  {
   "cell_type": "markdown",
   "metadata": {},
   "source": [
    "## Critérios utilizados\n",
    "Como explicado no Jupyter da [`regressão linear`](Books.ipynb), vamos mudar um pouco o modelo e tentar realizar uma classificação do 'book_rating' para entender como o modelo responde e se nossa previsão pode ficar melhor dessa maneira.\n",
    "\n",
    "Os critérios utilizados foram:\n",
    "- 0 até 2,5 - Muito ruim ou não avaliado\n",
    "- 2,5 até 3,5 - Ruim\n",
    "- 3,5 até 4 - Médio\n",
    "- 4 até 4,35 - Bom\n",
    "- 4,35 até 5 - Muito bom\n",
    "\n",
    "Usamos essas faixas para evitar que houvesse uma faixa com concentração quase total dos livros, tentando contornar esse problema da melhor maneira."
   ]
  },
  {
   "cell_type": "code",
   "execution_count": 2,
   "metadata": {},
   "outputs": [],
   "source": [
    "#Importando bibliotecas\n",
    "import pandas as pd\n",
    "import matplotlib.pyplot as plt\n",
    "from sklearn.preprocessing import OneHotEncoder\n",
    "import numpy as np\n",
    "import seaborn\n",
    "import statsmodels.api as sm"
   ]
  },
  {
   "cell_type": "code",
   "execution_count": 3,
   "metadata": {},
   "outputs": [],
   "source": [
    "#Lendo CSV\n",
    "csv = pd.read_csv('book_data.csv')"
   ]
  },
  {
   "cell_type": "code",
   "execution_count": 4,
   "metadata": {},
   "outputs": [
    {
     "data": {
      "text/html": [
       "<div>\n",
       "<style scoped>\n",
       "    .dataframe tbody tr th:only-of-type {\n",
       "        vertical-align: middle;\n",
       "    }\n",
       "\n",
       "    .dataframe tbody tr th {\n",
       "        vertical-align: top;\n",
       "    }\n",
       "\n",
       "    .dataframe thead th {\n",
       "        text-align: right;\n",
       "    }\n",
       "</style>\n",
       "<table border=\"1\" class=\"dataframe\">\n",
       "  <thead>\n",
       "    <tr style=\"text-align: right;\">\n",
       "      <th></th>\n",
       "      <th>book_authors</th>\n",
       "      <th>book_format</th>\n",
       "      <th>book_pages</th>\n",
       "      <th>book_rating</th>\n",
       "      <th>book_review_count</th>\n",
       "      <th>book_title</th>\n",
       "      <th>genres</th>\n",
       "    </tr>\n",
       "  </thead>\n",
       "  <tbody>\n",
       "    <tr>\n",
       "      <th>0</th>\n",
       "      <td>Suzanne Collins</td>\n",
       "      <td>Hardcover</td>\n",
       "      <td>374 pages</td>\n",
       "      <td>4.33</td>\n",
       "      <td>160706</td>\n",
       "      <td>The Hunger Games</td>\n",
       "      <td>Young Adult|Fiction|Science Fiction|Dystopia|F...</td>\n",
       "    </tr>\n",
       "    <tr>\n",
       "      <th>1</th>\n",
       "      <td>J.K. Rowling|Mary GrandPré</td>\n",
       "      <td>Paperback</td>\n",
       "      <td>870 pages</td>\n",
       "      <td>4.48</td>\n",
       "      <td>33264</td>\n",
       "      <td>Harry Potter and the Order of the Phoenix</td>\n",
       "      <td>Fantasy|Young Adult|Fiction</td>\n",
       "    </tr>\n",
       "    <tr>\n",
       "      <th>2</th>\n",
       "      <td>Harper Lee</td>\n",
       "      <td>Paperback</td>\n",
       "      <td>324 pages</td>\n",
       "      <td>4.27</td>\n",
       "      <td>79450</td>\n",
       "      <td>To Kill a Mockingbird</td>\n",
       "      <td>Classics|Fiction|Historical|Historical Fiction...</td>\n",
       "    </tr>\n",
       "    <tr>\n",
       "      <th>3</th>\n",
       "      <td>Jane Austen|Anna Quindlen|Mrs. Oliphant|George...</td>\n",
       "      <td>Paperback</td>\n",
       "      <td>279 pages</td>\n",
       "      <td>4.25</td>\n",
       "      <td>54322</td>\n",
       "      <td>Pride and Prejudice</td>\n",
       "      <td>Classics|Fiction|Romance</td>\n",
       "    </tr>\n",
       "    <tr>\n",
       "      <th>4</th>\n",
       "      <td>Stephenie Meyer</td>\n",
       "      <td>Paperback</td>\n",
       "      <td>498 pages</td>\n",
       "      <td>3.58</td>\n",
       "      <td>97991</td>\n",
       "      <td>Twilight</td>\n",
       "      <td>Young Adult|Fantasy|Romance|Paranormal|Vampire...</td>\n",
       "    </tr>\n",
       "  </tbody>\n",
       "</table>\n",
       "</div>"
      ],
      "text/plain": [
       "                                        book_authors book_format book_pages  \\\n",
       "0                                    Suzanne Collins   Hardcover  374 pages   \n",
       "1                         J.K. Rowling|Mary GrandPré   Paperback  870 pages   \n",
       "2                                         Harper Lee   Paperback  324 pages   \n",
       "3  Jane Austen|Anna Quindlen|Mrs. Oliphant|George...   Paperback  279 pages   \n",
       "4                                    Stephenie Meyer   Paperback  498 pages   \n",
       "\n",
       "   book_rating  book_review_count                                 book_title  \\\n",
       "0         4.33             160706                           The Hunger Games   \n",
       "1         4.48              33264  Harry Potter and the Order of the Phoenix   \n",
       "2         4.27              79450                      To Kill a Mockingbird   \n",
       "3         4.25              54322                        Pride and Prejudice   \n",
       "4         3.58              97991                                   Twilight   \n",
       "\n",
       "                                              genres  \n",
       "0  Young Adult|Fiction|Science Fiction|Dystopia|F...  \n",
       "1                        Fantasy|Young Adult|Fiction  \n",
       "2  Classics|Fiction|Historical|Historical Fiction...  \n",
       "3                           Classics|Fiction|Romance  \n",
       "4  Young Adult|Fantasy|Romance|Paranormal|Vampire...  "
      ]
     },
     "execution_count": 4,
     "metadata": {},
     "output_type": "execute_result"
    }
   ],
   "source": [
    "# Retirando todas as variáveis que não serão utilizadas\n",
    "csv.drop(['book_isbn','book_desc','book_edition','book_rating_count','image_url'],axis=1,inplace=True)\n",
    "# Retirando os livros com informações faltando\n",
    "csv=csv.dropna()\n",
    "csv.head()"
   ]
  },
  {
   "cell_type": "code",
   "execution_count": 5,
   "metadata": {},
   "outputs": [],
   "source": [
    "# Fazendo a classificação dos livros\n",
    "lista = ['muito ruim ou não avaliado', 'ruim', 'médio', 'bom', 'muito bom']\n",
    "avaliacoes = []\n",
    "\n",
    "for i in csv['book_rating'].values:\n",
    "    if i>=0 and i<2.5:\n",
    "        avaliacoes.append(lista[0])\n",
    "    elif i>=2.5 and i<3.5:\n",
    "        avaliacoes.append(lista[1])\n",
    "    elif i>=3.5 and i<4:\n",
    "        avaliacoes.append(lista[2])\n",
    "    elif i>=4  and i<4.35:\n",
    "        avaliacoes.append(lista[3])\n",
    "    elif i>=4.35 and i<=5:\n",
    "        avaliacoes.append(lista[4])"
   ]
  },
  {
   "cell_type": "code",
   "execution_count": 6,
   "metadata": {},
   "outputs": [
    {
     "data": {
      "text/plain": [
       "médio                         20531\n",
       "bom                           20437\n",
       "muito bom                      5056\n",
       "ruim                           2226\n",
       "muito ruim ou não avaliado       10\n",
       "dtype: int64"
      ]
     },
     "execution_count": 6,
     "metadata": {},
     "output_type": "execute_result"
    }
   ],
   "source": [
    "# Entendendo como as classificações estão distribuidas\n",
    "j = pd.Series(avaliacoes)\n",
    "j = j.value_counts()\n",
    "j"
   ]
  },
  {
   "cell_type": "code",
   "execution_count": 35,
   "metadata": {},
   "outputs": [],
   "source": [
    "# Juntando as classificações no dataframe\n",
    "avaliacoes_ = pd.DataFrame({'avaliações':avaliacoes}, index = csv.index)\n",
    "csv = csv.join(avaliacoes_,how='inner')\n",
    "csv.drop(['book_rating'],axis=1, inplace=True)"
   ]
  },
  {
   "cell_type": "code",
   "execution_count": 36,
   "metadata": {},
   "outputs": [
    {
     "data": {
      "text/html": [
       "<div>\n",
       "<style scoped>\n",
       "    .dataframe tbody tr th:only-of-type {\n",
       "        vertical-align: middle;\n",
       "    }\n",
       "\n",
       "    .dataframe tbody tr th {\n",
       "        vertical-align: top;\n",
       "    }\n",
       "\n",
       "    .dataframe thead th {\n",
       "        text-align: right;\n",
       "    }\n",
       "</style>\n",
       "<table border=\"1\" class=\"dataframe\">\n",
       "  <thead>\n",
       "    <tr style=\"text-align: right;\">\n",
       "      <th></th>\n",
       "      <th>book_authors</th>\n",
       "      <th>book_format</th>\n",
       "      <th>book_pages</th>\n",
       "      <th>book_review_count</th>\n",
       "      <th>book_title</th>\n",
       "      <th>genres</th>\n",
       "      <th>avaliações</th>\n",
       "    </tr>\n",
       "  </thead>\n",
       "  <tbody>\n",
       "    <tr>\n",
       "      <th>0</th>\n",
       "      <td>Suzanne Collins</td>\n",
       "      <td>Hardcover</td>\n",
       "      <td>374 pages</td>\n",
       "      <td>160706</td>\n",
       "      <td>The Hunger Games</td>\n",
       "      <td>Young Adult|Fiction|Science Fiction|Dystopia|F...</td>\n",
       "      <td>bom</td>\n",
       "    </tr>\n",
       "    <tr>\n",
       "      <th>1</th>\n",
       "      <td>J.K. Rowling|Mary GrandPré</td>\n",
       "      <td>Paperback</td>\n",
       "      <td>870 pages</td>\n",
       "      <td>33264</td>\n",
       "      <td>Harry Potter and the Order of the Phoenix</td>\n",
       "      <td>Fantasy|Young Adult|Fiction</td>\n",
       "      <td>muito bom</td>\n",
       "    </tr>\n",
       "    <tr>\n",
       "      <th>2</th>\n",
       "      <td>Harper Lee</td>\n",
       "      <td>Paperback</td>\n",
       "      <td>324 pages</td>\n",
       "      <td>79450</td>\n",
       "      <td>To Kill a Mockingbird</td>\n",
       "      <td>Classics|Fiction|Historical|Historical Fiction...</td>\n",
       "      <td>bom</td>\n",
       "    </tr>\n",
       "    <tr>\n",
       "      <th>3</th>\n",
       "      <td>Jane Austen|Anna Quindlen|Mrs. Oliphant|George...</td>\n",
       "      <td>Paperback</td>\n",
       "      <td>279 pages</td>\n",
       "      <td>54322</td>\n",
       "      <td>Pride and Prejudice</td>\n",
       "      <td>Classics|Fiction|Romance</td>\n",
       "      <td>bom</td>\n",
       "    </tr>\n",
       "    <tr>\n",
       "      <th>4</th>\n",
       "      <td>Stephenie Meyer</td>\n",
       "      <td>Paperback</td>\n",
       "      <td>498 pages</td>\n",
       "      <td>97991</td>\n",
       "      <td>Twilight</td>\n",
       "      <td>Young Adult|Fantasy|Romance|Paranormal|Vampire...</td>\n",
       "      <td>médio</td>\n",
       "    </tr>\n",
       "  </tbody>\n",
       "</table>\n",
       "</div>"
      ],
      "text/plain": [
       "                                        book_authors book_format book_pages  \\\n",
       "0                                    Suzanne Collins   Hardcover  374 pages   \n",
       "1                         J.K. Rowling|Mary GrandPré   Paperback  870 pages   \n",
       "2                                         Harper Lee   Paperback  324 pages   \n",
       "3  Jane Austen|Anna Quindlen|Mrs. Oliphant|George...   Paperback  279 pages   \n",
       "4                                    Stephenie Meyer   Paperback  498 pages   \n",
       "\n",
       "   book_review_count                                 book_title  \\\n",
       "0             160706                           The Hunger Games   \n",
       "1              33264  Harry Potter and the Order of the Phoenix   \n",
       "2              79450                      To Kill a Mockingbird   \n",
       "3              54322                        Pride and Prejudice   \n",
       "4              97991                                   Twilight   \n",
       "\n",
       "                                              genres avaliações  \n",
       "0  Young Adult|Fiction|Science Fiction|Dystopia|F...        bom  \n",
       "1                        Fantasy|Young Adult|Fiction  muito bom  \n",
       "2  Classics|Fiction|Historical|Historical Fiction...        bom  \n",
       "3                           Classics|Fiction|Romance        bom  \n",
       "4  Young Adult|Fantasy|Romance|Paranormal|Vampire...      médio  "
      ]
     },
     "execution_count": 36,
     "metadata": {},
     "output_type": "execute_result"
    }
   ],
   "source": [
    "csv.head()"
   ]
  },
  {
   "cell_type": "code",
   "execution_count": 37,
   "metadata": {},
   "outputs": [
    {
     "name": "stdout",
     "output_type": "stream",
     "text": [
      "['Young Adult', 'Fantasy', 'Classics', 'Classics', 'Young Adult', 'Historical', 'Fantasy', 'Classics', 'Classics', 'Fantasy'] [374, 870, 324, 279, 498, 552, 767, 122, 1037, 1728] ['S', 'J', 'H', 'J', 'S', 'M', 'C', 'G', 'M', 'J']\n"
     ]
    }
   ],
   "source": [
    "# Reajustando as variáveis que serão utilizadas\n",
    "def limpando(csv):\n",
    "    # Ajeitando as variáveis\n",
    "    ar = csv['genres'].tolist()\n",
    "    ar1 = []\n",
    "    iniciais = []\n",
    "    paginas = []\n",
    "\n",
    "    # Escolhendo como gênero literário apenas o primeiro listado.\n",
    "    for i in ar:\n",
    "        if i == \"\":\n",
    "            ar1.append(\"\")\n",
    "        else:\n",
    "            a = i.split('|')\n",
    "            ar1.append(a[0])\n",
    "\n",
    "    # Selecionando apenas a inicial dos nomes dos autores\n",
    "    for i in csv['book_authors']:\n",
    "        iniciais.append(i[0])\n",
    "\n",
    "    # Apenas o número de páginas aparecerá, sem a palavra \"pages\"\n",
    "    for i in csv['book_pages']:\n",
    "        numero = i.split(' ')\n",
    "        paginas.append(int(numero[0]))\n",
    "    return ar1,paginas,iniciais\n",
    "ar1,paginas,iniciais = limpando(csv)\n",
    "print(ar1[0:10],paginas[0:10],iniciais[0:10])"
   ]
  },
  {
   "cell_type": "code",
   "execution_count": 38,
   "metadata": {},
   "outputs": [],
   "source": [
    "# Criando colunas no DataFrame para as iniciais dos autores, os números de páginas e o principal gênero do livro\n",
    "ar1=pd.DataFrame({'genero':ar1},index = csv.index)\n",
    "iniciais_ = pd.DataFrame({'iniciais':iniciais}, index = csv.index)\n",
    "paginas_ = pd.DataFrame({'paginas':paginas}, index = csv.index)"
   ]
  },
  {
   "cell_type": "code",
   "execution_count": 39,
   "metadata": {},
   "outputs": [],
   "source": [
    "# Juntando as iniciais dos autores, número de páginas e o principal gênero\n",
    "csv = csv.join(ar1,how='inner')\n",
    "csv = csv.join(iniciais_,how='inner')\n",
    "csv = csv.join(paginas_,how='inner')"
   ]
  },
  {
   "cell_type": "code",
   "execution_count": 40,
   "metadata": {},
   "outputs": [],
   "source": [
    "# Retirando as colunas que foram ajustadas\n",
    "csv.drop(['book_authors','book_pages','book_title','genres'],axis=1,inplace=True)"
   ]
  },
  {
   "cell_type": "code",
   "execution_count": 41,
   "metadata": {},
   "outputs": [
    {
     "data": {
      "text/html": [
       "<div>\n",
       "<style scoped>\n",
       "    .dataframe tbody tr th:only-of-type {\n",
       "        vertical-align: middle;\n",
       "    }\n",
       "\n",
       "    .dataframe tbody tr th {\n",
       "        vertical-align: top;\n",
       "    }\n",
       "\n",
       "    .dataframe thead th {\n",
       "        text-align: right;\n",
       "    }\n",
       "</style>\n",
       "<table border=\"1\" class=\"dataframe\">\n",
       "  <thead>\n",
       "    <tr style=\"text-align: right;\">\n",
       "      <th></th>\n",
       "      <th>book_format</th>\n",
       "      <th>book_review_count</th>\n",
       "      <th>avaliações</th>\n",
       "      <th>genero</th>\n",
       "      <th>iniciais</th>\n",
       "      <th>paginas</th>\n",
       "    </tr>\n",
       "  </thead>\n",
       "  <tbody>\n",
       "    <tr>\n",
       "      <th>0</th>\n",
       "      <td>Hardcover</td>\n",
       "      <td>160706</td>\n",
       "      <td>bom</td>\n",
       "      <td>Young Adult</td>\n",
       "      <td>S</td>\n",
       "      <td>374</td>\n",
       "    </tr>\n",
       "    <tr>\n",
       "      <th>1</th>\n",
       "      <td>Paperback</td>\n",
       "      <td>33264</td>\n",
       "      <td>muito bom</td>\n",
       "      <td>Fantasy</td>\n",
       "      <td>J</td>\n",
       "      <td>870</td>\n",
       "    </tr>\n",
       "    <tr>\n",
       "      <th>2</th>\n",
       "      <td>Paperback</td>\n",
       "      <td>79450</td>\n",
       "      <td>bom</td>\n",
       "      <td>Classics</td>\n",
       "      <td>H</td>\n",
       "      <td>324</td>\n",
       "    </tr>\n",
       "    <tr>\n",
       "      <th>3</th>\n",
       "      <td>Paperback</td>\n",
       "      <td>54322</td>\n",
       "      <td>bom</td>\n",
       "      <td>Classics</td>\n",
       "      <td>J</td>\n",
       "      <td>279</td>\n",
       "    </tr>\n",
       "    <tr>\n",
       "      <th>4</th>\n",
       "      <td>Paperback</td>\n",
       "      <td>97991</td>\n",
       "      <td>médio</td>\n",
       "      <td>Young Adult</td>\n",
       "      <td>S</td>\n",
       "      <td>498</td>\n",
       "    </tr>\n",
       "    <tr>\n",
       "      <th>5</th>\n",
       "      <td>Hardcover</td>\n",
       "      <td>100821</td>\n",
       "      <td>muito bom</td>\n",
       "      <td>Historical</td>\n",
       "      <td>M</td>\n",
       "      <td>552</td>\n",
       "    </tr>\n",
       "    <tr>\n",
       "      <th>6</th>\n",
       "      <td>Paperback</td>\n",
       "      <td>9439</td>\n",
       "      <td>bom</td>\n",
       "      <td>Fantasy</td>\n",
       "      <td>C</td>\n",
       "      <td>767</td>\n",
       "    </tr>\n",
       "    <tr>\n",
       "      <th>7</th>\n",
       "      <td>Paperback</td>\n",
       "      <td>42156</td>\n",
       "      <td>médio</td>\n",
       "      <td>Classics</td>\n",
       "      <td>G</td>\n",
       "      <td>122</td>\n",
       "    </tr>\n",
       "    <tr>\n",
       "      <th>8</th>\n",
       "      <td>Paperback</td>\n",
       "      <td>17452</td>\n",
       "      <td>bom</td>\n",
       "      <td>Classics</td>\n",
       "      <td>M</td>\n",
       "      <td>1037</td>\n",
       "    </tr>\n",
       "    <tr>\n",
       "      <th>9</th>\n",
       "      <td>Mass Market Paperback</td>\n",
       "      <td>1652</td>\n",
       "      <td>muito bom</td>\n",
       "      <td>Fantasy</td>\n",
       "      <td>J</td>\n",
       "      <td>1728</td>\n",
       "    </tr>\n",
       "  </tbody>\n",
       "</table>\n",
       "</div>"
      ],
      "text/plain": [
       "             book_format  book_review_count avaliações       genero iniciais  \\\n",
       "0              Hardcover             160706        bom  Young Adult        S   \n",
       "1              Paperback              33264  muito bom      Fantasy        J   \n",
       "2              Paperback              79450        bom     Classics        H   \n",
       "3              Paperback              54322        bom     Classics        J   \n",
       "4              Paperback              97991      médio  Young Adult        S   \n",
       "5              Hardcover             100821  muito bom   Historical        M   \n",
       "6              Paperback               9439        bom      Fantasy        C   \n",
       "7              Paperback              42156      médio     Classics        G   \n",
       "8              Paperback              17452        bom     Classics        M   \n",
       "9  Mass Market Paperback               1652  muito bom      Fantasy        J   \n",
       "\n",
       "   paginas  \n",
       "0      374  \n",
       "1      870  \n",
       "2      324  \n",
       "3      279  \n",
       "4      498  \n",
       "5      552  \n",
       "6      767  \n",
       "7      122  \n",
       "8     1037  \n",
       "9     1728  "
      ]
     },
     "execution_count": 41,
     "metadata": {},
     "output_type": "execute_result"
    }
   ],
   "source": [
    "csv.head(10)"
   ]
  },
  {
   "cell_type": "code",
   "execution_count": 45,
   "metadata": {},
   "outputs": [],
   "source": [
    "# Separando entre o resultado esperado, variáveis qualitativas e variáveis quantitativas\n",
    "y=csv.avaliações\n",
    "num = csv[['paginas','book_review_count']]\n",
    "qual = csv[['book_format', 'genero', 'iniciais']]"
   ]
  },
  {
   "cell_type": "code",
   "execution_count": 47,
   "metadata": {},
   "outputs": [],
   "source": [
    "# Transformando qualitativas em quantitativas por meio do OneHotEncoder\n",
    "encoder = OneHotEncoder()\n",
    "capa_encoded = encoder.fit_transform(qual)\n",
    "x_num = num.values\n",
    "x_encoded = capa_encoded.toarray()\n",
    "X = np.concatenate((x_num,x_encoded), axis=1)"
   ]
  },
  {
   "cell_type": "code",
   "execution_count": 48,
   "metadata": {},
   "outputs": [
    {
     "name": "stderr",
     "output_type": "stream",
     "text": [
      "/anaconda3/lib/python3.7/site-packages/sklearn/ensemble/forest.py:246: FutureWarning: The default value of n_estimators will change from 10 in version 0.20 to 100 in 0.22.\n",
      "  \"10 in version 0.20 to 100 in 0.22.\", FutureWarning)\n"
     ]
    },
    {
     "name": "stdout",
     "output_type": "stream",
     "text": [
      "0.5375051802735185\n"
     ]
    }
   ],
   "source": [
    "# Realizando o modelo\n",
    "from sklearn.ensemble import RandomForestClassifier\n",
    "from sklearn.model_selection import train_test_split\n",
    "from sklearn.metrics import accuracy_score\n",
    "\n",
    "X_train, X_test, y_train, y_test = train_test_split(X, y)\n",
    "\n",
    "model = RandomForestClassifier()\n",
    "model.fit(X_train, y_train)\n",
    "y_pred = model.predict(X_test)\n",
    "\n",
    "print(accuracy_score(y_test, y_pred))"
   ]
  },
  {
   "cell_type": "markdown",
   "metadata": {},
   "source": [
    "## Conclusão\n",
    "---"
   ]
  },
  {
   "cell_type": "markdown",
   "metadata": {},
   "source": [
    "Portanto, no nosso modelo, dada uma das classificações que fizemos, temos 53,8% de acertar ele dada nossas variáveis. É uma probabilidade razoável dado que temos 5 classificações e um 'chute' teria somente 20% de chance de acerto."
   ]
  },
  {
   "cell_type": "code",
   "execution_count": null,
   "metadata": {},
   "outputs": [],
   "source": []
  },
  {
   "cell_type": "code",
   "execution_count": null,
   "metadata": {},
   "outputs": [],
   "source": []
  },
  {
   "cell_type": "code",
   "execution_count": null,
   "metadata": {},
   "outputs": [],
   "source": []
  },
  {
   "cell_type": "code",
   "execution_count": null,
   "metadata": {},
   "outputs": [],
   "source": []
  }
 ],
 "metadata": {
  "kernelspec": {
   "display_name": "Python 3",
   "language": "python",
   "name": "python3"
  },
  "language_info": {
   "codemirror_mode": {
    "name": "ipython",
    "version": 3
   },
   "file_extension": ".py",
   "mimetype": "text/x-python",
   "name": "python",
   "nbconvert_exporter": "python",
   "pygments_lexer": "ipython3",
   "version": "3.7.4"
  }
 },
 "nbformat": 4,
 "nbformat_minor": 2
}
