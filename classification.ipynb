{
 "cells": [
  {
   "cell_type": "markdown",
   "metadata": {},
   "source": [
    "# <font color='blue'>Classificação do Modelo</font>\n",
    "\n"
   ]
  },
  {
   "cell_type": "markdown",
   "metadata": {},
   "source": [
    "## <font color = 'orange'>O que é classificação</font>\n",
    "---\n",
    "\n",
    "A classificação é uma técnica de previsão de alguma variável qualitativa que será prevista por outra "
   ]
  },
  {
   "cell_type": "markdown",
   "metadata": {},
   "source": [
    "## <font color='orange'>Critérios utilizados</font>\n",
    "---\n",
    "\n",
    "Como explicado no Jupyter da [`regressão linear`](Books.ipynb), vamos mudar um pouco o modelo e tentar realizar uma classificação do 'book_rating' para entender como o modelo responde e se nossa previsão pode ficar melhor dessa maneira.\n",
    "\n",
    "Os critérios utilizados foram:\n",
    "- 0 até 2,5 - Muito ruim ou não avaliado\n",
    "- 2,5 até 3,5 - Ruim\n",
    "- 3,5 até 4 - Médio\n",
    "- 4 até 4,35 - Bom\n",
    "- 4,35 até 5 - Muito bom\n",
    "\n",
    "Usamos essas faixas para evitar que houvesse uma faixa com concentração quase total dos livros, tentando contornar esse problema da melhor maneira."
   ]
  },
  {
   "cell_type": "code",
   "execution_count": null,
   "metadata": {},
   "outputs": [],
   "source": [
    "#Importando bibliotecas\n",
    "import pandas as pd\n",
    "import matplotlib.pyplot as plt\n",
    "from sklearn.preprocessing import OneHotEncoder\n",
    "import numpy as np\n",
    "import seaborn\n",
    "import statsmodels.api as sm"
   ]
  },
  {
   "cell_type": "code",
   "execution_count": null,
   "metadata": {},
   "outputs": [],
   "source": [
    "#Lendo CSV\n",
    "csv = pd.read_csv('book_data.csv')"
   ]
  },
  {
   "cell_type": "code",
   "execution_count": null,
   "metadata": {},
   "outputs": [],
   "source": [
    "# Retirando todas as variáveis que não serão utilizadas\n",
    "csv.drop(['book_isbn','book_desc','book_edition','book_rating_count','image_url'],axis=1,inplace=True)\n",
    "# Retirando os livros com informações faltando\n",
    "csv=csv.dropna()\n",
    "csv.head()"
   ]
  },
  {
   "cell_type": "code",
   "execution_count": null,
   "metadata": {},
   "outputs": [],
   "source": [
    "# Fazendo a classificação dos livros\n",
    "lista = ['muito ruim ou não avaliado', 'ruim', 'médio', 'bom', 'muito bom']\n",
    "avaliacoes = []\n",
    "\n",
    "for i in csv['book_rating'].values:\n",
    "    if i>=0 and i<2.5:\n",
    "        avaliacoes.append(lista[0])\n",
    "    elif i>=2.5 and i<3.5:\n",
    "        avaliacoes.append(lista[1])\n",
    "    elif i>=3.5 and i<4:\n",
    "        avaliacoes.append(lista[2])\n",
    "    elif i>=4  and i<4.35:\n",
    "        avaliacoes.append(lista[3])\n",
    "    elif i>=4.35 and i<=5:\n",
    "        avaliacoes.append(lista[4])"
   ]
  },
  {
   "cell_type": "code",
   "execution_count": null,
   "metadata": {},
   "outputs": [],
   "source": [
    "# Entendendo como as classificações estão distribuidas\n",
    "j = pd.Series(avaliacoes)\n",
    "j = j.value_counts()\n",
    "j"
   ]
  },
  {
   "cell_type": "code",
   "execution_count": null,
   "metadata": {},
   "outputs": [],
   "source": [
    "# Juntando as classificações no dataframe\n",
    "avaliacoes_ = pd.DataFrame({'avaliações':avaliacoes}, index = csv.index)\n",
    "csv = csv.join(avaliacoes_,how='inner')\n",
    "csv.drop(['book_rating'],axis=1, inplace=True)"
   ]
  },
  {
   "cell_type": "code",
   "execution_count": null,
   "metadata": {},
   "outputs": [],
   "source": [
    "csv.head()"
   ]
  },
  {
   "cell_type": "code",
   "execution_count": null,
   "metadata": {},
   "outputs": [],
   "source": [
    "# Reajustando as variáveis que serão utilizadas\n",
    "def limpando(csv):\n",
    "    # Ajeitando as variáveis\n",
    "    ar = csv['genres'].tolist()\n",
    "    ar1 = []\n",
    "    iniciais = []\n",
    "    paginas = []\n",
    "\n",
    "    # Escolhendo como gênero literário apenas o primeiro listado.\n",
    "    for i in ar:\n",
    "        if i == \"\":\n",
    "            ar1.append(\"\")\n",
    "        else:\n",
    "            a = i.split('|')\n",
    "            ar1.append(a[0])\n",
    "\n",
    "    # Selecionando apenas a inicial dos nomes dos autores\n",
    "    for i in csv['book_authors']:\n",
    "        iniciais.append(i[0])\n",
    "\n",
    "    # Apenas o número de páginas aparecerá, sem a palavra \"pages\"\n",
    "    for i in csv['book_pages']:\n",
    "        numero = i.split(' ')\n",
    "        paginas.append(int(numero[0]))\n",
    "    return ar1,paginas,iniciais\n",
    "ar1,paginas,iniciais = limpando(csv)\n",
    "print(ar1[0:10],paginas[0:10],iniciais[0:10])"
   ]
  },
  {
   "cell_type": "code",
   "execution_count": null,
   "metadata": {},
   "outputs": [],
   "source": [
    "# Criando colunas no DataFrame para as iniciais dos autores, os números de páginas e o principal gênero do livro\n",
    "ar1=pd.DataFrame({'genero':ar1},index = csv.index)\n",
    "iniciais_ = pd.DataFrame({'iniciais':iniciais}, index = csv.index)\n",
    "paginas_ = pd.DataFrame({'paginas':paginas}, index = csv.index)"
   ]
  },
  {
   "cell_type": "code",
   "execution_count": null,
   "metadata": {},
   "outputs": [],
   "source": [
    "# Juntando as iniciais dos autores, número de páginas e o principal gênero\n",
    "csv = csv.join(ar1,how='inner')\n",
    "csv = csv.join(iniciais_,how='inner')\n",
    "csv = csv.join(paginas_,how='inner')"
   ]
  },
  {
   "cell_type": "code",
   "execution_count": null,
   "metadata": {},
   "outputs": [],
   "source": [
    "# Retirando as colunas que foram ajustadas\n",
    "csv.drop(['book_authors','book_pages','book_title','genres'],axis=1,inplace=True)"
   ]
  },
  {
   "cell_type": "code",
   "execution_count": null,
   "metadata": {},
   "outputs": [],
   "source": [
    "csv.head(10)"
   ]
  },
  {
   "cell_type": "code",
   "execution_count": null,
   "metadata": {},
   "outputs": [],
   "source": [
    "# Separando entre o resultado esperado, variáveis qualitativas e variáveis quantitativas\n",
    "y=csv.avaliações\n",
    "num = csv[['paginas','book_review_count']]\n",
    "qual = csv[['book_format', 'genero', 'iniciais']]"
   ]
  },
  {
   "cell_type": "code",
   "execution_count": null,
   "metadata": {},
   "outputs": [],
   "source": [
    "# Transformando qualitativas em quantitativas por meio do OneHotEncoder\n",
    "encoder = OneHotEncoder()\n",
    "capa_encoded = encoder.fit_transform(qual)\n",
    "x_num = num.values\n",
    "x_encoded = capa_encoded.toarray()\n",
    "X = np.concatenate((x_num,x_encoded), axis=1)"
   ]
  },
  {
   "cell_type": "code",
   "execution_count": null,
   "metadata": {},
   "outputs": [],
   "source": [
    "# Realizando o modelo\n",
    "from sklearn.ensemble import RandomForestClassifier\n",
    "from sklearn.model_selection import train_test_split\n",
    "from sklearn.metrics import accuracy_score\n",
    "\n",
    "X_train, X_test, y_train, y_test = train_test_split(X, y)\n",
    "\n",
    "model = RandomForestClassifier()\n",
    "model.fit(X_train, y_train)\n",
    "y_pred = model.predict(X_test)\n",
    "\n",
    "print(accuracy_score(y_test, y_pred))"
   ]
  },
  {
   "cell_type": "markdown",
   "metadata": {},
   "source": [
    "## <font color='orange'>Conclusão</font>\n",
    "---"
   ]
  },
  {
   "cell_type": "markdown",
   "metadata": {},
   "source": [
    "Portanto, no nosso modelo, dada uma das classificações que fizemos, temos 53,8% de acertar ele dada nossas variáveis. É uma probabilidade razoável dado que temos 5 classificações e um 'chute' teria somente 20% de chance de acerto."
   ]
  },
  {
   "cell_type": "code",
   "execution_count": null,
   "metadata": {},
   "outputs": [],
   "source": []
  },
  {
   "cell_type": "code",
   "execution_count": null,
   "metadata": {},
   "outputs": [],
   "source": []
  },
  {
   "cell_type": "code",
   "execution_count": null,
   "metadata": {},
   "outputs": [],
   "source": []
  },
  {
   "cell_type": "code",
   "execution_count": null,
   "metadata": {},
   "outputs": [],
   "source": []
  }
 ],
 "metadata": {
  "kernelspec": {
   "display_name": "Python 3",
   "language": "python",
   "name": "python3"
  },
  "language_info": {
   "codemirror_mode": {
    "name": "ipython",
    "version": 3
   },
   "file_extension": ".py",
   "mimetype": "text/x-python",
   "name": "python",
   "nbconvert_exporter": "python",
   "pygments_lexer": "ipython3",
   "version": "3.7.1"
  }
 },
 "nbformat": 4,
 "nbformat_minor": 2
}
