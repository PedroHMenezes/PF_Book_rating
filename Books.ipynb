{
 "cells": [
  {
   "cell_type": "markdown",
   "metadata": {},
   "source": [
    "# Projeto Final - Ciência dos dados\n",
    "### Alunos:\n",
    "- Beatriz Lourenço \n",
    "- Fernando Kenji \n",
    "- Sophia Kerber\n",
    "- Pedro H. Menezes"
   ]
  },
  {
   "cell_type": "markdown",
   "metadata": {},
   "source": [
    "### Pergunta Motivadora:\n",
    "___\n",
    "É possível prever a avaliação de um livro (no ranking do Goodreads) com as seguintes variáveis?\n",
    "- Inicial do autor\n",
    "- Número de páginas\n",
    "- Gênero\n",
    "- Formato do livro (Capa dura, capa em papel, versão Kindle...)\n"
   ]
  },
  {
   "cell_type": "markdown",
   "metadata": {},
   "source": [
    "### Por que regressão linear?\n",
    "___\n",
    "\n",
    "Como o objetivo do projeto era prever a avaliação do livro, decidiu-se utilizar a regressão linear para tanto, uma vez que a variável de saída é quantitativa. A ideia da regressão linear é aproximar os dados de uma reta, tentando diminuir o erro quadrático ao máximo. Utilizamos o One Hot Enconder, aliado ao SciKitLearn para dividir o dataset, classificar as variáveis qualitativas em números binários, e finalmente fazer a predição e o teste do dataset.\n",
    "\n",
    "As técnicas que se prestam a este tipo de análise: regressão linear, *regression tree*, *random forest regression* - EXPLICAR OS OUTROS 2"
   ]
  },
  {
   "cell_type": "markdown",
   "metadata": {},
   "source": [
    "### Como melhorar a análise?\n",
    "___\n",
    "\n",
    "Pode-se melhorar a análise feita por meio da K-Folds Cross Validation."
   ]
  },
  {
   "cell_type": "code",
   "execution_count": 1,
   "metadata": {},
   "outputs": [],
   "source": [
    "import pandas as pd\n",
    "import matplotlib.pyplot as plt\n",
    "from sklearn.preprocessing import OneHotEncoder\n",
    "import numpy as np\n",
    "import seaborn"
   ]
  },
  {
   "cell_type": "code",
   "execution_count": 8,
   "metadata": {},
   "outputs": [
    {
     "data": {
      "text/html": [
       "<div>\n",
       "<style scoped>\n",
       "    .dataframe tbody tr th:only-of-type {\n",
       "        vertical-align: middle;\n",
       "    }\n",
       "\n",
       "    .dataframe tbody tr th {\n",
       "        vertical-align: top;\n",
       "    }\n",
       "\n",
       "    .dataframe thead th {\n",
       "        text-align: right;\n",
       "    }\n",
       "</style>\n",
       "<table border=\"1\" class=\"dataframe\">\n",
       "  <thead>\n",
       "    <tr style=\"text-align: right;\">\n",
       "      <th></th>\n",
       "      <th>book_authors</th>\n",
       "      <th>book_desc</th>\n",
       "      <th>book_edition</th>\n",
       "      <th>book_format</th>\n",
       "      <th>book_isbn</th>\n",
       "      <th>book_pages</th>\n",
       "      <th>book_rating</th>\n",
       "      <th>book_rating_count</th>\n",
       "      <th>book_review_count</th>\n",
       "      <th>book_title</th>\n",
       "      <th>genres</th>\n",
       "      <th>image_url</th>\n",
       "    </tr>\n",
       "  </thead>\n",
       "  <tbody>\n",
       "    <tr>\n",
       "      <th>0</th>\n",
       "      <td>Suzanne Collins</td>\n",
       "      <td>Winning will make you famous. Losing means cer...</td>\n",
       "      <td>NaN</td>\n",
       "      <td>Hardcover</td>\n",
       "      <td>9.78044E+12</td>\n",
       "      <td>374 pages</td>\n",
       "      <td>4.33</td>\n",
       "      <td>5519135</td>\n",
       "      <td>160706</td>\n",
       "      <td>The Hunger Games</td>\n",
       "      <td>Young Adult|Fiction|Science Fiction|Dystopia|F...</td>\n",
       "      <td>https://images.gr-assets.com/books/1447303603l...</td>\n",
       "    </tr>\n",
       "    <tr>\n",
       "      <th>1</th>\n",
       "      <td>J.K. Rowling|Mary GrandPré</td>\n",
       "      <td>There is a door at the end of a silent corrido...</td>\n",
       "      <td>US Edition</td>\n",
       "      <td>Paperback</td>\n",
       "      <td>9.78044E+12</td>\n",
       "      <td>870 pages</td>\n",
       "      <td>4.48</td>\n",
       "      <td>2041594</td>\n",
       "      <td>33264</td>\n",
       "      <td>Harry Potter and the Order of the Phoenix</td>\n",
       "      <td>Fantasy|Young Adult|Fiction</td>\n",
       "      <td>https://images.gr-assets.com/books/1255614970l...</td>\n",
       "    </tr>\n",
       "    <tr>\n",
       "      <th>2</th>\n",
       "      <td>Harper Lee</td>\n",
       "      <td>The unforgettable novel of a childhood in a sl...</td>\n",
       "      <td>50th Anniversary</td>\n",
       "      <td>Paperback</td>\n",
       "      <td>9.78006E+12</td>\n",
       "      <td>324 pages</td>\n",
       "      <td>4.27</td>\n",
       "      <td>3745197</td>\n",
       "      <td>79450</td>\n",
       "      <td>To Kill a Mockingbird</td>\n",
       "      <td>Classics|Fiction|Historical|Historical Fiction...</td>\n",
       "      <td>https://images.gr-assets.com/books/1361975680l...</td>\n",
       "    </tr>\n",
       "    <tr>\n",
       "      <th>3</th>\n",
       "      <td>Jane Austen|Anna Quindlen|Mrs. Oliphant|George...</td>\n",
       "      <td>«È cosa ormai risaputa che a uno scapolo in po...</td>\n",
       "      <td>Modern Library Classics, USA / CAN</td>\n",
       "      <td>Paperback</td>\n",
       "      <td>9.78068E+12</td>\n",
       "      <td>279 pages</td>\n",
       "      <td>4.25</td>\n",
       "      <td>2453620</td>\n",
       "      <td>54322</td>\n",
       "      <td>Pride and Prejudice</td>\n",
       "      <td>Classics|Fiction|Romance</td>\n",
       "      <td>https://images.gr-assets.com/books/1320399351l...</td>\n",
       "    </tr>\n",
       "    <tr>\n",
       "      <th>4</th>\n",
       "      <td>Stephenie Meyer</td>\n",
       "      <td>About three things I was absolutely positive.F...</td>\n",
       "      <td>NaN</td>\n",
       "      <td>Paperback</td>\n",
       "      <td>9.78032E+12</td>\n",
       "      <td>498 pages</td>\n",
       "      <td>3.58</td>\n",
       "      <td>4281268</td>\n",
       "      <td>97991</td>\n",
       "      <td>Twilight</td>\n",
       "      <td>Young Adult|Fantasy|Romance|Paranormal|Vampire...</td>\n",
       "      <td>https://images.gr-assets.com/books/1361039443l...</td>\n",
       "    </tr>\n",
       "  </tbody>\n",
       "</table>\n",
       "</div>"
      ],
      "text/plain": [
       "                                        book_authors  \\\n",
       "0                                    Suzanne Collins   \n",
       "1                         J.K. Rowling|Mary GrandPré   \n",
       "2                                         Harper Lee   \n",
       "3  Jane Austen|Anna Quindlen|Mrs. Oliphant|George...   \n",
       "4                                    Stephenie Meyer   \n",
       "\n",
       "                                           book_desc  \\\n",
       "0  Winning will make you famous. Losing means cer...   \n",
       "1  There is a door at the end of a silent corrido...   \n",
       "2  The unforgettable novel of a childhood in a sl...   \n",
       "3  «È cosa ormai risaputa che a uno scapolo in po...   \n",
       "4  About three things I was absolutely positive.F...   \n",
       "\n",
       "                         book_edition book_format    book_isbn book_pages  \\\n",
       "0                                 NaN   Hardcover  9.78044E+12  374 pages   \n",
       "1                          US Edition   Paperback  9.78044E+12  870 pages   \n",
       "2                    50th Anniversary   Paperback  9.78006E+12  324 pages   \n",
       "3  Modern Library Classics, USA / CAN   Paperback  9.78068E+12  279 pages   \n",
       "4                                 NaN   Paperback  9.78032E+12  498 pages   \n",
       "\n",
       "   book_rating  book_rating_count  book_review_count  \\\n",
       "0         4.33            5519135             160706   \n",
       "1         4.48            2041594              33264   \n",
       "2         4.27            3745197              79450   \n",
       "3         4.25            2453620              54322   \n",
       "4         3.58            4281268              97991   \n",
       "\n",
       "                                  book_title  \\\n",
       "0                           The Hunger Games   \n",
       "1  Harry Potter and the Order of the Phoenix   \n",
       "2                      To Kill a Mockingbird   \n",
       "3                        Pride and Prejudice   \n",
       "4                                   Twilight   \n",
       "\n",
       "                                              genres  \\\n",
       "0  Young Adult|Fiction|Science Fiction|Dystopia|F...   \n",
       "1                        Fantasy|Young Adult|Fiction   \n",
       "2  Classics|Fiction|Historical|Historical Fiction...   \n",
       "3                           Classics|Fiction|Romance   \n",
       "4  Young Adult|Fantasy|Romance|Paranormal|Vampire...   \n",
       "\n",
       "                                           image_url  \n",
       "0  https://images.gr-assets.com/books/1447303603l...  \n",
       "1  https://images.gr-assets.com/books/1255614970l...  \n",
       "2  https://images.gr-assets.com/books/1361975680l...  \n",
       "3  https://images.gr-assets.com/books/1320399351l...  \n",
       "4  https://images.gr-assets.com/books/1361039443l...  "
      ]
     },
     "execution_count": 8,
     "metadata": {},
     "output_type": "execute_result"
    }
   ],
   "source": [
    "csv = pd.read_csv('book_data.csv')\n",
    "csv.head()"
   ]
  },
  {
   "cell_type": "markdown",
   "metadata": {},
   "source": [
    "## Análise Exploratória"
   ]
  },
  {
   "cell_type": "code",
   "execution_count": 9,
   "metadata": {},
   "outputs": [
    {
     "data": {
      "text/plain": [
       "<matplotlib.axes._subplots.AxesSubplot at 0x1bf081f80b8>"
      ]
     },
     "execution_count": 9,
     "metadata": {},
     "output_type": "execute_result"
    },
    {
     "data": {
      "image/png": "[encoded data removed]",
      "text/plain": [
       "<Figure size 432x288 with 1 Axes>"
      ]
     },
     "metadata": {
      "needs_background": "light"
     },
     "output_type": "display_data"
    }
   ],
   "source": [
    "plt.scatter(csv.book_review_count, csv.book_rating_count, color='orange')\n",
    "seaborn.regplot(x=csv.book_review_count,y=csv.book_rating_count)"
   ]
  },
  {
   "cell_type": "markdown",
   "metadata": {},
   "source": [
    "A partir do gráfico acima é possível perceber uma correlação entre as variáveis do número de avaliações com a classificação do livro no ranking do Goodreads. Portanto, essa é uma variável interessante de ser explorada"
   ]
  },
  {
   "cell_type": "code",
   "execution_count": 10,
   "metadata": {},
   "outputs": [
    {
     "data": {
      "text/plain": [
       "<matplotlib.axes._subplots.AxesSubplot at 0x1bf070bce10>"
      ]
     },
     "execution_count": 10,
     "metadata": {},
     "output_type": "execute_result"
    },
    {
     "data": {
      "image/png": "[encoded data removed]",
      "text/plain": [
       "<Figure size 432x288 with 1 Axes>"
      ]
     },
     "metadata": {
      "needs_background": "light"
     },
     "output_type": "display_data"
    }
   ],
   "source": [
    "plt.scatter(csv.book_rating_count, csv.book_rating, color='b')\n",
    "seaborn.regplot(x=csv.book_rating_count,y=csv.book_rating)"
   ]
  },
  {
   "cell_type": "markdown",
   "metadata": {},
   "source": [
    "Não há visivelmente uma correlação entre a contagem da avaliação do livro e sua própria avaliação, logo elas não estão muito bem correlacionadas e possivelmente usar ela na regressão."
   ]
  },
  {
   "cell_type": "code",
   "execution_count": 5,
   "metadata": {},
   "outputs": [
    {
     "data": {
      "text/plain": [
       "<matplotlib.axes._subplots.AxesSubplot at 0x1bf02f109e8>"
      ]
     },
     "execution_count": 5,
     "metadata": {},
     "output_type": "execute_result"
    },
    {
     "data": {
      "image/png": "[encoded data removed]",
      "text/plain": [
       "<Figure size 432x288 with 1 Axes>"
      ]
     },
     "metadata": {
      "needs_background": "light"
     },
     "output_type": "display_data"
    }
   ],
   "source": [
    "plt.scatter(csv.book_review_count, csv.book_rating, color='green')\n",
    "seaborn.regplot(x=csv.book_review_count,y=csv.book_rating)"
   ]
  },
  {
   "cell_type": "markdown",
   "metadata": {},
   "source": [
    "Da mesma forma que a anterior as duas variáveis aqui não estão evidentemente correlacionadas e não serão utilizadas para o modelo."
   ]
  },
  {
   "cell_type": "code",
   "execution_count": 11,
   "metadata": {},
   "outputs": [
    {
     "data": {
      "text/html": [
       "<div>\n",
       "<style scoped>\n",
       "    .dataframe tbody tr th:only-of-type {\n",
       "        vertical-align: middle;\n",
       "    }\n",
       "\n",
       "    .dataframe tbody tr th {\n",
       "        vertical-align: top;\n",
       "    }\n",
       "\n",
       "    .dataframe thead th {\n",
       "        text-align: right;\n",
       "    }\n",
       "</style>\n",
       "<table border=\"1\" class=\"dataframe\">\n",
       "  <thead>\n",
       "    <tr style=\"text-align: right;\">\n",
       "      <th></th>\n",
       "      <th>book_authors</th>\n",
       "      <th>book_format</th>\n",
       "      <th>book_pages</th>\n",
       "      <th>book_rating</th>\n",
       "      <th>book_review_count</th>\n",
       "      <th>book_title</th>\n",
       "      <th>genres</th>\n",
       "    </tr>\n",
       "  </thead>\n",
       "  <tbody>\n",
       "    <tr>\n",
       "      <th>0</th>\n",
       "      <td>Suzanne Collins</td>\n",
       "      <td>Hardcover</td>\n",
       "      <td>374 pages</td>\n",
       "      <td>4.33</td>\n",
       "      <td>160706</td>\n",
       "      <td>The Hunger Games</td>\n",
       "      <td>Young Adult|Fiction|Science Fiction|Dystopia|F...</td>\n",
       "    </tr>\n",
       "    <tr>\n",
       "      <th>1</th>\n",
       "      <td>J.K. Rowling|Mary GrandPré</td>\n",
       "      <td>Paperback</td>\n",
       "      <td>870 pages</td>\n",
       "      <td>4.48</td>\n",
       "      <td>33264</td>\n",
       "      <td>Harry Potter and the Order of the Phoenix</td>\n",
       "      <td>Fantasy|Young Adult|Fiction</td>\n",
       "    </tr>\n",
       "    <tr>\n",
       "      <th>2</th>\n",
       "      <td>Harper Lee</td>\n",
       "      <td>Paperback</td>\n",
       "      <td>324 pages</td>\n",
       "      <td>4.27</td>\n",
       "      <td>79450</td>\n",
       "      <td>To Kill a Mockingbird</td>\n",
       "      <td>Classics|Fiction|Historical|Historical Fiction...</td>\n",
       "    </tr>\n",
       "    <tr>\n",
       "      <th>3</th>\n",
       "      <td>Jane Austen|Anna Quindlen|Mrs. Oliphant|George...</td>\n",
       "      <td>Paperback</td>\n",
       "      <td>279 pages</td>\n",
       "      <td>4.25</td>\n",
       "      <td>54322</td>\n",
       "      <td>Pride and Prejudice</td>\n",
       "      <td>Classics|Fiction|Romance</td>\n",
       "    </tr>\n",
       "    <tr>\n",
       "      <th>4</th>\n",
       "      <td>Stephenie Meyer</td>\n",
       "      <td>Paperback</td>\n",
       "      <td>498 pages</td>\n",
       "      <td>3.58</td>\n",
       "      <td>97991</td>\n",
       "      <td>Twilight</td>\n",
       "      <td>Young Adult|Fantasy|Romance|Paranormal|Vampire...</td>\n",
       "    </tr>\n",
       "  </tbody>\n",
       "</table>\n",
       "</div>"
      ],
      "text/plain": [
       "                                        book_authors book_format book_pages  \\\n",
       "0                                    Suzanne Collins   Hardcover  374 pages   \n",
       "1                         J.K. Rowling|Mary GrandPré   Paperback  870 pages   \n",
       "2                                         Harper Lee   Paperback  324 pages   \n",
       "3  Jane Austen|Anna Quindlen|Mrs. Oliphant|George...   Paperback  279 pages   \n",
       "4                                    Stephenie Meyer   Paperback  498 pages   \n",
       "\n",
       "   book_rating  book_review_count                                 book_title  \\\n",
       "0         4.33             160706                           The Hunger Games   \n",
       "1         4.48              33264  Harry Potter and the Order of the Phoenix   \n",
       "2         4.27              79450                      To Kill a Mockingbird   \n",
       "3         4.25              54322                        Pride and Prejudice   \n",
       "4         3.58              97991                                   Twilight   \n",
       "\n",
       "                                              genres  \n",
       "0  Young Adult|Fiction|Science Fiction|Dystopia|F...  \n",
       "1                        Fantasy|Young Adult|Fiction  \n",
       "2  Classics|Fiction|Historical|Historical Fiction...  \n",
       "3                           Classics|Fiction|Romance  \n",
       "4  Young Adult|Fantasy|Romance|Paranormal|Vampire...  "
      ]
     },
     "execution_count": 11,
     "metadata": {},
     "output_type": "execute_result"
    }
   ],
   "source": [
    "# Retirando todas as variáveis que não serão utilizadas por enquanto\n",
    "csv.drop(['book_isbn','book_desc','book_edition','book_rating_count','image_url'],axis=1,inplace=True)\n",
    "# Retirando os livros com informações faltando\n",
    "csv=csv.dropna()\n",
    "csv.head()"
   ]
  },
  {
   "cell_type": "code",
   "execution_count": 12,
   "metadata": {},
   "outputs": [
    {
     "name": "stdout",
     "output_type": "stream",
     "text": [
      "[374, 870, 324, 279, 498, 552, 767, 122, 1037, 1728]\n",
      "['S', 'J', 'H', 'J', 'S', 'M', 'C', 'G', 'M', 'J']\n",
      "['Young Adult', 'Fantasy', 'Classics', 'Classics', 'Young Adult', 'Historical', 'Fantasy', 'Classics', 'Classics', 'Fantasy']\n"
     ]
    }
   ],
   "source": [
    "# Ajeitando as variáveis\n",
    "ar = csv['genres'].tolist()\n",
    "ar1 = []\n",
    "iniciais = []\n",
    "paginas = []\n",
    "\n",
    "# Escolhendo como gênero literário apenas o primeiro listado.\n",
    "for i in ar:\n",
    "    if i == \"\":\n",
    "        ar1.append(\"\")\n",
    "    else:\n",
    "        a = i.split('|')\n",
    "        ar1.append(a[0])\n",
    "        \n",
    "# Selecionando apenas a inicial dos nomes dos autores\n",
    "for i in csv['book_authors']:\n",
    "    iniciais.append(i[0])\n",
    "\n",
    "# Apenas o número de páginas aparecerá, sem a palavra \"pages\"\n",
    "for i in csv['book_pages']:\n",
    "    numero = i.split(' ')\n",
    "    paginas.append(int(numero[0]))\n",
    "print(paginas[0:10])\n",
    "print(iniciais[0:10])\n",
    "print(ar1[0:10])"
   ]
  },
  {
   "cell_type": "code",
   "execution_count": 13,
   "metadata": {},
   "outputs": [
    {
     "data": {
      "text/plain": [
       "48260"
      ]
     },
     "execution_count": 13,
     "metadata": {},
     "output_type": "execute_result"
    }
   ],
   "source": [
    "len(csv.index)"
   ]
  },
  {
   "cell_type": "code",
   "execution_count": 14,
   "metadata": {},
   "outputs": [],
   "source": [
    "# Criando colunas no DataFrame para as iniciais dos autores, os números de páginas e o principal gênero do livro\n",
    "ar1=pd.DataFrame({'genero':ar1},index = csv.index)\n",
    "iniciais_ = pd.DataFrame({'iniciais':iniciais}, index = csv.index)\n",
    "paginas_ = pd.DataFrame({'paginas':paginas}, index = csv.index)"
   ]
  },
  {
   "cell_type": "code",
   "execution_count": 15,
   "metadata": {},
   "outputs": [],
   "source": [
    "csv = csv.join(ar1,how='inner')\n",
    "csv = csv.join(iniciais_,how='inner')\n",
    "csv = csv.join(paginas_,how='inner')"
   ]
  },
  {
   "cell_type": "code",
   "execution_count": 16,
   "metadata": {},
   "outputs": [
    {
     "data": {
      "text/html": [
       "<div>\n",
       "<style scoped>\n",
       "    .dataframe tbody tr th:only-of-type {\n",
       "        vertical-align: middle;\n",
       "    }\n",
       "\n",
       "    .dataframe tbody tr th {\n",
       "        vertical-align: top;\n",
       "    }\n",
       "\n",
       "    .dataframe thead th {\n",
       "        text-align: right;\n",
       "    }\n",
       "</style>\n",
       "<table border=\"1\" class=\"dataframe\">\n",
       "  <thead>\n",
       "    <tr style=\"text-align: right;\">\n",
       "      <th></th>\n",
       "      <th>book_authors</th>\n",
       "      <th>book_format</th>\n",
       "      <th>book_pages</th>\n",
       "      <th>book_rating</th>\n",
       "      <th>book_review_count</th>\n",
       "      <th>book_title</th>\n",
       "      <th>genres</th>\n",
       "      <th>genero</th>\n",
       "      <th>iniciais</th>\n",
       "      <th>paginas</th>\n",
       "    </tr>\n",
       "  </thead>\n",
       "  <tbody>\n",
       "    <tr>\n",
       "      <th>0</th>\n",
       "      <td>Suzanne Collins</td>\n",
       "      <td>Hardcover</td>\n",
       "      <td>374 pages</td>\n",
       "      <td>4.33</td>\n",
       "      <td>160706</td>\n",
       "      <td>The Hunger Games</td>\n",
       "      <td>Young Adult|Fiction|Science Fiction|Dystopia|F...</td>\n",
       "      <td>Young Adult</td>\n",
       "      <td>S</td>\n",
       "      <td>374</td>\n",
       "    </tr>\n",
       "    <tr>\n",
       "      <th>1</th>\n",
       "      <td>J.K. Rowling|Mary GrandPré</td>\n",
       "      <td>Paperback</td>\n",
       "      <td>870 pages</td>\n",
       "      <td>4.48</td>\n",
       "      <td>33264</td>\n",
       "      <td>Harry Potter and the Order of the Phoenix</td>\n",
       "      <td>Fantasy|Young Adult|Fiction</td>\n",
       "      <td>Fantasy</td>\n",
       "      <td>J</td>\n",
       "      <td>870</td>\n",
       "    </tr>\n",
       "    <tr>\n",
       "      <th>2</th>\n",
       "      <td>Harper Lee</td>\n",
       "      <td>Paperback</td>\n",
       "      <td>324 pages</td>\n",
       "      <td>4.27</td>\n",
       "      <td>79450</td>\n",
       "      <td>To Kill a Mockingbird</td>\n",
       "      <td>Classics|Fiction|Historical|Historical Fiction...</td>\n",
       "      <td>Classics</td>\n",
       "      <td>H</td>\n",
       "      <td>324</td>\n",
       "    </tr>\n",
       "    <tr>\n",
       "      <th>3</th>\n",
       "      <td>Jane Austen|Anna Quindlen|Mrs. Oliphant|George...</td>\n",
       "      <td>Paperback</td>\n",
       "      <td>279 pages</td>\n",
       "      <td>4.25</td>\n",
       "      <td>54322</td>\n",
       "      <td>Pride and Prejudice</td>\n",
       "      <td>Classics|Fiction|Romance</td>\n",
       "      <td>Classics</td>\n",
       "      <td>J</td>\n",
       "      <td>279</td>\n",
       "    </tr>\n",
       "    <tr>\n",
       "      <th>4</th>\n",
       "      <td>Stephenie Meyer</td>\n",
       "      <td>Paperback</td>\n",
       "      <td>498 pages</td>\n",
       "      <td>3.58</td>\n",
       "      <td>97991</td>\n",
       "      <td>Twilight</td>\n",
       "      <td>Young Adult|Fantasy|Romance|Paranormal|Vampire...</td>\n",
       "      <td>Young Adult</td>\n",
       "      <td>S</td>\n",
       "      <td>498</td>\n",
       "    </tr>\n",
       "  </tbody>\n",
       "</table>\n",
       "</div>"
      ],
      "text/plain": [
       "                                        book_authors book_format book_pages  \\\n",
       "0                                    Suzanne Collins   Hardcover  374 pages   \n",
       "1                         J.K. Rowling|Mary GrandPré   Paperback  870 pages   \n",
       "2                                         Harper Lee   Paperback  324 pages   \n",
       "3  Jane Austen|Anna Quindlen|Mrs. Oliphant|George...   Paperback  279 pages   \n",
       "4                                    Stephenie Meyer   Paperback  498 pages   \n",
       "\n",
       "   book_rating  book_review_count                                 book_title  \\\n",
       "0         4.33             160706                           The Hunger Games   \n",
       "1         4.48              33264  Harry Potter and the Order of the Phoenix   \n",
       "2         4.27              79450                      To Kill a Mockingbird   \n",
       "3         4.25              54322                        Pride and Prejudice   \n",
       "4         3.58              97991                                   Twilight   \n",
       "\n",
       "                                              genres       genero iniciais  \\\n",
       "0  Young Adult|Fiction|Science Fiction|Dystopia|F...  Young Adult        S   \n",
       "1                        Fantasy|Young Adult|Fiction      Fantasy        J   \n",
       "2  Classics|Fiction|Historical|Historical Fiction...     Classics        H   \n",
       "3                           Classics|Fiction|Romance     Classics        J   \n",
       "4  Young Adult|Fantasy|Romance|Paranormal|Vampire...  Young Adult        S   \n",
       "\n",
       "   paginas  \n",
       "0      374  \n",
       "1      870  \n",
       "2      324  \n",
       "3      279  \n",
       "4      498  "
      ]
     },
     "execution_count": 16,
     "metadata": {},
     "output_type": "execute_result"
    }
   ],
   "source": [
    "csv.head()"
   ]
  },
  {
   "cell_type": "code",
   "execution_count": 17,
   "metadata": {},
   "outputs": [
    {
     "data": {
      "text/plain": [
       "Politics             137\n",
       "Dark                 130\n",
       "Asian Literature     125\n",
       "Music                122\n",
       "Sports and Games     121\n",
       "Realistic Fiction    121\n",
       "Travel               120\n",
       "Adventure            113\n",
       "Contemporary         109\n",
       "Literature           100\n",
       "Economics             89\n",
       "Lgbt                  87\n",
       "Crime                 87\n",
       "Food and Drink        81\n",
       "Holiday               69\n",
       "Westerns              65\n",
       "War                   65\n",
       "Language              59\n",
       "Feminism              57\n",
       "Glbt                  54\n",
       "Urban                 51\n",
       "Parenting             49\n",
       "Health                49\n",
       "Amish                 43\n",
       "Education             37\n",
       "Culture               36\n",
       "Reference             32\n",
       "Sports                32\n",
       "Sociology             31\n",
       "Writing               30\n",
       "Name: genero, dtype: int64"
      ]
     },
     "execution_count": 17,
     "metadata": {},
     "output_type": "execute_result"
    }
   ],
   "source": [
    "csv['genero'].value_counts()[40:70]"
   ]
  },
  {
   "cell_type": "code",
   "execution_count": 18,
   "metadata": {},
   "outputs": [
    {
     "name": "stdout",
     "output_type": "stream",
     "text": [
      "Gêneros mais famosos:\n",
      "Média da Fantasia: 4.054462729912877\n",
      "Média do clássico: 3.9510420944558335\n",
      "Média da ficção: 3.8847085749160746\n",
      "-----------------\n",
      "Gêneros pouco famosos:\n",
      "Média da economics: 4.087415730337078\n",
      "Média do gênero Guerra: 4.130461538461538\n",
      "Média do gênero Esportes: 4.022812500000001\n"
     ]
    }
   ],
   "source": [
    "print('Gêneros mais famosos:')\n",
    "fantasy = csv.loc[(csv['genero']=='Fantasy')]\n",
    "print('Média da Fantasia: ' + str(fantasy['book_rating'].mean()))\n",
    "classics = csv.loc[(csv['genero']=='Classics')]\n",
    "print('Média do clássico: ' + str(classics['book_rating'].mean()))\n",
    "fiction = csv.loc[(csv['genero']=='Fiction')]\n",
    "print('Média da ficção: ' + str(fiction['book_rating'].mean()))\n",
    "print('-----------------')\n",
    "print('Gêneros pouco famosos:')\n",
    "economics = csv.loc[(csv['genero']=='Economics')]\n",
    "print('Média da economics: ' + str(economics['book_rating'].mean()))\n",
    "war = csv.loc[(csv['genero']=='War')]\n",
    "print('Média do gênero Guerra: ' + str(war['book_rating'].mean()))\n",
    "sports = csv.loc[(csv['genero']=='Sports')]\n",
    "print('Média do gênero Esportes: ' + str(sports['book_rating'].mean()))\n"
   ]
  },
  {
   "cell_type": "markdown",
   "metadata": {},
   "source": [
    "A partir da análise acima é possível observar que, na média, os gêneros não alteram muito a avaliação do livro. Porém, como o campo amostral ficou pequeno, seria interessante pensar em outra maneira de ver a correlação entre gênero e avaliação do livro"
   ]
  },
  {
   "cell_type": "code",
   "execution_count": 19,
   "metadata": {
    "scrolled": true
   },
   "outputs": [
    {
     "data": {
      "text/plain": [
       "<matplotlib.collections.PathCollection at 0x1bf0801bc88>"
      ]
     },
     "execution_count": 19,
     "metadata": {},
     "output_type": "execute_result"
    },
    {
     "data": {
      "image/png": "[encoded data removed]",
      "text/plain": [
       "<Figure size 432x288 with 1 Axes>"
      ]
     },
     "metadata": {
      "needs_background": "light"
     },
     "output_type": "display_data"
    }
   ],
   "source": [
    "plt.scatter(csv['genero'].sort_values(), csv.book_rating)\n",
    "#seaborn.regplot(x=csv['genero'].sort_values(),y=csv.book_rating)"
   ]
  },
  {
   "cell_type": "markdown",
   "metadata": {},
   "source": [
    "No gráfico acima, apesar de não se saber bem quais são cada um dos gêneros, pode enxergar que não há uma forte relação entre o gênero e sua avaliação, podendo ser deixado de lado na construção da regressão linear."
   ]
  },
  {
   "cell_type": "code",
   "execution_count": 20,
   "metadata": {},
   "outputs": [
    {
     "data": {
      "text/plain": [
       "<matplotlib.axes._subplots.AxesSubplot at 0x1bf0824b9e8>"
      ]
     },
     "execution_count": 20,
     "metadata": {},
     "output_type": "execute_result"
    },
    {
     "data": {
      "image/png": "[encoded data removed]",
      "text/plain": [
       "<Figure size 432x288 with 1 Axes>"
      ]
     },
     "metadata": {
      "needs_background": "light"
     },
     "output_type": "display_data"
    }
   ],
   "source": [
    "plt.scatter(csv.paginas, csv.book_rating, color='green')\n",
    "seaborn.regplot(x=csv.paginas,y=csv.book_rating)"
   ]
  },
  {
   "cell_type": "markdown",
   "metadata": {},
   "source": [
    "Com o gráfico acima é possível perceber que há uma certa correlação com a avaliação e o número de páginas. Como o gráfico acima está com valores que não permitem analisar o local onde há mais pontos, vamos focar em uma região específica (até 1000 páginas)."
   ]
  },
  {
   "cell_type": "code",
   "execution_count": 21,
   "metadata": {},
   "outputs": [
    {
     "data": {
      "text/plain": [
       "0    4.33\n",
       "1    4.48\n",
       "2    4.27\n",
       "3    4.25\n",
       "4    3.58\n",
       "Name: book_rating, dtype: float64"
      ]
     },
     "execution_count": 21,
     "metadata": {},
     "output_type": "execute_result"
    }
   ],
   "source": [
    "pag = csv.loc[(csv.paginas < 1000)]\n",
    "pag.book_rating.head()"
   ]
  },
  {
   "cell_type": "code",
   "execution_count": 22,
   "metadata": {},
   "outputs": [
    {
     "data": {
      "text/plain": [
       "<matplotlib.axes._subplots.AxesSubplot at 0x1bf094163c8>"
      ]
     },
     "execution_count": 22,
     "metadata": {},
     "output_type": "execute_result"
    },
    {
     "data": {
      "image/png": "[encoded data removed]",
      "text/plain": [
       "<Figure size 432x288 with 1 Axes>"
      ]
     },
     "metadata": {
      "needs_background": "light"
     },
     "output_type": "display_data"
    }
   ],
   "source": [
    "plt.scatter(pag.paginas, pag.book_rating, color='green',alpha = 0.3)\n",
    "seaborn.regplot(x=pag.paginas,y=pag.book_rating, fit_reg=True)"
   ]
  },
  {
   "cell_type": "markdown",
   "metadata": {},
   "source": [
    "A partir do gráfico acima é possível perceber que a correlação entre essas variáveis não é tão grande. Portanto, elas podem ser deixadas de serem levadas em conta na hora da regressão neste primeiro momento."
   ]
  },
  {
   "cell_type": "code",
   "execution_count": 23,
   "metadata": {},
   "outputs": [
    {
     "data": {
      "text/plain": [
       "<matplotlib.collections.PathCollection at 0x1bf0945b198>"
      ]
     },
     "execution_count": 23,
     "metadata": {},
     "output_type": "execute_result"
    },
    {
     "data": {
      "image/png": "[encoded data removed]",
      "text/plain": [
       "<Figure size 432x288 with 1 Axes>"
      ]
     },
     "metadata": {
      "needs_background": "light"
     },
     "output_type": "display_data"
    }
   ],
   "source": [
    "plt.scatter(csv['iniciais'].sort_values(), csv.book_rating, color='purple',alpha=0.2)\n",
    "#seaborn.regplot(x=csv['iniciais'].sort_values(),y=csv.book_rating)"
   ]
  },
  {
   "cell_type": "markdown",
   "metadata": {},
   "source": [
    "Com o gráfico acima fica complicado de ver as iniciais dos autores pela quantidade que existe, não podendo ser percebido nenhum padrão. Para melhorar a visualização, faremos uma secção do gráfico."
   ]
  },
  {
   "cell_type": "code",
   "execution_count": 24,
   "metadata": {},
   "outputs": [],
   "source": [
    "ini = csv[['iniciais','book_rating']]\n",
    "inia= ini.sort_values(by='iniciais')[0:47000]"
   ]
  },
  {
   "cell_type": "code",
   "execution_count": 25,
   "metadata": {},
   "outputs": [
    {
     "data": {
      "text/plain": [
       "<matplotlib.collections.PathCollection at 0x1bf0951f320>"
      ]
     },
     "execution_count": 25,
     "metadata": {},
     "output_type": "execute_result"
    },
    {
     "data": {
      "image/png": "[encoded data removed]",
      "text/plain": [
       "<Figure size 432x288 with 1 Axes>"
      ]
     },
     "metadata": {
      "needs_background": "light"
     },
     "output_type": "display_data"
    }
   ],
   "source": [
    "plt.scatter(inia.iniciais, inia.book_rating, color='purple',alpha = 0.1)"
   ]
  },
  {
   "cell_type": "markdown",
   "metadata": {},
   "source": [
    "Com o gráfico acima é possível perceber que algumas letras ficam mais na média dos valores (4) e algumas conseguem se deslocar mais para regiões da parte de cima quanto da parte de baixo. Logo, a variável inicial do nome do autor pode ser interessante de ser analisada na regressão."
   ]
  },
  {
   "cell_type": "markdown",
   "metadata": {},
   "source": [
    "## Limpeza dos dados e regressão"
   ]
  },
  {
   "cell_type": "code",
   "execution_count": 27,
   "metadata": {},
   "outputs": [],
   "source": [
    "# Retirando as colunas irrelevantes para a análise geral de avaliações\n",
    "csv.drop(['book_authors','genres','book_pages'],axis=1,inplace=True)"
   ]
  },
  {
   "cell_type": "code",
   "execution_count": 28,
   "metadata": {},
   "outputs": [
    {
     "data": {
      "text/html": [
       "<div>\n",
       "<style scoped>\n",
       "    .dataframe tbody tr th:only-of-type {\n",
       "        vertical-align: middle;\n",
       "    }\n",
       "\n",
       "    .dataframe tbody tr th {\n",
       "        vertical-align: top;\n",
       "    }\n",
       "\n",
       "    .dataframe thead th {\n",
       "        text-align: right;\n",
       "    }\n",
       "</style>\n",
       "<table border=\"1\" class=\"dataframe\">\n",
       "  <thead>\n",
       "    <tr style=\"text-align: right;\">\n",
       "      <th></th>\n",
       "      <th>book_format</th>\n",
       "      <th>book_rating</th>\n",
       "      <th>book_review_count</th>\n",
       "      <th>book_title</th>\n",
       "      <th>genero</th>\n",
       "      <th>iniciais</th>\n",
       "      <th>paginas</th>\n",
       "    </tr>\n",
       "  </thead>\n",
       "  <tbody>\n",
       "    <tr>\n",
       "      <th>0</th>\n",
       "      <td>Hardcover</td>\n",
       "      <td>4.33</td>\n",
       "      <td>160706</td>\n",
       "      <td>The Hunger Games</td>\n",
       "      <td>Young Adult</td>\n",
       "      <td>S</td>\n",
       "      <td>374</td>\n",
       "    </tr>\n",
       "    <tr>\n",
       "      <th>1</th>\n",
       "      <td>Paperback</td>\n",
       "      <td>4.48</td>\n",
       "      <td>33264</td>\n",
       "      <td>Harry Potter and the Order of the Phoenix</td>\n",
       "      <td>Fantasy</td>\n",
       "      <td>J</td>\n",
       "      <td>870</td>\n",
       "    </tr>\n",
       "    <tr>\n",
       "      <th>2</th>\n",
       "      <td>Paperback</td>\n",
       "      <td>4.27</td>\n",
       "      <td>79450</td>\n",
       "      <td>To Kill a Mockingbird</td>\n",
       "      <td>Classics</td>\n",
       "      <td>H</td>\n",
       "      <td>324</td>\n",
       "    </tr>\n",
       "    <tr>\n",
       "      <th>3</th>\n",
       "      <td>Paperback</td>\n",
       "      <td>4.25</td>\n",
       "      <td>54322</td>\n",
       "      <td>Pride and Prejudice</td>\n",
       "      <td>Classics</td>\n",
       "      <td>J</td>\n",
       "      <td>279</td>\n",
       "    </tr>\n",
       "    <tr>\n",
       "      <th>4</th>\n",
       "      <td>Paperback</td>\n",
       "      <td>3.58</td>\n",
       "      <td>97991</td>\n",
       "      <td>Twilight</td>\n",
       "      <td>Young Adult</td>\n",
       "      <td>S</td>\n",
       "      <td>498</td>\n",
       "    </tr>\n",
       "  </tbody>\n",
       "</table>\n",
       "</div>"
      ],
      "text/plain": [
       "  book_format  book_rating  book_review_count  \\\n",
       "0   Hardcover         4.33             160706   \n",
       "1   Paperback         4.48              33264   \n",
       "2   Paperback         4.27              79450   \n",
       "3   Paperback         4.25              54322   \n",
       "4   Paperback         3.58              97991   \n",
       "\n",
       "                                  book_title       genero iniciais  paginas  \n",
       "0                           The Hunger Games  Young Adult        S      374  \n",
       "1  Harry Potter and the Order of the Phoenix      Fantasy        J      870  \n",
       "2                      To Kill a Mockingbird     Classics        H      324  \n",
       "3                        Pride and Prejudice     Classics        J      279  \n",
       "4                                   Twilight  Young Adult        S      498  "
      ]
     },
     "execution_count": 28,
     "metadata": {},
     "output_type": "execute_result"
    }
   ],
   "source": [
    "csv.head()"
   ]
  },
  {
   "cell_type": "code",
   "execution_count": 29,
   "metadata": {
    "scrolled": true
   },
   "outputs": [
    {
     "data": {
      "text/plain": [
       "(48260, 7)"
      ]
     },
     "execution_count": 29,
     "metadata": {},
     "output_type": "execute_result"
    }
   ],
   "source": [
    "csv.shape"
   ]
  },
  {
   "cell_type": "code",
   "execution_count": 30,
   "metadata": {},
   "outputs": [
    {
     "data": {
      "text/html": [
       "<div>\n",
       "<style scoped>\n",
       "    .dataframe tbody tr th:only-of-type {\n",
       "        vertical-align: middle;\n",
       "    }\n",
       "\n",
       "    .dataframe tbody tr th {\n",
       "        vertical-align: top;\n",
       "    }\n",
       "\n",
       "    .dataframe thead th {\n",
       "        text-align: right;\n",
       "    }\n",
       "</style>\n",
       "<table border=\"1\" class=\"dataframe\">\n",
       "  <thead>\n",
       "    <tr style=\"text-align: right;\">\n",
       "      <th></th>\n",
       "      <th>book_format</th>\n",
       "      <th>book_rating</th>\n",
       "      <th>book_review_count</th>\n",
       "      <th>book_title</th>\n",
       "      <th>genero</th>\n",
       "      <th>iniciais</th>\n",
       "      <th>paginas</th>\n",
       "    </tr>\n",
       "  </thead>\n",
       "  <tbody>\n",
       "    <tr>\n",
       "      <th>0</th>\n",
       "      <td>Hardcover</td>\n",
       "      <td>4.33</td>\n",
       "      <td>160706</td>\n",
       "      <td>The Hunger Games</td>\n",
       "      <td>Young Adult</td>\n",
       "      <td>S</td>\n",
       "      <td>374</td>\n",
       "    </tr>\n",
       "    <tr>\n",
       "      <th>1</th>\n",
       "      <td>Paperback</td>\n",
       "      <td>4.48</td>\n",
       "      <td>33264</td>\n",
       "      <td>Harry Potter and the Order of the Phoenix</td>\n",
       "      <td>Fantasy</td>\n",
       "      <td>J</td>\n",
       "      <td>870</td>\n",
       "    </tr>\n",
       "    <tr>\n",
       "      <th>2</th>\n",
       "      <td>Paperback</td>\n",
       "      <td>4.27</td>\n",
       "      <td>79450</td>\n",
       "      <td>To Kill a Mockingbird</td>\n",
       "      <td>Classics</td>\n",
       "      <td>H</td>\n",
       "      <td>324</td>\n",
       "    </tr>\n",
       "    <tr>\n",
       "      <th>3</th>\n",
       "      <td>Paperback</td>\n",
       "      <td>4.25</td>\n",
       "      <td>54322</td>\n",
       "      <td>Pride and Prejudice</td>\n",
       "      <td>Classics</td>\n",
       "      <td>J</td>\n",
       "      <td>279</td>\n",
       "    </tr>\n",
       "    <tr>\n",
       "      <th>4</th>\n",
       "      <td>Paperback</td>\n",
       "      <td>3.58</td>\n",
       "      <td>97991</td>\n",
       "      <td>Twilight</td>\n",
       "      <td>Young Adult</td>\n",
       "      <td>S</td>\n",
       "      <td>498</td>\n",
       "    </tr>\n",
       "    <tr>\n",
       "      <th>5</th>\n",
       "      <td>Hardcover</td>\n",
       "      <td>4.36</td>\n",
       "      <td>100821</td>\n",
       "      <td>The Book Thief</td>\n",
       "      <td>Historical</td>\n",
       "      <td>M</td>\n",
       "      <td>552</td>\n",
       "    </tr>\n",
       "    <tr>\n",
       "      <th>6</th>\n",
       "      <td>Paperback</td>\n",
       "      <td>4.25</td>\n",
       "      <td>9439</td>\n",
       "      <td>The Chronicles of Narnia</td>\n",
       "      <td>Fantasy</td>\n",
       "      <td>C</td>\n",
       "      <td>767</td>\n",
       "    </tr>\n",
       "    <tr>\n",
       "      <th>7</th>\n",
       "      <td>Paperback</td>\n",
       "      <td>3.90</td>\n",
       "      <td>42156</td>\n",
       "      <td>Animal Farm</td>\n",
       "      <td>Classics</td>\n",
       "      <td>G</td>\n",
       "      <td>122</td>\n",
       "    </tr>\n",
       "    <tr>\n",
       "      <th>8</th>\n",
       "      <td>Paperback</td>\n",
       "      <td>4.29</td>\n",
       "      <td>17452</td>\n",
       "      <td>Gone with the Wind</td>\n",
       "      <td>Classics</td>\n",
       "      <td>M</td>\n",
       "      <td>1037</td>\n",
       "    </tr>\n",
       "    <tr>\n",
       "      <th>9</th>\n",
       "      <td>Mass Market Paperback</td>\n",
       "      <td>4.59</td>\n",
       "      <td>1652</td>\n",
       "      <td>J.R.R. Tolkien 4-Book Boxed Set: The Hobbit an...</td>\n",
       "      <td>Fantasy</td>\n",
       "      <td>J</td>\n",
       "      <td>1728</td>\n",
       "    </tr>\n",
       "    <tr>\n",
       "      <th>10</th>\n",
       "      <td>Hardcover</td>\n",
       "      <td>4.24</td>\n",
       "      <td>147270</td>\n",
       "      <td>The Fault in Our Stars</td>\n",
       "      <td>Young Adult</td>\n",
       "      <td>J</td>\n",
       "      <td>313</td>\n",
       "    </tr>\n",
       "    <tr>\n",
       "      <th>11</th>\n",
       "      <td>Paperback</td>\n",
       "      <td>4.21</td>\n",
       "      <td>23919</td>\n",
       "      <td>The Hitchhiker's Guide to the Galaxy</td>\n",
       "      <td>Science Fiction</td>\n",
       "      <td>D</td>\n",
       "      <td>193</td>\n",
       "    </tr>\n",
       "    <tr>\n",
       "      <th>12</th>\n",
       "      <td>Hardcover</td>\n",
       "      <td>4.37</td>\n",
       "      <td>15694</td>\n",
       "      <td>The Giving Tree</td>\n",
       "      <td>Childrens</td>\n",
       "      <td>S</td>\n",
       "      <td>64</td>\n",
       "    </tr>\n",
       "    <tr>\n",
       "      <th>13</th>\n",
       "      <td>Paperback</td>\n",
       "      <td>3.84</td>\n",
       "      <td>29400</td>\n",
       "      <td>Wuthering Heights</td>\n",
       "      <td>Classics</td>\n",
       "      <td>E</td>\n",
       "      <td>464</td>\n",
       "    </tr>\n",
       "    <tr>\n",
       "      <th>14</th>\n",
       "      <td>Paperback</td>\n",
       "      <td>3.81</td>\n",
       "      <td>43699</td>\n",
       "      <td>The Da Vinci Code</td>\n",
       "      <td>Fiction</td>\n",
       "      <td>D</td>\n",
       "      <td>481</td>\n",
       "    </tr>\n",
       "    <tr>\n",
       "      <th>15</th>\n",
       "      <td>Hardcover</td>\n",
       "      <td>4.09</td>\n",
       "      <td>27168</td>\n",
       "      <td>Memoirs of a Geisha</td>\n",
       "      <td>Fiction</td>\n",
       "      <td>A</td>\n",
       "      <td>434</td>\n",
       "    </tr>\n",
       "    <tr>\n",
       "      <th>16</th>\n",
       "      <td>Mass Market Paperback</td>\n",
       "      <td>4.07</td>\n",
       "      <td>9166</td>\n",
       "      <td>Alice's Adventures in Wonderland &amp; Through the...</td>\n",
       "      <td>Classics</td>\n",
       "      <td>L</td>\n",
       "      <td>239</td>\n",
       "    </tr>\n",
       "    <tr>\n",
       "      <th>17</th>\n",
       "      <td>Paperback</td>\n",
       "      <td>4.06</td>\n",
       "      <td>22938</td>\n",
       "      <td>The Picture of Dorian Gray</td>\n",
       "      <td>Fiction</td>\n",
       "      <td>O</td>\n",
       "      <td>367</td>\n",
       "    </tr>\n",
       "    <tr>\n",
       "      <th>18</th>\n",
       "      <td>Mass Market Paperback</td>\n",
       "      <td>4.15</td>\n",
       "      <td>13063</td>\n",
       "      <td>Les Misérables</td>\n",
       "      <td>Classics</td>\n",
       "      <td>V</td>\n",
       "      <td>1463</td>\n",
       "    </tr>\n",
       "    <tr>\n",
       "      <th>19</th>\n",
       "      <td>Paperback</td>\n",
       "      <td>4.22</td>\n",
       "      <td>104329</td>\n",
       "      <td>Divergent</td>\n",
       "      <td>Young Adult</td>\n",
       "      <td>V</td>\n",
       "      <td>487</td>\n",
       "    </tr>\n",
       "    <tr>\n",
       "      <th>20</th>\n",
       "      <td>Paperback</td>\n",
       "      <td>4.11</td>\n",
       "      <td>34670</td>\n",
       "      <td>Jane Eyre</td>\n",
       "      <td>Classics</td>\n",
       "      <td>C</td>\n",
       "      <td>507</td>\n",
       "    </tr>\n",
       "    <tr>\n",
       "      <th>21</th>\n",
       "      <td>Mass Market Paperback</td>\n",
       "      <td>3.74</td>\n",
       "      <td>16442</td>\n",
       "      <td>Romeo and Juliet</td>\n",
       "      <td>Classics</td>\n",
       "      <td>W</td>\n",
       "      <td>283</td>\n",
       "    </tr>\n",
       "    <tr>\n",
       "      <th>22</th>\n",
       "      <td>Paperback</td>\n",
       "      <td>3.66</td>\n",
       "      <td>30634</td>\n",
       "      <td>Lord of the Flies</td>\n",
       "      <td>Classics</td>\n",
       "      <td>W</td>\n",
       "      <td>182</td>\n",
       "    </tr>\n",
       "    <tr>\n",
       "      <th>23</th>\n",
       "      <td>Paperback</td>\n",
       "      <td>3.84</td>\n",
       "      <td>63861</td>\n",
       "      <td>The Alchemist</td>\n",
       "      <td>Fiction</td>\n",
       "      <td>P</td>\n",
       "      <td>197</td>\n",
       "    </tr>\n",
       "    <tr>\n",
       "      <th>24</th>\n",
       "      <td>Paperback</td>\n",
       "      <td>4.20</td>\n",
       "      <td>14496</td>\n",
       "      <td>Crime and Punishment</td>\n",
       "      <td>Classics</td>\n",
       "      <td>F</td>\n",
       "      <td>671</td>\n",
       "    </tr>\n",
       "    <tr>\n",
       "      <th>25</th>\n",
       "      <td>Mass Market Paperback</td>\n",
       "      <td>4.30</td>\n",
       "      <td>40289</td>\n",
       "      <td>Ender's Game</td>\n",
       "      <td>Science Fiction</td>\n",
       "      <td>O</td>\n",
       "      <td>324</td>\n",
       "    </tr>\n",
       "    <tr>\n",
       "      <th>26</th>\n",
       "      <td>Paperback</td>\n",
       "      <td>4.20</td>\n",
       "      <td>50846</td>\n",
       "      <td>The Perks of Being a Wallflower</td>\n",
       "      <td>Young Adult</td>\n",
       "      <td>S</td>\n",
       "      <td>213</td>\n",
       "    </tr>\n",
       "    <tr>\n",
       "      <th>27</th>\n",
       "      <td>Hardcover</td>\n",
       "      <td>4.11</td>\n",
       "      <td>55446</td>\n",
       "      <td>City of Bones</td>\n",
       "      <td>Fantasy</td>\n",
       "      <td>C</td>\n",
       "      <td>485</td>\n",
       "    </tr>\n",
       "    <tr>\n",
       "      <th>28</th>\n",
       "      <td>Hardcover</td>\n",
       "      <td>4.46</td>\n",
       "      <td>80741</td>\n",
       "      <td>The Help</td>\n",
       "      <td>Fiction</td>\n",
       "      <td>K</td>\n",
       "      <td>465</td>\n",
       "    </tr>\n",
       "    <tr>\n",
       "      <th>29</th>\n",
       "      <td>Paperback</td>\n",
       "      <td>3.90</td>\n",
       "      <td>56953</td>\n",
       "      <td>The Great Gatsby</td>\n",
       "      <td>Classics</td>\n",
       "      <td>F</td>\n",
       "      <td>180</td>\n",
       "    </tr>\n",
       "    <tr>\n",
       "      <th>...</th>\n",
       "      <td>...</td>\n",
       "      <td>...</td>\n",
       "      <td>...</td>\n",
       "      <td>...</td>\n",
       "      <td>...</td>\n",
       "      <td>...</td>\n",
       "      <td>...</td>\n",
       "    </tr>\n",
       "    <tr>\n",
       "      <th>54254</th>\n",
       "      <td>Hardcover</td>\n",
       "      <td>3.77</td>\n",
       "      <td>11</td>\n",
       "      <td>The Girl on the High Diving Horse</td>\n",
       "      <td>Childrens</td>\n",
       "      <td>L</td>\n",
       "      <td>40</td>\n",
       "    </tr>\n",
       "    <tr>\n",
       "      <th>54255</th>\n",
       "      <td>Hardcover</td>\n",
       "      <td>3.99</td>\n",
       "      <td>173</td>\n",
       "      <td>Angelina Ballerina</td>\n",
       "      <td>Childrens</td>\n",
       "      <td>K</td>\n",
       "      <td>32</td>\n",
       "    </tr>\n",
       "    <tr>\n",
       "      <th>54256</th>\n",
       "      <td>Hardcover</td>\n",
       "      <td>4.08</td>\n",
       "      <td>38</td>\n",
       "      <td>My Pony</td>\n",
       "      <td>Childrens</td>\n",
       "      <td>S</td>\n",
       "      <td>32</td>\n",
       "    </tr>\n",
       "    <tr>\n",
       "      <th>54257</th>\n",
       "      <td>Paperback</td>\n",
       "      <td>3.98</td>\n",
       "      <td>8</td>\n",
       "      <td>I Have Words to Spend: Reflections of a Small-...</td>\n",
       "      <td>Nonfiction</td>\n",
       "      <td>R</td>\n",
       "      <td>224</td>\n",
       "    </tr>\n",
       "    <tr>\n",
       "      <th>54258</th>\n",
       "      <td>Paperback</td>\n",
       "      <td>3.84</td>\n",
       "      <td>568</td>\n",
       "      <td>3,096 Days in Captivity: The True Story of My ...</td>\n",
       "      <td>Crime</td>\n",
       "      <td>N</td>\n",
       "      <td>320</td>\n",
       "    </tr>\n",
       "    <tr>\n",
       "      <th>54260</th>\n",
       "      <td>Paperback</td>\n",
       "      <td>4.32</td>\n",
       "      <td>1001</td>\n",
       "      <td>Min kamp 2</td>\n",
       "      <td>Fiction</td>\n",
       "      <td>K</td>\n",
       "      <td>595</td>\n",
       "    </tr>\n",
       "    <tr>\n",
       "      <th>54261</th>\n",
       "      <td>Paperback</td>\n",
       "      <td>3.89</td>\n",
       "      <td>48708</td>\n",
       "      <td>Steglitsan</td>\n",
       "      <td>Fiction</td>\n",
       "      <td>D</td>\n",
       "      <td>784</td>\n",
       "    </tr>\n",
       "    <tr>\n",
       "      <th>54262</th>\n",
       "      <td>Paperback</td>\n",
       "      <td>4.03</td>\n",
       "      <td>626</td>\n",
       "      <td>The Easter Parade</td>\n",
       "      <td>Fiction</td>\n",
       "      <td>R</td>\n",
       "      <td>283</td>\n",
       "    </tr>\n",
       "    <tr>\n",
       "      <th>54263</th>\n",
       "      <td>Hardcover</td>\n",
       "      <td>4.35</td>\n",
       "      <td>14</td>\n",
       "      <td>Das Buch der Lieder</td>\n",
       "      <td>Poetry</td>\n",
       "      <td>H</td>\n",
       "      <td>192</td>\n",
       "    </tr>\n",
       "    <tr>\n",
       "      <th>54264</th>\n",
       "      <td>Paperback</td>\n",
       "      <td>4.01</td>\n",
       "      <td>71</td>\n",
       "      <td>Draußen vor der Tür</td>\n",
       "      <td>European Literature</td>\n",
       "      <td>W</td>\n",
       "      <td>121</td>\n",
       "    </tr>\n",
       "    <tr>\n",
       "      <th>54265</th>\n",
       "      <td>Kindle Edition</td>\n",
       "      <td>3.95</td>\n",
       "      <td>362</td>\n",
       "      <td>Where He Ends and I Begin</td>\n",
       "      <td>Romance</td>\n",
       "      <td>C</td>\n",
       "      <td>289</td>\n",
       "    </tr>\n",
       "    <tr>\n",
       "      <th>54266</th>\n",
       "      <td>Paperback</td>\n",
       "      <td>4.19</td>\n",
       "      <td>18</td>\n",
       "      <td>無職転生 ～異世界行ったら本気だす～ 1</td>\n",
       "      <td>Novels</td>\n",
       "      <td>R</td>\n",
       "      <td>312</td>\n",
       "    </tr>\n",
       "    <tr>\n",
       "      <th>54268</th>\n",
       "      <td>Paperback</td>\n",
       "      <td>4.29</td>\n",
       "      <td>49</td>\n",
       "      <td>やはり俺の青春ラブコメはまちがっている 1</td>\n",
       "      <td>Novels</td>\n",
       "      <td>W</td>\n",
       "      <td>312</td>\n",
       "    </tr>\n",
       "    <tr>\n",
       "      <th>54269</th>\n",
       "      <td>Paperback</td>\n",
       "      <td>4.21</td>\n",
       "      <td>19</td>\n",
       "      <td>やはり俺の青春ラブコメはまちがっている 2</td>\n",
       "      <td>Novels</td>\n",
       "      <td>W</td>\n",
       "      <td>264</td>\n",
       "    </tr>\n",
       "    <tr>\n",
       "      <th>54270</th>\n",
       "      <td>Paperback</td>\n",
       "      <td>3.99</td>\n",
       "      <td>37</td>\n",
       "      <td>A Certain Magical Index, Vol. 1</td>\n",
       "      <td>Novels</td>\n",
       "      <td>K</td>\n",
       "      <td>224</td>\n",
       "    </tr>\n",
       "    <tr>\n",
       "      <th>54271</th>\n",
       "      <td>文庫</td>\n",
       "      <td>3.88</td>\n",
       "      <td>13</td>\n",
       "      <td>とある魔術の禁書目録 2</td>\n",
       "      <td>Novels</td>\n",
       "      <td>K</td>\n",
       "      <td>317</td>\n",
       "    </tr>\n",
       "    <tr>\n",
       "      <th>54273</th>\n",
       "      <td>文庫</td>\n",
       "      <td>4.32</td>\n",
       "      <td>10</td>\n",
       "      <td>とある魔術の禁書目録 3</td>\n",
       "      <td>Novels</td>\n",
       "      <td>K</td>\n",
       "      <td>307</td>\n",
       "    </tr>\n",
       "    <tr>\n",
       "      <th>54274</th>\n",
       "      <td>Paperback</td>\n",
       "      <td>4.37</td>\n",
       "      <td>299</td>\n",
       "      <td>The Shape of Voice 02</td>\n",
       "      <td>Sequential Art</td>\n",
       "      <td>Y</td>\n",
       "      <td>192</td>\n",
       "    </tr>\n",
       "    <tr>\n",
       "      <th>54277</th>\n",
       "      <td>Paperback</td>\n",
       "      <td>3.71</td>\n",
       "      <td>185</td>\n",
       "      <td>Train Man</td>\n",
       "      <td>Romance</td>\n",
       "      <td>H</td>\n",
       "      <td>416</td>\n",
       "    </tr>\n",
       "    <tr>\n",
       "      <th>54278</th>\n",
       "      <td>Paperback</td>\n",
       "      <td>4.56</td>\n",
       "      <td>102</td>\n",
       "      <td>Yotsuba&amp;!, Vol. 6</td>\n",
       "      <td>Sequential Art</td>\n",
       "      <td>K</td>\n",
       "      <td>208</td>\n",
       "    </tr>\n",
       "    <tr>\n",
       "      <th>54287</th>\n",
       "      <td>Paperback</td>\n",
       "      <td>4.45</td>\n",
       "      <td>0</td>\n",
       "      <td>The World God Only Knows 03 (The World God Onl...</td>\n",
       "      <td>Sequential Art</td>\n",
       "      <td>W</td>\n",
       "      <td>200</td>\n",
       "    </tr>\n",
       "    <tr>\n",
       "      <th>54289</th>\n",
       "      <td>Paperback</td>\n",
       "      <td>4.30</td>\n",
       "      <td>3</td>\n",
       "      <td>The World God Only Knows 5</td>\n",
       "      <td>Sequential Art</td>\n",
       "      <td>T</td>\n",
       "      <td>200</td>\n",
       "    </tr>\n",
       "    <tr>\n",
       "      <th>54291</th>\n",
       "      <td>Hardcover</td>\n",
       "      <td>3.56</td>\n",
       "      <td>507</td>\n",
       "      <td>Pym</td>\n",
       "      <td>Fiction</td>\n",
       "      <td>M</td>\n",
       "      <td>322</td>\n",
       "    </tr>\n",
       "    <tr>\n",
       "      <th>54292</th>\n",
       "      <td>Paperback</td>\n",
       "      <td>3.92</td>\n",
       "      <td>39</td>\n",
       "      <td>Sitt Marie Rose</td>\n",
       "      <td>Fiction</td>\n",
       "      <td>E</td>\n",
       "      <td>106</td>\n",
       "    </tr>\n",
       "    <tr>\n",
       "      <th>54293</th>\n",
       "      <td>Paperback</td>\n",
       "      <td>3.60</td>\n",
       "      <td>531</td>\n",
       "      <td>Towelhead</td>\n",
       "      <td>Fiction</td>\n",
       "      <td>A</td>\n",
       "      <td>336</td>\n",
       "    </tr>\n",
       "    <tr>\n",
       "      <th>54294</th>\n",
       "      <td>Hardcover</td>\n",
       "      <td>3.67</td>\n",
       "      <td>816</td>\n",
       "      <td>The Blazing World</td>\n",
       "      <td>Fiction</td>\n",
       "      <td>S</td>\n",
       "      <td>368</td>\n",
       "    </tr>\n",
       "    <tr>\n",
       "      <th>54295</th>\n",
       "      <td>Hardcover</td>\n",
       "      <td>3.51</td>\n",
       "      <td>661</td>\n",
       "      <td>Running the Books: The Adventures of an Accide...</td>\n",
       "      <td>Nonfiction</td>\n",
       "      <td>A</td>\n",
       "      <td>399</td>\n",
       "    </tr>\n",
       "    <tr>\n",
       "      <th>54297</th>\n",
       "      <td>Hardcover</td>\n",
       "      <td>3.97</td>\n",
       "      <td>5</td>\n",
       "      <td>The Baseball Talmud: Koufax, Greenberg, and th...</td>\n",
       "      <td>Nonfiction</td>\n",
       "      <td>H</td>\n",
       "      <td>256</td>\n",
       "    </tr>\n",
       "    <tr>\n",
       "      <th>54299</th>\n",
       "      <td>Hardcover</td>\n",
       "      <td>3.82</td>\n",
       "      <td>187</td>\n",
       "      <td>He Wanted the Moon: The Madness and Medical Ge...</td>\n",
       "      <td>Nonfiction</td>\n",
       "      <td>M</td>\n",
       "      <td>272</td>\n",
       "    </tr>\n",
       "    <tr>\n",
       "      <th>54300</th>\n",
       "      <td>Paperback</td>\n",
       "      <td>3.58</td>\n",
       "      <td>3</td>\n",
       "      <td>The Anthology and the Rise of the Novel: From ...</td>\n",
       "      <td>Criticism</td>\n",
       "      <td>L</td>\n",
       "      <td>236</td>\n",
       "    </tr>\n",
       "  </tbody>\n",
       "</table>\n",
       "<p>46024 rows × 7 columns</p>\n",
       "</div>"
      ],
      "text/plain": [
       "                 book_format  book_rating  book_review_count  \\\n",
       "0                  Hardcover         4.33             160706   \n",
       "1                  Paperback         4.48              33264   \n",
       "2                  Paperback         4.27              79450   \n",
       "3                  Paperback         4.25              54322   \n",
       "4                  Paperback         3.58              97991   \n",
       "5                  Hardcover         4.36             100821   \n",
       "6                  Paperback         4.25               9439   \n",
       "7                  Paperback         3.90              42156   \n",
       "8                  Paperback         4.29              17452   \n",
       "9      Mass Market Paperback         4.59               1652   \n",
       "10                 Hardcover         4.24             147270   \n",
       "11                 Paperback         4.21              23919   \n",
       "12                 Hardcover         4.37              15694   \n",
       "13                 Paperback         3.84              29400   \n",
       "14                 Paperback         3.81              43699   \n",
       "15                 Hardcover         4.09              27168   \n",
       "16     Mass Market Paperback         4.07               9166   \n",
       "17                 Paperback         4.06              22938   \n",
       "18     Mass Market Paperback         4.15              13063   \n",
       "19                 Paperback         4.22             104329   \n",
       "20                 Paperback         4.11              34670   \n",
       "21     Mass Market Paperback         3.74              16442   \n",
       "22                 Paperback         3.66              30634   \n",
       "23                 Paperback         3.84              63861   \n",
       "24                 Paperback         4.20              14496   \n",
       "25     Mass Market Paperback         4.30              40289   \n",
       "26                 Paperback         4.20              50846   \n",
       "27                 Hardcover         4.11              55446   \n",
       "28                 Hardcover         4.46              80741   \n",
       "29                 Paperback         3.90              56953   \n",
       "...                      ...          ...                ...   \n",
       "54254              Hardcover         3.77                 11   \n",
       "54255              Hardcover         3.99                173   \n",
       "54256              Hardcover         4.08                 38   \n",
       "54257              Paperback         3.98                  8   \n",
       "54258              Paperback         3.84                568   \n",
       "54260              Paperback         4.32               1001   \n",
       "54261              Paperback         3.89              48708   \n",
       "54262              Paperback         4.03                626   \n",
       "54263              Hardcover         4.35                 14   \n",
       "54264              Paperback         4.01                 71   \n",
       "54265         Kindle Edition         3.95                362   \n",
       "54266              Paperback         4.19                 18   \n",
       "54268              Paperback         4.29                 49   \n",
       "54269              Paperback         4.21                 19   \n",
       "54270              Paperback         3.99                 37   \n",
       "54271                     文庫         3.88                 13   \n",
       "54273                     文庫         4.32                 10   \n",
       "54274              Paperback         4.37                299   \n",
       "54277              Paperback         3.71                185   \n",
       "54278              Paperback         4.56                102   \n",
       "54287              Paperback         4.45                  0   \n",
       "54289              Paperback         4.30                  3   \n",
       "54291              Hardcover         3.56                507   \n",
       "54292              Paperback         3.92                 39   \n",
       "54293              Paperback         3.60                531   \n",
       "54294              Hardcover         3.67                816   \n",
       "54295              Hardcover         3.51                661   \n",
       "54297              Hardcover         3.97                  5   \n",
       "54299              Hardcover         3.82                187   \n",
       "54300              Paperback         3.58                  3   \n",
       "\n",
       "                                              book_title               genero  \\\n",
       "0                                       The Hunger Games          Young Adult   \n",
       "1              Harry Potter and the Order of the Phoenix              Fantasy   \n",
       "2                                  To Kill a Mockingbird             Classics   \n",
       "3                                    Pride and Prejudice             Classics   \n",
       "4                                               Twilight          Young Adult   \n",
       "5                                         The Book Thief           Historical   \n",
       "6                               The Chronicles of Narnia              Fantasy   \n",
       "7                                            Animal Farm             Classics   \n",
       "8                                     Gone with the Wind             Classics   \n",
       "9      J.R.R. Tolkien 4-Book Boxed Set: The Hobbit an...              Fantasy   \n",
       "10                                The Fault in Our Stars          Young Adult   \n",
       "11                  The Hitchhiker's Guide to the Galaxy      Science Fiction   \n",
       "12                                       The Giving Tree            Childrens   \n",
       "13                                     Wuthering Heights             Classics   \n",
       "14                                     The Da Vinci Code              Fiction   \n",
       "15                                   Memoirs of a Geisha              Fiction   \n",
       "16     Alice's Adventures in Wonderland & Through the...             Classics   \n",
       "17                            The Picture of Dorian Gray              Fiction   \n",
       "18                                        Les Misérables             Classics   \n",
       "19                                             Divergent          Young Adult   \n",
       "20                                             Jane Eyre             Classics   \n",
       "21                                      Romeo and Juliet             Classics   \n",
       "22                                     Lord of the Flies             Classics   \n",
       "23                                         The Alchemist              Fiction   \n",
       "24                                  Crime and Punishment             Classics   \n",
       "25                                          Ender's Game      Science Fiction   \n",
       "26                       The Perks of Being a Wallflower          Young Adult   \n",
       "27                                         City of Bones              Fantasy   \n",
       "28                                              The Help              Fiction   \n",
       "29                                      The Great Gatsby             Classics   \n",
       "...                                                  ...                  ...   \n",
       "54254                  The Girl on the High Diving Horse            Childrens   \n",
       "54255                                 Angelina Ballerina            Childrens   \n",
       "54256                                            My Pony            Childrens   \n",
       "54257  I Have Words to Spend: Reflections of a Small-...           Nonfiction   \n",
       "54258  3,096 Days in Captivity: The True Story of My ...                Crime   \n",
       "54260                                         Min kamp 2              Fiction   \n",
       "54261                                         Steglitsan              Fiction   \n",
       "54262                                  The Easter Parade              Fiction   \n",
       "54263                                Das Buch der Lieder               Poetry   \n",
       "54264                                Draußen vor der Tür  European Literature   \n",
       "54265                          Where He Ends and I Begin              Romance   \n",
       "54266                               無職転生 ～異世界行ったら本気だす～ 1               Novels   \n",
       "54268                              やはり俺の青春ラブコメはまちがっている 1               Novels   \n",
       "54269                              やはり俺の青春ラブコメはまちがっている 2               Novels   \n",
       "54270                    A Certain Magical Index, Vol. 1               Novels   \n",
       "54271                                       とある魔術の禁書目録 2               Novels   \n",
       "54273                                       とある魔術の禁書目録 3               Novels   \n",
       "54274                              The Shape of Voice 02       Sequential Art   \n",
       "54277                                          Train Man              Romance   \n",
       "54278                                  Yotsuba&!, Vol. 6       Sequential Art   \n",
       "54287  The World God Only Knows 03 (The World God Onl...       Sequential Art   \n",
       "54289                         The World God Only Knows 5       Sequential Art   \n",
       "54291                                                Pym              Fiction   \n",
       "54292                                    Sitt Marie Rose              Fiction   \n",
       "54293                                          Towelhead              Fiction   \n",
       "54294                                  The Blazing World              Fiction   \n",
       "54295  Running the Books: The Adventures of an Accide...           Nonfiction   \n",
       "54297  The Baseball Talmud: Koufax, Greenberg, and th...           Nonfiction   \n",
       "54299  He Wanted the Moon: The Madness and Medical Ge...           Nonfiction   \n",
       "54300  The Anthology and the Rise of the Novel: From ...            Criticism   \n",
       "\n",
       "      iniciais  paginas  \n",
       "0            S      374  \n",
       "1            J      870  \n",
       "2            H      324  \n",
       "3            J      279  \n",
       "4            S      498  \n",
       "5            M      552  \n",
       "6            C      767  \n",
       "7            G      122  \n",
       "8            M     1037  \n",
       "9            J     1728  \n",
       "10           J      313  \n",
       "11           D      193  \n",
       "12           S       64  \n",
       "13           E      464  \n",
       "14           D      481  \n",
       "15           A      434  \n",
       "16           L      239  \n",
       "17           O      367  \n",
       "18           V     1463  \n",
       "19           V      487  \n",
       "20           C      507  \n",
       "21           W      283  \n",
       "22           W      182  \n",
       "23           P      197  \n",
       "24           F      671  \n",
       "25           O      324  \n",
       "26           S      213  \n",
       "27           C      485  \n",
       "28           K      465  \n",
       "29           F      180  \n",
       "...        ...      ...  \n",
       "54254        L       40  \n",
       "54255        K       32  \n",
       "54256        S       32  \n",
       "54257        R      224  \n",
       "54258        N      320  \n",
       "54260        K      595  \n",
       "54261        D      784  \n",
       "54262        R      283  \n",
       "54263        H      192  \n",
       "54264        W      121  \n",
       "54265        C      289  \n",
       "54266        R      312  \n",
       "54268        W      312  \n",
       "54269        W      264  \n",
       "54270        K      224  \n",
       "54271        K      317  \n",
       "54273        K      307  \n",
       "54274        Y      192  \n",
       "54277        H      416  \n",
       "54278        K      208  \n",
       "54287        W      200  \n",
       "54289        T      200  \n",
       "54291        M      322  \n",
       "54292        E      106  \n",
       "54293        A      336  \n",
       "54294        S      368  \n",
       "54295        A      399  \n",
       "54297        H      256  \n",
       "54299        M      272  \n",
       "54300        L      236  \n",
       "\n",
       "[46024 rows x 7 columns]"
      ]
     },
     "execution_count": 30,
     "metadata": {},
     "output_type": "execute_result"
    }
   ],
   "source": [
    "# Apenas os livros com 3.5 estrelas ou mais de avaliação no Goodreads\n",
    "csv.loc[(csv['book_rating']>= 3.5)]"
   ]
  },
  {
   "cell_type": "code",
   "execution_count": 31,
   "metadata": {},
   "outputs": [],
   "source": [
    "# Separando as variáveis em quantitativas, qualitativas e a desejada\n",
    "y = csv['book_rating'].values\n",
    "num = csv[['paginas','book_review_count']]\n",
    "qual = csv[['book_format','genero','iniciais']]"
   ]
  },
  {
   "cell_type": "code",
   "execution_count": 32,
   "metadata": {},
   "outputs": [
    {
     "data": {
      "text/html": [
       "<div>\n",
       "<style scoped>\n",
       "    .dataframe tbody tr th:only-of-type {\n",
       "        vertical-align: middle;\n",
       "    }\n",
       "\n",
       "    .dataframe tbody tr th {\n",
       "        vertical-align: top;\n",
       "    }\n",
       "\n",
       "    .dataframe thead th {\n",
       "        text-align: right;\n",
       "    }\n",
       "</style>\n",
       "<table border=\"1\" class=\"dataframe\">\n",
       "  <thead>\n",
       "    <tr style=\"text-align: right;\">\n",
       "      <th></th>\n",
       "      <th>book_format</th>\n",
       "      <th>genero</th>\n",
       "      <th>iniciais</th>\n",
       "    </tr>\n",
       "  </thead>\n",
       "  <tbody>\n",
       "    <tr>\n",
       "      <th>0</th>\n",
       "      <td>Hardcover</td>\n",
       "      <td>Young Adult</td>\n",
       "      <td>S</td>\n",
       "    </tr>\n",
       "    <tr>\n",
       "      <th>1</th>\n",
       "      <td>Paperback</td>\n",
       "      <td>Fantasy</td>\n",
       "      <td>J</td>\n",
       "    </tr>\n",
       "    <tr>\n",
       "      <th>2</th>\n",
       "      <td>Paperback</td>\n",
       "      <td>Classics</td>\n",
       "      <td>H</td>\n",
       "    </tr>\n",
       "    <tr>\n",
       "      <th>3</th>\n",
       "      <td>Paperback</td>\n",
       "      <td>Classics</td>\n",
       "      <td>J</td>\n",
       "    </tr>\n",
       "    <tr>\n",
       "      <th>4</th>\n",
       "      <td>Paperback</td>\n",
       "      <td>Young Adult</td>\n",
       "      <td>S</td>\n",
       "    </tr>\n",
       "  </tbody>\n",
       "</table>\n",
       "</div>"
      ],
      "text/plain": [
       "  book_format       genero iniciais\n",
       "0   Hardcover  Young Adult        S\n",
       "1   Paperback      Fantasy        J\n",
       "2   Paperback     Classics        H\n",
       "3   Paperback     Classics        J\n",
       "4   Paperback  Young Adult        S"
      ]
     },
     "execution_count": 32,
     "metadata": {},
     "output_type": "execute_result"
    }
   ],
   "source": [
    "qual.head()"
   ]
  },
  {
   "cell_type": "code",
   "execution_count": 33,
   "metadata": {},
   "outputs": [],
   "source": [
    "encoder = OneHotEncoder()\n",
    "capa_encoded = encoder.fit_transform(qual)"
   ]
  },
  {
   "cell_type": "code",
   "execution_count": 34,
   "metadata": {},
   "outputs": [],
   "source": [
    "x_num = num.values"
   ]
  },
  {
   "cell_type": "code",
   "execution_count": 35,
   "metadata": {
    "scrolled": false
   },
   "outputs": [],
   "source": [
    "#Transformar em array facilita a exploração dos dados\n",
    "x_encoded = capa_encoded.toarray()"
   ]
  },
  {
   "cell_type": "code",
   "execution_count": 36,
   "metadata": {},
   "outputs": [],
   "source": [
    "#Juntando a lista binária e as páginas\n",
    "X = np.concatenate((x_num,x_encoded), axis=1)"
   ]
  },
  {
   "cell_type": "code",
   "execution_count": 37,
   "metadata": {},
   "outputs": [
    {
     "data": {
      "text/plain": [
       "array([3.74000e+02, 1.60706e+05, 0.00000e+00, 0.00000e+00, 0.00000e+00,\n",
       "       0.00000e+00, 0.00000e+00, 0.00000e+00, 0.00000e+00, 0.00000e+00,\n",
       "       0.00000e+00, 0.00000e+00, 0.00000e+00, 0.00000e+00, 0.00000e+00,\n",
       "       0.00000e+00, 0.00000e+00, 0.00000e+00, 0.00000e+00, 0.00000e+00,\n",
       "       0.00000e+00, 0.00000e+00, 0.00000e+00, 0.00000e+00, 0.00000e+00,\n",
       "       0.00000e+00, 0.00000e+00, 0.00000e+00, 0.00000e+00, 0.00000e+00,\n",
       "       0.00000e+00, 0.00000e+00, 0.00000e+00, 0.00000e+00, 0.00000e+00,\n",
       "       0.00000e+00, 0.00000e+00, 0.00000e+00, 0.00000e+00, 0.00000e+00,\n",
       "       0.00000e+00, 0.00000e+00, 0.00000e+00, 0.00000e+00, 0.00000e+00,\n",
       "       0.00000e+00, 1.00000e+00, 0.00000e+00, 0.00000e+00, 0.00000e+00,\n",
       "       0.00000e+00, 0.00000e+00, 0.00000e+00, 0.00000e+00, 0.00000e+00,\n",
       "       0.00000e+00, 0.00000e+00, 0.00000e+00, 0.00000e+00, 0.00000e+00,\n",
       "       0.00000e+00, 0.00000e+00, 0.00000e+00, 0.00000e+00, 0.00000e+00,\n",
       "       0.00000e+00, 0.00000e+00, 0.00000e+00, 0.00000e+00, 0.00000e+00,\n",
       "       0.00000e+00, 0.00000e+00, 0.00000e+00, 0.00000e+00, 0.00000e+00,\n",
       "       0.00000e+00, 0.00000e+00, 0.00000e+00, 0.00000e+00, 0.00000e+00,\n",
       "       0.00000e+00, 0.00000e+00, 0.00000e+00, 0.00000e+00, 0.00000e+00,\n",
       "       0.00000e+00, 0.00000e+00, 0.00000e+00, 0.00000e+00, 0.00000e+00,\n",
       "       0.00000e+00, 0.00000e+00, 0.00000e+00, 0.00000e+00, 0.00000e+00,\n",
       "       0.00000e+00, 0.00000e+00, 0.00000e+00, 0.00000e+00, 0.00000e+00,\n",
       "       0.00000e+00, 0.00000e+00, 0.00000e+00, 0.00000e+00, 0.00000e+00,\n",
       "       0.00000e+00, 0.00000e+00, 0.00000e+00, 0.00000e+00, 0.00000e+00,\n",
       "       0.00000e+00, 0.00000e+00, 0.00000e+00, 0.00000e+00, 0.00000e+00,\n",
       "       0.00000e+00, 0.00000e+00, 0.00000e+00, 0.00000e+00, 0.00000e+00,\n",
       "       0.00000e+00, 0.00000e+00, 0.00000e+00, 0.00000e+00, 0.00000e+00,\n",
       "       0.00000e+00, 0.00000e+00, 0.00000e+00, 0.00000e+00, 0.00000e+00,\n",
       "       0.00000e+00, 0.00000e+00, 0.00000e+00, 0.00000e+00, 0.00000e+00,\n",
       "       0.00000e+00, 0.00000e+00, 0.00000e+00, 0.00000e+00, 0.00000e+00,\n",
       "       0.00000e+00, 0.00000e+00, 0.00000e+00, 0.00000e+00, 0.00000e+00,\n",
       "       0.00000e+00, 0.00000e+00, 0.00000e+00, 0.00000e+00, 0.00000e+00,\n",
       "       0.00000e+00, 0.00000e+00, 0.00000e+00, 0.00000e+00, 0.00000e+00,\n",
       "       0.00000e+00, 0.00000e+00, 0.00000e+00, 0.00000e+00, 0.00000e+00,\n",
       "       0.00000e+00, 0.00000e+00, 0.00000e+00, 0.00000e+00, 0.00000e+00,\n",
       "       0.00000e+00, 0.00000e+00, 0.00000e+00, 0.00000e+00, 0.00000e+00,\n",
       "       0.00000e+00, 0.00000e+00, 0.00000e+00, 0.00000e+00, 0.00000e+00,\n",
       "       0.00000e+00, 0.00000e+00, 0.00000e+00, 0.00000e+00, 0.00000e+00,\n",
       "       0.00000e+00, 0.00000e+00, 0.00000e+00, 0.00000e+00, 0.00000e+00,\n",
       "       0.00000e+00, 0.00000e+00, 0.00000e+00, 0.00000e+00, 0.00000e+00,\n",
       "       0.00000e+00, 0.00000e+00, 0.00000e+00, 0.00000e+00, 0.00000e+00,\n",
       "       0.00000e+00, 0.00000e+00, 0.00000e+00, 0.00000e+00, 0.00000e+00,\n",
       "       0.00000e+00, 0.00000e+00, 0.00000e+00, 0.00000e+00, 0.00000e+00,\n",
       "       0.00000e+00, 0.00000e+00, 0.00000e+00, 0.00000e+00, 0.00000e+00,\n",
       "       0.00000e+00, 0.00000e+00, 0.00000e+00, 0.00000e+00, 0.00000e+00,\n",
       "       0.00000e+00, 0.00000e+00, 0.00000e+00, 0.00000e+00, 0.00000e+00,\n",
       "       0.00000e+00, 0.00000e+00, 0.00000e+00, 0.00000e+00, 0.00000e+00,\n",
       "       0.00000e+00, 0.00000e+00, 0.00000e+00, 0.00000e+00, 0.00000e+00,\n",
       "       0.00000e+00, 0.00000e+00, 0.00000e+00, 0.00000e+00, 0.00000e+00,\n",
       "       0.00000e+00, 0.00000e+00, 0.00000e+00, 0.00000e+00, 0.00000e+00,\n",
       "       0.00000e+00, 0.00000e+00, 0.00000e+00, 0.00000e+00, 0.00000e+00,\n",
       "       0.00000e+00, 0.00000e+00, 0.00000e+00, 0.00000e+00, 0.00000e+00,\n",
       "       0.00000e+00, 0.00000e+00, 0.00000e+00, 0.00000e+00, 0.00000e+00,\n",
       "       0.00000e+00, 0.00000e+00, 0.00000e+00, 0.00000e+00, 0.00000e+00,\n",
       "       0.00000e+00, 0.00000e+00, 0.00000e+00, 0.00000e+00, 0.00000e+00,\n",
       "       0.00000e+00, 0.00000e+00, 0.00000e+00, 0.00000e+00, 0.00000e+00,\n",
       "       0.00000e+00, 0.00000e+00, 0.00000e+00, 0.00000e+00, 0.00000e+00,\n",
       "       0.00000e+00, 0.00000e+00, 0.00000e+00, 0.00000e+00, 0.00000e+00,\n",
       "       0.00000e+00, 0.00000e+00, 0.00000e+00, 0.00000e+00, 0.00000e+00,\n",
       "       0.00000e+00, 0.00000e+00, 0.00000e+00, 0.00000e+00, 0.00000e+00,\n",
       "       0.00000e+00, 0.00000e+00, 0.00000e+00, 0.00000e+00, 0.00000e+00,\n",
       "       0.00000e+00, 0.00000e+00, 0.00000e+00, 0.00000e+00, 0.00000e+00,\n",
       "       0.00000e+00, 0.00000e+00, 0.00000e+00, 0.00000e+00, 0.00000e+00,\n",
       "       0.00000e+00, 0.00000e+00, 0.00000e+00, 0.00000e+00, 0.00000e+00,\n",
       "       0.00000e+00, 0.00000e+00, 0.00000e+00, 0.00000e+00, 0.00000e+00,\n",
       "       0.00000e+00, 0.00000e+00, 0.00000e+00, 0.00000e+00, 0.00000e+00,\n",
       "       0.00000e+00, 1.00000e+00, 0.00000e+00, 0.00000e+00, 0.00000e+00,\n",
       "       0.00000e+00, 0.00000e+00, 0.00000e+00, 0.00000e+00, 0.00000e+00,\n",
       "       0.00000e+00, 0.00000e+00, 0.00000e+00, 0.00000e+00, 0.00000e+00,\n",
       "       0.00000e+00, 0.00000e+00, 0.00000e+00, 0.00000e+00, 0.00000e+00,\n",
       "       0.00000e+00, 0.00000e+00, 1.00000e+00, 0.00000e+00, 0.00000e+00,\n",
       "       0.00000e+00, 0.00000e+00, 0.00000e+00, 0.00000e+00, 0.00000e+00,\n",
       "       0.00000e+00, 0.00000e+00, 0.00000e+00, 0.00000e+00, 0.00000e+00,\n",
       "       0.00000e+00, 0.00000e+00, 0.00000e+00, 0.00000e+00, 0.00000e+00,\n",
       "       0.00000e+00, 0.00000e+00, 0.00000e+00, 0.00000e+00, 0.00000e+00,\n",
       "       0.00000e+00, 0.00000e+00, 0.00000e+00, 0.00000e+00, 0.00000e+00,\n",
       "       0.00000e+00, 0.00000e+00, 0.00000e+00, 0.00000e+00, 0.00000e+00,\n",
       "       0.00000e+00, 0.00000e+00, 0.00000e+00, 0.00000e+00, 0.00000e+00,\n",
       "       0.00000e+00, 0.00000e+00, 0.00000e+00, 0.00000e+00, 0.00000e+00,\n",
       "       0.00000e+00, 0.00000e+00, 0.00000e+00, 0.00000e+00, 0.00000e+00,\n",
       "       0.00000e+00, 0.00000e+00, 0.00000e+00, 0.00000e+00, 0.00000e+00,\n",
       "       0.00000e+00, 0.00000e+00, 0.00000e+00, 0.00000e+00, 0.00000e+00,\n",
       "       0.00000e+00, 0.00000e+00, 0.00000e+00, 0.00000e+00, 0.00000e+00,\n",
       "       0.00000e+00, 0.00000e+00, 0.00000e+00, 0.00000e+00, 0.00000e+00,\n",
       "       0.00000e+00, 0.00000e+00, 0.00000e+00, 0.00000e+00, 0.00000e+00,\n",
       "       0.00000e+00, 0.00000e+00, 0.00000e+00, 0.00000e+00, 0.00000e+00])"
      ]
     },
     "execution_count": 37,
     "metadata": {},
     "output_type": "execute_result"
    }
   ],
   "source": [
    "X[0]"
   ]
  },
  {
   "cell_type": "code",
   "execution_count": 38,
   "metadata": {},
   "outputs": [
    {
     "data": {
      "text/plain": [
       "4.33"
      ]
     },
     "execution_count": 38,
     "metadata": {},
     "output_type": "execute_result"
    }
   ],
   "source": [
    "#Rating do livro 1\n",
    "y[0]"
   ]
  },
  {
   "cell_type": "code",
   "execution_count": 39,
   "metadata": {},
   "outputs": [
    {
     "data": {
      "text/html": [
       "<div>\n",
       "<style scoped>\n",
       "    .dataframe tbody tr th:only-of-type {\n",
       "        vertical-align: middle;\n",
       "    }\n",
       "\n",
       "    .dataframe tbody tr th {\n",
       "        vertical-align: top;\n",
       "    }\n",
       "\n",
       "    .dataframe thead th {\n",
       "        text-align: right;\n",
       "    }\n",
       "</style>\n",
       "<table border=\"1\" class=\"dataframe\">\n",
       "  <thead>\n",
       "    <tr style=\"text-align: right;\">\n",
       "      <th></th>\n",
       "      <th>Atual</th>\n",
       "      <th>Predito</th>\n",
       "    </tr>\n",
       "  </thead>\n",
       "  <tbody>\n",
       "    <tr>\n",
       "      <th>0</th>\n",
       "      <td>3.86</td>\n",
       "      <td>3.863638</td>\n",
       "    </tr>\n",
       "    <tr>\n",
       "      <th>1</th>\n",
       "      <td>4.36</td>\n",
       "      <td>4.087816</td>\n",
       "    </tr>\n",
       "    <tr>\n",
       "      <th>2</th>\n",
       "      <td>4.52</td>\n",
       "      <td>4.179647</td>\n",
       "    </tr>\n",
       "    <tr>\n",
       "      <th>3</th>\n",
       "      <td>4.25</td>\n",
       "      <td>3.980965</td>\n",
       "    </tr>\n",
       "    <tr>\n",
       "      <th>4</th>\n",
       "      <td>3.57</td>\n",
       "      <td>3.836996</td>\n",
       "    </tr>\n",
       "  </tbody>\n",
       "</table>\n",
       "</div>"
      ],
      "text/plain": [
       "   Atual   Predito\n",
       "0   3.86  3.863638\n",
       "1   4.36  4.087816\n",
       "2   4.52  4.179647\n",
       "3   4.25  3.980965\n",
       "4   3.57  3.836996"
      ]
     },
     "execution_count": 39,
     "metadata": {},
     "output_type": "execute_result"
    }
   ],
   "source": [
    "from sklearn.model_selection import train_test_split\n",
    "from sklearn.metrics import accuracy_score\n",
    "from sklearn import preprocessing,utils, metrics\n",
    "from sklearn.linear_model import LinearRegression\n",
    "\n",
    "X_train, X_test, y_train, y_test = train_test_split(X, y, test_size=0.2, random_state=0)\n",
    "\n",
    "regressor = LinearRegression()\n",
    "regressor.fit(X_train, y_train)\n",
    "\n",
    "y_pred = regressor.predict(X_test)\n",
    "\n",
    "for i in range(len(y_pred)):\n",
    "    if y_pred[i]>5:\n",
    "        y_pred[i]=5\n",
    "    elif y_pred[i]<0:\n",
    "        y_pred[i]=0\n",
    "        \n",
    "df = pd.DataFrame({'Atual': y_test.flatten(), 'Predito': y_pred.flatten()})\n",
    "df.head()"
   ]
  },
  {
   "cell_type": "code",
   "execution_count": 40,
   "metadata": {},
   "outputs": [
    {
     "data": {
      "image/png": "[encoded data removed]",
      "text/plain": [
       "<Figure size 1152x720 with 1 Axes>"
      ]
     },
     "metadata": {
      "needs_background": "light"
     },
     "output_type": "display_data"
    }
   ],
   "source": [
    "df1 = df.head(25)\n",
    "df1.plot(kind='bar',figsize=(16,10))\n",
    "plt.grid(which='major', linestyle='-', linewidth='0.5', color='green')\n",
    "plt.grid(which='minor', linestyle=':', linewidth='0.5', color='black')\n",
    "plt.xlabel('Book Index')\n",
    "plt.ylabel('Rating')\n",
    "plt.show()"
   ]
  },
  {
   "cell_type": "code",
   "execution_count": 41,
   "metadata": {},
   "outputs": [
    {
     "name": "stdout",
     "output_type": "stream",
     "text": [
      "O R² é -0.18662428233709738\n"
     ]
    }
   ],
   "source": [
    "print(\"O R² é \" + str(metrics.r2_score(df['Atual'],df['Predito'])))"
   ]
  },
  {
   "cell_type": "code",
   "execution_count": null,
   "metadata": {},
   "outputs": [],
   "source": [
    "#Usando outro DataFrame (de 2018) para fazer a predição:\n",
    "teste_X2 = pd.read_csv('book_data_2018.csv')"
   ]
  },
  {
   "cell_type": "code",
   "execution_count": null,
   "metadata": {},
   "outputs": [],
   "source": [
    "teste_X2.drop(['book_desc', 'book_edition', 'book_isbn', 'book_rating_count', 'book_review_count', 'image_url'], axis=1, inplace=True)\n",
    "teste_X2=teste_X2.dropna()\n",
    "teste_X2.head()"
   ]
  },
  {
   "cell_type": "code",
   "execution_count": null,
   "metadata": {},
   "outputs": [],
   "source": [
    "ar_2018 = teste_X2['genres'].value_counts()\n",
    "ar1_2018 = []\n",
    "iniciais_2018 = []\n",
    "paginas_2018 = []\n",
    "\n",
    "# Escolhendo como gênero literário apenas o primeiro listado.\n",
    "for i in ar_2018.index:\n",
    "    if i == \"\":\n",
    "        ar1_2018.append(\"\")\n",
    "    else:\n",
    "        a = i.split('|')\n",
    "        ar1_2018.append(a[0])\n",
    "        \n",
    "# Selecionando apenas a inicial dos nomes dos autores\n",
    "for i in teste_X2['book_authors']:\n",
    "    iniciais_2018.append(i[0])\n",
    "\n",
    "# Apenas o número de páginas aparecerá, sem a palavra \"pages\"\n",
    "for i in teste_X2['book_pages']:\n",
    "    numero_2018 = i.split(' ')\n",
    "    paginas_2018.append(int(numero_2018[0]))\n",
    "print(paginas_2018[0:10])\n",
    "print(iniciais_2018[0:10])\n",
    "print(ar1_2018[0:10])"
   ]
  },
  {
   "cell_type": "code",
   "execution_count": null,
   "metadata": {},
   "outputs": [],
   "source": [
    "# Criando colunas no DataFrame para as iniciais dos autores, os números de páginas e o principal gênero do livro\n",
    "ar1_2018=pd.DataFrame({'genero':ar1_2018})\n",
    "iniciais_2018_ = pd.DataFrame({'iniciais':iniciais_2018})\n",
    "paginas_2018_ = pd.DataFrame({'paginas':paginas_2018})"
   ]
  },
  {
   "cell_type": "code",
   "execution_count": null,
   "metadata": {},
   "outputs": [],
   "source": [
    "teste_X2 = teste_X2.join(ar1_2018,how='inner')\n",
    "teste_X2 = teste_X2.join(iniciais_2018_,how='inner')\n",
    "teste_X2 = teste_X2.join(paginas_2018_,how='inner')\n",
    "teste_X2.head()"
   ]
  },
  {
   "cell_type": "code",
   "execution_count": null,
   "metadata": {},
   "outputs": [],
   "source": [
    "teste_X2.drop(['book_authors', 'book_pages', 'genres'], axis=1, inplace=True)\n",
    "teste_X2.head()"
   ]
  },
  {
   "cell_type": "code",
   "execution_count": null,
   "metadata": {},
   "outputs": [],
   "source": [
    "y_pred2 = regressor.predict(teste_X2)\n",
    "\n",
    "for i in range(len(y_pred2)):\n",
    "    if y_pred2[i]>5:\n",
    "        y_pred2[i]=5\n",
    "    elif y_pred2[i]<0:\n",
    "        y_pred2[i]=0\n",
    "        \n",
    "df2 = pd.DataFrame({'Atual': y_test2.flatten(), 'Predito': y_pred2.flatten()})\n",
    "df2.head()"
   ]
  },
  {
   "cell_type": "code",
   "execution_count": null,
   "metadata": {},
   "outputs": [],
   "source": []
  },
  {
   "cell_type": "code",
   "execution_count": null,
   "metadata": {},
   "outputs": [],
   "source": []
  },
  {
   "cell_type": "code",
   "execution_count": null,
   "metadata": {},
   "outputs": [],
   "source": []
  },
  {
   "cell_type": "code",
   "execution_count": null,
   "metadata": {},
   "outputs": [],
   "source": []
  }
 ],
 "metadata": {
  "kernelspec": {
   "display_name": "Python 3",
   "language": "python",
   "name": "python3"
  },
  "language_info": {
   "codemirror_mode": {
    "name": "ipython",
    "version": 3
   },
   "file_extension": ".py",
   "mimetype": "text/x-python",
   "name": "python",
   "nbconvert_exporter": "python",
   "pygments_lexer": "ipython3",
   "version": "3.7.1"
  }
 },
 "nbformat": 4,
 "nbformat_minor": 2
}
