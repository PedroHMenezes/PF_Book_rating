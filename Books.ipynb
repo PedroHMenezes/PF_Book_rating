{
 "cells": [
  {
   "cell_type": "markdown",
   "metadata": {},
   "source": [
    "# Projeto Final - Ciência dos dados\n",
    "### Alunos:\n",
    "- Beatriz Lourenço \n",
    "- Fernando Kenji \n",
    "- Sophia Kerber\n",
    "- Pedro H. Menezes"
   ]
  },
  {
   "cell_type": "markdown",
   "metadata": {},
   "source": [
    "### Pergunta Motivadora:\n",
    "É possível prever a avaliação de um livro (no ranking do Goodreads) com as seguintes variáveis?\n",
    "- Inicial do autor\n",
    "- Número de páginas\n",
    "- Gênero\n",
    "- Formato do livro (Capa dura, capa em papel, versão Kindle...)\n"
   ]
  },
  {
   "cell_type": "markdown",
   "metadata": {},
   "source": [
    "### Por que regressão linear?\n",
    "\n",
    "\n",
    "Como o objetivo do projeto era prever a avaliação do livro, decidiu-se utilizar a regressão linear para tanto, uma vez que a variável de saída é quantitativa. A ideia da regressão linear é aproximar os dados de uma reta, tentando diminuir o erro quadrático ao máximo. Utilizamos o One Hot Enconder, aliado ao SciKitLearn para dividir o dataset, classificar as variáveis qualitativas em números binários, e finalmente fazer a predição e o teste do dataset.\n",
    "\n",
    "As técnicas que se prestam a este tipo de análise: regressão linear, *regression tree*, *random forest regression* - EXPLICAR OS OUTROS 2"
   ]
  },
  {
   "cell_type": "markdown",
   "metadata": {},
   "source": [
    "### Como melhorar a análise?\n",
    "\n",
    "Pode-se melhorar a análise feita por meio da K-Folds Cross Validation."
   ]
  },
  {
   "cell_type": "code",
<<<<<<< HEAD
   "execution_count": 128,
=======
   "execution_count": 9,
>>>>>>> 9bd7f88ebfedd5a89df5986dcd77b1da36ab594d
   "metadata": {},
   "outputs": [],
   "source": [
    "import pandas as pd\n",
    "import matplotlib.pyplot as plt\n",
    "from sklearn.preprocessing import OneHotEncoder\n",
    "import numpy as np"
   ]
  },
  {
   "cell_type": "code",
<<<<<<< HEAD
   "execution_count": 129,
=======
   "execution_count": 10,
>>>>>>> 9bd7f88ebfedd5a89df5986dcd77b1da36ab594d
   "metadata": {},
   "outputs": [
    {
     "data": {
      "text/html": [
       "<div>\n",
       "<style scoped>\n",
       "    .dataframe tbody tr th:only-of-type {\n",
       "        vertical-align: middle;\n",
       "    }\n",
       "\n",
       "    .dataframe tbody tr th {\n",
       "        vertical-align: top;\n",
       "    }\n",
       "\n",
       "    .dataframe thead th {\n",
       "        text-align: right;\n",
       "    }\n",
       "</style>\n",
       "<table border=\"1\" class=\"dataframe\">\n",
       "  <thead>\n",
       "    <tr style=\"text-align: right;\">\n",
       "      <th></th>\n",
       "      <th>book_authors</th>\n",
       "      <th>book_desc</th>\n",
       "      <th>book_edition</th>\n",
       "      <th>book_format</th>\n",
       "      <th>book_isbn</th>\n",
       "      <th>book_pages</th>\n",
       "      <th>book_rating</th>\n",
       "      <th>book_rating_count</th>\n",
       "      <th>book_review_count</th>\n",
       "      <th>book_title</th>\n",
       "      <th>genres</th>\n",
       "      <th>image_url</th>\n",
       "    </tr>\n",
       "  </thead>\n",
       "  <tbody>\n",
       "    <tr>\n",
       "      <th>0</th>\n",
       "      <td>Suzanne Collins</td>\n",
       "      <td>Winning will make you famous. Losing means cer...</td>\n",
       "      <td>NaN</td>\n",
       "      <td>Hardcover</td>\n",
       "      <td>9.78044E+12</td>\n",
       "      <td>374 pages</td>\n",
       "      <td>4.33</td>\n",
       "      <td>5519135</td>\n",
       "      <td>160706</td>\n",
       "      <td>The Hunger Games</td>\n",
       "      <td>Young Adult|Fiction|Science Fiction|Dystopia|F...</td>\n",
       "      <td>https://images.gr-assets.com/books/1447303603l...</td>\n",
       "    </tr>\n",
       "    <tr>\n",
       "      <th>1</th>\n",
       "      <td>J.K. Rowling|Mary GrandPré</td>\n",
       "      <td>There is a door at the end of a silent corrido...</td>\n",
       "      <td>US Edition</td>\n",
       "      <td>Paperback</td>\n",
       "      <td>9.78044E+12</td>\n",
       "      <td>870 pages</td>\n",
       "      <td>4.48</td>\n",
       "      <td>2041594</td>\n",
       "      <td>33264</td>\n",
       "      <td>Harry Potter and the Order of the Phoenix</td>\n",
       "      <td>Fantasy|Young Adult|Fiction</td>\n",
       "      <td>https://images.gr-assets.com/books/1255614970l...</td>\n",
       "    </tr>\n",
       "    <tr>\n",
       "      <th>2</th>\n",
       "      <td>Harper Lee</td>\n",
       "      <td>The unforgettable novel of a childhood in a sl...</td>\n",
       "      <td>50th Anniversary</td>\n",
       "      <td>Paperback</td>\n",
       "      <td>9.78006E+12</td>\n",
       "      <td>324 pages</td>\n",
       "      <td>4.27</td>\n",
       "      <td>3745197</td>\n",
       "      <td>79450</td>\n",
       "      <td>To Kill a Mockingbird</td>\n",
       "      <td>Classics|Fiction|Historical|Historical Fiction...</td>\n",
       "      <td>https://images.gr-assets.com/books/1361975680l...</td>\n",
       "    </tr>\n",
       "    <tr>\n",
       "      <th>3</th>\n",
       "      <td>Jane Austen|Anna Quindlen|Mrs. Oliphant|George...</td>\n",
       "      <td>«È cosa ormai risaputa che a uno scapolo in po...</td>\n",
       "      <td>Modern Library Classics, USA / CAN</td>\n",
       "      <td>Paperback</td>\n",
       "      <td>9.78068E+12</td>\n",
       "      <td>279 pages</td>\n",
       "      <td>4.25</td>\n",
       "      <td>2453620</td>\n",
       "      <td>54322</td>\n",
       "      <td>Pride and Prejudice</td>\n",
       "      <td>Classics|Fiction|Romance</td>\n",
       "      <td>https://images.gr-assets.com/books/1320399351l...</td>\n",
       "    </tr>\n",
       "    <tr>\n",
       "      <th>4</th>\n",
       "      <td>Stephenie Meyer</td>\n",
       "      <td>About three things I was absolutely positive.F...</td>\n",
       "      <td>NaN</td>\n",
       "      <td>Paperback</td>\n",
       "      <td>9.78032E+12</td>\n",
       "      <td>498 pages</td>\n",
       "      <td>3.58</td>\n",
       "      <td>4281268</td>\n",
       "      <td>97991</td>\n",
       "      <td>Twilight</td>\n",
       "      <td>Young Adult|Fantasy|Romance|Paranormal|Vampire...</td>\n",
       "      <td>https://images.gr-assets.com/books/1361039443l...</td>\n",
       "    </tr>\n",
       "  </tbody>\n",
       "</table>\n",
       "</div>"
      ],
      "text/plain": [
       "                                        book_authors  \\\n",
       "0                                    Suzanne Collins   \n",
       "1                         J.K. Rowling|Mary GrandPré   \n",
       "2                                         Harper Lee   \n",
       "3  Jane Austen|Anna Quindlen|Mrs. Oliphant|George...   \n",
       "4                                    Stephenie Meyer   \n",
       "\n",
       "                                           book_desc  \\\n",
       "0  Winning will make you famous. Losing means cer...   \n",
       "1  There is a door at the end of a silent corrido...   \n",
       "2  The unforgettable novel of a childhood in a sl...   \n",
       "3  «È cosa ormai risaputa che a uno scapolo in po...   \n",
       "4  About three things I was absolutely positive.F...   \n",
       "\n",
       "                         book_edition book_format    book_isbn book_pages  \\\n",
       "0                                 NaN   Hardcover  9.78044E+12  374 pages   \n",
       "1                          US Edition   Paperback  9.78044E+12  870 pages   \n",
       "2                    50th Anniversary   Paperback  9.78006E+12  324 pages   \n",
       "3  Modern Library Classics, USA / CAN   Paperback  9.78068E+12  279 pages   \n",
       "4                                 NaN   Paperback  9.78032E+12  498 pages   \n",
       "\n",
       "   book_rating  book_rating_count  book_review_count  \\\n",
       "0         4.33            5519135             160706   \n",
       "1         4.48            2041594              33264   \n",
       "2         4.27            3745197              79450   \n",
       "3         4.25            2453620              54322   \n",
       "4         3.58            4281268              97991   \n",
       "\n",
       "                                  book_title  \\\n",
       "0                           The Hunger Games   \n",
       "1  Harry Potter and the Order of the Phoenix   \n",
       "2                      To Kill a Mockingbird   \n",
       "3                        Pride and Prejudice   \n",
       "4                                   Twilight   \n",
       "\n",
       "                                              genres  \\\n",
       "0  Young Adult|Fiction|Science Fiction|Dystopia|F...   \n",
       "1                        Fantasy|Young Adult|Fiction   \n",
       "2  Classics|Fiction|Historical|Historical Fiction...   \n",
       "3                           Classics|Fiction|Romance   \n",
       "4  Young Adult|Fantasy|Romance|Paranormal|Vampire...   \n",
       "\n",
       "                                           image_url  \n",
       "0  https://images.gr-assets.com/books/1447303603l...  \n",
       "1  https://images.gr-assets.com/books/1255614970l...  \n",
       "2  https://images.gr-assets.com/books/1361975680l...  \n",
       "3  https://images.gr-assets.com/books/1320399351l...  \n",
       "4  https://images.gr-assets.com/books/1361039443l...  "
      ]
     },
<<<<<<< HEAD
     "execution_count": 129,
=======
     "execution_count": 10,
>>>>>>> 9bd7f88ebfedd5a89df5986dcd77b1da36ab594d
     "metadata": {},
     "output_type": "execute_result"
    }
   ],
   "source": [
    "# Base de dados original\n",
    "csv = pd.read_csv('book_data.csv')\n",
    "csv.head()"
   ]
  },
  {
   "cell_type": "code",
<<<<<<< HEAD
   "execution_count": 130,
=======
   "execution_count": 11,
>>>>>>> 9bd7f88ebfedd5a89df5986dcd77b1da36ab594d
   "metadata": {},
   "outputs": [
    {
     "data": {
      "text/html": [
       "<div>\n",
       "<style scoped>\n",
       "    .dataframe tbody tr th:only-of-type {\n",
       "        vertical-align: middle;\n",
       "    }\n",
       "\n",
       "    .dataframe tbody tr th {\n",
       "        vertical-align: top;\n",
       "    }\n",
       "\n",
       "    .dataframe thead th {\n",
       "        text-align: right;\n",
       "    }\n",
       "</style>\n",
       "<table border=\"1\" class=\"dataframe\">\n",
       "  <thead>\n",
       "    <tr style=\"text-align: right;\">\n",
       "      <th></th>\n",
       "      <th>book_authors</th>\n",
       "      <th>book_desc</th>\n",
       "      <th>book_edition</th>\n",
       "      <th>book_format</th>\n",
       "      <th>book_isbn</th>\n",
       "      <th>book_pages</th>\n",
       "      <th>book_rating</th>\n",
       "      <th>book_rating_count</th>\n",
       "      <th>book_review_count</th>\n",
       "      <th>book_title</th>\n",
       "      <th>genres</th>\n",
       "      <th>image_url</th>\n",
       "    </tr>\n",
       "  </thead>\n",
       "  <tbody>\n",
       "    <tr>\n",
       "      <th>1</th>\n",
       "      <td>J.K. Rowling|Mary GrandPré</td>\n",
       "      <td>There is a door at the end of a silent corrido...</td>\n",
       "      <td>US Edition</td>\n",
       "      <td>Paperback</td>\n",
       "      <td>9.78044E+12</td>\n",
       "      <td>870 pages</td>\n",
       "      <td>4.48</td>\n",
       "      <td>2041594</td>\n",
       "      <td>33264</td>\n",
       "      <td>Harry Potter and the Order of the Phoenix</td>\n",
       "      <td>Fantasy|Young Adult|Fiction</td>\n",
       "      <td>https://images.gr-assets.com/books/1255614970l...</td>\n",
       "    </tr>\n",
       "    <tr>\n",
       "      <th>2</th>\n",
       "      <td>Harper Lee</td>\n",
       "      <td>The unforgettable novel of a childhood in a sl...</td>\n",
       "      <td>50th Anniversary</td>\n",
       "      <td>Paperback</td>\n",
       "      <td>9.78006E+12</td>\n",
       "      <td>324 pages</td>\n",
       "      <td>4.27</td>\n",
       "      <td>3745197</td>\n",
       "      <td>79450</td>\n",
       "      <td>To Kill a Mockingbird</td>\n",
       "      <td>Classics|Fiction|Historical|Historical Fiction...</td>\n",
       "      <td>https://images.gr-assets.com/books/1361975680l...</td>\n",
       "    </tr>\n",
       "    <tr>\n",
       "      <th>3</th>\n",
       "      <td>Jane Austen|Anna Quindlen|Mrs. Oliphant|George...</td>\n",
       "      <td>«È cosa ormai risaputa che a uno scapolo in po...</td>\n",
       "      <td>Modern Library Classics, USA / CAN</td>\n",
       "      <td>Paperback</td>\n",
       "      <td>9.78068E+12</td>\n",
       "      <td>279 pages</td>\n",
       "      <td>4.25</td>\n",
       "      <td>2453620</td>\n",
       "      <td>54322</td>\n",
       "      <td>Pride and Prejudice</td>\n",
       "      <td>Classics|Fiction|Romance</td>\n",
       "      <td>https://images.gr-assets.com/books/1320399351l...</td>\n",
       "    </tr>\n",
       "    <tr>\n",
       "      <th>5</th>\n",
       "      <td>Markus Zusak</td>\n",
       "      <td>Trying to make sense of the horrors of World W...</td>\n",
       "      <td>First American Edition (US / CAN)</td>\n",
       "      <td>Hardcover</td>\n",
       "      <td>9.78038E+12</td>\n",
       "      <td>552 pages</td>\n",
       "      <td>4.36</td>\n",
       "      <td>1485632</td>\n",
       "      <td>100821</td>\n",
       "      <td>The Book Thief</td>\n",
       "      <td>Historical|Historical Fiction|Fiction|Young Adult</td>\n",
       "      <td>https://images.gr-assets.com/books/1522157426l...</td>\n",
       "    </tr>\n",
       "    <tr>\n",
       "      <th>6</th>\n",
       "      <td>C.S. Lewis|Pauline Baynes</td>\n",
       "      <td>Journeys to the end of the world, fantastic cr...</td>\n",
       "      <td>Reissue Edition</td>\n",
       "      <td>Paperback</td>\n",
       "      <td>9.78007E+12</td>\n",
       "      <td>767 pages</td>\n",
       "      <td>4.25</td>\n",
       "      <td>437829</td>\n",
       "      <td>9439</td>\n",
       "      <td>The Chronicles of Narnia</td>\n",
       "      <td>Fantasy|Classics|Fiction|Young Adult|Childrens</td>\n",
       "      <td>https://images.gr-assets.com/books/1449868701l...</td>\n",
       "    </tr>\n",
       "  </tbody>\n",
       "</table>\n",
       "</div>"
      ],
      "text/plain": [
       "                                        book_authors  \\\n",
       "1                         J.K. Rowling|Mary GrandPré   \n",
       "2                                         Harper Lee   \n",
       "3  Jane Austen|Anna Quindlen|Mrs. Oliphant|George...   \n",
       "5                                       Markus Zusak   \n",
       "6                          C.S. Lewis|Pauline Baynes   \n",
       "\n",
       "                                           book_desc  \\\n",
       "1  There is a door at the end of a silent corrido...   \n",
       "2  The unforgettable novel of a childhood in a sl...   \n",
       "3  «È cosa ormai risaputa che a uno scapolo in po...   \n",
       "5  Trying to make sense of the horrors of World W...   \n",
       "6  Journeys to the end of the world, fantastic cr...   \n",
       "\n",
       "                         book_edition book_format    book_isbn book_pages  \\\n",
       "1                          US Edition   Paperback  9.78044E+12  870 pages   \n",
       "2                    50th Anniversary   Paperback  9.78006E+12  324 pages   \n",
       "3  Modern Library Classics, USA / CAN   Paperback  9.78068E+12  279 pages   \n",
       "5   First American Edition (US / CAN)   Hardcover  9.78038E+12  552 pages   \n",
       "6                     Reissue Edition   Paperback  9.78007E+12  767 pages   \n",
       "\n",
       "   book_rating  book_rating_count  book_review_count  \\\n",
       "1         4.48            2041594              33264   \n",
       "2         4.27            3745197              79450   \n",
       "3         4.25            2453620              54322   \n",
       "5         4.36            1485632             100821   \n",
       "6         4.25             437829               9439   \n",
       "\n",
       "                                  book_title  \\\n",
       "1  Harry Potter and the Order of the Phoenix   \n",
       "2                      To Kill a Mockingbird   \n",
       "3                        Pride and Prejudice   \n",
       "5                             The Book Thief   \n",
       "6                   The Chronicles of Narnia   \n",
       "\n",
       "                                              genres  \\\n",
       "1                        Fantasy|Young Adult|Fiction   \n",
       "2  Classics|Fiction|Historical|Historical Fiction...   \n",
       "3                           Classics|Fiction|Romance   \n",
       "5  Historical|Historical Fiction|Fiction|Young Adult   \n",
       "6     Fantasy|Classics|Fiction|Young Adult|Childrens   \n",
       "\n",
       "                                           image_url  \n",
       "1  https://images.gr-assets.com/books/1255614970l...  \n",
       "2  https://images.gr-assets.com/books/1361975680l...  \n",
       "3  https://images.gr-assets.com/books/1320399351l...  \n",
       "5  https://images.gr-assets.com/books/1522157426l...  \n",
       "6  https://images.gr-assets.com/books/1449868701l...  "
      ]
     },
<<<<<<< HEAD
     "execution_count": 130,
=======
     "execution_count": 11,
>>>>>>> 9bd7f88ebfedd5a89df5986dcd77b1da36ab594d
     "metadata": {},
     "output_type": "execute_result"
    }
   ],
   "source": [
    "# Retirando os livros com informações faltando\n",
    "csv1=csv.dropna()\n",
    "csv1.head()"
   ]
  },
  {
   "cell_type": "code",
<<<<<<< HEAD
   "execution_count": 131,
   "metadata": {
    "scrolled": true
   },
=======
   "execution_count": 12,
   "metadata": {},
>>>>>>> 9bd7f88ebfedd5a89df5986dcd77b1da36ab594d
   "outputs": [
    {
     "name": "stdout",
     "output_type": "stream",
     "text": [
      "['Fantasy|Young Adult|Fiction', 'Classics|Fiction|Historical|Historical Fiction|Academic|School', 'Classics|Fiction|Romance', 'Historical|Historical Fiction|Fiction|Young Adult', 'Fantasy|Classics|Fiction|Young Adult|Childrens', 'Fantasy|Fiction|Classics', 'Classics|Fiction|Romance|Literature', 'Fiction|Historical|Historical Fiction|Romance|Historical', 'Fiction|Classics|Horror|Fantasy|Literature|Gothic|Novels|Literature|19th Century|Classics|Classic Literature|European Literature|British Literature', 'Classics|Fiction|Romance|Historical|Historical Fiction|Literature|Gothic|Historical|Literature|19th Century|Classics|Classic Literature|Academic|School']\n",
      "[870, 324, 279, 552, 767, 1728, 464, 434, 367, 507]\n",
      "['J', 'H', 'J', 'M', 'C', 'J', 'E', 'A', 'O', 'C']\n",
<<<<<<< HEAD
      "['Fantasy', 'Classics', 'Classics', 'Historical', 'Fantasy', 'Fantasy', 'Classics', 'Fiction', 'Fiction', 'Classics']\n"
=======
      "['Fantasy', 'Fantasy', 'Fiction', 'Classics', 'Science Fiction', 'Classics', 'Classics', 'Classics', 'Novels', 'Fantasy']\n"
>>>>>>> 9bd7f88ebfedd5a89df5986dcd77b1da36ab594d
     ]
    }
   ],
   "source": [
    "ar = csv1['genres'].tolist()\n",
    "ar1 = []\n",
    "iniciais = []\n",
    "paginas = []\n",
    "\n",
    "print(ar[0:10])\n",
    "# Escolhendo como gênero literário apenas o primeiro listado.\n",
    "for i in ar:\n",
    "    if i == \"\":\n",
    "        ar1.append('')\n",
    "    else:\n",
    "        a = i.split('|')\n",
    "        ar1.append(a[0])\n",
    "        \n",
    "# Selecionando apenas a inicial dos nomes dos autores\n",
    "for i in csv1['book_authors']:\n",
    "    iniciais.append(i[0])\n",
    "\n",
    "# Apenas o número de páginas aparecerá, sem a palavra \"pages\"\n",
    "for i in csv1['book_pages']:\n",
    "    numero = i.split(' ')\n",
    "    paginas.append(int(numero[0]))\n",
    "print(paginas[0:10])\n",
    "print(iniciais[0:10])\n",
    "print(ar1[0:10])"
   ]
  },
  {
   "cell_type": "code",
<<<<<<< HEAD
   "execution_count": 132,
   "metadata": {},
   "outputs": [],
=======
   "execution_count": 13,
   "metadata": {},
   "outputs": [
    {
     "data": {
      "text/plain": [
       "3535"
      ]
     },
     "execution_count": 13,
     "metadata": {},
     "output_type": "execute_result"
    }
   ],
>>>>>>> 9bd7f88ebfedd5a89df5986dcd77b1da36ab594d
   "source": [
    "# Criando colunas no DataFrame para as iniciais dos autores, os números de páginas e o principal gênero do livro\n",
    "ar1= pd.DataFrame({'genero':ar1},index=csv1.index)\n",
    "iniciais_ = pd.DataFrame({'iniciais':iniciais}, index = csv1.index)\n",
    "paginas_ = pd.DataFrame({'paginas':paginas}, index = csv1.index)"
   ]
  },
  {
   "cell_type": "code",
<<<<<<< HEAD
   "execution_count": 133,
=======
   "execution_count": 14,
>>>>>>> 9bd7f88ebfedd5a89df5986dcd77b1da36ab594d
   "metadata": {},
   "outputs": [],
   "source": [
    "csv1 = csv1.join(ar1,how='left')\n",
    "csv1 = csv1.join(iniciais_,how='inner')\n",
    "csv1 = csv1.join(paginas_,how='inner')\n"
   ]
  },
  {
   "cell_type": "code",
<<<<<<< HEAD
   "execution_count": 134,
=======
   "execution_count": 15,
>>>>>>> 9bd7f88ebfedd5a89df5986dcd77b1da36ab594d
   "metadata": {},
   "outputs": [
    {
     "data": {
      "text/html": [
       "<div>\n",
       "<style scoped>\n",
       "    .dataframe tbody tr th:only-of-type {\n",
       "        vertical-align: middle;\n",
       "    }\n",
       "\n",
       "    .dataframe tbody tr th {\n",
       "        vertical-align: top;\n",
       "    }\n",
       "\n",
       "    .dataframe thead th {\n",
       "        text-align: right;\n",
       "    }\n",
       "</style>\n",
       "<table border=\"1\" class=\"dataframe\">\n",
       "  <thead>\n",
       "    <tr style=\"text-align: right;\">\n",
       "      <th></th>\n",
       "      <th>book_authors</th>\n",
       "      <th>book_desc</th>\n",
       "      <th>book_edition</th>\n",
       "      <th>book_format</th>\n",
       "      <th>book_isbn</th>\n",
       "      <th>book_pages</th>\n",
       "      <th>book_rating</th>\n",
       "      <th>book_rating_count</th>\n",
       "      <th>book_review_count</th>\n",
       "      <th>book_title</th>\n",
       "      <th>genres</th>\n",
       "      <th>image_url</th>\n",
       "      <th>genero</th>\n",
       "      <th>iniciais</th>\n",
       "      <th>paginas</th>\n",
       "    </tr>\n",
       "  </thead>\n",
       "  <tbody>\n",
       "    <tr>\n",
       "      <th>1</th>\n",
       "      <td>J.K. Rowling|Mary GrandPré</td>\n",
       "      <td>There is a door at the end of a silent corrido...</td>\n",
       "      <td>US Edition</td>\n",
       "      <td>Paperback</td>\n",
       "      <td>9.78044E+12</td>\n",
       "      <td>870 pages</td>\n",
       "      <td>4.48</td>\n",
       "      <td>2041594</td>\n",
       "      <td>33264</td>\n",
       "      <td>Harry Potter and the Order of the Phoenix</td>\n",
       "      <td>Fantasy|Young Adult|Fiction</td>\n",
       "      <td>https://images.gr-assets.com/books/1255614970l...</td>\n",
       "      <td>Fantasy</td>\n",
       "      <td>J</td>\n",
       "      <td>870</td>\n",
       "    </tr>\n",
       "    <tr>\n",
       "      <th>2</th>\n",
       "      <td>Harper Lee</td>\n",
       "      <td>The unforgettable novel of a childhood in a sl...</td>\n",
       "      <td>50th Anniversary</td>\n",
       "      <td>Paperback</td>\n",
       "      <td>9.78006E+12</td>\n",
       "      <td>324 pages</td>\n",
       "      <td>4.27</td>\n",
       "      <td>3745197</td>\n",
       "      <td>79450</td>\n",
       "      <td>To Kill a Mockingbird</td>\n",
       "      <td>Classics|Fiction|Historical|Historical Fiction...</td>\n",
       "      <td>https://images.gr-assets.com/books/1361975680l...</td>\n",
       "      <td>Classics</td>\n",
       "      <td>H</td>\n",
       "      <td>324</td>\n",
       "    </tr>\n",
       "    <tr>\n",
       "      <th>3</th>\n",
       "      <td>Jane Austen|Anna Quindlen|Mrs. Oliphant|George...</td>\n",
       "      <td>«È cosa ormai risaputa che a uno scapolo in po...</td>\n",
       "      <td>Modern Library Classics, USA / CAN</td>\n",
       "      <td>Paperback</td>\n",
       "      <td>9.78068E+12</td>\n",
       "      <td>279 pages</td>\n",
       "      <td>4.25</td>\n",
       "      <td>2453620</td>\n",
       "      <td>54322</td>\n",
       "      <td>Pride and Prejudice</td>\n",
       "      <td>Classics|Fiction|Romance</td>\n",
       "      <td>https://images.gr-assets.com/books/1320399351l...</td>\n",
       "      <td>Classics</td>\n",
       "      <td>J</td>\n",
       "      <td>279</td>\n",
       "    </tr>\n",
       "    <tr>\n",
       "      <th>5</th>\n",
       "      <td>Markus Zusak</td>\n",
       "      <td>Trying to make sense of the horrors of World W...</td>\n",
       "      <td>First American Edition (US / CAN)</td>\n",
       "      <td>Hardcover</td>\n",
       "      <td>9.78038E+12</td>\n",
       "      <td>552 pages</td>\n",
       "      <td>4.36</td>\n",
       "      <td>1485632</td>\n",
       "      <td>100821</td>\n",
       "      <td>The Book Thief</td>\n",
       "      <td>Historical|Historical Fiction|Fiction|Young Adult</td>\n",
       "      <td>https://images.gr-assets.com/books/1522157426l...</td>\n",
       "      <td>Historical</td>\n",
       "      <td>M</td>\n",
       "      <td>552</td>\n",
       "    </tr>\n",
       "    <tr>\n",
       "      <th>6</th>\n",
       "      <td>C.S. Lewis|Pauline Baynes</td>\n",
       "      <td>Journeys to the end of the world, fantastic cr...</td>\n",
       "      <td>Reissue Edition</td>\n",
       "      <td>Paperback</td>\n",
       "      <td>9.78007E+12</td>\n",
       "      <td>767 pages</td>\n",
       "      <td>4.25</td>\n",
       "      <td>437829</td>\n",
       "      <td>9439</td>\n",
       "      <td>The Chronicles of Narnia</td>\n",
       "      <td>Fantasy|Classics|Fiction|Young Adult|Childrens</td>\n",
       "      <td>https://images.gr-assets.com/books/1449868701l...</td>\n",
       "      <td>Fantasy</td>\n",
       "      <td>C</td>\n",
       "      <td>767</td>\n",
       "    </tr>\n",
       "    <tr>\n",
       "      <th>9</th>\n",
       "      <td>J.R.R. Tolkien</td>\n",
       "      <td>لجزء الثالث من ملحمة جيه أر أر تولكين الرائعة ...</td>\n",
       "      <td>Hobbit Movie Tie-in Boxed set</td>\n",
       "      <td>Mass Market Paperback</td>\n",
       "      <td>9.78035E+12</td>\n",
       "      <td>1728 pages</td>\n",
       "      <td>4.59</td>\n",
       "      <td>99793</td>\n",
       "      <td>1652</td>\n",
       "      <td>J.R.R. Tolkien 4-Book Boxed Set: The Hobbit an...</td>\n",
       "      <td>Fantasy|Fiction|Classics</td>\n",
       "      <td>https://images.gr-assets.com/books/1346072396l...</td>\n",
       "      <td>Fantasy</td>\n",
       "      <td>J</td>\n",
       "      <td>1728</td>\n",
       "    </tr>\n",
       "    <tr>\n",
       "      <th>13</th>\n",
       "      <td>Emily Brontë|Richard J. Dunn|David Timson|Char...</td>\n",
       "      <td>You can find the redesigned cover of this edit...</td>\n",
       "      <td>Fourth Edition</td>\n",
       "      <td>Paperback</td>\n",
       "      <td>9.78039E+12</td>\n",
       "      <td>464 pages</td>\n",
       "      <td>3.84</td>\n",
       "      <td>1121100</td>\n",
       "      <td>29400</td>\n",
       "      <td>Wuthering Heights</td>\n",
       "      <td>Classics|Fiction|Romance|Literature</td>\n",
       "      <td>https://images.gr-assets.com/books/1388212715l...</td>\n",
       "      <td>Classics</td>\n",
       "      <td>E</td>\n",
       "      <td>464</td>\n",
       "    </tr>\n",
       "    <tr>\n",
       "      <th>15</th>\n",
       "      <td>Arthur Golden</td>\n",
       "      <td>A literary sensation and runaway bestseller, t...</td>\n",
       "      <td>Large Print</td>\n",
       "      <td>Hardcover</td>\n",
       "      <td>9.78074E+12</td>\n",
       "      <td>434 pages</td>\n",
       "      <td>4.09</td>\n",
       "      <td>1525851</td>\n",
       "      <td>27168</td>\n",
       "      <td>Memoirs of a Geisha</td>\n",
       "      <td>Fiction|Historical|Historical Fiction|Romance|...</td>\n",
       "      <td>https://images.gr-assets.com/books/1388367666l...</td>\n",
       "      <td>Fiction</td>\n",
       "      <td>A</td>\n",
       "      <td>434</td>\n",
       "    </tr>\n",
       "    <tr>\n",
       "      <th>17</th>\n",
       "      <td>Oscar Wilde|Jeffrey Eugenides</td>\n",
       "      <td>﻿Written in his distinctively dazzling manner,...</td>\n",
       "      <td>Modern Library Classics</td>\n",
       "      <td>Paperback</td>\n",
       "      <td>9.78038E+12</td>\n",
       "      <td>367 pages</td>\n",
       "      <td>4.06</td>\n",
       "      <td>775701</td>\n",
       "      <td>22938</td>\n",
       "      <td>The Picture of Dorian Gray</td>\n",
       "      <td>Fiction|Classics|Horror|Fantasy|Literature|Got...</td>\n",
       "      <td>https://images.gr-assets.com/books/1424596966l...</td>\n",
       "      <td>Fiction</td>\n",
       "      <td>O</td>\n",
       "      <td>367</td>\n",
       "    </tr>\n",
       "    <tr>\n",
       "      <th>20</th>\n",
       "      <td>Charlotte Brontë|Michael Mason</td>\n",
       "      <td>Fiery love, shocking twists of fate, and tragi...</td>\n",
       "      <td>Penguin Classics</td>\n",
       "      <td>Paperback</td>\n",
       "      <td>9.78014E+12</td>\n",
       "      <td>507 pages</td>\n",
       "      <td>4.11</td>\n",
       "      <td>1381404</td>\n",
       "      <td>34670</td>\n",
       "      <td>Jane Eyre</td>\n",
       "      <td>Classics|Fiction|Romance|Historical|Historical...</td>\n",
       "      <td>https://images.gr-assets.com/books/1327867269l...</td>\n",
       "      <td>Classics</td>\n",
       "      <td>C</td>\n",
       "      <td>507</td>\n",
       "    </tr>\n",
       "  </tbody>\n",
       "</table>\n",
       "</div>"
      ],
      "text/plain": [
       "                                         book_authors  \\\n",
       "1                          J.K. Rowling|Mary GrandPré   \n",
       "2                                          Harper Lee   \n",
       "3   Jane Austen|Anna Quindlen|Mrs. Oliphant|George...   \n",
       "5                                        Markus Zusak   \n",
       "6                           C.S. Lewis|Pauline Baynes   \n",
       "9                                      J.R.R. Tolkien   \n",
       "13  Emily Brontë|Richard J. Dunn|David Timson|Char...   \n",
       "15                                      Arthur Golden   \n",
       "17                      Oscar Wilde|Jeffrey Eugenides   \n",
       "20                     Charlotte Brontë|Michael Mason   \n",
       "\n",
       "                                            book_desc  \\\n",
       "1   There is a door at the end of a silent corrido...   \n",
       "2   The unforgettable novel of a childhood in a sl...   \n",
       "3   «È cosa ormai risaputa che a uno scapolo in po...   \n",
       "5   Trying to make sense of the horrors of World W...   \n",
       "6   Journeys to the end of the world, fantastic cr...   \n",
       "9   لجزء الثالث من ملحمة جيه أر أر تولكين الرائعة ...   \n",
       "13  You can find the redesigned cover of this edit...   \n",
       "15  A literary sensation and runaway bestseller, t...   \n",
       "17  ﻿Written in his distinctively dazzling manner,...   \n",
       "20  Fiery love, shocking twists of fate, and tragi...   \n",
       "\n",
       "                          book_edition            book_format    book_isbn  \\\n",
       "1                           US Edition              Paperback  9.78044E+12   \n",
       "2                     50th Anniversary              Paperback  9.78006E+12   \n",
       "3   Modern Library Classics, USA / CAN              Paperback  9.78068E+12   \n",
       "5    First American Edition (US / CAN)              Hardcover  9.78038E+12   \n",
       "6                      Reissue Edition              Paperback  9.78007E+12   \n",
       "9        Hobbit Movie Tie-in Boxed set  Mass Market Paperback  9.78035E+12   \n",
       "13                      Fourth Edition              Paperback  9.78039E+12   \n",
       "15                         Large Print              Hardcover  9.78074E+12   \n",
       "17             Modern Library Classics              Paperback  9.78038E+12   \n",
       "20                    Penguin Classics              Paperback  9.78014E+12   \n",
       "\n",
       "    book_pages  book_rating  book_rating_count  book_review_count  \\\n",
       "1    870 pages         4.48            2041594              33264   \n",
       "2    324 pages         4.27            3745197              79450   \n",
       "3    279 pages         4.25            2453620              54322   \n",
       "5    552 pages         4.36            1485632             100821   \n",
       "6    767 pages         4.25             437829               9439   \n",
       "9   1728 pages         4.59              99793               1652   \n",
       "13   464 pages         3.84            1121100              29400   \n",
       "15   434 pages         4.09            1525851              27168   \n",
       "17   367 pages         4.06             775701              22938   \n",
       "20   507 pages         4.11            1381404              34670   \n",
       "\n",
       "                                           book_title  \\\n",
       "1           Harry Potter and the Order of the Phoenix   \n",
       "2                               To Kill a Mockingbird   \n",
       "3                                 Pride and Prejudice   \n",
       "5                                      The Book Thief   \n",
       "6                            The Chronicles of Narnia   \n",
       "9   J.R.R. Tolkien 4-Book Boxed Set: The Hobbit an...   \n",
       "13                                  Wuthering Heights   \n",
       "15                                Memoirs of a Geisha   \n",
       "17                         The Picture of Dorian Gray   \n",
       "20                                          Jane Eyre   \n",
       "\n",
       "                                               genres  \\\n",
       "1                         Fantasy|Young Adult|Fiction   \n",
       "2   Classics|Fiction|Historical|Historical Fiction...   \n",
       "3                            Classics|Fiction|Romance   \n",
       "5   Historical|Historical Fiction|Fiction|Young Adult   \n",
       "6      Fantasy|Classics|Fiction|Young Adult|Childrens   \n",
       "9                            Fantasy|Fiction|Classics   \n",
       "13                Classics|Fiction|Romance|Literature   \n",
       "15  Fiction|Historical|Historical Fiction|Romance|...   \n",
       "17  Fiction|Classics|Horror|Fantasy|Literature|Got...   \n",
       "20  Classics|Fiction|Romance|Historical|Historical...   \n",
       "\n",
       "                                            image_url      genero iniciais  \\\n",
       "1   https://images.gr-assets.com/books/1255614970l...     Fantasy        J   \n",
       "2   https://images.gr-assets.com/books/1361975680l...    Classics        H   \n",
       "3   https://images.gr-assets.com/books/1320399351l...    Classics        J   \n",
       "5   https://images.gr-assets.com/books/1522157426l...  Historical        M   \n",
       "6   https://images.gr-assets.com/books/1449868701l...     Fantasy        C   \n",
       "9   https://images.gr-assets.com/books/1346072396l...     Fantasy        J   \n",
       "13  https://images.gr-assets.com/books/1388212715l...    Classics        E   \n",
       "15  https://images.gr-assets.com/books/1388367666l...     Fiction        A   \n",
       "17  https://images.gr-assets.com/books/1424596966l...     Fiction        O   \n",
       "20  https://images.gr-assets.com/books/1327867269l...    Classics        C   \n",
       "\n",
       "    paginas  \n",
       "1       870  \n",
       "2       324  \n",
       "3       279  \n",
       "5       552  \n",
       "6       767  \n",
       "9      1728  \n",
       "13      464  \n",
       "15      434  \n",
       "17      367  \n",
       "20      507  "
      ]
     },
<<<<<<< HEAD
     "execution_count": 134,
=======
     "execution_count": 15,
>>>>>>> 9bd7f88ebfedd5a89df5986dcd77b1da36ab594d
     "metadata": {},
     "output_type": "execute_result"
    }
   ],
   "source": [
    "csv1.head(10)"
   ]
  },
  {
   "cell_type": "code",
<<<<<<< HEAD
   "execution_count": 135,
=======
   "execution_count": 16,
>>>>>>> 9bd7f88ebfedd5a89df5986dcd77b1da36ab594d
   "metadata": {},
   "outputs": [],
   "source": [
    "# Retirando as colunas irrelevantes para a análise geral de avaliações\n",
    "csv1.drop(['book_isbn','book_authors','book_desc','book_edition','book_rating_count','book_review_count','genres','image_url','book_pages'],axis=1,inplace=True)"
   ]
  },
  {
   "cell_type": "code",
<<<<<<< HEAD
   "execution_count": 136,
=======
   "execution_count": 17,
>>>>>>> 9bd7f88ebfedd5a89df5986dcd77b1da36ab594d
   "metadata": {},
   "outputs": [
    {
     "data": {
      "text/html": [
       "<div>\n",
       "<style scoped>\n",
       "    .dataframe tbody tr th:only-of-type {\n",
       "        vertical-align: middle;\n",
       "    }\n",
       "\n",
       "    .dataframe tbody tr th {\n",
       "        vertical-align: top;\n",
       "    }\n",
       "\n",
       "    .dataframe thead th {\n",
       "        text-align: right;\n",
       "    }\n",
       "</style>\n",
       "<table border=\"1\" class=\"dataframe\">\n",
       "  <thead>\n",
       "    <tr style=\"text-align: right;\">\n",
       "      <th></th>\n",
       "      <th>book_format</th>\n",
       "      <th>book_rating</th>\n",
       "      <th>book_title</th>\n",
       "      <th>genero</th>\n",
       "      <th>iniciais</th>\n",
       "      <th>paginas</th>\n",
       "    </tr>\n",
       "  </thead>\n",
       "  <tbody>\n",
       "    <tr>\n",
       "      <th>1</th>\n",
       "      <td>Paperback</td>\n",
       "      <td>4.48</td>\n",
       "      <td>Harry Potter and the Order of the Phoenix</td>\n",
       "      <td>Fantasy</td>\n",
       "      <td>J</td>\n",
       "      <td>870</td>\n",
       "    </tr>\n",
       "    <tr>\n",
       "      <th>2</th>\n",
       "      <td>Paperback</td>\n",
       "      <td>4.27</td>\n",
       "      <td>To Kill a Mockingbird</td>\n",
       "      <td>Classics</td>\n",
       "      <td>H</td>\n",
       "      <td>324</td>\n",
       "    </tr>\n",
       "    <tr>\n",
       "      <th>3</th>\n",
       "      <td>Paperback</td>\n",
       "      <td>4.25</td>\n",
       "      <td>Pride and Prejudice</td>\n",
       "      <td>Classics</td>\n",
       "      <td>J</td>\n",
       "      <td>279</td>\n",
       "    </tr>\n",
       "    <tr>\n",
       "      <th>5</th>\n",
       "      <td>Hardcover</td>\n",
       "      <td>4.36</td>\n",
       "      <td>The Book Thief</td>\n",
       "      <td>Historical</td>\n",
       "      <td>M</td>\n",
       "      <td>552</td>\n",
       "    </tr>\n",
       "    <tr>\n",
       "      <th>6</th>\n",
       "      <td>Paperback</td>\n",
       "      <td>4.25</td>\n",
       "      <td>The Chronicles of Narnia</td>\n",
       "      <td>Fantasy</td>\n",
       "      <td>C</td>\n",
       "      <td>767</td>\n",
       "    </tr>\n",
       "  </tbody>\n",
       "</table>\n",
       "</div>"
      ],
      "text/plain": [
       "  book_format  book_rating                                 book_title  \\\n",
       "1   Paperback         4.48  Harry Potter and the Order of the Phoenix   \n",
       "2   Paperback         4.27                      To Kill a Mockingbird   \n",
       "3   Paperback         4.25                        Pride and Prejudice   \n",
       "5   Hardcover         4.36                             The Book Thief   \n",
       "6   Paperback         4.25                   The Chronicles of Narnia   \n",
       "\n",
       "       genero iniciais  paginas  \n",
       "1     Fantasy        J      870  \n",
       "2    Classics        H      324  \n",
       "3    Classics        J      279  \n",
       "5  Historical        M      552  \n",
       "6     Fantasy        C      767  "
      ]
     },
<<<<<<< HEAD
     "execution_count": 136,
=======
     "execution_count": 17,
>>>>>>> 9bd7f88ebfedd5a89df5986dcd77b1da36ab594d
     "metadata": {},
     "output_type": "execute_result"
    }
   ],
   "source": [
    "csv1.head()"
   ]
  },
  {
   "cell_type": "code",
<<<<<<< HEAD
   "execution_count": 138,
   "metadata": {},
   "outputs": [],
=======
   "execution_count": 18,
   "metadata": {},
   "outputs": [
    {
     "data": {
      "text/plain": [
       "Fantasy                69\n",
       "Fiction                64\n",
       "Classics               45\n",
       "Romance                31\n",
       "Young Adult            28\n",
       "Mystery                22\n",
       "Nonfiction             21\n",
       "Sequential Art         16\n",
       "Science Fiction        13\n",
       "Horror                 13\n",
       "History                11\n",
       "Historical             11\n",
       "Philosophy             10\n",
       "Childrens               9\n",
       "Paranormal              6\n",
       "Science                 6\n",
       "Poetry                  6\n",
       "Short Stories           4\n",
       "Psychology              4\n",
       "Humor                   4\n",
       "European Literature     4\n",
       "Media Tie In            3\n",
       "Biography               3\n",
       "Christian               3\n",
       "Plays                   2\n",
       "Religion                2\n",
       "Christian Fiction       2\n",
       "Business                2\n",
       "Novels                  2\n",
       "Education               2\n",
       "New Adult               2\n",
       "Health                  2\n",
       "Cultural                2\n",
       "Feminism                2\n",
       "Lgbt                    2\n",
       "Christianity            2\n",
       "Urban                   1\n",
       "Magical Realism         1\n",
       "Literature              1\n",
       "Love                    1\n",
       "Art                     1\n",
       "Self Help               1\n",
       "Thriller                1\n",
       "Contemporary            1\n",
       "Sports and Games        1\n",
       "Erotica                 1\n",
       "Language                1\n",
       "Roman                   1\n",
       "Glbt                    1\n",
       "Autobiography           1\n",
       "Law                     1\n",
       "Asian Literature        1\n",
       "Economics               1\n",
       "Book Club               1\n",
       "Adult Fiction           1\n",
       "Name: genero, dtype: int64"
      ]
     },
     "execution_count": 18,
     "metadata": {},
     "output_type": "execute_result"
    }
   ],
   "source": [
    "csv['genero'].value_counts()"
   ]
  },
  {
   "cell_type": "code",
   "execution_count": 19,
   "metadata": {
    "scrolled": true
   },
   "outputs": [
    {
     "data": {
      "text/plain": [
       "(449, 6)"
      ]
     },
     "execution_count": 19,
     "metadata": {},
     "output_type": "execute_result"
    }
   ],
>>>>>>> 9bd7f88ebfedd5a89df5986dcd77b1da36ab594d
   "source": [
    "# Separando as variáveis em quantitativas, qualitativas e a desejada\n",
    "y = csv1['book_rating'].values\n",
    "num = csv1[['paginas']]\n",
    "qual = csv1[['book_format','genero','iniciais']]"
   ]
  },
  {
   "cell_type": "code",
<<<<<<< HEAD
   "execution_count": null,
   "metadata": {},
   "outputs": [],
   "source": []
  },
  {
   "cell_type": "code",
=======
<<<<<<< HEAD
   "execution_count": 139,
=======
>>>>>>> 24dda479a5ba046c7a484d1d03e252fe06b1f1b7
   "execution_count": 20,
>>>>>>> 9bd7f88ebfedd5a89df5986dcd77b1da36ab594d
   "metadata": {},
   "outputs": [
    {
     "data": {
      "text/html": [
       "<div>\n",
       "<style scoped>\n",
       "    .dataframe tbody tr th:only-of-type {\n",
       "        vertical-align: middle;\n",
       "    }\n",
       "\n",
       "    .dataframe tbody tr th {\n",
       "        vertical-align: top;\n",
       "    }\n",
       "\n",
       "    .dataframe thead th {\n",
       "        text-align: right;\n",
       "    }\n",
       "</style>\n",
       "<table border=\"1\" class=\"dataframe\">\n",
       "  <thead>\n",
       "    <tr style=\"text-align: right;\">\n",
       "      <th></th>\n",
       "      <th>book_format</th>\n",
       "      <th>genero</th>\n",
       "      <th>iniciais</th>\n",
       "    </tr>\n",
       "  </thead>\n",
       "  <tbody>\n",
       "    <tr>\n",
       "      <th>1</th>\n",
       "      <td>Paperback</td>\n",
       "      <td>Fantasy</td>\n",
       "      <td>J</td>\n",
       "    </tr>\n",
       "    <tr>\n",
       "      <th>2</th>\n",
       "      <td>Paperback</td>\n",
       "      <td>Classics</td>\n",
       "      <td>H</td>\n",
       "    </tr>\n",
       "    <tr>\n",
       "      <th>3</th>\n",
       "      <td>Paperback</td>\n",
       "      <td>Classics</td>\n",
       "      <td>J</td>\n",
<<<<<<< HEAD
       "    </tr>\n",
       "    <tr>\n",
       "      <th>5</th>\n",
       "      <td>Hardcover</td>\n",
       "      <td>Historical</td>\n",
       "      <td>M</td>\n",
       "    </tr>\n",
       "    <tr>\n",
       "      <th>6</th>\n",
       "      <td>Paperback</td>\n",
       "      <td>Fantasy</td>\n",
       "      <td>C</td>\n",
=======
       "      <td>1728</td>\n",
       "    </tr>\n",
       "    <tr>\n",
       "      <th>6</th>\n",
       "      <td>Paperback</td>\n",
       "      <td>4.25</td>\n",
       "      <td>The Chronicles of Narnia</td>\n",
       "      <td>Classics</td>\n",
       "      <td>E</td>\n",
       "      <td>464</td>\n",
       "    </tr>\n",
       "    <tr>\n",
       "      <th>...</th>\n",
       "      <td>...</td>\n",
       "      <td>...</td>\n",
       "      <td>...</td>\n",
       "      <td>...</td>\n",
       "      <td>...</td>\n",
       "      <td>...</td>\n",
       "    </tr>\n",
       "    <tr>\n",
       "      <th>2656</th>\n",
       "      <td>Hardcover</td>\n",
       "      <td>3.97</td>\n",
       "      <td>Hades</td>\n",
       "      <td>Fantasy</td>\n",
       "      <td>A</td>\n",
       "      <td>398</td>\n",
       "    </tr>\n",
       "    <tr>\n",
       "      <th>2664</th>\n",
       "      <td>Paperback</td>\n",
       "      <td>4.22</td>\n",
       "      <td>Wings of Fire: An Autobiography</td>\n",
       "      <td>Fantasy</td>\n",
       "      <td>L</td>\n",
       "      <td>248</td>\n",
       "    </tr>\n",
       "    <tr>\n",
       "      <th>2666</th>\n",
       "      <td>Paperback</td>\n",
       "      <td>3.97</td>\n",
       "      <td>How Not to Murder Your Grumpy</td>\n",
       "      <td>Philosophy</td>\n",
       "      <td>I</td>\n",
       "      <td>1000</td>\n",
       "    </tr>\n",
       "    <tr>\n",
       "      <th>2683</th>\n",
       "      <td>Paperback</td>\n",
       "      <td>4.01</td>\n",
       "      <td>The Three Stigmata of Palmer Eldritch</td>\n",
       "      <td>Fiction</td>\n",
       "      <td>S</td>\n",
       "      <td>864</td>\n",
       "    </tr>\n",
       "    <tr>\n",
       "      <th>2684</th>\n",
       "      <td>Mass Market Paperback</td>\n",
       "      <td>3.93</td>\n",
       "      <td>Winter's Heart</td>\n",
       "      <td>Science</td>\n",
       "      <td>B</td>\n",
       "      <td>832</td>\n",
       "    </tr>\n",
       "  </tbody>\n",
       "</table>\n",
       "<p>444 rows × 6 columns</p>\n",
       "</div>"
      ],
      "text/plain": [
       "                book_format  book_rating  \\\n",
       "1                 Paperback         4.48   \n",
       "2                 Paperback         4.27   \n",
       "3                 Paperback         4.25   \n",
       "5                 Hardcover         4.36   \n",
       "6                 Paperback         4.25   \n",
       "...                     ...          ...   \n",
       "2656              Hardcover         3.97   \n",
       "2664              Paperback         4.22   \n",
       "2666              Paperback         3.97   \n",
       "2683              Paperback         4.01   \n",
       "2684  Mass Market Paperback         3.93   \n",
       "\n",
       "                                     book_title      genero iniciais  paginas  \n",
       "1     Harry Potter and the Order of the Phoenix     Fantasy        H      324  \n",
       "2                         To Kill a Mockingbird     Fiction        J      279  \n",
       "3                           Pride and Prejudice    Classics        M      552  \n",
       "5                                The Book Thief    Classics        J     1728  \n",
       "6                      The Chronicles of Narnia    Classics        E      464  \n",
       "...                                         ...         ...      ...      ...  \n",
       "2656                                      Hades     Fantasy        A      398  \n",
       "2664            Wings of Fire: An Autobiography     Fantasy        L      248  \n",
       "2666              How Not to Murder Your Grumpy  Philosophy        I     1000  \n",
       "2683      The Three Stigmata of Palmer Eldritch     Fiction        S      864  \n",
       "2684                             Winter's Heart     Science        B      832  \n",
       "\n",
       "[444 rows x 6 columns]"
      ]
     },
     "execution_count": 20,
     "metadata": {},
     "output_type": "execute_result"
    }
   ],
   "source": [
    "# Apenas os livros com 3.5 estrelas ou mais de avaliação no Goodreads\n",
    "csv.loc[(csv['book_rating']>= 3.5)]"
   ]
  },
  {
   "cell_type": "code",
   "execution_count": 21,
   "metadata": {},
   "outputs": [],
   "source": [
    "# Separando as variáveis em quantitativas, qualitativas e a desejada\n",
    "y = csv['book_rating'].values\n",
    "num = csv[['paginas']]\n",
    "qual = csv[['book_format','genero','iniciais']]"
   ]
  },
  {
   "cell_type": "code",
   "execution_count": 22,
   "metadata": {},
   "outputs": [
    {
     "data": {
      "text/html": [
       "<div>\n",
       "<style scoped>\n",
       "    .dataframe tbody tr th:only-of-type {\n",
       "        vertical-align: middle;\n",
       "    }\n",
       "\n",
       "    .dataframe tbody tr th {\n",
       "        vertical-align: top;\n",
       "    }\n",
       "\n",
       "    .dataframe thead th {\n",
       "        text-align: right;\n",
       "    }\n",
       "</style>\n",
       "<table border=\"1\" class=\"dataframe\">\n",
       "  <thead>\n",
       "    <tr style=\"text-align: right;\">\n",
       "      <th></th>\n",
       "      <th>book_format</th>\n",
       "      <th>genero</th>\n",
       "      <th>iniciais</th>\n",
       "    </tr>\n",
       "  </thead>\n",
       "  <tbody>\n",
       "    <tr>\n",
       "      <th>1</th>\n",
       "      <td>Paperback</td>\n",
       "      <td>Fantasy</td>\n",
       "      <td>H</td>\n",
       "    </tr>\n",
       "    <tr>\n",
       "      <th>2</th>\n",
       "      <td>Paperback</td>\n",
       "      <td>Fiction</td>\n",
       "      <td>J</td>\n",
       "    </tr>\n",
       "    <tr>\n",
       "      <th>3</th>\n",
       "      <td>Paperback</td>\n",
       "      <td>Classics</td>\n",
       "      <td>M</td>\n",
       "    </tr>\n",
       "    <tr>\n",
       "      <th>5</th>\n",
       "      <td>Hardcover</td>\n",
       "      <td>Classics</td>\n",
       "      <td>J</td>\n",
       "    </tr>\n",
       "    <tr>\n",
       "      <th>6</th>\n",
       "      <td>Paperback</td>\n",
       "      <td>Classics</td>\n",
       "      <td>E</td>\n",
>>>>>>> 9bd7f88ebfedd5a89df5986dcd77b1da36ab594d
       "    </tr>\n",
       "  </tbody>\n",
       "</table>\n",
       "</div>"
      ],
      "text/plain": [
       "  book_format      genero iniciais\n",
       "1   Paperback     Fantasy        J\n",
       "2   Paperback    Classics        H\n",
       "3   Paperback    Classics        J\n",
       "5   Hardcover  Historical        M\n",
       "6   Paperback     Fantasy        C"
      ]
     },
<<<<<<< HEAD
     "execution_count": 139,
=======
     "execution_count": 22,
>>>>>>> 9bd7f88ebfedd5a89df5986dcd77b1da36ab594d
     "metadata": {},
     "output_type": "execute_result"
    }
   ],
   "source": [
    "qual.head()"
   ]
  },
  {
   "cell_type": "code",
<<<<<<< HEAD
   "execution_count": 140,
=======
   "execution_count": 23,
>>>>>>> 9bd7f88ebfedd5a89df5986dcd77b1da36ab594d
   "metadata": {},
   "outputs": [],
   "source": [
    "encoder = OneHotEncoder()\n",
    "capa_encoded = encoder.fit_transform(qual)"
   ]
  },
  {
   "cell_type": "code",
<<<<<<< HEAD
   "execution_count": 141,
=======
   "execution_count": 24,
>>>>>>> 9bd7f88ebfedd5a89df5986dcd77b1da36ab594d
   "metadata": {},
   "outputs": [],
   "source": [
    "x_num = num.values"
   ]
  },
  {
   "cell_type": "code",
<<<<<<< HEAD
   "execution_count": 142,
=======
   "execution_count": 25,
>>>>>>> 9bd7f88ebfedd5a89df5986dcd77b1da36ab594d
   "metadata": {
    "scrolled": false
   },
   "outputs": [],
   "source": [
    "#Transformar em array facilita a exploração dos dados\n",
    "x_encoded = capa_encoded.toarray()"
   ]
  },
  {
   "cell_type": "code",
<<<<<<< HEAD
   "execution_count": 143,
=======
   "execution_count": 26,
>>>>>>> 9bd7f88ebfedd5a89df5986dcd77b1da36ab594d
   "metadata": {},
   "outputs": [],
   "source": [
    "#Juntando a lista binária e as páginas\n",
    "X = np.concatenate((x_num,x_encoded), axis=1)"
   ]
  },
  {
   "cell_type": "code",
<<<<<<< HEAD
   "execution_count": 144,
=======
   "execution_count": 27,
>>>>>>> 9bd7f88ebfedd5a89df5986dcd77b1da36ab594d
   "metadata": {},
   "outputs": [
    {
     "data": {
      "text/plain": [
       "array([870.,   0.,   0.,   0.,   0.,   0.,   0.,   0.,   0.,   0.,   0.,\n",
       "         0.,   0.,   0.,   0.,   0.,   0.,   0.,   1.,   0.,   0.,   0.,\n",
       "         0.,   0.,   0.,   0.,   0.,   0.,   0.,   0.,   0.,   0.,   0.,\n",
       "         0.,   0.,   0.,   0.,   0.,   0.,   0.,   0.,   0.,   0.,   0.,\n",
       "         0.,   0.,   0.,   0.,   0.,   0.,   0.,   0.,   0.,   0.,   0.,\n",
       "         0.,   0.,   0.,   0.,   0.,   0.,   0.,   1.,   0.,   0.,   0.,\n",
       "         0.,   0.,   0.,   0.,   0.,   0.,   0.,   0.,   0.,   0.,   0.,\n",
       "         0.,   0.,   0.,   0.,   0.,   0.,   0.,   0.,   0.,   0.,   0.,\n",
       "         0.,   0.,   0.,   0.,   0.,   0.,   0.,   0.,   0.,   0.,   0.,\n",
       "         0.,   0.,   0.,   0.,   0.,   0.,   0.,   0.,   0.,   0.,   0.,\n",
<<<<<<< HEAD
       "         0.,   0.,   0.,   0.,   0.,   0.,   0.,   0.,   0.,   0.,   0.,\n",
       "         0.,   0.,   0.,   0.,   0.,   0.,   0.,   0.,   0.,   0.,   0.,\n",
       "         0.,   0.,   1.,   0.,   0.,   0.,   0.,   0.,   0.,   0.,   0.,\n",
       "         0.,   0.,   0.,   0.,   0.,   0.,   0.,   0.,   0.,   0.,   0.,\n",
       "         0.,   0.,   0.,   0.,   0.,   0.])"
      ]
     },
     "execution_count": 144,
=======
       "         0.,   0.,   0.,   0.,   1.,   0.,   0.,   0.,   0.,   0.,   0.,\n",
       "         0.,   0.,   0.,   0.,   0.,   0.,   0.,   0.,   0.,   0.,   0.,\n",
       "         0.])"
      ]
     },
     "execution_count": 27,
>>>>>>> 9bd7f88ebfedd5a89df5986dcd77b1da36ab594d
     "metadata": {},
     "output_type": "execute_result"
    }
   ],
   "source": [
    "X[0]"
   ]
  },
  {
   "cell_type": "code",
<<<<<<< HEAD
   "execution_count": 145,
=======
   "execution_count": 28,
>>>>>>> 9bd7f88ebfedd5a89df5986dcd77b1da36ab594d
   "metadata": {},
   "outputs": [
    {
     "data": {
      "text/plain": [
       "4.48"
      ]
     },
<<<<<<< HEAD
     "execution_count": 145,
=======
     "execution_count": 28,
>>>>>>> 9bd7f88ebfedd5a89df5986dcd77b1da36ab594d
     "metadata": {},
     "output_type": "execute_result"
    }
   ],
   "source": [
    "#Rating do livro 1\n",
    "y[0]"
   ]
  },
  {
   "cell_type": "code",
<<<<<<< HEAD
   "execution_count": 146,
=======
   "execution_count": 29,
>>>>>>> 9bd7f88ebfedd5a89df5986dcd77b1da36ab594d
   "metadata": {},
   "outputs": [
    {
     "data": {
      "text/html": [
       "<div>\n",
       "<style scoped>\n",
       "    .dataframe tbody tr th:only-of-type {\n",
       "        vertical-align: middle;\n",
       "    }\n",
       "\n",
       "    .dataframe tbody tr th {\n",
       "        vertical-align: top;\n",
       "    }\n",
       "\n",
       "    .dataframe thead th {\n",
       "        text-align: right;\n",
       "    }\n",
       "</style>\n",
       "<table border=\"1\" class=\"dataframe\">\n",
       "  <thead>\n",
       "    <tr style=\"text-align: right;\">\n",
       "      <th></th>\n",
       "      <th>Atual</th>\n",
       "      <th>Predito</th>\n",
       "    </tr>\n",
       "  </thead>\n",
       "  <tbody>\n",
       "    <tr>\n",
       "      <th>0</th>\n",
<<<<<<< HEAD
       "      <td>3.64</td>\n",
       "      <td>3.902044</td>\n",
       "    </tr>\n",
       "    <tr>\n",
       "      <th>1</th>\n",
       "      <td>3.75</td>\n",
       "      <td>3.811071</td>\n",
       "    </tr>\n",
       "    <tr>\n",
       "      <th>2</th>\n",
       "      <td>4.10</td>\n",
       "      <td>4.205652</td>\n",
       "    </tr>\n",
       "    <tr>\n",
       "      <th>3</th>\n",
       "      <td>4.34</td>\n",
       "      <td>4.048923</td>\n",
       "    </tr>\n",
       "    <tr>\n",
       "      <th>4</th>\n",
       "      <td>4.14</td>\n",
       "      <td>4.015772</td>\n",
=======
       "      <td>4.10</td>\n",
       "      <td>4.010505</td>\n",
       "    </tr>\n",
       "    <tr>\n",
       "      <th>1</th>\n",
       "      <td>4.27</td>\n",
       "      <td>4.090224</td>\n",
       "    </tr>\n",
       "    <tr>\n",
       "      <th>2</th>\n",
       "      <td>3.57</td>\n",
       "      <td>4.052217</td>\n",
       "    </tr>\n",
       "    <tr>\n",
       "      <th>3</th>\n",
       "      <td>4.24</td>\n",
       "      <td>4.145721</td>\n",
       "    </tr>\n",
       "    <tr>\n",
       "      <th>4</th>\n",
       "      <td>4.09</td>\n",
       "      <td>4.027803</td>\n",
>>>>>>> 9bd7f88ebfedd5a89df5986dcd77b1da36ab594d
       "    </tr>\n",
       "  </tbody>\n",
       "</table>\n",
       "</div>"
      ],
      "text/plain": [
       "   Atual   Predito\n",
<<<<<<< HEAD
       "0   3.64  3.902044\n",
       "1   3.75  3.811071\n",
       "2   4.10  4.205652\n",
       "3   4.34  4.048923\n",
       "4   4.14  4.015772"
      ]
     },
     "execution_count": 146,
=======
       "0   4.10  4.010505\n",
       "1   4.27  4.090224\n",
       "2   3.57  4.052217\n",
       "3   4.24  4.145721\n",
       "4   4.09  4.027803"
      ]
     },
     "execution_count": 29,
>>>>>>> 9bd7f88ebfedd5a89df5986dcd77b1da36ab594d
     "metadata": {},
     "output_type": "execute_result"
    }
   ],
   "source": [
    "from sklearn.ensemble import RandomForestClassifier\n",
    "from sklearn.model_selection import train_test_split\n",
    "from sklearn.metrics import accuracy_score\n",
    "from sklearn import preprocessing,utils, metrics\n",
    "from sklearn.linear_model import LinearRegression\n",
    "\n",
    "X_train, X_test, y_train, y_test = train_test_split(X, y, test_size=0.2, random_state=0)\n",
    "\n",
    "regressor = LinearRegression()\n",
    "regressor.fit(X_train, y_train)\n",
    "\n",
    "y_pred = regressor.predict(X_test)\n",
    "\n",
    "for i in range(len(y_pred)):\n",
    "    if y_pred[i]>5:\n",
    "        y_pred[i]=5\n",
    "    elif y_pred[i]<0:\n",
    "        y_pred[i]=0\n",
    "        \n",
    "df = pd.DataFrame({'Atual': y_test.flatten(), 'Predito': y_pred.flatten()})\n",
    "df.head()"
   ]
  },
  {
   "cell_type": "code",
   "execution_count": 40,
   "metadata": {},
   "outputs": [],
   "source": [
    "#Usando outro DataFrame (de 2018) para fazer a predição:\n",
    "teste_X2 = pd.read_csv('book_data_2018.csv')"
   ]
  },
  {
   "cell_type": "code",
   "execution_count": 41,
   "metadata": {},
   "outputs": [
    {
     "data": {
      "text/html": [
       "<div>\n",
       "<style scoped>\n",
       "    .dataframe tbody tr th:only-of-type {\n",
       "        vertical-align: middle;\n",
       "    }\n",
       "\n",
       "    .dataframe tbody tr th {\n",
       "        vertical-align: top;\n",
       "    }\n",
       "\n",
       "    .dataframe thead th {\n",
       "        text-align: right;\n",
       "    }\n",
       "</style>\n",
       "<table border=\"1\" class=\"dataframe\">\n",
       "  <thead>\n",
       "    <tr style=\"text-align: right;\">\n",
       "      <th></th>\n",
       "      <th>book_authors</th>\n",
       "      <th>book_desc</th>\n",
       "      <th>book_edition</th>\n",
       "      <th>book_format</th>\n",
       "      <th>book_isbn</th>\n",
       "      <th>book_pages</th>\n",
       "      <th>book_rating</th>\n",
       "      <th>book_rating_count</th>\n",
       "      <th>book_review_count</th>\n",
       "      <th>book_title</th>\n",
       "      <th>genres</th>\n",
       "      <th>image_url</th>\n",
       "    </tr>\n",
       "  </thead>\n",
       "  <tbody>\n",
       "    <tr>\n",
       "      <th>35</th>\n",
       "      <td>Jordan B. Peterson|Norman Doidge|Ethan Van Sciver</td>\n",
       "      <td>What does everyone in the modern world need to...</td>\n",
       "      <td>Canadian First Edition</td>\n",
       "      <td>Hardcover</td>\n",
       "      <td>9.780000e+12</td>\n",
       "      <td>448 pages</td>\n",
       "      <td>4.01</td>\n",
       "      <td>34183</td>\n",
       "      <td>3653</td>\n",
       "      <td>12 Rules for Life: An Antidote to Chaos</td>\n",
       "      <td>Nonfiction|Psychology|Philosophy|Self Help|Sel...</td>\n",
       "      <td>https://images.gr-assets.com/books/1512705866l...</td>\n",
       "    </tr>\n",
       "    <tr>\n",
       "      <th>44</th>\n",
       "      <td>Audrey Grey|Krystal Wade</td>\n",
       "      <td>While she sleeps, the whole universe changes.P...</td>\n",
       "      <td>1st Edition</td>\n",
       "      <td>Paperback</td>\n",
       "      <td>9.780000e+12</td>\n",
       "      <td>316 pages</td>\n",
       "      <td>3.78</td>\n",
       "      <td>347</td>\n",
       "      <td>182</td>\n",
       "      <td>Our Dark Stars</td>\n",
       "      <td>Science Fiction|Young Adult|Romance|Fantasy</td>\n",
       "      <td>https://images.gr-assets.com/books/1513086665l...</td>\n",
       "    </tr>\n",
       "    <tr>\n",
       "      <th>46</th>\n",
       "      <td>Jewel E. Ann</td>\n",
       "      <td>Flint Hopkins finds the perfect tenant to rent...</td>\n",
       "      <td>1 edition</td>\n",
       "      <td>Paperback</td>\n",
       "      <td>9.780000e+12</td>\n",
       "      <td>380 pages</td>\n",
       "      <td>4.28</td>\n",
       "      <td>9785</td>\n",
       "      <td>1256</td>\n",
       "      <td>Look the Part</td>\n",
       "      <td>Romance|Contemporary|Romance|Contemporary Roma...</td>\n",
       "      <td>https://images.gr-assets.com/books/1513599758l...</td>\n",
       "    </tr>\n",
       "    <tr>\n",
       "      <th>62</th>\n",
       "      <td>L.J. Shen</td>\n",
       "      <td>From bestselling author L.J. Shen, comes a new...</td>\n",
       "      <td>1st Edition</td>\n",
       "      <td>Paperback</td>\n",
       "      <td>9.780000e+12</td>\n",
       "      <td>328 pages</td>\n",
       "      <td>4.27</td>\n",
       "      <td>10989</td>\n",
       "      <td>1607</td>\n",
       "      <td>Dirty Headlines</td>\n",
       "      <td>Romance|Romance|Contemporary Romance|Contemporary</td>\n",
       "      <td>https://images.gr-assets.com/books/1534425084l...</td>\n",
       "    </tr>\n",
       "    <tr>\n",
       "      <th>76</th>\n",
       "      <td>Laura Thalassa</td>\n",
       "      <td>They came to earth—Pestilence, War, Famine, De...</td>\n",
       "      <td>2nd Edition</td>\n",
       "      <td>Paperback</td>\n",
       "      <td>9.780000e+12</td>\n",
       "      <td>381 pages</td>\n",
       "      <td>4.06</td>\n",
       "      <td>13671</td>\n",
       "      <td>1886</td>\n",
       "      <td>Pestilence</td>\n",
       "      <td>Romance|Fantasy|New Adult|Fantasy|Paranormal|R...</td>\n",
       "      <td>https://images.gr-assets.com/books/1537316666l...</td>\n",
       "    </tr>\n",
       "  </tbody>\n",
       "</table>\n",
       "</div>"
      ],
      "text/plain": [
       "                                         book_authors  \\\n",
       "35  Jordan B. Peterson|Norman Doidge|Ethan Van Sciver   \n",
       "44                           Audrey Grey|Krystal Wade   \n",
       "46                                       Jewel E. Ann   \n",
       "62                                          L.J. Shen   \n",
       "76                                     Laura Thalassa   \n",
       "\n",
       "                                            book_desc            book_edition  \\\n",
       "35  What does everyone in the modern world need to...  Canadian First Edition   \n",
       "44  While she sleeps, the whole universe changes.P...             1st Edition   \n",
       "46  Flint Hopkins finds the perfect tenant to rent...               1 edition   \n",
       "62  From bestselling author L.J. Shen, comes a new...             1st Edition   \n",
       "76  They came to earth—Pestilence, War, Famine, De...             2nd Edition   \n",
       "\n",
       "   book_format     book_isbn book_pages  book_rating  book_rating_count  \\\n",
       "35   Hardcover  9.780000e+12  448 pages         4.01              34183   \n",
       "44   Paperback  9.780000e+12  316 pages         3.78                347   \n",
       "46   Paperback  9.780000e+12  380 pages         4.28               9785   \n",
       "62   Paperback  9.780000e+12  328 pages         4.27              10989   \n",
       "76   Paperback  9.780000e+12  381 pages         4.06              13671   \n",
       "\n",
       "    book_review_count                               book_title  \\\n",
       "35               3653  12 Rules for Life: An Antidote to Chaos   \n",
       "44                182                           Our Dark Stars   \n",
       "46               1256                            Look the Part   \n",
       "62               1607                          Dirty Headlines   \n",
       "76               1886                               Pestilence   \n",
       "\n",
       "                                               genres  \\\n",
       "35  Nonfiction|Psychology|Philosophy|Self Help|Sel...   \n",
       "44        Science Fiction|Young Adult|Romance|Fantasy   \n",
       "46  Romance|Contemporary|Romance|Contemporary Roma...   \n",
       "62  Romance|Romance|Contemporary Romance|Contemporary   \n",
       "76  Romance|Fantasy|New Adult|Fantasy|Paranormal|R...   \n",
       "\n",
       "                                            image_url  \n",
       "35  https://images.gr-assets.com/books/1512705866l...  \n",
       "44  https://images.gr-assets.com/books/1513086665l...  \n",
       "46  https://images.gr-assets.com/books/1513599758l...  \n",
       "62  https://images.gr-assets.com/books/1534425084l...  \n",
       "76  https://images.gr-assets.com/books/1537316666l...  "
      ]
     },
     "execution_count": 41,
     "metadata": {},
     "output_type": "execute_result"
    }
   ],
   "source": [
    "teste_X2=teste_X.dropna()\n",
    "teste_X2.head()"
   ]
  },
  {
   "cell_type": "code",
   "execution_count": 42,
   "metadata": {},
   "outputs": [
    {
     "ename": "ValueError",
     "evalue": "could not convert string to float: 'Jordan B. Peterson|Norman Doidge|Ethan Van Sciver'",
     "output_type": "error",
     "traceback": [
      "\u001b[0;31m---------------------------------------------------------------------------\u001b[0m",
      "\u001b[0;31mValueError\u001b[0m                                Traceback (most recent call last)",
      "\u001b[0;32m<ipython-input-42-920117aa3e8c>\u001b[0m in \u001b[0;36m<module>\u001b[0;34m\u001b[0m\n\u001b[0;32m----> 1\u001b[0;31m \u001b[0my_pred2\u001b[0m \u001b[0;34m=\u001b[0m \u001b[0mregressor\u001b[0m\u001b[0;34m.\u001b[0m\u001b[0mpredict\u001b[0m\u001b[0;34m(\u001b[0m\u001b[0mteste_X2\u001b[0m\u001b[0;34m)\u001b[0m\u001b[0;34m\u001b[0m\u001b[0;34m\u001b[0m\u001b[0m\n\u001b[0m\u001b[1;32m      2\u001b[0m \u001b[0;34m\u001b[0m\u001b[0m\n\u001b[1;32m      3\u001b[0m \u001b[0;32mfor\u001b[0m \u001b[0mi\u001b[0m \u001b[0;32min\u001b[0m \u001b[0mrange\u001b[0m\u001b[0;34m(\u001b[0m\u001b[0mlen\u001b[0m\u001b[0;34m(\u001b[0m\u001b[0my_pred2\u001b[0m\u001b[0;34m)\u001b[0m\u001b[0;34m)\u001b[0m\u001b[0;34m:\u001b[0m\u001b[0;34m\u001b[0m\u001b[0;34m\u001b[0m\u001b[0m\n\u001b[1;32m      4\u001b[0m     \u001b[0;32mif\u001b[0m \u001b[0my_pred2\u001b[0m\u001b[0;34m[\u001b[0m\u001b[0mi\u001b[0m\u001b[0;34m]\u001b[0m\u001b[0;34m>\u001b[0m\u001b[0;36m5\u001b[0m\u001b[0;34m:\u001b[0m\u001b[0;34m\u001b[0m\u001b[0;34m\u001b[0m\u001b[0m\n\u001b[1;32m      5\u001b[0m         \u001b[0my_pred2\u001b[0m\u001b[0;34m[\u001b[0m\u001b[0mi\u001b[0m\u001b[0;34m]\u001b[0m\u001b[0;34m=\u001b[0m\u001b[0;36m5\u001b[0m\u001b[0;34m\u001b[0m\u001b[0;34m\u001b[0m\u001b[0m\n",
      "\u001b[0;32m/usr/local/lib/python3.7/site-packages/sklearn/linear_model/base.py\u001b[0m in \u001b[0;36mpredict\u001b[0;34m(self, X)\u001b[0m\n\u001b[1;32m    219\u001b[0m             \u001b[0mReturns\u001b[0m \u001b[0mpredicted\u001b[0m \u001b[0mvalues\u001b[0m\u001b[0;34m.\u001b[0m\u001b[0;34m\u001b[0m\u001b[0;34m\u001b[0m\u001b[0m\n\u001b[1;32m    220\u001b[0m         \"\"\"\n\u001b[0;32m--> 221\u001b[0;31m         \u001b[0;32mreturn\u001b[0m \u001b[0mself\u001b[0m\u001b[0;34m.\u001b[0m\u001b[0m_decision_function\u001b[0m\u001b[0;34m(\u001b[0m\u001b[0mX\u001b[0m\u001b[0;34m)\u001b[0m\u001b[0;34m\u001b[0m\u001b[0;34m\u001b[0m\u001b[0m\n\u001b[0m\u001b[1;32m    222\u001b[0m \u001b[0;34m\u001b[0m\u001b[0m\n\u001b[1;32m    223\u001b[0m     \u001b[0m_preprocess_data\u001b[0m \u001b[0;34m=\u001b[0m \u001b[0mstaticmethod\u001b[0m\u001b[0;34m(\u001b[0m\u001b[0m_preprocess_data\u001b[0m\u001b[0;34m)\u001b[0m\u001b[0;34m\u001b[0m\u001b[0;34m\u001b[0m\u001b[0m\n",
      "\u001b[0;32m/usr/local/lib/python3.7/site-packages/sklearn/linear_model/base.py\u001b[0m in \u001b[0;36m_decision_function\u001b[0;34m(self, X)\u001b[0m\n\u001b[1;32m    202\u001b[0m         \u001b[0mcheck_is_fitted\u001b[0m\u001b[0;34m(\u001b[0m\u001b[0mself\u001b[0m\u001b[0;34m,\u001b[0m \u001b[0;34m\"coef_\"\u001b[0m\u001b[0;34m)\u001b[0m\u001b[0;34m\u001b[0m\u001b[0;34m\u001b[0m\u001b[0m\n\u001b[1;32m    203\u001b[0m \u001b[0;34m\u001b[0m\u001b[0m\n\u001b[0;32m--> 204\u001b[0;31m         \u001b[0mX\u001b[0m \u001b[0;34m=\u001b[0m \u001b[0mcheck_array\u001b[0m\u001b[0;34m(\u001b[0m\u001b[0mX\u001b[0m\u001b[0;34m,\u001b[0m \u001b[0maccept_sparse\u001b[0m\u001b[0;34m=\u001b[0m\u001b[0;34m[\u001b[0m\u001b[0;34m'csr'\u001b[0m\u001b[0;34m,\u001b[0m \u001b[0;34m'csc'\u001b[0m\u001b[0;34m,\u001b[0m \u001b[0;34m'coo'\u001b[0m\u001b[0;34m]\u001b[0m\u001b[0;34m)\u001b[0m\u001b[0;34m\u001b[0m\u001b[0;34m\u001b[0m\u001b[0m\n\u001b[0m\u001b[1;32m    205\u001b[0m         return safe_sparse_dot(X, self.coef_.T,\n\u001b[1;32m    206\u001b[0m                                dense_output=True) + self.intercept_\n",
      "\u001b[0;32m/usr/local/lib/python3.7/site-packages/sklearn/utils/validation.py\u001b[0m in \u001b[0;36mcheck_array\u001b[0;34m(array, accept_sparse, accept_large_sparse, dtype, order, copy, force_all_finite, ensure_2d, allow_nd, ensure_min_samples, ensure_min_features, warn_on_dtype, estimator)\u001b[0m\n\u001b[1;32m    534\u001b[0m         \u001b[0;31m# make sure we actually converted to numeric:\u001b[0m\u001b[0;34m\u001b[0m\u001b[0;34m\u001b[0m\u001b[0;34m\u001b[0m\u001b[0m\n\u001b[1;32m    535\u001b[0m         \u001b[0;32mif\u001b[0m \u001b[0mdtype_numeric\u001b[0m \u001b[0;32mand\u001b[0m \u001b[0marray\u001b[0m\u001b[0;34m.\u001b[0m\u001b[0mdtype\u001b[0m\u001b[0;34m.\u001b[0m\u001b[0mkind\u001b[0m \u001b[0;34m==\u001b[0m \u001b[0;34m\"O\"\u001b[0m\u001b[0;34m:\u001b[0m\u001b[0;34m\u001b[0m\u001b[0;34m\u001b[0m\u001b[0m\n\u001b[0;32m--> 536\u001b[0;31m             \u001b[0marray\u001b[0m \u001b[0;34m=\u001b[0m \u001b[0marray\u001b[0m\u001b[0;34m.\u001b[0m\u001b[0mastype\u001b[0m\u001b[0;34m(\u001b[0m\u001b[0mnp\u001b[0m\u001b[0;34m.\u001b[0m\u001b[0mfloat64\u001b[0m\u001b[0;34m)\u001b[0m\u001b[0;34m\u001b[0m\u001b[0;34m\u001b[0m\u001b[0m\n\u001b[0m\u001b[1;32m    537\u001b[0m         \u001b[0;32mif\u001b[0m \u001b[0;32mnot\u001b[0m \u001b[0mallow_nd\u001b[0m \u001b[0;32mand\u001b[0m \u001b[0marray\u001b[0m\u001b[0;34m.\u001b[0m\u001b[0mndim\u001b[0m \u001b[0;34m>=\u001b[0m \u001b[0;36m3\u001b[0m\u001b[0;34m:\u001b[0m\u001b[0;34m\u001b[0m\u001b[0;34m\u001b[0m\u001b[0m\n\u001b[1;32m    538\u001b[0m             raise ValueError(\"Found array with dim %d. %s expected <= 2.\"\n",
      "\u001b[0;31mValueError\u001b[0m: could not convert string to float: 'Jordan B. Peterson|Norman Doidge|Ethan Van Sciver'"
     ]
    }
   ],
   "source": [
    "y_pred2 = regressor.predict(teste_X2)\n",
    "\n",
    "for i in range(len(y_pred2)):\n",
    "    if y_pred2[i]>5:\n",
    "        y_pred2[i]=5\n",
    "    elif y_pred2[i]<0:\n",
    "        y_pred2[i]=0\n",
    "        \n",
    "df2 = pd.DataFrame({'Atual': y_test2.flatten(), 'Predito': y_pred2.flatten()})\n",
    "df2.head()"
   ]
  },
  {
   "cell_type": "code",
<<<<<<< HEAD
   "execution_count": 37,
=======
<<<<<<< HEAD
   "execution_count": 155,
=======
   "execution_count": 32,
>>>>>>> 9bd7f88ebfedd5a89df5986dcd77b1da36ab594d
>>>>>>> 24dda479a5ba046c7a484d1d03e252fe06b1f1b7
   "metadata": {},
   "outputs": [
    {
     "data": {
<<<<<<< HEAD
      "image/png": "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\n",
=======
      "image/png": "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\n",
>>>>>>> 9bd7f88ebfedd5a89df5986dcd77b1da36ab594d
      "text/plain": [
       "<Figure size 1152x720 with 1 Axes>"
      ]
     },
     "metadata": {
      "needs_background": "light"
     },
     "output_type": "display_data"
    }
   ],
   "source": [
    "df1 = df.head(25)\n",
    "df1.plot(kind='bar',figsize=(16,10))\n",
    "plt.grid(which='major', linestyle='-', linewidth='0.5', color='green')\n",
    "plt.grid(which='minor', linestyle=':', linewidth='0.5', color='black')\n",
    "plt.xlabel('Book Index')\n",
    "plt.ylabel('Rating')\n",
    "plt.show()"
   ]
  },
  {
   "cell_type": "code",
<<<<<<< HEAD
   "execution_count": 38,
=======
<<<<<<< HEAD
   "execution_count": 156,
=======
   "execution_count": 33,
>>>>>>> 9bd7f88ebfedd5a89df5986dcd77b1da36ab594d
>>>>>>> 24dda479a5ba046c7a484d1d03e252fe06b1f1b7
   "metadata": {},
   "outputs": [
    {
     "name": "stdout",
     "output_type": "stream",
     "text": [
<<<<<<< HEAD
      "O R² é -1.9339043919555348\n"
=======
      "O R² é -5.11661312381575\n"
>>>>>>> 9bd7f88ebfedd5a89df5986dcd77b1da36ab594d
     ]
    }
   ],
   "source": [
    "print(\"O R² é \" + str(metrics.r2_score(df['Atual'],df['Predito'])))"
   ]
  },
  {
   "cell_type": "code",
   "execution_count": null,
   "metadata": {},
   "outputs": [],
   "source": []
  },
  {
   "cell_type": "code",
   "execution_count": null,
   "metadata": {},
   "outputs": [],
   "source": []
  }
 ],
 "metadata": {
  "kernelspec": {
   "display_name": "Python 3",
   "language": "python",
   "name": "python3"
  },
  "language_info": {
   "codemirror_mode": {
    "name": "ipython",
    "version": 3
   },
   "file_extension": ".py",
   "mimetype": "text/x-python",
   "name": "python",
   "nbconvert_exporter": "python",
   "pygments_lexer": "ipython3",
   "version": "3.7.4"
  }
 },
 "nbformat": 4,
 "nbformat_minor": 2
}
