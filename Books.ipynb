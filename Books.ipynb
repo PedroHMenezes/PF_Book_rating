{
 "cells": [
  {
   "cell_type": "markdown",
   "metadata": {},
   "source": [
    "# Projeto Final - Ciência dos dados\n",
    "### Alunos:\n",
    "- Beatriz Lourenço \n",
    "- Fernando Kenji \n",
    "- Sophia Kerber\n",
    "- Pedro H. Menezes"
   ]
  },
  {
   "cell_type": "markdown",
   "metadata": {},
   "source": [
    "### Pergunta Motivadora:\n",
    "___\n",
    "É possível prever a avaliação de um livro (no ranking do Goodreads) com as seguintes variáveis?\n",
    "- Inicial do autor\n",
    "- Número de páginas\n",
    "- Gênero\n",
    "- Formato do livro (Capa dura, capa em papel, versão Kindle...)\n"
   ]
  },
  {
   "cell_type": "markdown",
   "metadata": {},
   "source": [
    "### Por que regressão linear?\n",
    "___\n",
    "\n",
    "Como o objetivo do projeto era prever a avaliação do livro, decidiu-se utilizar a regressão linear para tanto, uma vez que a variável de saída é quantitativa. A ideia da regressão linear é aproximar os dados de uma reta, tentando diminuir o erro quadrático ao máximo. Utilizamos o One Hot Enconder, aliado ao SciKitLearn para dividir o dataset, classificar as variáveis qualitativas em números binários, e finalmente fazer a predição e o teste do dataset.\n",
    "\n",
    "As técnicas que se prestam a este tipo de análise: regressão linear, *regression tree*, *random forest regression* - EXPLICAR OS OUTROS 2"
   ]
  },
  {
   "cell_type": "markdown",
   "metadata": {},
   "source": [
    "### Como melhorar a análise?\n",
    "___\n",
    "\n",
    "Pode-se melhorar a análise feita por meio da K-Folds Cross Validation."
   ]
  },
  {
   "cell_type": "code",
<<<<<<< HEAD
   "execution_count": 28,
=======
   "execution_count": 1,
>>>>>>> e873c44dac7aa7014e87eac2865c996d9599087d
   "metadata": {},
   "outputs": [],
   "source": [
    "#Importando bibliotecas\n",
    "import pandas as pd\n",
    "import matplotlib.pyplot as plt\n",
    "from sklearn.preprocessing import OneHotEncoder\n",
    "import numpy as np"
   ]
  },
  {
   "cell_type": "code",
<<<<<<< HEAD
   "execution_count": 29,
=======
   "execution_count": 2,
>>>>>>> e873c44dac7aa7014e87eac2865c996d9599087d
   "metadata": {},
   "outputs": [
    {
     "data": {
      "text/html": [
       "<div>\n",
       "<style scoped>\n",
       "    .dataframe tbody tr th:only-of-type {\n",
       "        vertical-align: middle;\n",
       "    }\n",
       "\n",
       "    .dataframe tbody tr th {\n",
       "        vertical-align: top;\n",
       "    }\n",
       "\n",
       "    .dataframe thead th {\n",
       "        text-align: right;\n",
       "    }\n",
       "</style>\n",
       "<table border=\"1\" class=\"dataframe\">\n",
       "  <thead>\n",
       "    <tr style=\"text-align: right;\">\n",
       "      <th></th>\n",
       "      <th>book_authors</th>\n",
       "      <th>book_desc</th>\n",
       "      <th>book_edition</th>\n",
       "      <th>book_format</th>\n",
       "      <th>book_isbn</th>\n",
       "      <th>book_pages</th>\n",
       "      <th>book_rating</th>\n",
       "      <th>book_rating_count</th>\n",
       "      <th>book_review_count</th>\n",
       "      <th>book_title</th>\n",
       "      <th>genres</th>\n",
       "      <th>image_url</th>\n",
       "    </tr>\n",
       "  </thead>\n",
       "  <tbody>\n",
       "    <tr>\n",
       "      <th>0</th>\n",
       "      <td>Suzanne Collins</td>\n",
       "      <td>Winning will make you famous. Losing means cer...</td>\n",
       "      <td>NaN</td>\n",
       "      <td>Hardcover</td>\n",
       "      <td>9.78044E+12</td>\n",
       "      <td>374 pages</td>\n",
       "      <td>4.33</td>\n",
       "      <td>5519135</td>\n",
       "      <td>160706</td>\n",
       "      <td>The Hunger Games</td>\n",
       "      <td>Young Adult|Fiction|Science Fiction|Dystopia|F...</td>\n",
       "      <td>https://images.gr-assets.com/books/1447303603l...</td>\n",
       "    </tr>\n",
       "    <tr>\n",
       "      <th>1</th>\n",
       "      <td>J.K. Rowling|Mary GrandPré</td>\n",
       "      <td>There is a door at the end of a silent corrido...</td>\n",
       "      <td>US Edition</td>\n",
       "      <td>Paperback</td>\n",
       "      <td>9.78044E+12</td>\n",
       "      <td>870 pages</td>\n",
       "      <td>4.48</td>\n",
       "      <td>2041594</td>\n",
       "      <td>33264</td>\n",
       "      <td>Harry Potter and the Order of the Phoenix</td>\n",
       "      <td>Fantasy|Young Adult|Fiction</td>\n",
       "      <td>https://images.gr-assets.com/books/1255614970l...</td>\n",
       "    </tr>\n",
       "    <tr>\n",
       "      <th>2</th>\n",
       "      <td>Harper Lee</td>\n",
       "      <td>The unforgettable novel of a childhood in a sl...</td>\n",
       "      <td>50th Anniversary</td>\n",
       "      <td>Paperback</td>\n",
       "      <td>9.78006E+12</td>\n",
       "      <td>324 pages</td>\n",
       "      <td>4.27</td>\n",
       "      <td>3745197</td>\n",
       "      <td>79450</td>\n",
       "      <td>To Kill a Mockingbird</td>\n",
       "      <td>Classics|Fiction|Historical|Historical Fiction...</td>\n",
       "      <td>https://images.gr-assets.com/books/1361975680l...</td>\n",
       "    </tr>\n",
       "    <tr>\n",
       "      <th>3</th>\n",
       "      <td>Jane Austen|Anna Quindlen|Mrs. Oliphant|George...</td>\n",
       "      <td>«È cosa ormai risaputa che a uno scapolo in po...</td>\n",
       "      <td>Modern Library Classics, USA / CAN</td>\n",
       "      <td>Paperback</td>\n",
       "      <td>9.78068E+12</td>\n",
       "      <td>279 pages</td>\n",
       "      <td>4.25</td>\n",
       "      <td>2453620</td>\n",
       "      <td>54322</td>\n",
       "      <td>Pride and Prejudice</td>\n",
       "      <td>Classics|Fiction|Romance</td>\n",
       "      <td>https://images.gr-assets.com/books/1320399351l...</td>\n",
       "    </tr>\n",
       "    <tr>\n",
       "      <th>4</th>\n",
       "      <td>Stephenie Meyer</td>\n",
       "      <td>About three things I was absolutely positive.F...</td>\n",
       "      <td>NaN</td>\n",
       "      <td>Paperback</td>\n",
       "      <td>9.78032E+12</td>\n",
       "      <td>498 pages</td>\n",
       "      <td>3.58</td>\n",
       "      <td>4281268</td>\n",
       "      <td>97991</td>\n",
       "      <td>Twilight</td>\n",
       "      <td>Young Adult|Fantasy|Romance|Paranormal|Vampire...</td>\n",
       "      <td>https://images.gr-assets.com/books/1361039443l...</td>\n",
       "    </tr>\n",
       "  </tbody>\n",
       "</table>\n",
       "</div>"
      ],
      "text/plain": [
       "                                        book_authors  \\\n",
       "0                                    Suzanne Collins   \n",
       "1                         J.K. Rowling|Mary GrandPré   \n",
       "2                                         Harper Lee   \n",
       "3  Jane Austen|Anna Quindlen|Mrs. Oliphant|George...   \n",
       "4                                    Stephenie Meyer   \n",
       "\n",
       "                                           book_desc  \\\n",
       "0  Winning will make you famous. Losing means cer...   \n",
       "1  There is a door at the end of a silent corrido...   \n",
       "2  The unforgettable novel of a childhood in a sl...   \n",
       "3  «È cosa ormai risaputa che a uno scapolo in po...   \n",
       "4  About three things I was absolutely positive.F...   \n",
       "\n",
       "                         book_edition book_format    book_isbn book_pages  \\\n",
       "0                                 NaN   Hardcover  9.78044E+12  374 pages   \n",
       "1                          US Edition   Paperback  9.78044E+12  870 pages   \n",
       "2                    50th Anniversary   Paperback  9.78006E+12  324 pages   \n",
       "3  Modern Library Classics, USA / CAN   Paperback  9.78068E+12  279 pages   \n",
       "4                                 NaN   Paperback  9.78032E+12  498 pages   \n",
       "\n",
       "   book_rating  book_rating_count  book_review_count  \\\n",
       "0         4.33            5519135             160706   \n",
       "1         4.48            2041594              33264   \n",
       "2         4.27            3745197              79450   \n",
       "3         4.25            2453620              54322   \n",
       "4         3.58            4281268              97991   \n",
       "\n",
       "                                  book_title  \\\n",
       "0                           The Hunger Games   \n",
       "1  Harry Potter and the Order of the Phoenix   \n",
       "2                      To Kill a Mockingbird   \n",
       "3                        Pride and Prejudice   \n",
       "4                                   Twilight   \n",
       "\n",
       "                                              genres  \\\n",
       "0  Young Adult|Fiction|Science Fiction|Dystopia|F...   \n",
       "1                        Fantasy|Young Adult|Fiction   \n",
       "2  Classics|Fiction|Historical|Historical Fiction...   \n",
       "3                           Classics|Fiction|Romance   \n",
       "4  Young Adult|Fantasy|Romance|Paranormal|Vampire...   \n",
       "\n",
       "                                           image_url  \n",
       "0  https://images.gr-assets.com/books/1447303603l...  \n",
       "1  https://images.gr-assets.com/books/1255614970l...  \n",
       "2  https://images.gr-assets.com/books/1361975680l...  \n",
       "3  https://images.gr-assets.com/books/1320399351l...  \n",
       "4  https://images.gr-assets.com/books/1361039443l...  "
      ]
     },
<<<<<<< HEAD
     "execution_count": 29,
=======
     "execution_count": 2,
>>>>>>> e873c44dac7aa7014e87eac2865c996d9599087d
     "metadata": {},
     "output_type": "execute_result"
    }
   ],
   "source": [
    "csv = pd.read_csv('book_data.csv')\n",
    "csv.head()"
   ]
  },
  {
   "cell_type": "code",
<<<<<<< HEAD
   "execution_count": 30,
   "metadata": {},
   "outputs": [
    {
     "data": {
      "text/html": [
       "<div>\n",
       "<style scoped>\n",
       "    .dataframe tbody tr th:only-of-type {\n",
       "        vertical-align: middle;\n",
       "    }\n",
       "\n",
       "    .dataframe tbody tr th {\n",
       "        vertical-align: top;\n",
       "    }\n",
       "\n",
       "    .dataframe thead th {\n",
       "        text-align: right;\n",
       "    }\n",
       "</style>\n",
       "<table border=\"1\" class=\"dataframe\">\n",
       "  <thead>\n",
       "    <tr style=\"text-align: right;\">\n",
       "      <th></th>\n",
       "      <th>book_authors</th>\n",
       "      <th>book_desc</th>\n",
       "      <th>book_edition</th>\n",
       "      <th>book_format</th>\n",
       "      <th>book_isbn</th>\n",
       "      <th>book_pages</th>\n",
       "      <th>book_rating</th>\n",
       "      <th>book_rating_count</th>\n",
       "      <th>book_review_count</th>\n",
       "      <th>book_title</th>\n",
       "      <th>genres</th>\n",
       "      <th>image_url</th>\n",
       "    </tr>\n",
       "  </thead>\n",
       "  <tbody>\n",
       "    <tr>\n",
       "      <th>1</th>\n",
       "      <td>J.K. Rowling|Mary GrandPré</td>\n",
       "      <td>There is a door at the end of a silent corrido...</td>\n",
       "      <td>US Edition</td>\n",
       "      <td>Paperback</td>\n",
       "      <td>9.78044E+12</td>\n",
       "      <td>870 pages</td>\n",
       "      <td>4.48</td>\n",
       "      <td>2041594</td>\n",
       "      <td>33264</td>\n",
       "      <td>Harry Potter and the Order of the Phoenix</td>\n",
       "      <td>Fantasy|Young Adult|Fiction</td>\n",
       "      <td>https://images.gr-assets.com/books/1255614970l...</td>\n",
       "    </tr>\n",
       "    <tr>\n",
       "      <th>2</th>\n",
       "      <td>Harper Lee</td>\n",
       "      <td>The unforgettable novel of a childhood in a sl...</td>\n",
       "      <td>50th Anniversary</td>\n",
       "      <td>Paperback</td>\n",
       "      <td>9.78006E+12</td>\n",
       "      <td>324 pages</td>\n",
       "      <td>4.27</td>\n",
       "      <td>3745197</td>\n",
       "      <td>79450</td>\n",
       "      <td>To Kill a Mockingbird</td>\n",
       "      <td>Classics|Fiction|Historical|Historical Fiction...</td>\n",
       "      <td>https://images.gr-assets.com/books/1361975680l...</td>\n",
       "    </tr>\n",
       "    <tr>\n",
       "      <th>3</th>\n",
       "      <td>Jane Austen|Anna Quindlen|Mrs. Oliphant|George...</td>\n",
       "      <td>«È cosa ormai risaputa che a uno scapolo in po...</td>\n",
       "      <td>Modern Library Classics, USA / CAN</td>\n",
       "      <td>Paperback</td>\n",
       "      <td>9.78068E+12</td>\n",
       "      <td>279 pages</td>\n",
       "      <td>4.25</td>\n",
       "      <td>2453620</td>\n",
       "      <td>54322</td>\n",
       "      <td>Pride and Prejudice</td>\n",
       "      <td>Classics|Fiction|Romance</td>\n",
       "      <td>https://images.gr-assets.com/books/1320399351l...</td>\n",
       "    </tr>\n",
       "    <tr>\n",
       "      <th>5</th>\n",
       "      <td>Markus Zusak</td>\n",
       "      <td>Trying to make sense of the horrors of World W...</td>\n",
       "      <td>First American Edition (US / CAN)</td>\n",
       "      <td>Hardcover</td>\n",
       "      <td>9.78038E+12</td>\n",
       "      <td>552 pages</td>\n",
       "      <td>4.36</td>\n",
       "      <td>1485632</td>\n",
       "      <td>100821</td>\n",
       "      <td>The Book Thief</td>\n",
       "      <td>Historical|Historical Fiction|Fiction|Young Adult</td>\n",
       "      <td>https://images.gr-assets.com/books/1522157426l...</td>\n",
       "    </tr>\n",
       "    <tr>\n",
       "      <th>6</th>\n",
       "      <td>C.S. Lewis|Pauline Baynes</td>\n",
       "      <td>Journeys to the end of the world, fantastic cr...</td>\n",
       "      <td>Reissue Edition</td>\n",
       "      <td>Paperback</td>\n",
       "      <td>9.78007E+12</td>\n",
       "      <td>767 pages</td>\n",
       "      <td>4.25</td>\n",
       "      <td>437829</td>\n",
       "      <td>9439</td>\n",
       "      <td>The Chronicles of Narnia</td>\n",
       "      <td>Fantasy|Classics|Fiction|Young Adult|Childrens</td>\n",
       "      <td>https://images.gr-assets.com/books/1449868701l...</td>\n",
       "    </tr>\n",
       "  </tbody>\n",
       "</table>\n",
       "</div>"
      ],
      "text/plain": [
       "                                        book_authors  \\\n",
       "1                         J.K. Rowling|Mary GrandPré   \n",
       "2                                         Harper Lee   \n",
       "3  Jane Austen|Anna Quindlen|Mrs. Oliphant|George...   \n",
       "5                                       Markus Zusak   \n",
       "6                          C.S. Lewis|Pauline Baynes   \n",
       "\n",
       "                                           book_desc  \\\n",
       "1  There is a door at the end of a silent corrido...   \n",
       "2  The unforgettable novel of a childhood in a sl...   \n",
       "3  «È cosa ormai risaputa che a uno scapolo in po...   \n",
       "5  Trying to make sense of the horrors of World W...   \n",
       "6  Journeys to the end of the world, fantastic cr...   \n",
       "\n",
       "                         book_edition book_format    book_isbn book_pages  \\\n",
       "1                          US Edition   Paperback  9.78044E+12  870 pages   \n",
       "2                    50th Anniversary   Paperback  9.78006E+12  324 pages   \n",
       "3  Modern Library Classics, USA / CAN   Paperback  9.78068E+12  279 pages   \n",
       "5   First American Edition (US / CAN)   Hardcover  9.78038E+12  552 pages   \n",
       "6                     Reissue Edition   Paperback  9.78007E+12  767 pages   \n",
       "\n",
       "   book_rating  book_rating_count  book_review_count  \\\n",
       "1         4.48            2041594              33264   \n",
       "2         4.27            3745197              79450   \n",
       "3         4.25            2453620              54322   \n",
       "5         4.36            1485632             100821   \n",
       "6         4.25             437829               9439   \n",
       "\n",
       "                                  book_title  \\\n",
       "1  Harry Potter and the Order of the Phoenix   \n",
       "2                      To Kill a Mockingbird   \n",
       "3                        Pride and Prejudice   \n",
       "5                             The Book Thief   \n",
       "6                   The Chronicles of Narnia   \n",
       "\n",
       "                                              genres  \\\n",
       "1                        Fantasy|Young Adult|Fiction   \n",
       "2  Classics|Fiction|Historical|Historical Fiction...   \n",
       "3                           Classics|Fiction|Romance   \n",
       "5  Historical|Historical Fiction|Fiction|Young Adult   \n",
       "6     Fantasy|Classics|Fiction|Young Adult|Childrens   \n",
       "\n",
       "                                           image_url  \n",
       "1  https://images.gr-assets.com/books/1255614970l...  \n",
       "2  https://images.gr-assets.com/books/1361975680l...  \n",
       "3  https://images.gr-assets.com/books/1320399351l...  \n",
       "5  https://images.gr-assets.com/books/1522157426l...  \n",
       "6  https://images.gr-assets.com/books/1449868701l...  "
      ]
     },
     "execution_count": 30,
     "metadata": {},
     "output_type": "execute_result"
=======
   "execution_count": 31,
   "metadata": {},
   "outputs": [
    {
     "ename": "KeyError",
     "evalue": "\"['book_isbn' 'book_desc' 'book_edition' 'book_title' 'book_rating_count'\\n 'book_review_count' 'image_url'] not found in axis\"",
     "output_type": "error",
     "traceback": [
      "\u001b[1;31m---------------------------------------------------------------------------\u001b[0m",
      "\u001b[1;31mKeyError\u001b[0m                                  Traceback (most recent call last)",
      "\u001b[1;32m<ipython-input-31-bfa136cc4023>\u001b[0m in \u001b[0;36m<module>\u001b[1;34m\u001b[0m\n\u001b[0;32m      1\u001b[0m \u001b[1;31m# Limpando variáveis que não usaremos na análise para retirar os dados com informações faltantes\u001b[0m\u001b[1;33m\u001b[0m\u001b[1;33m\u001b[0m\u001b[1;33m\u001b[0m\u001b[0m\n\u001b[1;32m----> 2\u001b[1;33m \u001b[0mcsv\u001b[0m\u001b[1;33m.\u001b[0m\u001b[0mdrop\u001b[0m\u001b[1;33m(\u001b[0m\u001b[1;33m[\u001b[0m\u001b[1;34m'book_isbn'\u001b[0m\u001b[1;33m,\u001b[0m\u001b[1;34m'book_desc'\u001b[0m\u001b[1;33m,\u001b[0m\u001b[1;34m'book_edition'\u001b[0m\u001b[1;33m,\u001b[0m\u001b[1;34m'book_title'\u001b[0m\u001b[1;33m,\u001b[0m\u001b[1;34m'book_rating_count'\u001b[0m\u001b[1;33m,\u001b[0m\u001b[1;34m'book_review_count'\u001b[0m\u001b[1;33m,\u001b[0m\u001b[1;34m'image_url'\u001b[0m\u001b[1;33m]\u001b[0m\u001b[1;33m,\u001b[0m\u001b[0maxis\u001b[0m\u001b[1;33m=\u001b[0m\u001b[1;36m1\u001b[0m\u001b[1;33m,\u001b[0m\u001b[0minplace\u001b[0m\u001b[1;33m=\u001b[0m\u001b[1;32mTrue\u001b[0m\u001b[1;33m)\u001b[0m\u001b[1;33m\u001b[0m\u001b[1;33m\u001b[0m\u001b[0m\n\u001b[0m\u001b[0;32m      3\u001b[0m \u001b[1;31m# Retirando os livros com informações faltando\u001b[0m\u001b[1;33m\u001b[0m\u001b[1;33m\u001b[0m\u001b[1;33m\u001b[0m\u001b[0m\n\u001b[0;32m      4\u001b[0m \u001b[0mcsv\u001b[0m\u001b[1;33m=\u001b[0m\u001b[0mcsv\u001b[0m\u001b[1;33m.\u001b[0m\u001b[0mdropna\u001b[0m\u001b[1;33m(\u001b[0m\u001b[1;33m)\u001b[0m\u001b[1;33m\u001b[0m\u001b[1;33m\u001b[0m\u001b[0m\n\u001b[0;32m      5\u001b[0m \u001b[0mcsv\u001b[0m\u001b[1;33m.\u001b[0m\u001b[0mhead\u001b[0m\u001b[1;33m(\u001b[0m\u001b[1;33m)\u001b[0m\u001b[1;33m\u001b[0m\u001b[1;33m\u001b[0m\u001b[0m\n",
      "\u001b[1;32m~\\Anaconda3\\lib\\site-packages\\pandas\\core\\frame.py\u001b[0m in \u001b[0;36mdrop\u001b[1;34m(self, labels, axis, index, columns, level, inplace, errors)\u001b[0m\n\u001b[0;32m   3695\u001b[0m                                            \u001b[0mindex\u001b[0m\u001b[1;33m=\u001b[0m\u001b[0mindex\u001b[0m\u001b[1;33m,\u001b[0m \u001b[0mcolumns\u001b[0m\u001b[1;33m=\u001b[0m\u001b[0mcolumns\u001b[0m\u001b[1;33m,\u001b[0m\u001b[1;33m\u001b[0m\u001b[1;33m\u001b[0m\u001b[0m\n\u001b[0;32m   3696\u001b[0m                                            \u001b[0mlevel\u001b[0m\u001b[1;33m=\u001b[0m\u001b[0mlevel\u001b[0m\u001b[1;33m,\u001b[0m \u001b[0minplace\u001b[0m\u001b[1;33m=\u001b[0m\u001b[0minplace\u001b[0m\u001b[1;33m,\u001b[0m\u001b[1;33m\u001b[0m\u001b[1;33m\u001b[0m\u001b[0m\n\u001b[1;32m-> 3697\u001b[1;33m                                            errors=errors)\n\u001b[0m\u001b[0;32m   3698\u001b[0m \u001b[1;33m\u001b[0m\u001b[0m\n\u001b[0;32m   3699\u001b[0m     @rewrite_axis_style_signature('mapper', [('copy', True),\n",
      "\u001b[1;32m~\\Anaconda3\\lib\\site-packages\\pandas\\core\\generic.py\u001b[0m in \u001b[0;36mdrop\u001b[1;34m(self, labels, axis, index, columns, level, inplace, errors)\u001b[0m\n\u001b[0;32m   3109\u001b[0m         \u001b[1;32mfor\u001b[0m \u001b[0maxis\u001b[0m\u001b[1;33m,\u001b[0m \u001b[0mlabels\u001b[0m \u001b[1;32min\u001b[0m \u001b[0maxes\u001b[0m\u001b[1;33m.\u001b[0m\u001b[0mitems\u001b[0m\u001b[1;33m(\u001b[0m\u001b[1;33m)\u001b[0m\u001b[1;33m:\u001b[0m\u001b[1;33m\u001b[0m\u001b[1;33m\u001b[0m\u001b[0m\n\u001b[0;32m   3110\u001b[0m             \u001b[1;32mif\u001b[0m \u001b[0mlabels\u001b[0m \u001b[1;32mis\u001b[0m \u001b[1;32mnot\u001b[0m \u001b[1;32mNone\u001b[0m\u001b[1;33m:\u001b[0m\u001b[1;33m\u001b[0m\u001b[1;33m\u001b[0m\u001b[0m\n\u001b[1;32m-> 3111\u001b[1;33m                 \u001b[0mobj\u001b[0m \u001b[1;33m=\u001b[0m \u001b[0mobj\u001b[0m\u001b[1;33m.\u001b[0m\u001b[0m_drop_axis\u001b[0m\u001b[1;33m(\u001b[0m\u001b[0mlabels\u001b[0m\u001b[1;33m,\u001b[0m \u001b[0maxis\u001b[0m\u001b[1;33m,\u001b[0m \u001b[0mlevel\u001b[0m\u001b[1;33m=\u001b[0m\u001b[0mlevel\u001b[0m\u001b[1;33m,\u001b[0m \u001b[0merrors\u001b[0m\u001b[1;33m=\u001b[0m\u001b[0merrors\u001b[0m\u001b[1;33m)\u001b[0m\u001b[1;33m\u001b[0m\u001b[1;33m\u001b[0m\u001b[0m\n\u001b[0m\u001b[0;32m   3112\u001b[0m \u001b[1;33m\u001b[0m\u001b[0m\n\u001b[0;32m   3113\u001b[0m         \u001b[1;32mif\u001b[0m \u001b[0minplace\u001b[0m\u001b[1;33m:\u001b[0m\u001b[1;33m\u001b[0m\u001b[1;33m\u001b[0m\u001b[0m\n",
      "\u001b[1;32m~\\Anaconda3\\lib\\site-packages\\pandas\\core\\generic.py\u001b[0m in \u001b[0;36m_drop_axis\u001b[1;34m(self, labels, axis, level, errors)\u001b[0m\n\u001b[0;32m   3141\u001b[0m                 \u001b[0mnew_axis\u001b[0m \u001b[1;33m=\u001b[0m \u001b[0maxis\u001b[0m\u001b[1;33m.\u001b[0m\u001b[0mdrop\u001b[0m\u001b[1;33m(\u001b[0m\u001b[0mlabels\u001b[0m\u001b[1;33m,\u001b[0m \u001b[0mlevel\u001b[0m\u001b[1;33m=\u001b[0m\u001b[0mlevel\u001b[0m\u001b[1;33m,\u001b[0m \u001b[0merrors\u001b[0m\u001b[1;33m=\u001b[0m\u001b[0merrors\u001b[0m\u001b[1;33m)\u001b[0m\u001b[1;33m\u001b[0m\u001b[1;33m\u001b[0m\u001b[0m\n\u001b[0;32m   3142\u001b[0m             \u001b[1;32melse\u001b[0m\u001b[1;33m:\u001b[0m\u001b[1;33m\u001b[0m\u001b[1;33m\u001b[0m\u001b[0m\n\u001b[1;32m-> 3143\u001b[1;33m                 \u001b[0mnew_axis\u001b[0m \u001b[1;33m=\u001b[0m \u001b[0maxis\u001b[0m\u001b[1;33m.\u001b[0m\u001b[0mdrop\u001b[0m\u001b[1;33m(\u001b[0m\u001b[0mlabels\u001b[0m\u001b[1;33m,\u001b[0m \u001b[0merrors\u001b[0m\u001b[1;33m=\u001b[0m\u001b[0merrors\u001b[0m\u001b[1;33m)\u001b[0m\u001b[1;33m\u001b[0m\u001b[1;33m\u001b[0m\u001b[0m\n\u001b[0m\u001b[0;32m   3144\u001b[0m             \u001b[0mresult\u001b[0m \u001b[1;33m=\u001b[0m \u001b[0mself\u001b[0m\u001b[1;33m.\u001b[0m\u001b[0mreindex\u001b[0m\u001b[1;33m(\u001b[0m\u001b[1;33m**\u001b[0m\u001b[1;33m{\u001b[0m\u001b[0maxis_name\u001b[0m\u001b[1;33m:\u001b[0m \u001b[0mnew_axis\u001b[0m\u001b[1;33m}\u001b[0m\u001b[1;33m)\u001b[0m\u001b[1;33m\u001b[0m\u001b[1;33m\u001b[0m\u001b[0m\n\u001b[0;32m   3145\u001b[0m \u001b[1;33m\u001b[0m\u001b[0m\n",
      "\u001b[1;32m~\\Anaconda3\\lib\\site-packages\\pandas\\core\\indexes\\base.py\u001b[0m in \u001b[0;36mdrop\u001b[1;34m(self, labels, errors)\u001b[0m\n\u001b[0;32m   4402\u001b[0m             \u001b[1;32mif\u001b[0m \u001b[0merrors\u001b[0m \u001b[1;33m!=\u001b[0m \u001b[1;34m'ignore'\u001b[0m\u001b[1;33m:\u001b[0m\u001b[1;33m\u001b[0m\u001b[1;33m\u001b[0m\u001b[0m\n\u001b[0;32m   4403\u001b[0m                 raise KeyError(\n\u001b[1;32m-> 4404\u001b[1;33m                     '{} not found in axis'.format(labels[mask]))\n\u001b[0m\u001b[0;32m   4405\u001b[0m             \u001b[0mindexer\u001b[0m \u001b[1;33m=\u001b[0m \u001b[0mindexer\u001b[0m\u001b[1;33m[\u001b[0m\u001b[1;33m~\u001b[0m\u001b[0mmask\u001b[0m\u001b[1;33m]\u001b[0m\u001b[1;33m\u001b[0m\u001b[1;33m\u001b[0m\u001b[0m\n\u001b[0;32m   4406\u001b[0m         \u001b[1;32mreturn\u001b[0m \u001b[0mself\u001b[0m\u001b[1;33m.\u001b[0m\u001b[0mdelete\u001b[0m\u001b[1;33m(\u001b[0m\u001b[0mindexer\u001b[0m\u001b[1;33m)\u001b[0m\u001b[1;33m\u001b[0m\u001b[1;33m\u001b[0m\u001b[0m\n",
      "\u001b[1;31mKeyError\u001b[0m: \"['book_isbn' 'book_desc' 'book_edition' 'book_title' 'book_rating_count'\\n 'book_review_count' 'image_url'] not found in axis\""
     ]
>>>>>>> e873c44dac7aa7014e87eac2865c996d9599087d
    }
   ],
   "source": [
    "# Limpando variáveis que não usaremos na análise para retirar os dados com informações faltantes\n",
    "csv.drop(['book_isbn','book_desc','book_edition','book_title','book_rating_count','book_review_count','image_url'],axis=1,inplace=True)\n",
    "# Retirando os livros com informações faltando\n",
    "csv=csv.dropna()\n",
    "csv.head()"
   ]
  },
  {
   "cell_type": "markdown",
   "metadata": {},
   "source": [
    "### Análise Exploratória\n",
    "___\n"
   ]
  },
  {
   "cell_type": "code",
   "execution_count": 31,
   "metadata": {},
   "outputs": [
    {
     "data": {
      "text/plain": [
       "<matplotlib.collections.PathCollection at 0x12357ed10>"
      ]
     },
     "execution_count": 31,
     "metadata": {},
     "output_type": "execute_result"
    },
    {
     "data": {
      "image/png": "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\n",
      "text/plain": [
       "<Figure size 432x288 with 1 Axes>"
      ]
     },
     "metadata": {
      "needs_background": "light"
     },
     "output_type": "display_data"
    }
   ],
   "source": [
    "plt.scatter(csv.book_pages, csv.book_rating, color='r')"
   ]
  },
  {
   "cell_type": "code",
   "execution_count": 32,
   "metadata": {},
   "outputs": [
    {
     "data": {
      "text/plain": [
       "<matplotlib.collections.PathCollection at 0x12b45d1d0>"
      ]
     },
     "execution_count": 32,
     "metadata": {},
     "output_type": "execute_result"
    },
    {
     "data": {
      "image/png": "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\n",
      "text/plain": [
       "<Figure size 432x288 with 1 Axes>"
      ]
     },
     "metadata": {
      "needs_background": "light"
     },
     "output_type": "display_data"
    }
   ],
   "source": [
    "plt.scatter(csv.book_review_count, csv.book_rating_count, color='orange')"
   ]
  },
  {
   "cell_type": "code",
   "execution_count": 33,
   "metadata": {},
   "outputs": [
    {
     "data": {
      "text/plain": [
       "<matplotlib.collections.PathCollection at 0x12b76aa10>"
      ]
     },
     "execution_count": 33,
     "metadata": {},
     "output_type": "execute_result"
    },
    {
     "data": {
      "image/png": "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\n",
      "text/plain": [
       "<Figure size 432x288 with 1 Axes>"
      ]
     },
     "metadata": {
      "needs_background": "light"
     },
     "output_type": "display_data"
    }
   ],
   "source": [
    "plt.scatter(csv.book_rating_count, csv.book_rating, color='b')"
   ]
  },
  {
   "cell_type": "code",
   "execution_count": 34,
   "metadata": {},
   "outputs": [
    {
     "data": {
      "text/plain": [
       "<matplotlib.collections.PathCollection at 0x12b7edb10>"
      ]
     },
     "execution_count": 34,
     "metadata": {},
     "output_type": "execute_result"
    },
    {
     "data": {
      "image/png": "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\n",
      "text/plain": [
       "<Figure size 432x288 with 1 Axes>"
      ]
     },
     "metadata": {
      "needs_background": "light"
     },
     "output_type": "display_data"
    }
   ],
   "source": [
    "plt.scatter(csv.book_review_count, csv.book_rating, color='green')"
   ]
  },
  {
   "cell_type": "code",
<<<<<<< HEAD
   "execution_count": 35,
=======
   "execution_count": 4,
>>>>>>> e873c44dac7aa7014e87eac2865c996d9599087d
   "metadata": {},
   "outputs": [
    {
     "name": "stdout",
     "output_type": "stream",
     "text": [
<<<<<<< HEAD
      "[870, 324, 279, 552, 767, 1728, 464, 434, 367, 507]\n",
      "['J', 'H', 'J', 'M', 'C', 'J', 'E', 'A', 'O', 'C']\n",
      "['Fantasy', 'Fantasy', 'Fiction', 'Science Fiction', 'Classics', 'Classics', 'Classics', 'Classics', 'Fantasy', 'Novels']\n"
=======
      "[374, 870, 324, 279, 498, 552, 767, 122, 1037, 1728]\n",
      "['S', 'J', 'H', 'J', 'S', 'M', 'C', 'G', 'M', 'J']\n",
      "['Fiction', 'Novels', 'Science Fiction', 'Poetry', 'Fantasy', 'Nonfiction', 'Fantasy', 'Historical', 'Childrens', 'Romance']\n"
>>>>>>> e873c44dac7aa7014e87eac2865c996d9599087d
     ]
    }
   ],
   "source": [
    "# Ajeitando as variáveis qualitativas\n",
    "ar = csv['genres'].value_counts()\n",
    "ar1 = []\n",
    "iniciais = []\n",
    "paginas = []\n",
    "\n",
    "# Escolhendo como gênero literário apenas o primeiro listado.\n",
    "for i in ar.index:\n",
    "    if i == \"\":\n",
    "        ar1.append(\"\")\n",
    "    else:\n",
    "        a = i.split('|')\n",
    "        ar1.append(a[0])\n",
    "        \n",
    "# Selecionando apenas a inicial dos nomes dos autores\n",
    "for i in csv['book_authors']:\n",
    "    iniciais.append(i[0])\n",
    "\n",
    "# Apenas o número de páginas aparecerá, sem a palavra \"pages\"\n",
    "for i in csv['book_pages']:\n",
    "    numero = i.split(' ')\n",
    "    paginas.append(int(numero[0]))\n",
    "print(paginas[0:10])\n",
    "print(iniciais[0:10])\n",
    "print(ar1[0:10])"
   ]
  },
  {
   "cell_type": "code",
<<<<<<< HEAD
   "execution_count": 36,
   "metadata": {},
   "outputs": [
    {
     "data": {
      "text/plain": [
       "3535"
      ]
     },
     "execution_count": 36,
     "metadata": {},
     "output_type": "execute_result"
    }
   ],
   "source": [
    "len(csv.index)"
   ]
  },
  {
   "cell_type": "code",
   "execution_count": 37,
=======
   "execution_count": 6,
>>>>>>> e873c44dac7aa7014e87eac2865c996d9599087d
   "metadata": {},
   "outputs": [],
   "source": [
    "# Criando colunas no DataFrame para as iniciais dos autores, os números de páginas e o principal gênero do livro\n",
    "ar1=pd.DataFrame({'genero':ar1})\n",
    "iniciais_ = pd.DataFrame({'iniciais':iniciais})\n",
    "paginas_ = pd.DataFrame({'paginas':paginas})"
   ]
  },
  {
   "cell_type": "code",
<<<<<<< HEAD
   "execution_count": 38,
=======
   "execution_count": 7,
>>>>>>> e873c44dac7aa7014e87eac2865c996d9599087d
   "metadata": {},
   "outputs": [
    {
     "data": {
      "text/html": [
       "<div>\n",
       "<style scoped>\n",
       "    .dataframe tbody tr th:only-of-type {\n",
       "        vertical-align: middle;\n",
       "    }\n",
       "\n",
       "    .dataframe tbody tr th {\n",
       "        vertical-align: top;\n",
       "    }\n",
       "\n",
       "    .dataframe thead th {\n",
       "        text-align: right;\n",
       "    }\n",
       "</style>\n",
       "<table border=\"1\" class=\"dataframe\">\n",
       "  <thead>\n",
       "    <tr style=\"text-align: right;\">\n",
       "      <th></th>\n",
       "      <th>book_authors</th>\n",
       "      <th>book_format</th>\n",
       "      <th>book_pages</th>\n",
       "      <th>book_rating</th>\n",
       "      <th>genres</th>\n",
       "      <th>genero</th>\n",
       "      <th>iniciais</th>\n",
       "      <th>paginas</th>\n",
       "    </tr>\n",
       "  </thead>\n",
       "  <tbody>\n",
       "    <tr>\n",
       "      <th>0</th>\n",
       "      <td>Suzanne Collins</td>\n",
       "      <td>Hardcover</td>\n",
       "      <td>374 pages</td>\n",
       "      <td>4.33</td>\n",
       "      <td>Young Adult|Fiction|Science Fiction|Dystopia|F...</td>\n",
       "      <td>Fiction</td>\n",
       "      <td>S</td>\n",
       "      <td>374</td>\n",
       "    </tr>\n",
       "    <tr>\n",
       "      <th>1</th>\n",
       "      <td>J.K. Rowling|Mary GrandPré</td>\n",
       "      <td>Paperback</td>\n",
       "      <td>870 pages</td>\n",
       "      <td>4.48</td>\n",
       "      <td>Fantasy|Young Adult|Fiction</td>\n",
       "      <td>Novels</td>\n",
       "      <td>J</td>\n",
       "      <td>870</td>\n",
       "    </tr>\n",
       "    <tr>\n",
       "      <th>2</th>\n",
       "      <td>Harper Lee</td>\n",
       "      <td>Paperback</td>\n",
       "      <td>324 pages</td>\n",
       "      <td>4.27</td>\n",
       "      <td>Classics|Fiction|Historical|Historical Fiction...</td>\n",
       "      <td>Science Fiction</td>\n",
       "      <td>H</td>\n",
       "      <td>324</td>\n",
       "    </tr>\n",
       "    <tr>\n",
       "      <th>3</th>\n",
       "      <td>Jane Austen|Anna Quindlen|Mrs. Oliphant|George...</td>\n",
       "      <td>Paperback</td>\n",
       "      <td>279 pages</td>\n",
       "      <td>4.25</td>\n",
       "      <td>Classics|Fiction|Romance</td>\n",
<<<<<<< HEAD
       "      <td>https://images.gr-assets.com/books/1320399351l...</td>\n",
       "      <td>Science Fiction</td>\n",
       "      <td>M</td>\n",
       "      <td>552</td>\n",
       "    </tr>\n",
       "    <tr>\n",
       "      <th>5</th>\n",
       "      <td>Markus Zusak</td>\n",
       "      <td>Trying to make sense of the horrors of World W...</td>\n",
       "      <td>First American Edition (US / CAN)</td>\n",
       "      <td>Hardcover</td>\n",
       "      <td>9.78038E+12</td>\n",
       "      <td>552 pages</td>\n",
       "      <td>4.36</td>\n",
       "      <td>1485632</td>\n",
       "      <td>100821</td>\n",
       "      <td>The Book Thief</td>\n",
       "      <td>Historical|Historical Fiction|Fiction|Young Adult</td>\n",
       "      <td>https://images.gr-assets.com/books/1522157426l...</td>\n",
       "      <td>Classics</td>\n",
=======
       "      <td>Poetry</td>\n",
>>>>>>> e873c44dac7aa7014e87eac2865c996d9599087d
       "      <td>J</td>\n",
       "      <td>279</td>\n",
       "    </tr>\n",
       "    <tr>\n",
       "      <th>4</th>\n",
       "      <td>Stephenie Meyer</td>\n",
       "      <td>Paperback</td>\n",
       "      <td>498 pages</td>\n",
       "      <td>3.58</td>\n",
       "      <td>Young Adult|Fantasy|Romance|Paranormal|Vampire...</td>\n",
       "      <td>Fantasy</td>\n",
       "      <td>S</td>\n",
       "      <td>498</td>\n",
       "    </tr>\n",
       "  </tbody>\n",
       "</table>\n",
       "</div>"
      ],
      "text/plain": [
       "                                        book_authors book_format book_pages  \\\n",
       "0                                    Suzanne Collins   Hardcover  374 pages   \n",
       "1                         J.K. Rowling|Mary GrandPré   Paperback  870 pages   \n",
       "2                                         Harper Lee   Paperback  324 pages   \n",
       "3  Jane Austen|Anna Quindlen|Mrs. Oliphant|George...   Paperback  279 pages   \n",
       "4                                    Stephenie Meyer   Paperback  498 pages   \n",
       "\n",
       "   book_rating                                             genres  \\\n",
       "0         4.33  Young Adult|Fiction|Science Fiction|Dystopia|F...   \n",
       "1         4.48                        Fantasy|Young Adult|Fiction   \n",
       "2         4.27  Classics|Fiction|Historical|Historical Fiction...   \n",
       "3         4.25                           Classics|Fiction|Romance   \n",
       "4         3.58  Young Adult|Fantasy|Romance|Paranormal|Vampire...   \n",
       "\n",
<<<<<<< HEAD
       "                                           image_url           genero  \\\n",
       "1  https://images.gr-assets.com/books/1255614970l...          Fantasy   \n",
       "2  https://images.gr-assets.com/books/1361975680l...          Fiction   \n",
       "3  https://images.gr-assets.com/books/1320399351l...  Science Fiction   \n",
       "5  https://images.gr-assets.com/books/1522157426l...         Classics   \n",
       "6  https://images.gr-assets.com/books/1449868701l...         Classics   \n",
       "\n",
       "  iniciais  paginas  \n",
       "1        H      324  \n",
       "2        J      279  \n",
       "3        M      552  \n",
       "5        J     1728  \n",
       "6        E      464  "
      ]
     },
     "execution_count": 38,
=======
       "            genero iniciais  paginas  \n",
       "0          Fiction        S      374  \n",
       "1           Novels        J      870  \n",
       "2  Science Fiction        H      324  \n",
       "3           Poetry        J      279  \n",
       "4          Fantasy        S      498  "
      ]
     },
     "execution_count": 7,
>>>>>>> e873c44dac7aa7014e87eac2865c996d9599087d
     "metadata": {},
     "output_type": "execute_result"
    }
   ],
   "source": [
<<<<<<< HEAD
=======
    "# Juntando os dados do DataFrame com os ajeitados \n",
>>>>>>> e873c44dac7aa7014e87eac2865c996d9599087d
    "csv = csv.join(ar1,how='inner')\n",
    "csv = csv.join(iniciais_,how='inner')\n",
    "csv = csv.join(paginas_,how='inner')\n",
    "csv.head()"
   ]
  },
  {
   "cell_type": "code",
<<<<<<< HEAD
   "execution_count": 39,
=======
   "execution_count": 8,
>>>>>>> e873c44dac7aa7014e87eac2865c996d9599087d
   "metadata": {},
   "outputs": [],
   "source": [
    "# Retirando as colunas irrelevantes para a análise geral de avaliações\n",
<<<<<<< HEAD
    "csv.drop(['book_isbn','book_authors','book_desc','book_edition','book_rating_count','book_review_count','genres','image_url','book_pages'],axis=1,inplace=True)"
=======
    "csv.drop(['book_authors','genres','book_pages'],axis=1,inplace=True)"
>>>>>>> e873c44dac7aa7014e87eac2865c996d9599087d
   ]
  },
  {
   "cell_type": "code",
<<<<<<< HEAD
   "execution_count": 40,
=======
   "execution_count": 9,
>>>>>>> e873c44dac7aa7014e87eac2865c996d9599087d
   "metadata": {},
   "outputs": [
    {
     "data": {
      "text/html": [
       "<div>\n",
       "<style scoped>\n",
       "    .dataframe tbody tr th:only-of-type {\n",
       "        vertical-align: middle;\n",
       "    }\n",
       "\n",
       "    .dataframe tbody tr th {\n",
       "        vertical-align: top;\n",
       "    }\n",
       "\n",
       "    .dataframe thead th {\n",
       "        text-align: right;\n",
       "    }\n",
       "</style>\n",
       "<table border=\"1\" class=\"dataframe\">\n",
       "  <thead>\n",
       "    <tr style=\"text-align: right;\">\n",
       "      <th></th>\n",
       "      <th>book_format</th>\n",
       "      <th>book_rating</th>\n",
<<<<<<< HEAD
       "      <th>book_title</th>\n",
=======
>>>>>>> e873c44dac7aa7014e87eac2865c996d9599087d
       "      <th>genero</th>\n",
       "      <th>iniciais</th>\n",
       "      <th>paginas</th>\n",
       "    </tr>\n",
       "  </thead>\n",
       "  <tbody>\n",
       "    <tr>\n",
<<<<<<< HEAD
       "      <th>1</th>\n",
       "      <td>Paperback</td>\n",
       "      <td>4.48</td>\n",
       "      <td>Harry Potter and the Order of the Phoenix</td>\n",
       "      <td>Fantasy</td>\n",
       "      <td>H</td>\n",
       "      <td>324</td>\n",
=======
       "      <th>0</th>\n",
       "      <td>Hardcover</td>\n",
       "      <td>4.33</td>\n",
       "      <td>Fiction</td>\n",
       "      <td>S</td>\n",
       "      <td>374</td>\n",
       "    </tr>\n",
       "    <tr>\n",
       "      <th>1</th>\n",
       "      <td>Paperback</td>\n",
       "      <td>4.48</td>\n",
       "      <td>Novels</td>\n",
       "      <td>J</td>\n",
       "      <td>870</td>\n",
>>>>>>> e873c44dac7aa7014e87eac2865c996d9599087d
       "    </tr>\n",
       "    <tr>\n",
       "      <th>2</th>\n",
       "      <td>Paperback</td>\n",
       "      <td>4.27</td>\n",
<<<<<<< HEAD
       "      <td>To Kill a Mockingbird</td>\n",
       "      <td>Fiction</td>\n",
       "      <td>J</td>\n",
       "      <td>279</td>\n",
=======
       "      <td>Science Fiction</td>\n",
       "      <td>H</td>\n",
       "      <td>324</td>\n",
>>>>>>> e873c44dac7aa7014e87eac2865c996d9599087d
       "    </tr>\n",
       "    <tr>\n",
       "      <th>3</th>\n",
       "      <td>Paperback</td>\n",
       "      <td>4.25</td>\n",
<<<<<<< HEAD
       "      <td>Pride and Prejudice</td>\n",
       "      <td>Science Fiction</td>\n",
       "      <td>M</td>\n",
       "      <td>552</td>\n",
       "    </tr>\n",
       "    <tr>\n",
       "      <th>5</th>\n",
       "      <td>Hardcover</td>\n",
       "      <td>4.36</td>\n",
       "      <td>The Book Thief</td>\n",
       "      <td>Classics</td>\n",
       "      <td>J</td>\n",
       "      <td>1728</td>\n",
       "    </tr>\n",
       "    <tr>\n",
       "      <th>6</th>\n",
       "      <td>Paperback</td>\n",
       "      <td>4.25</td>\n",
       "      <td>The Chronicles of Narnia</td>\n",
       "      <td>Classics</td>\n",
       "      <td>E</td>\n",
       "      <td>464</td>\n",
=======
       "      <td>Poetry</td>\n",
       "      <td>J</td>\n",
       "      <td>279</td>\n",
       "    </tr>\n",
       "    <tr>\n",
       "      <th>4</th>\n",
       "      <td>Paperback</td>\n",
       "      <td>3.58</td>\n",
       "      <td>Fantasy</td>\n",
       "      <td>S</td>\n",
       "      <td>498</td>\n",
>>>>>>> e873c44dac7aa7014e87eac2865c996d9599087d
       "    </tr>\n",
       "  </tbody>\n",
       "</table>\n",
       "</div>"
      ],
      "text/plain": [
<<<<<<< HEAD
       "  book_format  book_rating                                 book_title  \\\n",
       "1   Paperback         4.48  Harry Potter and the Order of the Phoenix   \n",
       "2   Paperback         4.27                      To Kill a Mockingbird   \n",
       "3   Paperback         4.25                        Pride and Prejudice   \n",
       "5   Hardcover         4.36                             The Book Thief   \n",
       "6   Paperback         4.25                   The Chronicles of Narnia   \n",
       "\n",
       "            genero iniciais  paginas  \n",
       "1          Fantasy        H      324  \n",
       "2          Fiction        J      279  \n",
       "3  Science Fiction        M      552  \n",
       "5         Classics        J     1728  \n",
       "6         Classics        E      464  "
      ]
     },
     "execution_count": 40,
=======
       "  book_format  book_rating           genero iniciais  paginas\n",
       "0   Hardcover         4.33          Fiction        S      374\n",
       "1   Paperback         4.48           Novels        J      870\n",
       "2   Paperback         4.27  Science Fiction        H      324\n",
       "3   Paperback         4.25           Poetry        J      279\n",
       "4   Paperback         3.58          Fantasy        S      498"
      ]
     },
     "execution_count": 9,
>>>>>>> e873c44dac7aa7014e87eac2865c996d9599087d
     "metadata": {},
     "output_type": "execute_result"
    }
   ],
   "source": [
    "csv.head()"
   ]
  },
  {
   "cell_type": "code",
<<<<<<< HEAD
   "execution_count": 41,
   "metadata": {},
   "outputs": [
    {
     "data": {
      "text/plain": [
       "Fiction                64\n",
       "Fantasy                55\n",
       "Classics               54\n",
       "Romance                29\n",
       "Young Adult            28\n",
       "Nonfiction             24\n",
       "Mystery                21\n",
       "Sequential Art         16\n",
       "Historical             12\n",
       "Horror                 12\n",
       "Philosophy             11\n",
       "Science Fiction        11\n",
       "History                 9\n",
       "Poetry                  7\n",
       "Short Stories           7\n",
       "Religion                7\n",
       "Humor                   6\n",
       "Paranormal              5\n",
       "Thriller                5\n",
       "European Literature     5\n",
       "Business                4\n",
       "Childrens               4\n",
       "Cultural                3\n",
       "Novels                  3\n",
       "New Adult               3\n",
       "Christian               3\n",
       "Plays                   2\n",
       "Literature              2\n",
       "Psychology              2\n",
       "Music                   2\n",
       "Reference               2\n",
       "Contemporary            2\n",
       "Christian Fiction       2\n",
       "Health                  2\n",
       "Science                 2\n",
       "Lgbt                    2\n",
       "Food and Drink          1\n",
       "Urban                   1\n",
       "Politics                1\n",
       "Christianity            1\n",
       "Culture                 1\n",
       "Adult                   1\n",
       "Games                   1\n",
       "Media Tie In            1\n",
       "Unfinished              1\n",
       "Womens Fiction          1\n",
       "Biography               1\n",
       "Crime                   1\n",
       "Leadership              1\n",
       "Sociology               1\n",
       "Westerns                1\n",
       "American                1\n",
       "Economics               1\n",
       "Animals                 1\n",
       "Autobiography           1\n",
       "Language                1\n",
       "Design                  1\n",
       "Name: genero, dtype: int64"
      ]
     },
     "execution_count": 41,
     "metadata": {},
     "output_type": "execute_result"
    }
   ],
   "source": [
    "csv['genero'].value_counts()"
   ]
  },
  {
   "cell_type": "code",
   "execution_count": 42,
   "metadata": {
    "scrolled": true
   },
   "outputs": [
    {
     "data": {
      "text/plain": [
       "(449, 6)"
      ]
     },
     "execution_count": 42,
     "metadata": {},
     "output_type": "execute_result"
    }
   ],
   "source": [
    "csv.shape"
   ]
  },
  {
   "cell_type": "code",
   "execution_count": 43,
   "metadata": {},
   "outputs": [
    {
     "ename": "AttributeError",
     "evalue": "'DataFrame' object has no attribute 'book_edition'",
     "output_type": "error",
     "traceback": [
      "\u001b[0;31m---------------------------------------------------------------------------\u001b[0m",
      "\u001b[0;31mAttributeError\u001b[0m                            Traceback (most recent call last)",
      "\u001b[0;32m<ipython-input-43-2a3fdfec3c56>\u001b[0m in \u001b[0;36m<module>\u001b[0;34m\u001b[0m\n\u001b[0;32m----> 1\u001b[0;31m \u001b[0mpd\u001b[0m\u001b[0;34m.\u001b[0m\u001b[0mcrosstab\u001b[0m\u001b[0;34m(\u001b[0m\u001b[0mcsv\u001b[0m\u001b[0;34m.\u001b[0m\u001b[0mbook_edition\u001b[0m\u001b[0;34m,\u001b[0m \u001b[0mcsv\u001b[0m\u001b[0;34m.\u001b[0m\u001b[0mgenero\u001b[0m\u001b[0;34m)\u001b[0m\u001b[0;34m\u001b[0m\u001b[0;34m\u001b[0m\u001b[0m\n\u001b[0m",
      "\u001b[0;32m/usr/local/lib/python3.7/site-packages/pandas/core/generic.py\u001b[0m in \u001b[0;36m__getattr__\u001b[0;34m(self, name)\u001b[0m\n\u001b[1;32m   5177\u001b[0m             \u001b[0;32mif\u001b[0m \u001b[0mself\u001b[0m\u001b[0;34m.\u001b[0m\u001b[0m_info_axis\u001b[0m\u001b[0;34m.\u001b[0m\u001b[0m_can_hold_identifiers_and_holds_name\u001b[0m\u001b[0;34m(\u001b[0m\u001b[0mname\u001b[0m\u001b[0;34m)\u001b[0m\u001b[0;34m:\u001b[0m\u001b[0;34m\u001b[0m\u001b[0;34m\u001b[0m\u001b[0m\n\u001b[1;32m   5178\u001b[0m                 \u001b[0;32mreturn\u001b[0m \u001b[0mself\u001b[0m\u001b[0;34m[\u001b[0m\u001b[0mname\u001b[0m\u001b[0;34m]\u001b[0m\u001b[0;34m\u001b[0m\u001b[0;34m\u001b[0m\u001b[0m\n\u001b[0;32m-> 5179\u001b[0;31m             \u001b[0;32mreturn\u001b[0m \u001b[0mobject\u001b[0m\u001b[0;34m.\u001b[0m\u001b[0m__getattribute__\u001b[0m\u001b[0;34m(\u001b[0m\u001b[0mself\u001b[0m\u001b[0;34m,\u001b[0m \u001b[0mname\u001b[0m\u001b[0;34m)\u001b[0m\u001b[0;34m\u001b[0m\u001b[0;34m\u001b[0m\u001b[0m\n\u001b[0m\u001b[1;32m   5180\u001b[0m \u001b[0;34m\u001b[0m\u001b[0m\n\u001b[1;32m   5181\u001b[0m     \u001b[0;32mdef\u001b[0m \u001b[0m__setattr__\u001b[0m\u001b[0;34m(\u001b[0m\u001b[0mself\u001b[0m\u001b[0;34m,\u001b[0m \u001b[0mname\u001b[0m\u001b[0;34m,\u001b[0m \u001b[0mvalue\u001b[0m\u001b[0;34m)\u001b[0m\u001b[0;34m:\u001b[0m\u001b[0;34m\u001b[0m\u001b[0;34m\u001b[0m\u001b[0m\n",
      "\u001b[0;31mAttributeError\u001b[0m: 'DataFrame' object has no attribute 'book_edition'"
     ]
    }
   ],
   "source": [
    "pd.crosstab(csv.book_edition, csv.genero)"
   ]
  },
  {
   "cell_type": "code",
   "execution_count": null,
   "metadata": {},
   "outputs": [],
   "source": [
    "# Apenas os livros com 3.5 estrelas ou mais de avaliação no Goodreads\n",
    "csv.loc[(csv['book_rating']>= 3.5)]"
   ]
  },
  {
   "cell_type": "code",
   "execution_count": null,
=======
   "execution_count": 13,
>>>>>>> e873c44dac7aa7014e87eac2865c996d9599087d
   "metadata": {},
   "outputs": [],
   "source": [
    "# Separando as variáveis em quantitativas, qualitativas e a desejada\n",
    "y = csv['book_rating'].values\n",
    "num = csv[['paginas']]\n",
    "qual = csv[['book_format','genero','iniciais']]"
   ]
  },
  {
   "cell_type": "code",
<<<<<<< HEAD
   "execution_count": null,
   "metadata": {},
   "outputs": [],
=======
   "execution_count": 14,
   "metadata": {},
   "outputs": [
    {
     "data": {
      "text/html": [
       "<div>\n",
       "<style scoped>\n",
       "    .dataframe tbody tr th:only-of-type {\n",
       "        vertical-align: middle;\n",
       "    }\n",
       "\n",
       "    .dataframe tbody tr th {\n",
       "        vertical-align: top;\n",
       "    }\n",
       "\n",
       "    .dataframe thead th {\n",
       "        text-align: right;\n",
       "    }\n",
       "</style>\n",
       "<table border=\"1\" class=\"dataframe\">\n",
       "  <thead>\n",
       "    <tr style=\"text-align: right;\">\n",
       "      <th></th>\n",
       "      <th>book_format</th>\n",
       "      <th>genero</th>\n",
       "      <th>iniciais</th>\n",
       "    </tr>\n",
       "  </thead>\n",
       "  <tbody>\n",
       "    <tr>\n",
       "      <th>0</th>\n",
       "      <td>Hardcover</td>\n",
       "      <td>Fiction</td>\n",
       "      <td>S</td>\n",
       "    </tr>\n",
       "    <tr>\n",
       "      <th>1</th>\n",
       "      <td>Paperback</td>\n",
       "      <td>Novels</td>\n",
       "      <td>J</td>\n",
       "    </tr>\n",
       "    <tr>\n",
       "      <th>2</th>\n",
       "      <td>Paperback</td>\n",
       "      <td>Science Fiction</td>\n",
       "      <td>H</td>\n",
       "    </tr>\n",
       "    <tr>\n",
       "      <th>3</th>\n",
       "      <td>Paperback</td>\n",
       "      <td>Poetry</td>\n",
       "      <td>J</td>\n",
       "    </tr>\n",
       "    <tr>\n",
       "      <th>4</th>\n",
       "      <td>Paperback</td>\n",
       "      <td>Fantasy</td>\n",
       "      <td>S</td>\n",
       "    </tr>\n",
       "  </tbody>\n",
       "</table>\n",
       "</div>"
      ],
      "text/plain": [
       "  book_format           genero iniciais\n",
       "0   Hardcover          Fiction        S\n",
       "1   Paperback           Novels        J\n",
       "2   Paperback  Science Fiction        H\n",
       "3   Paperback           Poetry        J\n",
       "4   Paperback          Fantasy        S"
      ]
     },
     "execution_count": 14,
     "metadata": {},
     "output_type": "execute_result"
    }
   ],
>>>>>>> e873c44dac7aa7014e87eac2865c996d9599087d
   "source": [
    "qual.head()"
   ]
  },
  {
   "cell_type": "code",
<<<<<<< HEAD
   "execution_count": null,
=======
   "execution_count": 15,
>>>>>>> e873c44dac7aa7014e87eac2865c996d9599087d
   "metadata": {},
   "outputs": [],
   "source": [
    "#Transformando as qualitativas em quantitativas\n",
    "encoder = OneHotEncoder()\n",
    "capa_encoded = encoder.fit_transform(qual)"
   ]
  },
  {
   "cell_type": "code",
<<<<<<< HEAD
   "execution_count": null,
=======
   "execution_count": 16,
>>>>>>> e873c44dac7aa7014e87eac2865c996d9599087d
   "metadata": {},
   "outputs": [],
   "source": [
    "# Pegando somente os valores que já são quantitativos\n",
    "x_num = num.values"
   ]
  },
  {
   "cell_type": "code",
<<<<<<< HEAD
   "execution_count": null,
=======
   "execution_count": 17,
>>>>>>> e873c44dac7aa7014e87eac2865c996d9599087d
   "metadata": {
    "scrolled": false
   },
   "outputs": [],
   "source": [
    "#Transformar em array facilita a exploração dos dados\n",
    "x_encoded = capa_encoded.toarray()"
   ]
  },
  {
   "cell_type": "code",
<<<<<<< HEAD
   "execution_count": null,
=======
   "execution_count": 18,
>>>>>>> e873c44dac7aa7014e87eac2865c996d9599087d
   "metadata": {},
   "outputs": [],
   "source": [
    "#Juntando a lista binária e as páginas\n",
    "X = np.concatenate((x_num,x_encoded), axis=1)"
   ]
  },
  {
   "cell_type": "code",
<<<<<<< HEAD
   "execution_count": null,
   "metadata": {},
   "outputs": [],
=======
   "execution_count": 19,
   "metadata": {},
   "outputs": [
    {
     "data": {
      "text/plain": [
       "array([374.,   0.,   0.,   0.,   0.,   0.,   0.,   0.,   0.,   0.,   0.,\n",
       "         0.,   0.,   0.,   0.,   0.,   0.,   0.,   0.,   0.,   0.,   0.,\n",
       "         0.,   0.,   0.,   0.,   0.,   0.,   0.,   0.,   0.,   1.,   0.,\n",
       "         0.,   0.,   0.,   0.,   0.,   0.,   0.,   0.,   0.,   0.,   0.,\n",
       "         0.,   0.,   0.,   0.,   0.,   0.,   0.,   0.,   0.,   0.,   0.,\n",
       "         0.,   0.,   0.,   0.,   0.,   0.,   0.,   0.,   0.,   0.,   0.,\n",
       "         0.,   0.,   0.,   0.,   0.,   0.,   0.,   0.,   0.,   0.,   0.,\n",
       "         0.,   0.,   0.,   0.,   0.,   0.,   0.,   0.,   0.,   0.,   0.,\n",
       "         0.,   0.,   0.,   0.,   0.,   0.,   0.,   0.,   0.,   0.,   0.,\n",
       "         0.,   0.,   0.,   0.,   0.,   0.,   0.,   0.,   0.,   0.,   0.,\n",
       "         0.,   0.,   0.,   0.,   0.,   0.,   0.,   0.,   0.,   0.,   0.,\n",
       "         0.,   0.,   0.,   0.,   0.,   0.,   0.,   0.,   0.,   0.,   0.,\n",
       "         0.,   0.,   0.,   0.,   0.,   0.,   0.,   0.,   0.,   0.,   0.,\n",
       "         0.,   0.,   0.,   0.,   0.,   0.,   0.,   1.,   0.,   0.,   0.,\n",
       "         0.,   0.,   0.,   0.,   0.,   0.,   0.,   0.,   0.,   0.,   0.,\n",
       "         0.,   0.,   0.,   0.,   0.,   0.,   0.,   0.,   0.,   0.,   0.,\n",
       "         0.,   0.,   0.,   0.,   0.,   0.,   0.,   0.,   0.,   0.,   0.,\n",
       "         0.,   0.,   0.,   0.,   0.,   0.,   0.,   0.,   0.,   0.,   0.,\n",
       "         0.,   0.,   0.,   0.,   0.,   0.,   0.,   0.,   0.,   0.,   0.,\n",
       "         0.,   0.,   0.,   0.,   0.,   0.,   0.,   0.,   0.,   0.,   0.,\n",
       "         0.,   0.,   0.,   0.,   0.,   0.,   0.,   0.,   0.,   0.,   0.,\n",
       "         0.,   0.,   0.,   0.,   0.,   0.,   0.,   0.,   0.,   0.,   0.,\n",
       "         0.,   0.,   0.,   0.,   0.,   0.,   0.,   0.,   0.,   0.,   0.,\n",
       "         0.,   0.,   0.,   0.,   0.,   0.,   0.,   0.,   0.,   0.,   0.,\n",
       "         0.,   0.,   0.,   0.,   0.,   0.,   0.,   0.,   0.,   0.,   0.,\n",
       "         0.,   0.,   0.,   0.,   0.,   0.,   0.,   0.,   0.,   0.,   0.,\n",
       "         0.,   0.,   0.,   0.,   0.,   1.,   0.,   0.,   0.,   0.,   0.,\n",
       "         0.,   0.,   0.,   0.,   0.,   0.,   0.,   0.,   0.,   0.,   0.,\n",
       "         0.,   0.,   0.,   0.,   0.,   0.,   0.,   0.,   0.,   0.,   0.,\n",
       "         0.,   0.,   0.,   0.,   0.,   0.,   0.,   0.,   0.,   0.,   0.,\n",
       "         0.,   0.,   0.,   0.,   0.,   0.,   0.,   0.,   0.,   0.,   0.,\n",
       "         0.,   0.,   0.,   0.,   0.,   0.,   0.,   0.,   0.,   0.])"
      ]
     },
     "execution_count": 19,
     "metadata": {},
     "output_type": "execute_result"
    }
   ],
>>>>>>> e873c44dac7aa7014e87eac2865c996d9599087d
   "source": [
    "# Informações transformadas em quantitativas de todas as variáveis do livro 1\n",
    "X[0]"
   ]
  },
  {
   "cell_type": "code",
   "execution_count": 20,
   "metadata": {},
   "outputs": [
    {
     "data": {
      "text/plain": [
       "4.33"
      ]
     },
     "execution_count": 20,
     "metadata": {},
     "output_type": "execute_result"
    }
   ],
   "source": [
    "#Rating do livro 1\n",
    "y[0]"
   ]
  },
  {
   "cell_type": "code",
   "execution_count": 32,
   "metadata": {},
   "outputs": [
    {
     "data": {
      "text/html": [
       "<div>\n",
       "<style scoped>\n",
       "    .dataframe tbody tr th:only-of-type {\n",
       "        vertical-align: middle;\n",
       "    }\n",
       "\n",
       "    .dataframe tbody tr th {\n",
       "        vertical-align: top;\n",
       "    }\n",
       "\n",
       "    .dataframe thead th {\n",
       "        text-align: right;\n",
       "    }\n",
       "</style>\n",
       "<table border=\"1\" class=\"dataframe\">\n",
       "  <thead>\n",
       "    <tr style=\"text-align: right;\">\n",
       "      <th></th>\n",
       "      <th>Atual</th>\n",
       "      <th>Predito</th>\n",
       "    </tr>\n",
       "  </thead>\n",
       "  <tbody>\n",
       "    <tr>\n",
       "      <th>0</th>\n",
       "      <td>4.12</td>\n",
       "      <td>4.042697</td>\n",
       "    </tr>\n",
       "    <tr>\n",
       "      <th>1</th>\n",
       "      <td>3.92</td>\n",
       "      <td>3.947924</td>\n",
       "    </tr>\n",
       "    <tr>\n",
       "      <th>2</th>\n",
       "      <td>4.01</td>\n",
       "      <td>4.121050</td>\n",
       "    </tr>\n",
       "    <tr>\n",
       "      <th>3</th>\n",
       "      <td>3.84</td>\n",
       "      <td>4.084907</td>\n",
       "    </tr>\n",
       "    <tr>\n",
       "      <th>4</th>\n",
       "      <td>3.92</td>\n",
       "      <td>4.029310</td>\n",
       "    </tr>\n",
       "    <tr>\n",
       "      <th>5</th>\n",
       "      <td>4.17</td>\n",
       "      <td>4.014975</td>\n",
       "    </tr>\n",
       "    <tr>\n",
       "      <th>6</th>\n",
       "      <td>4.11</td>\n",
       "      <td>4.007395</td>\n",
       "    </tr>\n",
       "    <tr>\n",
       "      <th>7</th>\n",
       "      <td>3.87</td>\n",
       "      <td>4.014232</td>\n",
       "    </tr>\n",
       "    <tr>\n",
       "      <th>8</th>\n",
       "      <td>4.02</td>\n",
       "      <td>4.024518</td>\n",
       "    </tr>\n",
       "    <tr>\n",
       "      <th>9</th>\n",
       "      <td>4.02</td>\n",
       "      <td>4.007944</td>\n",
       "    </tr>\n",
       "  </tbody>\n",
       "</table>\n",
       "</div>"
      ],
      "text/plain": [
       "   Atual   Predito\n",
       "0   4.12  4.042697\n",
       "1   3.92  3.947924\n",
       "2   4.01  4.121050\n",
       "3   3.84  4.084907\n",
       "4   3.92  4.029310\n",
       "5   4.17  4.014975\n",
       "6   4.11  4.007395\n",
       "7   3.87  4.014232\n",
       "8   4.02  4.024518\n",
       "9   4.02  4.007944"
      ]
     },
     "execution_count": 32,
     "metadata": {},
     "output_type": "execute_result"
    }
   ],
   "source": [
    "# Treinando o modelo para a regressão linear\n",
    "from sklearn.ensemble import RandomForestClassifier\n",
    "from sklearn.model_selection import train_test_split\n",
    "from sklearn.metrics import accuracy_score\n",
    "from sklearn import preprocessing,utils, metrics\n",
    "from sklearn.linear_model import LinearRegression\n",
    "\n",
    "# Separando a parte de teste e treino\n",
    "X_train, X_test, y_train, y_test = train_test_split(X, y, test_size=0.2, random_state=0)\n",
    "\n",
    "# Aplicando a regressão linear\n",
    "regressor = LinearRegression()\n",
    "regressor.fit(X_train, y_train)\n",
    "\n",
    "# Fazendo a predição dos valores\n",
    "y_pred = regressor.predict(X_test)\n",
    "\n",
    "# Para evitar que haja pontos em que o rating seja acima de 5 ou abaixo de 0\n",
    "for i in range(len(y_pred)):\n",
    "    if y_pred[i]>5:\n",
    "        y_pred[i]=5\n",
    "    elif y_pred[i]<0:\n",
    "        y_pred[i]=0\n",
    "        \n",
    "df = pd.DataFrame({'Atual': y_test.flatten(), 'Predito': y_pred.flatten()})\n",
    "df.head(10)"
   ]
  },
  {
   "cell_type": "markdown",
   "metadata": {},
   "source": [
    "A partir do Dataframe acima é possível concluir que o modelo está correspondente ao esperado, porém vamos analisar de maneira mais visual."
   ]
  },
  {
   "cell_type": "code",
   "execution_count": 33,
   "metadata": {},
   "outputs": [
    {
     "data": {
      "image/png": "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\n",
      "text/plain": [
       "<Figure size 1152x720 with 1 Axes>"
      ]
     },
     "metadata": {
      "needs_background": "light"
     },
     "output_type": "display_data"
    }
   ],
   "source": [
    "df1 = df.head(25)\n",
    "df1.plot(kind='bar',figsize=(16,10))\n",
    "plt.grid(which='major', linestyle='-', linewidth='0.5', color='green')\n",
    "plt.grid(which='minor', linestyle=':', linewidth='0.5', color='black')\n",
    "plt.xlabel('Book Index')\n",
    "plt.ylabel('Rating')\n",
    "plt.show()"
   ]
  },
  {
   "cell_type": "markdown",
   "metadata": {},
   "source": [
    "A partir do gráfico acima é possível entender que as previsões estão bem próximas das que são de verdade. Vamos então usar a métrica do R² para avaliar nossa regressão."
   ]
  },
  {
   "cell_type": "code",
   "execution_count": 34,
   "metadata": {},
   "outputs": [
    {
     "name": "stdout",
     "output_type": "stream",
     "text": [
      "O R² é -1.0669881042672031\n"
     ]
    }
   ],
   "source": [
    "print(\"O R² é \" + str(metrics.r2_score(df['Atual'],df['Predito'])))"
   ]
  },
  {
   "cell_type": "markdown",
   "metadata": {},
   "source": [
    "Portanto, nosso modelo tem um R² de -1.0669881042672031 que significa que nosso modelo tem uma avaliação de que a nota atribuída pelo computador é normalmente menor que a que de fato é, em cerca de 1 ponto na classificação segundo o ranking do Goodreads."
   ]
  },
  {
   "cell_type": "markdown",
   "metadata": {},
   "source": [
    "## Como poderíamos iterar nosso modelo?\n"
   ]
  },
  {
   "cell_type": "code",
   "execution_count": null,
   "metadata": {},
   "outputs": [],
   "source": []
  },
  {
   "cell_type": "code",
   "execution_count": null,
   "metadata": {},
   "outputs": [],
   "source": []
  },
  {
   "cell_type": "code",
   "execution_count": null,
   "metadata": {},
   "outputs": [],
   "source": []
  },
  {
   "cell_type": "code",
   "execution_count": null,
   "metadata": {},
   "outputs": [],
   "source": []
  },
  {
   "cell_type": "code",
   "execution_count": 22,
   "metadata": {},
   "outputs": [],
   "source": [
    "#Usando outro DataFrame (de 2018) para fazer a predição:\n",
    "teste_X2 = pd.read_csv('book_data_2018.csv')"
   ]
  },
  {
   "cell_type": "code",
   "execution_count": 23,
   "metadata": {},
   "outputs": [
    {
     "data": {
      "text/html": [
       "<div>\n",
       "<style scoped>\n",
       "    .dataframe tbody tr th:only-of-type {\n",
       "        vertical-align: middle;\n",
       "    }\n",
       "\n",
       "    .dataframe tbody tr th {\n",
       "        vertical-align: top;\n",
       "    }\n",
       "\n",
       "    .dataframe thead th {\n",
       "        text-align: right;\n",
       "    }\n",
       "</style>\n",
       "<table border=\"1\" class=\"dataframe\">\n",
       "  <thead>\n",
       "    <tr style=\"text-align: right;\">\n",
       "      <th></th>\n",
       "      <th>book_authors</th>\n",
       "      <th>book_format</th>\n",
       "      <th>book_pages</th>\n",
       "      <th>book_rating</th>\n",
       "      <th>book_title</th>\n",
       "      <th>genres</th>\n",
       "    </tr>\n",
       "  </thead>\n",
       "  <tbody>\n",
       "    <tr>\n",
       "      <th>0</th>\n",
       "      <td>Kristin Hannah</td>\n",
       "      <td>Kindle Edition</td>\n",
       "      <td>435 pages</td>\n",
       "      <td>4.33</td>\n",
       "      <td>The Great Alone</td>\n",
       "      <td>Fiction|Historical|Historical Fiction|Audioboo...</td>\n",
       "    </tr>\n",
       "    <tr>\n",
       "      <th>1</th>\n",
       "      <td>Madeline Miller</td>\n",
       "      <td>Hardcover</td>\n",
       "      <td>393 pages</td>\n",
       "      <td>4.34</td>\n",
       "      <td>Circe</td>\n",
       "      <td>Fantasy|Fiction|Fantasy|Mythology|Historical|H...</td>\n",
       "    </tr>\n",
       "    <tr>\n",
       "      <th>2</th>\n",
       "      <td>Holly Black</td>\n",
       "      <td>Hardcover</td>\n",
       "      <td>370 pages</td>\n",
       "      <td>4.18</td>\n",
       "      <td>The Cruel Prince</td>\n",
       "      <td>Fantasy|Young Adult|Fairies|Fae</td>\n",
       "    </tr>\n",
       "    <tr>\n",
       "      <th>3</th>\n",
       "      <td>A.J. Finn</td>\n",
       "      <td>Kindle Edition</td>\n",
       "      <td>449 pages</td>\n",
       "      <td>3.97</td>\n",
       "      <td>The Woman in the Window</td>\n",
       "      <td>Mystery|Thriller|Fiction|Suspense|Thriller|Mys...</td>\n",
       "    </tr>\n",
       "    <tr>\n",
       "      <th>4</th>\n",
       "      <td>Tara Westover</td>\n",
       "      <td>Hardcover</td>\n",
       "      <td>334 pages</td>\n",
       "      <td>4.47</td>\n",
       "      <td>Educated</td>\n",
       "      <td>Nonfiction|Autobiography|Memoir|Biography</td>\n",
       "    </tr>\n",
       "  </tbody>\n",
       "</table>\n",
       "</div>"
      ],
      "text/plain": [
       "      book_authors     book_format book_pages  book_rating  \\\n",
       "0   Kristin Hannah  Kindle Edition  435 pages         4.33   \n",
       "1  Madeline Miller       Hardcover  393 pages         4.34   \n",
       "2      Holly Black       Hardcover  370 pages         4.18   \n",
       "3        A.J. Finn  Kindle Edition  449 pages         3.97   \n",
       "4    Tara Westover       Hardcover  334 pages         4.47   \n",
       "\n",
       "                book_title                                             genres  \n",
       "0          The Great Alone  Fiction|Historical|Historical Fiction|Audioboo...  \n",
       "1                    Circe  Fantasy|Fiction|Fantasy|Mythology|Historical|H...  \n",
       "2         The Cruel Prince                    Fantasy|Young Adult|Fairies|Fae  \n",
       "3  The Woman in the Window  Mystery|Thriller|Fiction|Suspense|Thriller|Mys...  \n",
       "4                 Educated          Nonfiction|Autobiography|Memoir|Biography  "
      ]
     },
     "execution_count": 23,
     "metadata": {},
     "output_type": "execute_result"
    }
   ],
   "source": [
    "teste_X2.drop(['book_desc', 'book_edition', 'book_isbn', 'book_rating_count', 'book_review_count', 'image_url'], axis=1, inplace=True)\n",
    "teste_X2=teste_X2.dropna()\n",
    "teste_X2.head()"
   ]
  },
  {
   "cell_type": "code",
   "execution_count": 24,
   "metadata": {},
   "outputs": [
    {
     "name": "stdout",
     "output_type": "stream",
     "text": [
      "[435, 393, 370, 449, 334, 525, 308, 352, 346, 504]\n",
      "['K', 'M', 'H', 'A', 'T', 'T', 'T', 'M', 'G', 'N']\n",
      "['Romance', 'Romance', 'Fantasy', 'Fiction', 'Romance', 'Historical', 'Romance', 'Mystery', 'Romance', 'Fiction']\n"
     ]
    }
   ],
   "source": [
    "ar_2018 = teste_X2['genres'].value_counts()\n",
    "ar1_2018 = []\n",
    "iniciais_2018 = []\n",
    "paginas_2018 = []\n",
    "\n",
    "# Escolhendo como gênero literário apenas o primeiro listado.\n",
    "for i in ar_2018.index:\n",
    "    if i == \"\":\n",
    "        ar1_2018.append(\"\")\n",
    "    else:\n",
    "        a = i.split('|')\n",
    "        ar1_2018.append(a[0])\n",
    "        \n",
    "# Selecionando apenas a inicial dos nomes dos autores\n",
    "for i in teste_X2['book_authors']:\n",
    "    iniciais_2018.append(i[0])\n",
    "\n",
    "# Apenas o número de páginas aparecerá, sem a palavra \"pages\"\n",
    "for i in teste_X2['book_pages']:\n",
    "    numero_2018 = i.split(' ')\n",
    "    paginas_2018.append(int(numero_2018[0]))\n",
    "print(paginas_2018[0:10])\n",
    "print(iniciais_2018[0:10])\n",
    "print(ar1_2018[0:10])"
   ]
  },
  {
   "cell_type": "code",
   "execution_count": 25,
   "metadata": {},
   "outputs": [],
   "source": [
    "# Criando colunas no DataFrame para as iniciais dos autores, os números de páginas e o principal gênero do livro\n",
    "ar1_2018=pd.DataFrame({'genero':ar1_2018})\n",
    "iniciais_2018_ = pd.DataFrame({'iniciais':iniciais_2018})\n",
    "paginas_2018_ = pd.DataFrame({'paginas':paginas_2018})"
   ]
  },
  {
   "cell_type": "code",
   "execution_count": 26,
   "metadata": {},
   "outputs": [
    {
     "data": {
      "text/html": [
       "<div>\n",
       "<style scoped>\n",
       "    .dataframe tbody tr th:only-of-type {\n",
       "        vertical-align: middle;\n",
       "    }\n",
       "\n",
       "    .dataframe tbody tr th {\n",
       "        vertical-align: top;\n",
       "    }\n",
       "\n",
       "    .dataframe thead th {\n",
       "        text-align: right;\n",
       "    }\n",
       "</style>\n",
       "<table border=\"1\" class=\"dataframe\">\n",
       "  <thead>\n",
       "    <tr style=\"text-align: right;\">\n",
       "      <th></th>\n",
       "      <th>book_authors</th>\n",
       "      <th>book_format</th>\n",
       "      <th>book_pages</th>\n",
       "      <th>book_rating</th>\n",
       "      <th>book_title</th>\n",
       "      <th>genres</th>\n",
       "      <th>genero</th>\n",
       "      <th>iniciais</th>\n",
       "      <th>paginas</th>\n",
       "    </tr>\n",
       "  </thead>\n",
       "  <tbody>\n",
       "    <tr>\n",
       "      <th>0</th>\n",
       "      <td>Kristin Hannah</td>\n",
       "      <td>Kindle Edition</td>\n",
       "      <td>435 pages</td>\n",
       "      <td>4.33</td>\n",
       "      <td>The Great Alone</td>\n",
       "      <td>Fiction|Historical|Historical Fiction|Audioboo...</td>\n",
       "      <td>Romance</td>\n",
       "      <td>K</td>\n",
       "      <td>435</td>\n",
       "    </tr>\n",
       "    <tr>\n",
       "      <th>1</th>\n",
       "      <td>Madeline Miller</td>\n",
       "      <td>Hardcover</td>\n",
       "      <td>393 pages</td>\n",
       "      <td>4.34</td>\n",
       "      <td>Circe</td>\n",
       "      <td>Fantasy|Fiction|Fantasy|Mythology|Historical|H...</td>\n",
       "      <td>Romance</td>\n",
       "      <td>M</td>\n",
       "      <td>393</td>\n",
       "    </tr>\n",
       "    <tr>\n",
       "      <th>2</th>\n",
       "      <td>Holly Black</td>\n",
       "      <td>Hardcover</td>\n",
       "      <td>370 pages</td>\n",
       "      <td>4.18</td>\n",
       "      <td>The Cruel Prince</td>\n",
       "      <td>Fantasy|Young Adult|Fairies|Fae</td>\n",
       "      <td>Fantasy</td>\n",
       "      <td>H</td>\n",
       "      <td>370</td>\n",
       "    </tr>\n",
       "    <tr>\n",
       "      <th>3</th>\n",
       "      <td>A.J. Finn</td>\n",
       "      <td>Kindle Edition</td>\n",
       "      <td>449 pages</td>\n",
       "      <td>3.97</td>\n",
       "      <td>The Woman in the Window</td>\n",
       "      <td>Mystery|Thriller|Fiction|Suspense|Thriller|Mys...</td>\n",
       "      <td>Fiction</td>\n",
       "      <td>A</td>\n",
       "      <td>449</td>\n",
       "    </tr>\n",
       "    <tr>\n",
       "      <th>4</th>\n",
       "      <td>Tara Westover</td>\n",
       "      <td>Hardcover</td>\n",
       "      <td>334 pages</td>\n",
       "      <td>4.47</td>\n",
       "      <td>Educated</td>\n",
       "      <td>Nonfiction|Autobiography|Memoir|Biography</td>\n",
       "      <td>Romance</td>\n",
       "      <td>T</td>\n",
       "      <td>334</td>\n",
       "    </tr>\n",
       "  </tbody>\n",
       "</table>\n",
       "</div>"
      ],
      "text/plain": [
       "      book_authors     book_format book_pages  book_rating  \\\n",
       "0   Kristin Hannah  Kindle Edition  435 pages         4.33   \n",
       "1  Madeline Miller       Hardcover  393 pages         4.34   \n",
       "2      Holly Black       Hardcover  370 pages         4.18   \n",
       "3        A.J. Finn  Kindle Edition  449 pages         3.97   \n",
       "4    Tara Westover       Hardcover  334 pages         4.47   \n",
       "\n",
       "                book_title                                             genres  \\\n",
       "0          The Great Alone  Fiction|Historical|Historical Fiction|Audioboo...   \n",
       "1                    Circe  Fantasy|Fiction|Fantasy|Mythology|Historical|H...   \n",
       "2         The Cruel Prince                    Fantasy|Young Adult|Fairies|Fae   \n",
       "3  The Woman in the Window  Mystery|Thriller|Fiction|Suspense|Thriller|Mys...   \n",
       "4                 Educated          Nonfiction|Autobiography|Memoir|Biography   \n",
       "\n",
       "    genero iniciais  paginas  \n",
       "0  Romance        K      435  \n",
       "1  Romance        M      393  \n",
       "2  Fantasy        H      370  \n",
       "3  Fiction        A      449  \n",
       "4  Romance        T      334  "
      ]
     },
     "execution_count": 26,
     "metadata": {},
     "output_type": "execute_result"
    }
   ],
   "source": [
    "teste_X2 = teste_X2.join(ar1_2018,how='inner')\n",
    "teste_X2 = teste_X2.join(iniciais_2018_,how='inner')\n",
    "teste_X2 = teste_X2.join(paginas_2018_,how='inner')\n",
    "teste_X2.head()"
   ]
  },
  {
   "cell_type": "code",
   "execution_count": 27,
   "metadata": {},
   "outputs": [
    {
     "data": {
      "text/html": [
       "<div>\n",
       "<style scoped>\n",
       "    .dataframe tbody tr th:only-of-type {\n",
       "        vertical-align: middle;\n",
       "    }\n",
       "\n",
       "    .dataframe tbody tr th {\n",
       "        vertical-align: top;\n",
       "    }\n",
       "\n",
       "    .dataframe thead th {\n",
       "        text-align: right;\n",
       "    }\n",
       "</style>\n",
       "<table border=\"1\" class=\"dataframe\">\n",
       "  <thead>\n",
       "    <tr style=\"text-align: right;\">\n",
       "      <th></th>\n",
       "      <th>book_format</th>\n",
       "      <th>book_rating</th>\n",
       "      <th>book_title</th>\n",
       "      <th>genero</th>\n",
       "      <th>iniciais</th>\n",
       "      <th>paginas</th>\n",
       "    </tr>\n",
       "  </thead>\n",
       "  <tbody>\n",
       "    <tr>\n",
       "      <th>0</th>\n",
       "      <td>Kindle Edition</td>\n",
       "      <td>4.33</td>\n",
       "      <td>The Great Alone</td>\n",
       "      <td>Romance</td>\n",
       "      <td>K</td>\n",
       "      <td>435</td>\n",
       "    </tr>\n",
       "    <tr>\n",
       "      <th>1</th>\n",
       "      <td>Hardcover</td>\n",
       "      <td>4.34</td>\n",
       "      <td>Circe</td>\n",
       "      <td>Romance</td>\n",
       "      <td>M</td>\n",
       "      <td>393</td>\n",
       "    </tr>\n",
       "    <tr>\n",
       "      <th>2</th>\n",
       "      <td>Hardcover</td>\n",
       "      <td>4.18</td>\n",
       "      <td>The Cruel Prince</td>\n",
       "      <td>Fantasy</td>\n",
       "      <td>H</td>\n",
       "      <td>370</td>\n",
       "    </tr>\n",
       "    <tr>\n",
       "      <th>3</th>\n",
       "      <td>Kindle Edition</td>\n",
       "      <td>3.97</td>\n",
       "      <td>The Woman in the Window</td>\n",
       "      <td>Fiction</td>\n",
       "      <td>A</td>\n",
       "      <td>449</td>\n",
       "    </tr>\n",
       "    <tr>\n",
       "      <th>4</th>\n",
       "      <td>Hardcover</td>\n",
       "      <td>4.47</td>\n",
       "      <td>Educated</td>\n",
       "      <td>Romance</td>\n",
       "      <td>T</td>\n",
       "      <td>334</td>\n",
       "    </tr>\n",
       "  </tbody>\n",
       "</table>\n",
       "</div>"
      ],
      "text/plain": [
       "      book_format  book_rating               book_title   genero iniciais  \\\n",
       "0  Kindle Edition         4.33          The Great Alone  Romance        K   \n",
       "1       Hardcover         4.34                    Circe  Romance        M   \n",
       "2       Hardcover         4.18         The Cruel Prince  Fantasy        H   \n",
       "3  Kindle Edition         3.97  The Woman in the Window  Fiction        A   \n",
       "4       Hardcover         4.47                 Educated  Romance        T   \n",
       "\n",
       "   paginas  \n",
       "0      435  \n",
       "1      393  \n",
       "2      370  \n",
       "3      449  \n",
       "4      334  "
      ]
     },
     "execution_count": 27,
     "metadata": {},
     "output_type": "execute_result"
    }
   ],
   "source": [
    "teste_X2.drop(['book_authors', 'book_pages', 'genres'], axis=1, inplace=True)\n",
    "teste_X2.head()"
   ]
  },
  {
   "cell_type": "code",
   "execution_count": 28,
   "metadata": {},
   "outputs": [
    {
     "ename": "ValueError",
     "evalue": "could not convert string to float: 'Kindle Edition'",
     "output_type": "error",
     "traceback": [
      "\u001b[1;31m---------------------------------------------------------------------------\u001b[0m",
      "\u001b[1;31mValueError\u001b[0m                                Traceback (most recent call last)",
      "\u001b[1;32m<ipython-input-28-920117aa3e8c>\u001b[0m in \u001b[0;36m<module>\u001b[1;34m\u001b[0m\n\u001b[1;32m----> 1\u001b[1;33m \u001b[0my_pred2\u001b[0m \u001b[1;33m=\u001b[0m \u001b[0mregressor\u001b[0m\u001b[1;33m.\u001b[0m\u001b[0mpredict\u001b[0m\u001b[1;33m(\u001b[0m\u001b[0mteste_X2\u001b[0m\u001b[1;33m)\u001b[0m\u001b[1;33m\u001b[0m\u001b[1;33m\u001b[0m\u001b[0m\n\u001b[0m\u001b[0;32m      2\u001b[0m \u001b[1;33m\u001b[0m\u001b[0m\n\u001b[0;32m      3\u001b[0m \u001b[1;32mfor\u001b[0m \u001b[0mi\u001b[0m \u001b[1;32min\u001b[0m \u001b[0mrange\u001b[0m\u001b[1;33m(\u001b[0m\u001b[0mlen\u001b[0m\u001b[1;33m(\u001b[0m\u001b[0my_pred2\u001b[0m\u001b[1;33m)\u001b[0m\u001b[1;33m)\u001b[0m\u001b[1;33m:\u001b[0m\u001b[1;33m\u001b[0m\u001b[1;33m\u001b[0m\u001b[0m\n\u001b[0;32m      4\u001b[0m     \u001b[1;32mif\u001b[0m \u001b[0my_pred2\u001b[0m\u001b[1;33m[\u001b[0m\u001b[0mi\u001b[0m\u001b[1;33m]\u001b[0m\u001b[1;33m>\u001b[0m\u001b[1;36m5\u001b[0m\u001b[1;33m:\u001b[0m\u001b[1;33m\u001b[0m\u001b[1;33m\u001b[0m\u001b[0m\n\u001b[0;32m      5\u001b[0m         \u001b[0my_pred2\u001b[0m\u001b[1;33m[\u001b[0m\u001b[0mi\u001b[0m\u001b[1;33m]\u001b[0m\u001b[1;33m=\u001b[0m\u001b[1;36m5\u001b[0m\u001b[1;33m\u001b[0m\u001b[1;33m\u001b[0m\u001b[0m\n",
      "\u001b[1;32m~\\Anaconda3\\lib\\site-packages\\sklearn\\linear_model\\base.py\u001b[0m in \u001b[0;36mpredict\u001b[1;34m(self, X)\u001b[0m\n\u001b[0;32m    211\u001b[0m             \u001b[0mReturns\u001b[0m \u001b[0mpredicted\u001b[0m \u001b[0mvalues\u001b[0m\u001b[1;33m.\u001b[0m\u001b[1;33m\u001b[0m\u001b[1;33m\u001b[0m\u001b[0m\n\u001b[0;32m    212\u001b[0m         \"\"\"\n\u001b[1;32m--> 213\u001b[1;33m         \u001b[1;32mreturn\u001b[0m \u001b[0mself\u001b[0m\u001b[1;33m.\u001b[0m\u001b[0m_decision_function\u001b[0m\u001b[1;33m(\u001b[0m\u001b[0mX\u001b[0m\u001b[1;33m)\u001b[0m\u001b[1;33m\u001b[0m\u001b[1;33m\u001b[0m\u001b[0m\n\u001b[0m\u001b[0;32m    214\u001b[0m \u001b[1;33m\u001b[0m\u001b[0m\n\u001b[0;32m    215\u001b[0m     \u001b[0m_preprocess_data\u001b[0m \u001b[1;33m=\u001b[0m \u001b[0mstaticmethod\u001b[0m\u001b[1;33m(\u001b[0m\u001b[0m_preprocess_data\u001b[0m\u001b[1;33m)\u001b[0m\u001b[1;33m\u001b[0m\u001b[1;33m\u001b[0m\u001b[0m\n",
      "\u001b[1;32m~\\Anaconda3\\lib\\site-packages\\sklearn\\linear_model\\base.py\u001b[0m in \u001b[0;36m_decision_function\u001b[1;34m(self, X)\u001b[0m\n\u001b[0;32m    194\u001b[0m         \u001b[0mcheck_is_fitted\u001b[0m\u001b[1;33m(\u001b[0m\u001b[0mself\u001b[0m\u001b[1;33m,\u001b[0m \u001b[1;34m\"coef_\"\u001b[0m\u001b[1;33m)\u001b[0m\u001b[1;33m\u001b[0m\u001b[1;33m\u001b[0m\u001b[0m\n\u001b[0;32m    195\u001b[0m \u001b[1;33m\u001b[0m\u001b[0m\n\u001b[1;32m--> 196\u001b[1;33m         \u001b[0mX\u001b[0m \u001b[1;33m=\u001b[0m \u001b[0mcheck_array\u001b[0m\u001b[1;33m(\u001b[0m\u001b[0mX\u001b[0m\u001b[1;33m,\u001b[0m \u001b[0maccept_sparse\u001b[0m\u001b[1;33m=\u001b[0m\u001b[1;33m[\u001b[0m\u001b[1;34m'csr'\u001b[0m\u001b[1;33m,\u001b[0m \u001b[1;34m'csc'\u001b[0m\u001b[1;33m,\u001b[0m \u001b[1;34m'coo'\u001b[0m\u001b[1;33m]\u001b[0m\u001b[1;33m)\u001b[0m\u001b[1;33m\u001b[0m\u001b[1;33m\u001b[0m\u001b[0m\n\u001b[0m\u001b[0;32m    197\u001b[0m         return safe_sparse_dot(X, self.coef_.T,\n\u001b[0;32m    198\u001b[0m                                dense_output=True) + self.intercept_\n",
      "\u001b[1;32m~\\Anaconda3\\lib\\site-packages\\sklearn\\utils\\validation.py\u001b[0m in \u001b[0;36mcheck_array\u001b[1;34m(array, accept_sparse, accept_large_sparse, dtype, order, copy, force_all_finite, ensure_2d, allow_nd, ensure_min_samples, ensure_min_features, warn_on_dtype, estimator)\u001b[0m\n\u001b[0;32m    565\u001b[0m         \u001b[1;31m# make sure we actually converted to numeric:\u001b[0m\u001b[1;33m\u001b[0m\u001b[1;33m\u001b[0m\u001b[1;33m\u001b[0m\u001b[0m\n\u001b[0;32m    566\u001b[0m         \u001b[1;32mif\u001b[0m \u001b[0mdtype_numeric\u001b[0m \u001b[1;32mand\u001b[0m \u001b[0marray\u001b[0m\u001b[1;33m.\u001b[0m\u001b[0mdtype\u001b[0m\u001b[1;33m.\u001b[0m\u001b[0mkind\u001b[0m \u001b[1;33m==\u001b[0m \u001b[1;34m\"O\"\u001b[0m\u001b[1;33m:\u001b[0m\u001b[1;33m\u001b[0m\u001b[1;33m\u001b[0m\u001b[0m\n\u001b[1;32m--> 567\u001b[1;33m             \u001b[0marray\u001b[0m \u001b[1;33m=\u001b[0m \u001b[0marray\u001b[0m\u001b[1;33m.\u001b[0m\u001b[0mastype\u001b[0m\u001b[1;33m(\u001b[0m\u001b[0mnp\u001b[0m\u001b[1;33m.\u001b[0m\u001b[0mfloat64\u001b[0m\u001b[1;33m)\u001b[0m\u001b[1;33m\u001b[0m\u001b[1;33m\u001b[0m\u001b[0m\n\u001b[0m\u001b[0;32m    568\u001b[0m         \u001b[1;32mif\u001b[0m \u001b[1;32mnot\u001b[0m \u001b[0mallow_nd\u001b[0m \u001b[1;32mand\u001b[0m \u001b[0marray\u001b[0m\u001b[1;33m.\u001b[0m\u001b[0mndim\u001b[0m \u001b[1;33m>=\u001b[0m \u001b[1;36m3\u001b[0m\u001b[1;33m:\u001b[0m\u001b[1;33m\u001b[0m\u001b[1;33m\u001b[0m\u001b[0m\n\u001b[0;32m    569\u001b[0m             raise ValueError(\"Found array with dim %d. %s expected <= 2.\"\n",
      "\u001b[1;31mValueError\u001b[0m: could not convert string to float: 'Kindle Edition'"
     ]
    }
   ],
   "source": [
    "y_pred2 = regressor.predict(teste_X2)\n",
    "\n",
    "for i in range(len(y_pred2)):\n",
    "    if y_pred2[i]>5:\n",
    "        y_pred2[i]=5\n",
    "    elif y_pred2[i]<0:\n",
    "        y_pred2[i]=0\n",
    "        \n",
    "df2 = pd.DataFrame({'Atual': y_test2.flatten(), 'Predito': y_pred2.flatten()})\n",
    "df2.head()"
   ]
  },
  {
   "cell_type": "code",
   "execution_count": 29,
   "metadata": {},
   "outputs": [
    {
     "data": {
      "image/png": "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\n",
      "text/plain": [
       "<Figure size 1152x720 with 1 Axes>"
      ]
     },
     "metadata": {
      "needs_background": "light"
     },
     "output_type": "display_data"
    }
   ],
   "source": []
  },
  {
   "cell_type": "code",
   "execution_count": 30,
   "metadata": {},
   "outputs": [
    {
     "name": "stdout",
     "output_type": "stream",
     "text": [
      "O R² é -1.0669881042672031\n"
     ]
    }
   ],
   "source": []
  },
  {
   "cell_type": "code",
   "execution_count": null,
   "metadata": {},
   "outputs": [],
   "source": []
  },
  {
   "cell_type": "code",
   "execution_count": null,
   "metadata": {},
   "outputs": [],
   "source": []
  }
 ],
 "metadata": {
  "kernelspec": {
   "display_name": "Python 3",
   "language": "python",
   "name": "python3"
  },
  "language_info": {
   "codemirror_mode": {
    "name": "ipython",
    "version": 3
   },
   "file_extension": ".py",
   "mimetype": "text/x-python",
   "name": "python",
   "nbconvert_exporter": "python",
   "pygments_lexer": "ipython3",
   "version": "3.7.4"
  }
 },
 "nbformat": 4,
 "nbformat_minor": 2
}
