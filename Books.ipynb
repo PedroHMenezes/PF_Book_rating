{
 "cells": [
  {
   "cell_type": "markdown",
   "metadata": {},
   "source": [
    "# Projeto Final - Ciência dos dados\n",
    "### Alunos:\n",
    "- Beatriz Lourenço \n",
    "- Fernando Kenji \n",
    "- Sophia Kerber\n",
    "- Pedro H. Menezes"
   ]
  },
  {
   "cell_type": "markdown",
   "metadata": {},
   "source": [
    "### Pergunta Motivadora:\n",
    "É possível prever a avaliação de um livro (no ranking do Goodreads) com as seguintes variáveis?\n",
    "- Inicial do autor\n",
    "- Número de páginas\n",
    "- Gênero\n",
    "- Formato do livro (Capa dura, capa em papel, versão Kindle...)\n"
   ]
  },
  {
   "cell_type": "markdown",
   "metadata": {},
   "source": [
    "### Por que regressão linear?\n",
    "\n",
    "\n",
    "Como o objetivo do projeto era prever a avaliação do livro, decidiu-se utilizar a regressão linear para tanto, uma vez que a variável de saída é quantitativa. A ideia da regressão linear é aproximar os dados de uma reta, tentando diminuir o erro quadrático ao máximo. Utilizamos o One Hot Enconder, aliado ao SciKitLearn para dividir o dataset, classificar as variáveis qualitativas em números binários, e finalmente fazer a predição e o teste do dataset.\n",
    "\n",
    "As técnicas que se prestam a este tipo de análise: regressão linear, *regression tree*, *random forest regression* - EXPLICAR OS OUTROS 2"
   ]
  },
  {
   "cell_type": "markdown",
   "metadata": {},
   "source": [
    "### Como melhorar a análise?\n",
    "\n",
    "Pode-se melhorar a análise feita por meio da K-Folds Cross Validation."
   ]
  },
  {
   "cell_type": "code",
<<<<<<< HEAD
   "execution_count": 9,
=======
<<<<<<< HEAD
   "execution_count": 166,
=======
<<<<<<< HEAD
   "execution_count": 128,
=======
   "execution_count": 9,
>>>>>>> 9bd7f88ebfedd5a89df5986dcd77b1da36ab594d
>>>>>>> 24dda479a5ba046c7a484d1d03e252fe06b1f1b7
>>>>>>> e473a17574320989a837412c48232da6c6d03e20
   "metadata": {},
   "outputs": [],
   "source": [
    "import pandas as pd\n",
    "import matplotlib.pyplot as plt\n",
    "from sklearn.preprocessing import OneHotEncoder\n",
    "import numpy as np"
   ]
  },
  {
   "cell_type": "code",
<<<<<<< HEAD
   "execution_count": 10,
=======
<<<<<<< HEAD
   "execution_count": 167,
=======
<<<<<<< HEAD
   "execution_count": 129,
=======
   "execution_count": 10,
>>>>>>> 9bd7f88ebfedd5a89df5986dcd77b1da36ab594d
>>>>>>> 24dda479a5ba046c7a484d1d03e252fe06b1f1b7
>>>>>>> e473a17574320989a837412c48232da6c6d03e20
   "metadata": {},
   "outputs": [
    {
     "data": {
      "text/html": [
       "<div>\n",
       "<style scoped>\n",
       "    .dataframe tbody tr th:only-of-type {\n",
       "        vertical-align: middle;\n",
       "    }\n",
       "\n",
       "    .dataframe tbody tr th {\n",
       "        vertical-align: top;\n",
       "    }\n",
       "\n",
       "    .dataframe thead th {\n",
       "        text-align: right;\n",
       "    }\n",
       "</style>\n",
       "<table border=\"1\" class=\"dataframe\">\n",
       "  <thead>\n",
       "    <tr style=\"text-align: right;\">\n",
       "      <th></th>\n",
       "      <th>book_authors</th>\n",
       "      <th>book_desc</th>\n",
       "      <th>book_edition</th>\n",
       "      <th>book_format</th>\n",
       "      <th>book_isbn</th>\n",
       "      <th>book_pages</th>\n",
       "      <th>book_rating</th>\n",
       "      <th>book_rating_count</th>\n",
       "      <th>book_review_count</th>\n",
       "      <th>book_title</th>\n",
       "      <th>genres</th>\n",
       "      <th>image_url</th>\n",
       "    </tr>\n",
       "  </thead>\n",
       "  <tbody>\n",
       "    <tr>\n",
       "      <th>0</th>\n",
       "      <td>Suzanne Collins</td>\n",
       "      <td>Winning will make you famous. Losing means cer...</td>\n",
       "      <td>NaN</td>\n",
       "      <td>Hardcover</td>\n",
       "      <td>9.78044E+12</td>\n",
       "      <td>374 pages</td>\n",
       "      <td>4.33</td>\n",
       "      <td>5519135</td>\n",
       "      <td>160706</td>\n",
       "      <td>The Hunger Games</td>\n",
       "      <td>Young Adult|Fiction|Science Fiction|Dystopia|F...</td>\n",
       "      <td>https://images.gr-assets.com/books/1447303603l...</td>\n",
       "    </tr>\n",
       "    <tr>\n",
       "      <th>1</th>\n",
       "      <td>J.K. Rowling|Mary GrandPré</td>\n",
       "      <td>There is a door at the end of a silent corrido...</td>\n",
       "      <td>US Edition</td>\n",
       "      <td>Paperback</td>\n",
       "      <td>9.78044E+12</td>\n",
       "      <td>870 pages</td>\n",
       "      <td>4.48</td>\n",
       "      <td>2041594</td>\n",
       "      <td>33264</td>\n",
       "      <td>Harry Potter and the Order of the Phoenix</td>\n",
       "      <td>Fantasy|Young Adult|Fiction</td>\n",
       "      <td>https://images.gr-assets.com/books/1255614970l...</td>\n",
       "    </tr>\n",
       "    <tr>\n",
       "      <th>2</th>\n",
       "      <td>Harper Lee</td>\n",
       "      <td>The unforgettable novel of a childhood in a sl...</td>\n",
       "      <td>50th Anniversary</td>\n",
       "      <td>Paperback</td>\n",
       "      <td>9.78006E+12</td>\n",
       "      <td>324 pages</td>\n",
       "      <td>4.27</td>\n",
       "      <td>3745197</td>\n",
       "      <td>79450</td>\n",
       "      <td>To Kill a Mockingbird</td>\n",
       "      <td>Classics|Fiction|Historical|Historical Fiction...</td>\n",
       "      <td>https://images.gr-assets.com/books/1361975680l...</td>\n",
       "    </tr>\n",
       "    <tr>\n",
       "      <th>3</th>\n",
       "      <td>Jane Austen|Anna Quindlen|Mrs. Oliphant|George...</td>\n",
       "      <td>«È cosa ormai risaputa che a uno scapolo in po...</td>\n",
       "      <td>Modern Library Classics, USA / CAN</td>\n",
       "      <td>Paperback</td>\n",
       "      <td>9.78068E+12</td>\n",
       "      <td>279 pages</td>\n",
       "      <td>4.25</td>\n",
       "      <td>2453620</td>\n",
       "      <td>54322</td>\n",
       "      <td>Pride and Prejudice</td>\n",
       "      <td>Classics|Fiction|Romance</td>\n",
       "      <td>https://images.gr-assets.com/books/1320399351l...</td>\n",
       "    </tr>\n",
       "    <tr>\n",
       "      <th>4</th>\n",
       "      <td>Stephenie Meyer</td>\n",
       "      <td>About three things I was absolutely positive.F...</td>\n",
       "      <td>NaN</td>\n",
       "      <td>Paperback</td>\n",
       "      <td>9.78032E+12</td>\n",
       "      <td>498 pages</td>\n",
       "      <td>3.58</td>\n",
       "      <td>4281268</td>\n",
       "      <td>97991</td>\n",
       "      <td>Twilight</td>\n",
       "      <td>Young Adult|Fantasy|Romance|Paranormal|Vampire...</td>\n",
       "      <td>https://images.gr-assets.com/books/1361039443l...</td>\n",
       "    </tr>\n",
       "  </tbody>\n",
       "</table>\n",
       "</div>"
      ],
      "text/plain": [
       "                                        book_authors  \\\n",
       "0                                    Suzanne Collins   \n",
       "1                         J.K. Rowling|Mary GrandPré   \n",
       "2                                         Harper Lee   \n",
       "3  Jane Austen|Anna Quindlen|Mrs. Oliphant|George...   \n",
       "4                                    Stephenie Meyer   \n",
       "\n",
       "                                           book_desc  \\\n",
       "0  Winning will make you famous. Losing means cer...   \n",
       "1  There is a door at the end of a silent corrido...   \n",
       "2  The unforgettable novel of a childhood in a sl...   \n",
       "3  «È cosa ormai risaputa che a uno scapolo in po...   \n",
       "4  About three things I was absolutely positive.F...   \n",
       "\n",
       "                         book_edition book_format    book_isbn book_pages  \\\n",
       "0                                 NaN   Hardcover  9.78044E+12  374 pages   \n",
       "1                          US Edition   Paperback  9.78044E+12  870 pages   \n",
       "2                    50th Anniversary   Paperback  9.78006E+12  324 pages   \n",
       "3  Modern Library Classics, USA / CAN   Paperback  9.78068E+12  279 pages   \n",
       "4                                 NaN   Paperback  9.78032E+12  498 pages   \n",
       "\n",
       "   book_rating  book_rating_count  book_review_count  \\\n",
       "0         4.33            5519135             160706   \n",
       "1         4.48            2041594              33264   \n",
       "2         4.27            3745197              79450   \n",
       "3         4.25            2453620              54322   \n",
       "4         3.58            4281268              97991   \n",
       "\n",
       "                                  book_title  \\\n",
       "0                           The Hunger Games   \n",
       "1  Harry Potter and the Order of the Phoenix   \n",
       "2                      To Kill a Mockingbird   \n",
       "3                        Pride and Prejudice   \n",
       "4                                   Twilight   \n",
       "\n",
       "                                              genres  \\\n",
       "0  Young Adult|Fiction|Science Fiction|Dystopia|F...   \n",
       "1                        Fantasy|Young Adult|Fiction   \n",
       "2  Classics|Fiction|Historical|Historical Fiction...   \n",
       "3                           Classics|Fiction|Romance   \n",
       "4  Young Adult|Fantasy|Romance|Paranormal|Vampire...   \n",
       "\n",
       "                                           image_url  \n",
       "0  https://images.gr-assets.com/books/1447303603l...  \n",
       "1  https://images.gr-assets.com/books/1255614970l...  \n",
       "2  https://images.gr-assets.com/books/1361975680l...  \n",
       "3  https://images.gr-assets.com/books/1320399351l...  \n",
       "4  https://images.gr-assets.com/books/1361039443l...  "
      ]
     },
<<<<<<< HEAD
     "execution_count": 10,
=======
<<<<<<< HEAD
     "execution_count": 167,
=======
<<<<<<< HEAD
     "execution_count": 129,
=======
     "execution_count": 10,
>>>>>>> 9bd7f88ebfedd5a89df5986dcd77b1da36ab594d
>>>>>>> 24dda479a5ba046c7a484d1d03e252fe06b1f1b7
>>>>>>> e473a17574320989a837412c48232da6c6d03e20
     "metadata": {},
     "output_type": "execute_result"
    }
   ],
   "source": [
    "# Base de dados original\n",
    "csv = pd.read_csv('book_data.csv')\n",
    "csv.head()"
   ]
  },
  {
   "cell_type": "code",
<<<<<<< HEAD
   "execution_count": 11,
=======
<<<<<<< HEAD
   "execution_count": 168,
=======
<<<<<<< HEAD
   "execution_count": 130,
=======
   "execution_count": 11,
>>>>>>> 9bd7f88ebfedd5a89df5986dcd77b1da36ab594d
>>>>>>> 24dda479a5ba046c7a484d1d03e252fe06b1f1b7
>>>>>>> e473a17574320989a837412c48232da6c6d03e20
   "metadata": {},
   "outputs": [
    {
     "data": {
      "text/html": [
       "<div>\n",
       "<style scoped>\n",
       "    .dataframe tbody tr th:only-of-type {\n",
       "        vertical-align: middle;\n",
       "    }\n",
       "\n",
       "    .dataframe tbody tr th {\n",
       "        vertical-align: top;\n",
       "    }\n",
       "\n",
       "    .dataframe thead th {\n",
       "        text-align: right;\n",
       "    }\n",
       "</style>\n",
       "<table border=\"1\" class=\"dataframe\">\n",
       "  <thead>\n",
       "    <tr style=\"text-align: right;\">\n",
       "      <th></th>\n",
       "      <th>book_authors</th>\n",
       "      <th>book_desc</th>\n",
       "      <th>book_edition</th>\n",
       "      <th>book_format</th>\n",
       "      <th>book_isbn</th>\n",
       "      <th>book_pages</th>\n",
       "      <th>book_rating</th>\n",
       "      <th>book_rating_count</th>\n",
       "      <th>book_review_count</th>\n",
       "      <th>book_title</th>\n",
       "      <th>genres</th>\n",
       "      <th>image_url</th>\n",
       "    </tr>\n",
       "  </thead>\n",
       "  <tbody>\n",
       "    <tr>\n",
       "      <th>1</th>\n",
       "      <td>J.K. Rowling|Mary GrandPré</td>\n",
       "      <td>There is a door at the end of a silent corrido...</td>\n",
       "      <td>US Edition</td>\n",
       "      <td>Paperback</td>\n",
       "      <td>9.78044E+12</td>\n",
       "      <td>870 pages</td>\n",
       "      <td>4.48</td>\n",
       "      <td>2041594</td>\n",
       "      <td>33264</td>\n",
       "      <td>Harry Potter and the Order of the Phoenix</td>\n",
       "      <td>Fantasy|Young Adult|Fiction</td>\n",
       "      <td>https://images.gr-assets.com/books/1255614970l...</td>\n",
       "    </tr>\n",
       "    <tr>\n",
       "      <th>2</th>\n",
       "      <td>Harper Lee</td>\n",
       "      <td>The unforgettable novel of a childhood in a sl...</td>\n",
       "      <td>50th Anniversary</td>\n",
       "      <td>Paperback</td>\n",
       "      <td>9.78006E+12</td>\n",
       "      <td>324 pages</td>\n",
       "      <td>4.27</td>\n",
       "      <td>3745197</td>\n",
       "      <td>79450</td>\n",
       "      <td>To Kill a Mockingbird</td>\n",
       "      <td>Classics|Fiction|Historical|Historical Fiction...</td>\n",
       "      <td>https://images.gr-assets.com/books/1361975680l...</td>\n",
       "    </tr>\n",
       "    <tr>\n",
       "      <th>3</th>\n",
       "      <td>Jane Austen|Anna Quindlen|Mrs. Oliphant|George...</td>\n",
       "      <td>«È cosa ormai risaputa che a uno scapolo in po...</td>\n",
       "      <td>Modern Library Classics, USA / CAN</td>\n",
       "      <td>Paperback</td>\n",
       "      <td>9.78068E+12</td>\n",
       "      <td>279 pages</td>\n",
       "      <td>4.25</td>\n",
       "      <td>2453620</td>\n",
       "      <td>54322</td>\n",
       "      <td>Pride and Prejudice</td>\n",
       "      <td>Classics|Fiction|Romance</td>\n",
       "      <td>https://images.gr-assets.com/books/1320399351l...</td>\n",
       "    </tr>\n",
       "    <tr>\n",
       "      <th>5</th>\n",
       "      <td>Markus Zusak</td>\n",
       "      <td>Trying to make sense of the horrors of World W...</td>\n",
       "      <td>First American Edition (US / CAN)</td>\n",
       "      <td>Hardcover</td>\n",
       "      <td>9.78038E+12</td>\n",
       "      <td>552 pages</td>\n",
       "      <td>4.36</td>\n",
       "      <td>1485632</td>\n",
       "      <td>100821</td>\n",
       "      <td>The Book Thief</td>\n",
       "      <td>Historical|Historical Fiction|Fiction|Young Adult</td>\n",
       "      <td>https://images.gr-assets.com/books/1522157426l...</td>\n",
       "    </tr>\n",
       "    <tr>\n",
       "      <th>6</th>\n",
       "      <td>C.S. Lewis|Pauline Baynes</td>\n",
       "      <td>Journeys to the end of the world, fantastic cr...</td>\n",
       "      <td>Reissue Edition</td>\n",
       "      <td>Paperback</td>\n",
       "      <td>9.78007E+12</td>\n",
       "      <td>767 pages</td>\n",
       "      <td>4.25</td>\n",
       "      <td>437829</td>\n",
       "      <td>9439</td>\n",
       "      <td>The Chronicles of Narnia</td>\n",
       "      <td>Fantasy|Classics|Fiction|Young Adult|Childrens</td>\n",
       "      <td>https://images.gr-assets.com/books/1449868701l...</td>\n",
       "    </tr>\n",
       "  </tbody>\n",
       "</table>\n",
       "</div>"
      ],
      "text/plain": [
       "                                        book_authors  \\\n",
       "1                         J.K. Rowling|Mary GrandPré   \n",
       "2                                         Harper Lee   \n",
       "3  Jane Austen|Anna Quindlen|Mrs. Oliphant|George...   \n",
       "5                                       Markus Zusak   \n",
       "6                          C.S. Lewis|Pauline Baynes   \n",
       "\n",
       "                                           book_desc  \\\n",
       "1  There is a door at the end of a silent corrido...   \n",
       "2  The unforgettable novel of a childhood in a sl...   \n",
       "3  «È cosa ormai risaputa che a uno scapolo in po...   \n",
       "5  Trying to make sense of the horrors of World W...   \n",
       "6  Journeys to the end of the world, fantastic cr...   \n",
       "\n",
       "                         book_edition book_format    book_isbn book_pages  \\\n",
       "1                          US Edition   Paperback  9.78044E+12  870 pages   \n",
       "2                    50th Anniversary   Paperback  9.78006E+12  324 pages   \n",
       "3  Modern Library Classics, USA / CAN   Paperback  9.78068E+12  279 pages   \n",
       "5   First American Edition (US / CAN)   Hardcover  9.78038E+12  552 pages   \n",
       "6                     Reissue Edition   Paperback  9.78007E+12  767 pages   \n",
       "\n",
       "   book_rating  book_rating_count  book_review_count  \\\n",
       "1         4.48            2041594              33264   \n",
       "2         4.27            3745197              79450   \n",
       "3         4.25            2453620              54322   \n",
       "5         4.36            1485632             100821   \n",
       "6         4.25             437829               9439   \n",
       "\n",
       "                                  book_title  \\\n",
       "1  Harry Potter and the Order of the Phoenix   \n",
       "2                      To Kill a Mockingbird   \n",
       "3                        Pride and Prejudice   \n",
       "5                             The Book Thief   \n",
       "6                   The Chronicles of Narnia   \n",
       "\n",
       "                                              genres  \\\n",
       "1                        Fantasy|Young Adult|Fiction   \n",
       "2  Classics|Fiction|Historical|Historical Fiction...   \n",
       "3                           Classics|Fiction|Romance   \n",
       "5  Historical|Historical Fiction|Fiction|Young Adult   \n",
       "6     Fantasy|Classics|Fiction|Young Adult|Childrens   \n",
       "\n",
       "                                           image_url  \n",
       "1  https://images.gr-assets.com/books/1255614970l...  \n",
       "2  https://images.gr-assets.com/books/1361975680l...  \n",
       "3  https://images.gr-assets.com/books/1320399351l...  \n",
       "5  https://images.gr-assets.com/books/1522157426l...  \n",
       "6  https://images.gr-assets.com/books/1449868701l...  "
      ]
     },
<<<<<<< HEAD
     "execution_count": 11,
=======
<<<<<<< HEAD
     "execution_count": 168,
=======
<<<<<<< HEAD
     "execution_count": 130,
=======
     "execution_count": 11,
>>>>>>> 9bd7f88ebfedd5a89df5986dcd77b1da36ab594d
>>>>>>> 24dda479a5ba046c7a484d1d03e252fe06b1f1b7
>>>>>>> e473a17574320989a837412c48232da6c6d03e20
     "metadata": {},
     "output_type": "execute_result"
    }
   ],
   "source": [
    "# Retirando os livros com informações faltando\n",
    "csv=csv.dropna()\n",
    "csv.head()"
   ]
  },
  {
   "cell_type": "code",
<<<<<<< HEAD
=======
<<<<<<< HEAD
   "execution_count": 169,
=======
<<<<<<< HEAD
   "execution_count": 131,
   "metadata": {
    "scrolled": true
   },
=======
>>>>>>> e473a17574320989a837412c48232da6c6d03e20
   "execution_count": 12,
>>>>>>> 24dda479a5ba046c7a484d1d03e252fe06b1f1b7
   "metadata": {},
   "outputs": [
    {
     "name": "stdout",
     "output_type": "stream",
     "text": [
      "[870, 324, 279, 552, 767, 1728, 464, 434, 367, 507]\n",
      "['J', 'H', 'J', 'M', 'C', 'J', 'E', 'A', 'O', 'C']\n",
<<<<<<< HEAD
      "['Fantasy', 'Fantasy', 'Fiction', 'Classics', 'Science Fiction', 'Classics', 'Classics', 'Classics', 'Novels', 'Fantasy']\n"
=======
<<<<<<< HEAD
      "['Fantasy', 'Fantasy', 'Fiction', 'Classics', 'Science Fiction', 'Classics', 'Classics', 'Classics', 'Romance', 'Novels']\n"
=======
<<<<<<< HEAD
      "['Fantasy', 'Classics', 'Classics', 'Historical', 'Fantasy', 'Fantasy', 'Classics', 'Fiction', 'Fiction', 'Classics']\n"
=======
      "['Fantasy', 'Fantasy', 'Fiction', 'Classics', 'Science Fiction', 'Classics', 'Classics', 'Classics', 'Novels', 'Fantasy']\n"
>>>>>>> 9bd7f88ebfedd5a89df5986dcd77b1da36ab594d
>>>>>>> 24dda479a5ba046c7a484d1d03e252fe06b1f1b7
>>>>>>> e473a17574320989a837412c48232da6c6d03e20
     ]
    }
   ],
   "source": [
    "ar = csv['genres'].value_counts()\n",
    "ar1 = []\n",
    "iniciais = []\n",
    "paginas = []\n",
    "\n",
    "# Escolhendo como gênero literário apenas o primeiro listado.\n",
    "for i in ar.index:\n",
    "    if i == \"\":\n",
    "        ar1.append(\"\")\n",
    "    else:\n",
    "        a = i.split('|')\n",
    "        ar1.append(a[0])\n",
    "        \n",
    "# Selecionando apenas a inicial dos nomes dos autores\n",
    "for i in csv['book_authors']:\n",
    "    iniciais.append(i[0])\n",
    "\n",
    "# Apenas o número de páginas aparecerá, sem a palavra \"pages\"\n",
    "for i in csv['book_pages']:\n",
    "    numero = i.split(' ')\n",
    "    paginas.append(int(numero[0]))\n",
    "print(paginas[0:10])\n",
    "print(iniciais[0:10])\n",
    "print(ar1[0:10])"
   ]
  },
  {
   "cell_type": "code",
<<<<<<< HEAD
=======
<<<<<<< HEAD
   "execution_count": 170,
=======
<<<<<<< HEAD
   "execution_count": 132,
   "metadata": {},
   "outputs": [],
=======
>>>>>>> e473a17574320989a837412c48232da6c6d03e20
   "execution_count": 13,
>>>>>>> 24dda479a5ba046c7a484d1d03e252fe06b1f1b7
   "metadata": {},
   "outputs": [
    {
     "data": {
      "text/plain": [
       "3535"
      ]
     },
     "execution_count": 170,
     "metadata": {},
     "output_type": "execute_result"
    }
   ],
   "source": [
    "len(csv.index)"
   ]
  },
  {
   "cell_type": "code",
<<<<<<< HEAD
   "execution_count": 14,
=======
<<<<<<< HEAD
   "execution_count": 171,
=======
<<<<<<< HEAD
   "execution_count": 133,
=======
   "execution_count": 14,
>>>>>>> 9bd7f88ebfedd5a89df5986dcd77b1da36ab594d
>>>>>>> 24dda479a5ba046c7a484d1d03e252fe06b1f1b7
>>>>>>> e473a17574320989a837412c48232da6c6d03e20
   "metadata": {},
   "outputs": [],
   "source": [
    "# Criando colunas no DataFrame para as iniciais dos autores, os números de páginas e o principal gênero do livro\n",
    "ar1=pd.DataFrame({'genero':ar1})\n",
    "iniciais_ = pd.DataFrame({'iniciais':iniciais})\n",
    "paginas_ = pd.DataFrame({'paginas':paginas})"
   ]
  },
  {
   "cell_type": "code",
<<<<<<< HEAD
   "execution_count": 15,
=======
<<<<<<< HEAD
   "execution_count": 172,
=======
<<<<<<< HEAD
   "execution_count": 134,
=======
   "execution_count": 15,
>>>>>>> 9bd7f88ebfedd5a89df5986dcd77b1da36ab594d
>>>>>>> 24dda479a5ba046c7a484d1d03e252fe06b1f1b7
>>>>>>> e473a17574320989a837412c48232da6c6d03e20
   "metadata": {},
   "outputs": [
    {
     "data": {
      "text/html": [
       "<div>\n",
       "<style scoped>\n",
       "    .dataframe tbody tr th:only-of-type {\n",
       "        vertical-align: middle;\n",
       "    }\n",
       "\n",
       "    .dataframe tbody tr th {\n",
       "        vertical-align: top;\n",
       "    }\n",
       "\n",
       "    .dataframe thead th {\n",
       "        text-align: right;\n",
       "    }\n",
       "</style>\n",
       "<table border=\"1\" class=\"dataframe\">\n",
       "  <thead>\n",
       "    <tr style=\"text-align: right;\">\n",
       "      <th></th>\n",
       "      <th>book_authors</th>\n",
       "      <th>book_desc</th>\n",
       "      <th>book_edition</th>\n",
       "      <th>book_format</th>\n",
       "      <th>book_isbn</th>\n",
       "      <th>book_pages</th>\n",
       "      <th>book_rating</th>\n",
       "      <th>book_rating_count</th>\n",
       "      <th>book_review_count</th>\n",
       "      <th>book_title</th>\n",
       "      <th>genres</th>\n",
       "      <th>image_url</th>\n",
       "      <th>genero</th>\n",
       "      <th>iniciais</th>\n",
       "      <th>paginas</th>\n",
       "    </tr>\n",
       "  </thead>\n",
       "  <tbody>\n",
       "    <tr>\n",
       "      <th>1</th>\n",
       "      <td>J.K. Rowling|Mary GrandPré</td>\n",
       "      <td>There is a door at the end of a silent corrido...</td>\n",
       "      <td>US Edition</td>\n",
       "      <td>Paperback</td>\n",
       "      <td>9.78044E+12</td>\n",
       "      <td>870 pages</td>\n",
       "      <td>4.48</td>\n",
       "      <td>2041594</td>\n",
       "      <td>33264</td>\n",
       "      <td>Harry Potter and the Order of the Phoenix</td>\n",
       "      <td>Fantasy|Young Adult|Fiction</td>\n",
       "      <td>https://images.gr-assets.com/books/1255614970l...</td>\n",
       "      <td>Fantasy</td>\n",
       "      <td>H</td>\n",
       "      <td>324</td>\n",
       "    </tr>\n",
       "    <tr>\n",
       "      <th>2</th>\n",
       "      <td>Harper Lee</td>\n",
       "      <td>The unforgettable novel of a childhood in a sl...</td>\n",
       "      <td>50th Anniversary</td>\n",
       "      <td>Paperback</td>\n",
       "      <td>9.78006E+12</td>\n",
       "      <td>324 pages</td>\n",
       "      <td>4.27</td>\n",
       "      <td>3745197</td>\n",
       "      <td>79450</td>\n",
       "      <td>To Kill a Mockingbird</td>\n",
       "      <td>Classics|Fiction|Historical|Historical Fiction...</td>\n",
       "      <td>https://images.gr-assets.com/books/1361975680l...</td>\n",
       "      <td>Fiction</td>\n",
       "      <td>J</td>\n",
       "      <td>279</td>\n",
       "    </tr>\n",
       "    <tr>\n",
       "      <th>3</th>\n",
       "      <td>Jane Austen|Anna Quindlen|Mrs. Oliphant|George...</td>\n",
       "      <td>«È cosa ormai risaputa che a uno scapolo in po...</td>\n",
       "      <td>Modern Library Classics, USA / CAN</td>\n",
       "      <td>Paperback</td>\n",
       "      <td>9.78068E+12</td>\n",
       "      <td>279 pages</td>\n",
       "      <td>4.25</td>\n",
       "      <td>2453620</td>\n",
       "      <td>54322</td>\n",
       "      <td>Pride and Prejudice</td>\n",
       "      <td>Classics|Fiction|Romance</td>\n",
       "      <td>https://images.gr-assets.com/books/1320399351l...</td>\n",
       "      <td>Classics</td>\n",
       "      <td>M</td>\n",
       "      <td>552</td>\n",
       "    </tr>\n",
       "    <tr>\n",
       "      <th>5</th>\n",
       "      <td>Markus Zusak</td>\n",
       "      <td>Trying to make sense of the horrors of World W...</td>\n",
       "      <td>First American Edition (US / CAN)</td>\n",
       "      <td>Hardcover</td>\n",
       "      <td>9.78038E+12</td>\n",
       "      <td>552 pages</td>\n",
       "      <td>4.36</td>\n",
       "      <td>1485632</td>\n",
       "      <td>100821</td>\n",
       "      <td>The Book Thief</td>\n",
       "      <td>Historical|Historical Fiction|Fiction|Young Adult</td>\n",
       "      <td>https://images.gr-assets.com/books/1522157426l...</td>\n",
       "      <td>Classics</td>\n",
       "      <td>J</td>\n",
       "      <td>1728</td>\n",
       "    </tr>\n",
       "    <tr>\n",
       "      <th>6</th>\n",
       "      <td>C.S. Lewis|Pauline Baynes</td>\n",
       "      <td>Journeys to the end of the world, fantastic cr...</td>\n",
       "      <td>Reissue Edition</td>\n",
       "      <td>Paperback</td>\n",
       "      <td>9.78007E+12</td>\n",
       "      <td>767 pages</td>\n",
       "      <td>4.25</td>\n",
       "      <td>437829</td>\n",
       "      <td>9439</td>\n",
       "      <td>The Chronicles of Narnia</td>\n",
       "      <td>Fantasy|Classics|Fiction|Young Adult|Childrens</td>\n",
       "      <td>https://images.gr-assets.com/books/1449868701l...</td>\n",
       "      <td>Classics</td>\n",
       "      <td>E</td>\n",
       "      <td>464</td>\n",
       "    </tr>\n",
       "  </tbody>\n",
       "</table>\n",
       "</div>"
      ],
      "text/plain": [
       "                                        book_authors  \\\n",
       "1                         J.K. Rowling|Mary GrandPré   \n",
       "2                                         Harper Lee   \n",
       "3  Jane Austen|Anna Quindlen|Mrs. Oliphant|George...   \n",
       "5                                       Markus Zusak   \n",
       "6                          C.S. Lewis|Pauline Baynes   \n",
       "\n",
       "                                           book_desc  \\\n",
       "1  There is a door at the end of a silent corrido...   \n",
       "2  The unforgettable novel of a childhood in a sl...   \n",
       "3  «È cosa ormai risaputa che a uno scapolo in po...   \n",
       "5  Trying to make sense of the horrors of World W...   \n",
       "6  Journeys to the end of the world, fantastic cr...   \n",
       "\n",
       "                         book_edition book_format    book_isbn book_pages  \\\n",
       "1                          US Edition   Paperback  9.78044E+12  870 pages   \n",
       "2                    50th Anniversary   Paperback  9.78006E+12  324 pages   \n",
       "3  Modern Library Classics, USA / CAN   Paperback  9.78068E+12  279 pages   \n",
       "5   First American Edition (US / CAN)   Hardcover  9.78038E+12  552 pages   \n",
       "6                     Reissue Edition   Paperback  9.78007E+12  767 pages   \n",
       "\n",
       "   book_rating  book_rating_count  book_review_count  \\\n",
       "1         4.48            2041594              33264   \n",
       "2         4.27            3745197              79450   \n",
       "3         4.25            2453620              54322   \n",
       "5         4.36            1485632             100821   \n",
       "6         4.25             437829               9439   \n",
       "\n",
       "                                  book_title  \\\n",
       "1  Harry Potter and the Order of the Phoenix   \n",
       "2                      To Kill a Mockingbird   \n",
       "3                        Pride and Prejudice   \n",
       "5                             The Book Thief   \n",
       "6                   The Chronicles of Narnia   \n",
       "\n",
       "                                              genres  \\\n",
       "1                        Fantasy|Young Adult|Fiction   \n",
       "2  Classics|Fiction|Historical|Historical Fiction...   \n",
       "3                           Classics|Fiction|Romance   \n",
       "5  Historical|Historical Fiction|Fiction|Young Adult   \n",
       "6     Fantasy|Classics|Fiction|Young Adult|Childrens   \n",
       "\n",
       "                                           image_url    genero iniciais  \\\n",
       "1  https://images.gr-assets.com/books/1255614970l...   Fantasy        H   \n",
       "2  https://images.gr-assets.com/books/1361975680l...   Fiction        J   \n",
       "3  https://images.gr-assets.com/books/1320399351l...  Classics        M   \n",
       "5  https://images.gr-assets.com/books/1522157426l...  Classics        J   \n",
       "6  https://images.gr-assets.com/books/1449868701l...  Classics        E   \n",
       "\n",
       "   paginas  \n",
       "1      324  \n",
       "2      279  \n",
       "3      552  \n",
       "5     1728  \n",
       "6      464  "
      ]
     },
<<<<<<< HEAD
     "execution_count": 15,
=======
<<<<<<< HEAD
     "execution_count": 172,
=======
<<<<<<< HEAD
     "execution_count": 134,
=======
     "execution_count": 15,
>>>>>>> 9bd7f88ebfedd5a89df5986dcd77b1da36ab594d
>>>>>>> 24dda479a5ba046c7a484d1d03e252fe06b1f1b7
>>>>>>> e473a17574320989a837412c48232da6c6d03e20
     "metadata": {},
     "output_type": "execute_result"
    }
   ],
   "source": [
    "csv = csv.join(ar1,how='inner')\n",
    "csv = csv.join(iniciais_,how='inner')\n",
    "csv = csv.join(paginas_,how='inner')\n",
    "csv.head()"
   ]
  },
  {
   "cell_type": "code",
<<<<<<< HEAD
   "execution_count": 16,
=======
<<<<<<< HEAD
   "execution_count": 173,
=======
<<<<<<< HEAD
   "execution_count": 135,
=======
   "execution_count": 16,
>>>>>>> 9bd7f88ebfedd5a89df5986dcd77b1da36ab594d
>>>>>>> 24dda479a5ba046c7a484d1d03e252fe06b1f1b7
>>>>>>> e473a17574320989a837412c48232da6c6d03e20
   "metadata": {},
   "outputs": [],
   "source": [
    "# Retirando as colunas irrelevantes para a análise geral de avaliações\n",
    "csv.drop(['book_isbn','book_authors','book_desc','book_edition','book_rating_count','book_review_count','genres','image_url','book_pages'],axis=1,inplace=True)"
   ]
  },
  {
   "cell_type": "code",
<<<<<<< HEAD
   "execution_count": 17,
=======
<<<<<<< HEAD
   "execution_count": 174,
=======
<<<<<<< HEAD
   "execution_count": 136,
=======
   "execution_count": 17,
>>>>>>> 9bd7f88ebfedd5a89df5986dcd77b1da36ab594d
>>>>>>> 24dda479a5ba046c7a484d1d03e252fe06b1f1b7
>>>>>>> e473a17574320989a837412c48232da6c6d03e20
   "metadata": {},
   "outputs": [
    {
     "data": {
      "text/html": [
       "<div>\n",
       "<style scoped>\n",
       "    .dataframe tbody tr th:only-of-type {\n",
       "        vertical-align: middle;\n",
       "    }\n",
       "\n",
       "    .dataframe tbody tr th {\n",
       "        vertical-align: top;\n",
       "    }\n",
       "\n",
       "    .dataframe thead th {\n",
       "        text-align: right;\n",
       "    }\n",
       "</style>\n",
       "<table border=\"1\" class=\"dataframe\">\n",
       "  <thead>\n",
       "    <tr style=\"text-align: right;\">\n",
       "      <th></th>\n",
       "      <th>book_format</th>\n",
       "      <th>book_rating</th>\n",
       "      <th>book_title</th>\n",
       "      <th>genero</th>\n",
       "      <th>iniciais</th>\n",
       "      <th>paginas</th>\n",
       "    </tr>\n",
       "  </thead>\n",
       "  <tbody>\n",
       "    <tr>\n",
       "      <th>1</th>\n",
       "      <td>Paperback</td>\n",
       "      <td>4.48</td>\n",
       "      <td>Harry Potter and the Order of the Phoenix</td>\n",
       "      <td>Fantasy</td>\n",
       "      <td>H</td>\n",
       "      <td>324</td>\n",
       "    </tr>\n",
       "    <tr>\n",
       "      <th>2</th>\n",
       "      <td>Paperback</td>\n",
       "      <td>4.27</td>\n",
       "      <td>To Kill a Mockingbird</td>\n",
       "      <td>Fiction</td>\n",
       "      <td>J</td>\n",
       "      <td>279</td>\n",
       "    </tr>\n",
       "    <tr>\n",
       "      <th>3</th>\n",
       "      <td>Paperback</td>\n",
       "      <td>4.25</td>\n",
       "      <td>Pride and Prejudice</td>\n",
       "      <td>Classics</td>\n",
       "      <td>M</td>\n",
       "      <td>552</td>\n",
       "    </tr>\n",
       "    <tr>\n",
       "      <th>5</th>\n",
       "      <td>Hardcover</td>\n",
       "      <td>4.36</td>\n",
       "      <td>The Book Thief</td>\n",
       "      <td>Classics</td>\n",
       "      <td>J</td>\n",
       "      <td>1728</td>\n",
       "    </tr>\n",
       "    <tr>\n",
       "      <th>6</th>\n",
       "      <td>Paperback</td>\n",
       "      <td>4.25</td>\n",
       "      <td>The Chronicles of Narnia</td>\n",
       "      <td>Classics</td>\n",
       "      <td>E</td>\n",
       "      <td>464</td>\n",
       "    </tr>\n",
       "  </tbody>\n",
       "</table>\n",
       "</div>"
      ],
      "text/plain": [
       "  book_format  book_rating                                 book_title  \\\n",
       "1   Paperback         4.48  Harry Potter and the Order of the Phoenix   \n",
       "2   Paperback         4.27                      To Kill a Mockingbird   \n",
       "3   Paperback         4.25                        Pride and Prejudice   \n",
       "5   Hardcover         4.36                             The Book Thief   \n",
       "6   Paperback         4.25                   The Chronicles of Narnia   \n",
       "\n",
       "     genero iniciais  paginas  \n",
       "1   Fantasy        H      324  \n",
       "2   Fiction        J      279  \n",
       "3  Classics        M      552  \n",
       "5  Classics        J     1728  \n",
       "6  Classics        E      464  "
      ]
     },
<<<<<<< HEAD
     "execution_count": 17,
=======
<<<<<<< HEAD
     "execution_count": 174,
=======
<<<<<<< HEAD
     "execution_count": 136,
=======
     "execution_count": 17,
>>>>>>> 9bd7f88ebfedd5a89df5986dcd77b1da36ab594d
>>>>>>> 24dda479a5ba046c7a484d1d03e252fe06b1f1b7
>>>>>>> e473a17574320989a837412c48232da6c6d03e20
     "metadata": {},
     "output_type": "execute_result"
    }
   ],
   "source": [
    "csv.head()"
   ]
  },
  {
   "cell_type": "code",
<<<<<<< HEAD
=======
<<<<<<< HEAD
   "execution_count": 175,
=======
<<<<<<< HEAD
   "execution_count": 138,
   "metadata": {},
   "outputs": [],
=======
>>>>>>> e473a17574320989a837412c48232da6c6d03e20
   "execution_count": 18,
>>>>>>> 24dda479a5ba046c7a484d1d03e252fe06b1f1b7
   "metadata": {},
   "outputs": [
    {
     "data": {
      "text/plain": [
       "Fiction                64\n",
       "Fantasy                58\n",
       "Classics               52\n",
       "Young Adult            32\n",
       "Mystery                22\n",
       "Sequential Art         22\n",
       "Nonfiction             21\n",
       "Romance                18\n",
       "Science Fiction        17\n",
       "Philosophy             13\n",
       "Historical             11\n",
       "Horror                  9\n",
       "History                 8\n",
       "Poetry                  8\n",
       "Paranormal              7\n",
       "Plays                   5\n",
       "Thriller                5\n",
       "Childrens               5\n",
       "Religion                5\n",
       "Cultural                5\n",
       "Short Stories           4\n",
       "Crime                   3\n",
       "Media Tie In            3\n",
       "Science                 3\n",
       "Business                3\n",
       "European Literature     3\n",
       "Christian               3\n",
       "Computer Science        3\n",
       "Parenting               2\n",
       "New Adult               2\n",
       "Humor                   2\n",
       "Law                     2\n",
       "Psychology              2\n",
       "Spirituality            2\n",
       "Biography               2\n",
       "Contemporary            2\n",
       "Novels                  2\n",
       "Health                  2\n",
       "Autobiography           2\n",
       "Reference               1\n",
       "Teaching                1\n",
       "Asian Literature        1\n",
       "Literature              1\n",
       "Womens Fiction          1\n",
       "Academic                1\n",
       "Lgbt                    1\n",
       "Music                   1\n",
       "Economics               1\n",
       "Erotica                 1\n",
       "Leadership              1\n",
       "Feminism                1\n",
       "Esoterica               1\n",
       "Art                     1\n",
       "Amish                   1\n",
       "Name: genero, dtype: int64"
      ]
     },
     "execution_count": 175,
     "metadata": {},
     "output_type": "execute_result"
    }
   ],
   "source": [
    "csv['genero'].value_counts()"
   ]
  },
  {
   "cell_type": "code",
   "execution_count": 176,
   "metadata": {
    "scrolled": true
   },
   "outputs": [
    {
     "data": {
      "text/plain": [
       "(449, 6)"
      ]
     },
     "execution_count": 176,
     "metadata": {},
     "output_type": "execute_result"
    }
   ],
   "source": [
    "csv.shape"
   ]
  },
  {
   "cell_type": "code",
<<<<<<< HEAD
=======
<<<<<<< HEAD
<<<<<<< HEAD
   "execution_count": 177,
=======
>>>>>>> e473a17574320989a837412c48232da6c6d03e20
   "execution_count": null,
   "metadata": {},
   "outputs": [],
   "source": []
  },
  {
   "cell_type": "code",
<<<<<<< HEAD
   "execution_count": 20,
=======
>>>>>>> b9efb81c1ed17f0c451326eb2122519d92eab5ab
=======
<<<<<<< HEAD
   "execution_count": 139,
=======
>>>>>>> 24dda479a5ba046c7a484d1d03e252fe06b1f1b7
   "execution_count": 20,
>>>>>>> 9bd7f88ebfedd5a89df5986dcd77b1da36ab594d
>>>>>>> 24dda479a5ba046c7a484d1d03e252fe06b1f1b7
>>>>>>> e473a17574320989a837412c48232da6c6d03e20
   "metadata": {},
   "outputs": [
    {
     "data": {
      "text/html": [
       "<div>\n",
       "<style scoped>\n",
       "    .dataframe tbody tr th:only-of-type {\n",
       "        vertical-align: middle;\n",
       "    }\n",
       "\n",
       "    .dataframe tbody tr th {\n",
       "        vertical-align: top;\n",
       "    }\n",
       "\n",
       "    .dataframe thead th {\n",
       "        text-align: right;\n",
       "    }\n",
       "</style>\n",
       "<table border=\"1\" class=\"dataframe\">\n",
       "  <thead>\n",
       "    <tr style=\"text-align: right;\">\n",
       "      <th></th>\n",
       "      <th>book_format</th>\n",
       "      <th>book_rating</th>\n",
       "      <th>book_title</th>\n",
       "      <th>genero</th>\n",
       "      <th>iniciais</th>\n",
       "      <th>paginas</th>\n",
       "    </tr>\n",
       "  </thead>\n",
       "  <tbody>\n",
       "    <tr>\n",
       "      <th>1</th>\n",
       "      <td>Paperback</td>\n",
       "      <td>4.48</td>\n",
       "      <td>Harry Potter and the Order of the Phoenix</td>\n",
       "      <td>Fantasy</td>\n",
       "      <td>H</td>\n",
       "      <td>324</td>\n",
       "    </tr>\n",
       "    <tr>\n",
       "      <th>2</th>\n",
       "      <td>Paperback</td>\n",
       "      <td>4.27</td>\n",
       "      <td>To Kill a Mockingbird</td>\n",
       "      <td>Fiction</td>\n",
       "      <td>J</td>\n",
       "      <td>279</td>\n",
       "    </tr>\n",
       "    <tr>\n",
       "      <th>3</th>\n",
       "      <td>Paperback</td>\n",
       "      <td>4.25</td>\n",
       "      <td>Pride and Prejudice</td>\n",
       "      <td>Classics</td>\n",
       "      <td>M</td>\n",
       "      <td>552</td>\n",
       "    </tr>\n",
       "    <tr>\n",
       "      <th>5</th>\n",
       "      <td>Hardcover</td>\n",
       "      <td>4.36</td>\n",
       "      <td>The Book Thief</td>\n",
       "      <td>Classics</td>\n",
       "      <td>J</td>\n",
       "      <td>1728</td>\n",
       "    </tr>\n",
       "    <tr>\n",
       "      <th>6</th>\n",
       "      <td>Paperback</td>\n",
       "      <td>4.25</td>\n",
       "      <td>The Chronicles of Narnia</td>\n",
       "      <td>Classics</td>\n",
       "      <td>E</td>\n",
       "      <td>464</td>\n",
       "    </tr>\n",
       "    <tr>\n",
       "      <th>9</th>\n",
       "      <td>Mass Market Paperback</td>\n",
       "      <td>4.59</td>\n",
       "      <td>J.R.R. Tolkien 4-Book Boxed Set: The Hobbit an...</td>\n",
       "      <td>Novels</td>\n",
       "      <td>C</td>\n",
       "      <td>507</td>\n",
       "    </tr>\n",
       "    <tr>\n",
       "      <th>13</th>\n",
       "      <td>Paperback</td>\n",
       "      <td>3.84</td>\n",
       "      <td>Wuthering Heights</td>\n",
       "      <td>Media Tie In</td>\n",
       "      <td>O</td>\n",
       "      <td>324</td>\n",
       "    </tr>\n",
       "    <tr>\n",
       "      <th>15</th>\n",
       "      <td>Hardcover</td>\n",
       "      <td>4.09</td>\n",
       "      <td>Memoirs of a Geisha</td>\n",
       "      <td>Young Adult</td>\n",
       "      <td>J</td>\n",
       "      <td>112</td>\n",
       "    </tr>\n",
       "    <tr>\n",
       "      <th>17</th>\n",
       "      <td>Paperback</td>\n",
       "      <td>4.06</td>\n",
       "      <td>The Picture of Dorian Gray</td>\n",
       "      <td>Mystery</td>\n",
       "      <td>W</td>\n",
       "      <td>398</td>\n",
       "    </tr>\n",
       "    <tr>\n",
       "      <th>20</th>\n",
       "      <td>Paperback</td>\n",
       "      <td>4.11</td>\n",
       "      <td>Jane Eyre</td>\n",
       "      <td>Mystery</td>\n",
       "      <td>M</td>\n",
       "      <td>273</td>\n",
       "    </tr>\n",
       "    <tr>\n",
       "      <th>21</th>\n",
       "      <td>Mass Market Paperback</td>\n",
       "      <td>3.74</td>\n",
       "      <td>Romeo and Juliet</td>\n",
       "      <td>Fantasy</td>\n",
       "      <td>K</td>\n",
       "      <td>371</td>\n",
       "    </tr>\n",
       "    <tr>\n",
       "      <th>22</th>\n",
       "      <td>Paperback</td>\n",
       "      <td>3.66</td>\n",
       "      <td>Lord of the Flies</td>\n",
       "      <td>Paranormal</td>\n",
       "      <td>S</td>\n",
       "      <td>1153</td>\n",
       "    </tr>\n",
       "    <tr>\n",
       "      <th>24</th>\n",
       "      <td>Paperback</td>\n",
       "      <td>4.20</td>\n",
       "      <td>Crime and Punishment</td>\n",
       "      <td>Fantasy</td>\n",
       "      <td>S</td>\n",
       "      <td>244</td>\n",
       "    </tr>\n",
       "    <tr>\n",
       "      <th>25</th>\n",
       "      <td>Mass Market Paperback</td>\n",
       "      <td>4.30</td>\n",
       "      <td>Ender's Game</td>\n",
       "      <td>Classics</td>\n",
       "      <td>S</td>\n",
       "      <td>465</td>\n",
       "    </tr>\n",
       "    <tr>\n",
       "      <th>31</th>\n",
       "      <td>Paperback</td>\n",
       "      <td>4.16</td>\n",
       "      <td>Charlotte's Web</td>\n",
       "      <td>Fiction</td>\n",
       "      <td>L</td>\n",
       "      <td>838</td>\n",
       "    </tr>\n",
       "    <tr>\n",
       "      <th>33</th>\n",
       "      <td>Paperback</td>\n",
       "      <td>3.85</td>\n",
       "      <td>Of Mice and Men</td>\n",
       "      <td>Science Fiction</td>\n",
       "      <td>C</td>\n",
       "      <td>481</td>\n",
       "    </tr>\n",
       "    <tr>\n",
       "      <th>34</th>\n",
       "      <td>Paperback</td>\n",
       "      <td>3.98</td>\n",
       "      <td>Dracula</td>\n",
       "      <td>Fantasy</td>\n",
       "      <td>C</td>\n",
       "      <td>505</td>\n",
       "    </tr>\n",
       "    <tr>\n",
       "      <th>38</th>\n",
       "      <td>Paperback</td>\n",
       "      <td>4.26</td>\n",
       "      <td>The Princess Bride</td>\n",
       "      <td>Classics</td>\n",
       "      <td>N</td>\n",
       "      <td>238</td>\n",
       "    </tr>\n",
       "    <tr>\n",
       "      <th>45</th>\n",
       "      <td>Paperback</td>\n",
       "      <td>4.24</td>\n",
       "      <td>The Lightning Thief</td>\n",
       "      <td>Fantasy</td>\n",
       "      <td>L</td>\n",
       "      <td>2700</td>\n",
       "    </tr>\n",
       "    <tr>\n",
       "      <th>52</th>\n",
       "      <td>Paperback</td>\n",
       "      <td>3.82</td>\n",
       "      <td>A Tale of Two Cities</td>\n",
       "      <td>Fiction</td>\n",
       "      <td>J</td>\n",
       "      <td>341</td>\n",
       "    </tr>\n",
       "    <tr>\n",
       "      <th>59</th>\n",
       "      <td>Paperback</td>\n",
       "      <td>3.77</td>\n",
       "      <td>Frankenstein</td>\n",
       "      <td>Classics</td>\n",
       "      <td>G</td>\n",
       "      <td>329</td>\n",
       "    </tr>\n",
       "    <tr>\n",
       "      <th>60</th>\n",
       "      <td>Paperback</td>\n",
       "      <td>4.27</td>\n",
       "      <td>The Kite Runner</td>\n",
       "      <td>Classics</td>\n",
       "      <td>S</td>\n",
       "      <td>503</td>\n",
       "    </tr>\n",
       "    <tr>\n",
       "      <th>62</th>\n",
       "      <td>Hardcover</td>\n",
       "      <td>4.34</td>\n",
       "      <td>The Stand</td>\n",
       "      <td>Historical</td>\n",
       "      <td>J</td>\n",
       "      <td>783</td>\n",
       "    </tr>\n",
       "    <tr>\n",
       "      <th>68</th>\n",
       "      <td>Mass Market Paperback</td>\n",
       "      <td>4.19</td>\n",
       "      <td>One Flew Over the Cuckoo's Nest</td>\n",
       "      <td>Young Adult</td>\n",
       "      <td>R</td>\n",
       "      <td>489</td>\n",
       "    </tr>\n",
       "    <tr>\n",
       "      <th>69</th>\n",
       "      <td>Paperback</td>\n",
       "      <td>3.99</td>\n",
       "      <td>The Bell Jar</td>\n",
       "      <td>Fiction</td>\n",
       "      <td>T</td>\n",
       "      <td>233</td>\n",
       "    </tr>\n",
       "    <tr>\n",
       "      <th>71</th>\n",
       "      <td>Hardcover</td>\n",
       "      <td>4.13</td>\n",
       "      <td>The Girl with the Dragon Tattoo</td>\n",
       "      <td>Fantasy</td>\n",
       "      <td>H</td>\n",
       "      <td>1556</td>\n",
       "    </tr>\n",
       "    <tr>\n",
       "      <th>73</th>\n",
       "      <td>Paperback</td>\n",
       "      <td>4.25</td>\n",
       "      <td>A Tree Grows in Brooklyn</td>\n",
       "      <td>Classics</td>\n",
<<<<<<< HEAD
       "      <td>E</td>\n",
       "    </tr>\n",
       "  </tbody>\n",
       "</table>\n",
       "</div>"
      ],
      "text/plain": [
       "  book_format    genero iniciais\n",
       "1   Paperback   Fantasy        H\n",
       "2   Paperback   Fiction        J\n",
       "3   Paperback  Classics        M\n",
       "5   Hardcover  Classics        J\n",
       "6   Paperback  Classics        E"
      ]
     },
     "execution_count": 22,
=======
       "      <td>K</td>\n",
       "      <td>256</td>\n",
       "    </tr>\n",
       "    <tr>\n",
       "      <th>76</th>\n",
       "      <td>Paperback</td>\n",
       "      <td>4.35</td>\n",
       "      <td>The Fellowship of the Ring</td>\n",
       "      <td>Plays</td>\n",
       "      <td>C</td>\n",
       "      <td>223</td>\n",
       "    </tr>\n",
       "    <tr>\n",
       "      <th>87</th>\n",
       "      <td>Hardcover</td>\n",
       "      <td>4.62</td>\n",
       "      <td>Harry Potter and the Deathly Hallows</td>\n",
       "      <td>Philosophy</td>\n",
       "      <td>D</td>\n",
       "      <td>329</td>\n",
       "    </tr>\n",
       "    <tr>\n",
       "      <th>90</th>\n",
       "      <td>Hardcover</td>\n",
       "      <td>3.98</td>\n",
       "      <td>Fahrenheit 451</td>\n",
       "      <td>Historical</td>\n",
       "      <td>J</td>\n",
       "      <td>973</td>\n",
       "    </tr>\n",
       "    <tr>\n",
       "      <th>...</th>\n",
       "      <td>...</td>\n",
       "      <td>...</td>\n",
       "      <td>...</td>\n",
       "      <td>...</td>\n",
       "      <td>...</td>\n",
       "      <td>...</td>\n",
       "    </tr>\n",
       "    <tr>\n",
       "      <th>2459</th>\n",
       "      <td>Hardcover</td>\n",
       "      <td>3.98</td>\n",
       "      <td>Thirteen Reasons Why</td>\n",
       "      <td>Young Adult</td>\n",
       "      <td>R</td>\n",
       "      <td>200</td>\n",
       "    </tr>\n",
       "    <tr>\n",
       "      <th>2460</th>\n",
       "      <td>Paperback</td>\n",
       "      <td>4.02</td>\n",
       "      <td>Love &amp; Misadventure</td>\n",
       "      <td>Fiction</td>\n",
       "      <td>D</td>\n",
       "      <td>276</td>\n",
       "    </tr>\n",
       "    <tr>\n",
       "      <th>2461</th>\n",
       "      <td>Hardcover</td>\n",
       "      <td>4.38</td>\n",
       "      <td>The Outlaw Demon Wails</td>\n",
       "      <td>Fiction</td>\n",
       "      <td>I</td>\n",
       "      <td>532</td>\n",
       "    </tr>\n",
       "    <tr>\n",
       "      <th>2468</th>\n",
       "      <td>Paperback</td>\n",
       "      <td>4.44</td>\n",
       "      <td>The Poetry of Pablo Neruda</td>\n",
       "      <td>Philosophy</td>\n",
       "      <td>L</td>\n",
       "      <td>317</td>\n",
       "    </tr>\n",
       "    <tr>\n",
       "      <th>2478</th>\n",
       "      <td>Trade Paperback</td>\n",
       "      <td>4.27</td>\n",
       "      <td>Last Argument of Kings</td>\n",
       "      <td>Sequential Art</td>\n",
       "      <td>T</td>\n",
       "      <td>299</td>\n",
       "    </tr>\n",
       "    <tr>\n",
       "      <th>2486</th>\n",
       "      <td>Mass Market Paperback</td>\n",
       "      <td>4.63</td>\n",
       "      <td>A Song of Ice and Fire</td>\n",
       "      <td>Fiction</td>\n",
       "      <td>P</td>\n",
       "      <td>224</td>\n",
       "    </tr>\n",
       "    <tr>\n",
       "      <th>2509</th>\n",
       "      <td>Paperback</td>\n",
       "      <td>3.88</td>\n",
       "      <td>History of the Peloponnesian War</td>\n",
       "      <td>Mystery</td>\n",
       "      <td>R</td>\n",
       "      <td>192</td>\n",
       "    </tr>\n",
       "    <tr>\n",
       "      <th>2513</th>\n",
       "      <td>Paperback</td>\n",
       "      <td>3.97</td>\n",
       "      <td>The Histories</td>\n",
       "      <td>Fiction</td>\n",
       "      <td>L</td>\n",
       "      <td>287</td>\n",
       "    </tr>\n",
       "    <tr>\n",
       "      <th>2519</th>\n",
       "      <td>Hardcover</td>\n",
       "      <td>4.10</td>\n",
       "      <td>Rot &amp; Ruin</td>\n",
       "      <td>Science</td>\n",
       "      <td>I</td>\n",
       "      <td>396</td>\n",
       "    </tr>\n",
       "    <tr>\n",
       "      <th>2524</th>\n",
       "      <td>Paperback</td>\n",
       "      <td>3.78</td>\n",
       "      <td>The Golden Bowl</td>\n",
       "      <td>Science Fiction</td>\n",
       "      <td>P</td>\n",
       "      <td>399</td>\n",
       "    </tr>\n",
       "    <tr>\n",
       "      <th>2536</th>\n",
       "      <td>Paperback</td>\n",
       "      <td>3.56</td>\n",
       "      <td>Bridget Jones: The Edge of Reason</td>\n",
       "      <td>Mystery</td>\n",
       "      <td>W</td>\n",
       "      <td>160</td>\n",
       "    </tr>\n",
       "    <tr>\n",
       "      <th>2546</th>\n",
       "      <td>Mass Market Paperback</td>\n",
       "      <td>3.81</td>\n",
       "      <td>Desperation</td>\n",
       "      <td>Young Adult</td>\n",
       "      <td>M</td>\n",
       "      <td>239</td>\n",
       "    </tr>\n",
       "    <tr>\n",
       "      <th>2564</th>\n",
       "      <td>Mass Market Paperback</td>\n",
       "      <td>4.35</td>\n",
       "      <td>Unleash the Night</td>\n",
       "      <td>Fantasy</td>\n",
       "      <td>J</td>\n",
       "      <td>704</td>\n",
       "    </tr>\n",
       "    <tr>\n",
       "      <th>2584</th>\n",
       "      <td>Paperback</td>\n",
       "      <td>4.05</td>\n",
       "      <td>Goodbye to All That</td>\n",
       "      <td>Christian</td>\n",
       "      <td>C</td>\n",
       "      <td>432</td>\n",
       "    </tr>\n",
       "    <tr>\n",
       "      <th>2589</th>\n",
       "      <td>Paperback</td>\n",
       "      <td>3.99</td>\n",
       "      <td>Forsaken</td>\n",
       "      <td>Romance</td>\n",
       "      <td>N</td>\n",
       "      <td>276</td>\n",
       "    </tr>\n",
       "    <tr>\n",
       "      <th>2596</th>\n",
       "      <td>Paperback</td>\n",
       "      <td>4.42</td>\n",
       "      <td>Where I'm Calling From: New and Selected Stories</td>\n",
       "      <td>Romance</td>\n",
       "      <td>P</td>\n",
       "      <td>272</td>\n",
       "    </tr>\n",
       "    <tr>\n",
       "      <th>2599</th>\n",
       "      <td>Hardcover</td>\n",
       "      <td>3.82</td>\n",
       "      <td>Night Star</td>\n",
       "      <td>Classics</td>\n",
       "      <td>S</td>\n",
       "      <td>271</td>\n",
       "    </tr>\n",
       "    <tr>\n",
       "      <th>2603</th>\n",
       "      <td>Paperback</td>\n",
       "      <td>3.85</td>\n",
       "      <td>Junky</td>\n",
       "      <td>Poetry</td>\n",
       "      <td>E</td>\n",
       "      <td>331</td>\n",
       "    </tr>\n",
       "    <tr>\n",
       "      <th>2610</th>\n",
       "      <td>Hardcover</td>\n",
       "      <td>3.93</td>\n",
       "      <td>Little Brother</td>\n",
       "      <td>Historical</td>\n",
       "      <td>F</td>\n",
       "      <td>564</td>\n",
       "    </tr>\n",
       "    <tr>\n",
       "      <th>2611</th>\n",
       "      <td>Hardcover</td>\n",
       "      <td>4.32</td>\n",
       "      <td>The Memoirs of Sherlock Holmes</td>\n",
       "      <td>Fiction</td>\n",
       "      <td>N</td>\n",
       "      <td>218</td>\n",
       "    </tr>\n",
       "    <tr>\n",
       "      <th>2615</th>\n",
       "      <td>Hardcover</td>\n",
       "      <td>3.97</td>\n",
       "      <td>The Atlantis Complex</td>\n",
       "      <td>Philosophy</td>\n",
       "      <td>K</td>\n",
       "      <td>14</td>\n",
       "    </tr>\n",
       "    <tr>\n",
       "      <th>2620</th>\n",
       "      <td>Hardcover</td>\n",
       "      <td>4.07</td>\n",
       "      <td>The Orphan Master's Son</td>\n",
       "      <td>Classics</td>\n",
       "      <td>H</td>\n",
       "      <td>192</td>\n",
       "    </tr>\n",
       "    <tr>\n",
       "      <th>2632</th>\n",
       "      <td>Hardcover</td>\n",
       "      <td>3.91</td>\n",
       "      <td>The Slow Regard of Silent Things</td>\n",
       "      <td>Fiction</td>\n",
       "      <td>C</td>\n",
       "      <td>464</td>\n",
       "    </tr>\n",
       "    <tr>\n",
       "      <th>2633</th>\n",
       "      <td>Hardcover</td>\n",
       "      <td>4.09</td>\n",
       "      <td>The Magician</td>\n",
       "      <td>Science Fiction</td>\n",
       "      <td>S</td>\n",
       "      <td>683</td>\n",
       "    </tr>\n",
       "    <tr>\n",
       "      <th>2655</th>\n",
       "      <td>Paperback</td>\n",
       "      <td>4.44</td>\n",
       "      <td>Nicu II and Victoria's Incestuous Romance</td>\n",
       "      <td>Nonfiction</td>\n",
       "      <td>H</td>\n",
       "      <td>337</td>\n",
       "    </tr>\n",
       "    <tr>\n",
       "      <th>2656</th>\n",
       "      <td>Hardcover</td>\n",
       "      <td>3.97</td>\n",
       "      <td>Hades</td>\n",
       "      <td>Young Adult</td>\n",
       "      <td>A</td>\n",
       "      <td>398</td>\n",
       "    </tr>\n",
       "    <tr>\n",
       "      <th>2664</th>\n",
       "      <td>Paperback</td>\n",
       "      <td>4.22</td>\n",
       "      <td>Wings of Fire: An Autobiography</td>\n",
       "      <td>Business</td>\n",
       "      <td>L</td>\n",
       "      <td>248</td>\n",
       "    </tr>\n",
       "    <tr>\n",
       "      <th>2666</th>\n",
       "      <td>Paperback</td>\n",
       "      <td>3.97</td>\n",
       "      <td>How Not to Murder Your Grumpy</td>\n",
       "      <td>Romance</td>\n",
       "      <td>I</td>\n",
       "      <td>1000</td>\n",
       "    </tr>\n",
       "    <tr>\n",
       "      <th>2683</th>\n",
       "      <td>Paperback</td>\n",
       "      <td>4.01</td>\n",
       "      <td>The Three Stigmata of Palmer Eldritch</td>\n",
       "      <td>Fantasy</td>\n",
       "      <td>S</td>\n",
       "      <td>864</td>\n",
       "    </tr>\n",
       "    <tr>\n",
       "      <th>2684</th>\n",
       "      <td>Mass Market Paperback</td>\n",
       "      <td>3.93</td>\n",
       "      <td>Winter's Heart</td>\n",
       "      <td>Plays</td>\n",
       "      <td>B</td>\n",
       "      <td>832</td>\n",
       "    </tr>\n",
       "  </tbody>\n",
       "</table>\n",
       "<p>444 rows × 6 columns</p>\n",
       "</div>"
      ],
      "text/plain": [
       "                book_format  book_rating  \\\n",
       "1                 Paperback         4.48   \n",
       "2                 Paperback         4.27   \n",
       "3                 Paperback         4.25   \n",
       "5                 Hardcover         4.36   \n",
       "6                 Paperback         4.25   \n",
       "9     Mass Market Paperback         4.59   \n",
       "13                Paperback         3.84   \n",
       "15                Hardcover         4.09   \n",
       "17                Paperback         4.06   \n",
       "20                Paperback         4.11   \n",
       "21    Mass Market Paperback         3.74   \n",
       "22                Paperback         3.66   \n",
       "24                Paperback         4.20   \n",
       "25    Mass Market Paperback         4.30   \n",
       "31                Paperback         4.16   \n",
       "33                Paperback         3.85   \n",
       "34                Paperback         3.98   \n",
       "38                Paperback         4.26   \n",
       "45                Paperback         4.24   \n",
       "52                Paperback         3.82   \n",
       "59                Paperback         3.77   \n",
       "60                Paperback         4.27   \n",
       "62                Hardcover         4.34   \n",
       "68    Mass Market Paperback         4.19   \n",
       "69                Paperback         3.99   \n",
       "71                Hardcover         4.13   \n",
       "73                Paperback         4.25   \n",
       "76                Paperback         4.35   \n",
       "87                Hardcover         4.62   \n",
       "90                Hardcover         3.98   \n",
       "...                     ...          ...   \n",
       "2459              Hardcover         3.98   \n",
       "2460              Paperback         4.02   \n",
       "2461              Hardcover         4.38   \n",
       "2468              Paperback         4.44   \n",
       "2478        Trade Paperback         4.27   \n",
       "2486  Mass Market Paperback         4.63   \n",
       "2509              Paperback         3.88   \n",
       "2513              Paperback         3.97   \n",
       "2519              Hardcover         4.10   \n",
       "2524              Paperback         3.78   \n",
       "2536              Paperback         3.56   \n",
       "2546  Mass Market Paperback         3.81   \n",
       "2564  Mass Market Paperback         4.35   \n",
       "2584              Paperback         4.05   \n",
       "2589              Paperback         3.99   \n",
       "2596              Paperback         4.42   \n",
       "2599              Hardcover         3.82   \n",
       "2603              Paperback         3.85   \n",
       "2610              Hardcover         3.93   \n",
       "2611              Hardcover         4.32   \n",
       "2615              Hardcover         3.97   \n",
       "2620              Hardcover         4.07   \n",
       "2632              Hardcover         3.91   \n",
       "2633              Hardcover         4.09   \n",
       "2655              Paperback         4.44   \n",
       "2656              Hardcover         3.97   \n",
       "2664              Paperback         4.22   \n",
       "2666              Paperback         3.97   \n",
       "2683              Paperback         4.01   \n",
       "2684  Mass Market Paperback         3.93   \n",
       "\n",
       "                                             book_title           genero  \\\n",
       "1             Harry Potter and the Order of the Phoenix          Fantasy   \n",
       "2                                 To Kill a Mockingbird          Fiction   \n",
       "3                                   Pride and Prejudice         Classics   \n",
       "5                                        The Book Thief         Classics   \n",
       "6                              The Chronicles of Narnia         Classics   \n",
       "9     J.R.R. Tolkien 4-Book Boxed Set: The Hobbit an...           Novels   \n",
       "13                                    Wuthering Heights     Media Tie In   \n",
       "15                                  Memoirs of a Geisha      Young Adult   \n",
       "17                           The Picture of Dorian Gray          Mystery   \n",
       "20                                            Jane Eyre          Mystery   \n",
       "21                                     Romeo and Juliet          Fantasy   \n",
       "22                                    Lord of the Flies       Paranormal   \n",
       "24                                 Crime and Punishment          Fantasy   \n",
       "25                                         Ender's Game         Classics   \n",
       "31                                      Charlotte's Web          Fiction   \n",
       "33                                      Of Mice and Men  Science Fiction   \n",
       "34                                              Dracula          Fantasy   \n",
       "38                                   The Princess Bride         Classics   \n",
       "45                                  The Lightning Thief          Fantasy   \n",
       "52                                 A Tale of Two Cities          Fiction   \n",
       "59                                         Frankenstein         Classics   \n",
       "60                                      The Kite Runner         Classics   \n",
       "62                                            The Stand       Historical   \n",
       "68                      One Flew Over the Cuckoo's Nest      Young Adult   \n",
       "69                                         The Bell Jar          Fiction   \n",
       "71                      The Girl with the Dragon Tattoo          Fantasy   \n",
       "73                             A Tree Grows in Brooklyn         Classics   \n",
       "76                           The Fellowship of the Ring            Plays   \n",
       "87                 Harry Potter and the Deathly Hallows       Philosophy   \n",
       "90                                       Fahrenheit 451       Historical   \n",
       "...                                                 ...              ...   \n",
       "2459                               Thirteen Reasons Why      Young Adult   \n",
       "2460                                Love & Misadventure          Fiction   \n",
       "2461                             The Outlaw Demon Wails          Fiction   \n",
       "2468                         The Poetry of Pablo Neruda       Philosophy   \n",
       "2478                             Last Argument of Kings   Sequential Art   \n",
       "2486                             A Song of Ice and Fire          Fiction   \n",
       "2509                   History of the Peloponnesian War          Mystery   \n",
       "2513                                      The Histories          Fiction   \n",
       "2519                                         Rot & Ruin          Science   \n",
       "2524                                    The Golden Bowl  Science Fiction   \n",
       "2536                  Bridget Jones: The Edge of Reason          Mystery   \n",
       "2546                                        Desperation      Young Adult   \n",
       "2564                                  Unleash the Night          Fantasy   \n",
       "2584                                Goodbye to All That        Christian   \n",
       "2589                                           Forsaken          Romance   \n",
       "2596   Where I'm Calling From: New and Selected Stories          Romance   \n",
       "2599                                         Night Star         Classics   \n",
       "2603                                              Junky           Poetry   \n",
       "2610                                     Little Brother       Historical   \n",
       "2611                     The Memoirs of Sherlock Holmes          Fiction   \n",
       "2615                               The Atlantis Complex       Philosophy   \n",
       "2620                            The Orphan Master's Son         Classics   \n",
       "2632                   The Slow Regard of Silent Things          Fiction   \n",
       "2633                                       The Magician  Science Fiction   \n",
       "2655          Nicu II and Victoria's Incestuous Romance       Nonfiction   \n",
       "2656                                              Hades      Young Adult   \n",
       "2664                    Wings of Fire: An Autobiography         Business   \n",
       "2666                      How Not to Murder Your Grumpy          Romance   \n",
       "2683              The Three Stigmata of Palmer Eldritch          Fantasy   \n",
       "2684                                     Winter's Heart            Plays   \n",
       "\n",
       "     iniciais  paginas  \n",
       "1           H      324  \n",
       "2           J      279  \n",
       "3           M      552  \n",
       "5           J     1728  \n",
       "6           E      464  \n",
       "9           C      507  \n",
       "13          O      324  \n",
       "15          J      112  \n",
       "17          W      398  \n",
       "20          M      273  \n",
       "21          K      371  \n",
       "22          S     1153  \n",
       "24          S      244  \n",
       "25          S      465  \n",
       "31          L      838  \n",
       "33          C      481  \n",
       "34          C      505  \n",
       "38          N      238  \n",
       "45          L     2700  \n",
       "52          J      341  \n",
       "59          G      329  \n",
       "60          S      503  \n",
       "62          J      783  \n",
       "68          R      489  \n",
       "69          T      233  \n",
       "71          H     1556  \n",
       "73          K      256  \n",
       "76          C      223  \n",
       "87          D      329  \n",
       "90          J      973  \n",
       "...       ...      ...  \n",
       "2459        R      200  \n",
       "2460        D      276  \n",
       "2461        I      532  \n",
       "2468        L      317  \n",
       "2478        T      299  \n",
       "2486        P      224  \n",
       "2509        R      192  \n",
       "2513        L      287  \n",
       "2519        I      396  \n",
       "2524        P      399  \n",
       "2536        W      160  \n",
       "2546        M      239  \n",
       "2564        J      704  \n",
       "2584        C      432  \n",
       "2589        N      276  \n",
       "2596        P      272  \n",
       "2599        S      271  \n",
       "2603        E      331  \n",
       "2610        F      564  \n",
       "2611        N      218  \n",
       "2615        K       14  \n",
       "2620        H      192  \n",
       "2632        C      464  \n",
       "2633        S      683  \n",
       "2655        H      337  \n",
       "2656        A      398  \n",
       "2664        L      248  \n",
       "2666        I     1000  \n",
       "2683        S      864  \n",
       "2684        B      832  \n",
       "\n",
       "[444 rows x 6 columns]"
      ]
     },
     "execution_count": 177,
     "metadata": {},
     "output_type": "execute_result"
    }
   ],
   "source": [
    "# Apenas os livros com 3.5 estrelas ou mais de avaliação no Goodreads\n",
    "csv.loc[(csv['book_rating']>= 3.5)]"
   ]
  },
  {
   "cell_type": "code",
   "execution_count": 178,
   "metadata": {},
   "outputs": [],
   "source": [
    "# Separando as variáveis em quantitativas, qualitativas e a desejada\n",
    "y = csv['book_rating'].values\n",
    "num = csv[['paginas']]\n",
    "qual = csv[['book_format','genero','iniciais']]"
   ]
  },
  {
   "cell_type": "code",
   "execution_count": 179,
   "metadata": {},
   "outputs": [
    {
     "data": {
      "text/html": [
       "<div>\n",
       "<style scoped>\n",
       "    .dataframe tbody tr th:only-of-type {\n",
       "        vertical-align: middle;\n",
       "    }\n",
       "\n",
       "    .dataframe tbody tr th {\n",
       "        vertical-align: top;\n",
       "    }\n",
       "\n",
       "    .dataframe thead th {\n",
       "        text-align: right;\n",
       "    }\n",
       "</style>\n",
       "<table border=\"1\" class=\"dataframe\">\n",
       "  <thead>\n",
       "    <tr style=\"text-align: right;\">\n",
       "      <th></th>\n",
       "      <th>book_format</th>\n",
       "      <th>genero</th>\n",
       "      <th>iniciais</th>\n",
       "    </tr>\n",
       "  </thead>\n",
       "  <tbody>\n",
       "    <tr>\n",
       "      <th>1</th>\n",
       "      <td>Paperback</td>\n",
       "      <td>Fantasy</td>\n",
       "      <td>H</td>\n",
       "    </tr>\n",
       "    <tr>\n",
       "      <th>2</th>\n",
       "      <td>Paperback</td>\n",
       "      <td>Fiction</td>\n",
       "      <td>J</td>\n",
       "    </tr>\n",
       "    <tr>\n",
       "      <th>3</th>\n",
       "      <td>Paperback</td>\n",
       "      <td>Classics</td>\n",
       "      <td>M</td>\n",
       "    </tr>\n",
       "    <tr>\n",
       "      <th>5</th>\n",
       "      <td>Hardcover</td>\n",
       "      <td>Classics</td>\n",
       "      <td>J</td>\n",
       "    </tr>\n",
       "    <tr>\n",
       "      <th>6</th>\n",
       "      <td>Paperback</td>\n",
       "      <td>Classics</td>\n",
       "      <td>E</td>\n",
>>>>>>> 9bd7f88ebfedd5a89df5986dcd77b1da36ab594d
       "    </tr>\n",
       "  </tbody>\n",
       "</table>\n",
       "</div>"
      ],
      "text/plain": [
       "  book_format      genero iniciais\n",
       "1   Paperback     Fantasy        J\n",
       "2   Paperback    Classics        H\n",
       "3   Paperback    Classics        J\n",
       "5   Hardcover  Historical        M\n",
       "6   Paperback     Fantasy        C"
      ]
     },
<<<<<<< HEAD
     "execution_count": 179,
=======
<<<<<<< HEAD
     "execution_count": 139,
=======
     "execution_count": 22,
>>>>>>> 9bd7f88ebfedd5a89df5986dcd77b1da36ab594d
>>>>>>> 24dda479a5ba046c7a484d1d03e252fe06b1f1b7
>>>>>>> e473a17574320989a837412c48232da6c6d03e20
     "metadata": {},
     "output_type": "execute_result"
    }
   ],
   "source": [
    "qual.head()"
   ]
  },
  {
   "cell_type": "code",
<<<<<<< HEAD
   "execution_count": 23,
=======
<<<<<<< HEAD
   "execution_count": 180,
=======
<<<<<<< HEAD
   "execution_count": 140,
=======
   "execution_count": 23,
>>>>>>> 9bd7f88ebfedd5a89df5986dcd77b1da36ab594d
>>>>>>> 24dda479a5ba046c7a484d1d03e252fe06b1f1b7
>>>>>>> e473a17574320989a837412c48232da6c6d03e20
   "metadata": {},
   "outputs": [],
   "source": [
    "encoder = OneHotEncoder()\n",
    "capa_encoded = encoder.fit_transform(qual)"
   ]
  },
  {
   "cell_type": "code",
<<<<<<< HEAD
   "execution_count": 24,
=======
<<<<<<< HEAD
   "execution_count": 181,
=======
<<<<<<< HEAD
   "execution_count": 141,
=======
   "execution_count": 24,
>>>>>>> 9bd7f88ebfedd5a89df5986dcd77b1da36ab594d
>>>>>>> 24dda479a5ba046c7a484d1d03e252fe06b1f1b7
>>>>>>> e473a17574320989a837412c48232da6c6d03e20
   "metadata": {},
   "outputs": [],
   "source": [
    "x_num = num.values"
   ]
  },
  {
   "cell_type": "code",
<<<<<<< HEAD
   "execution_count": 25,
=======
<<<<<<< HEAD
   "execution_count": 182,
=======
<<<<<<< HEAD
   "execution_count": 142,
=======
   "execution_count": 25,
>>>>>>> 9bd7f88ebfedd5a89df5986dcd77b1da36ab594d
>>>>>>> 24dda479a5ba046c7a484d1d03e252fe06b1f1b7
>>>>>>> e473a17574320989a837412c48232da6c6d03e20
   "metadata": {
    "scrolled": false
   },
   "outputs": [],
   "source": [
    "#Transformar em array facilita a exploração dos dados\n",
    "x_encoded = capa_encoded.toarray()"
   ]
  },
  {
   "cell_type": "code",
<<<<<<< HEAD
   "execution_count": 26,
=======
<<<<<<< HEAD
   "execution_count": 183,
=======
<<<<<<< HEAD
   "execution_count": 143,
=======
   "execution_count": 26,
>>>>>>> 9bd7f88ebfedd5a89df5986dcd77b1da36ab594d
>>>>>>> 24dda479a5ba046c7a484d1d03e252fe06b1f1b7
>>>>>>> e473a17574320989a837412c48232da6c6d03e20
   "metadata": {},
   "outputs": [],
   "source": [
    "#Juntando a lista binária e as páginas\n",
    "X = np.concatenate((x_num,x_encoded), axis=1)"
   ]
  },
  {
   "cell_type": "code",
<<<<<<< HEAD
   "execution_count": 27,
=======
<<<<<<< HEAD
   "execution_count": 184,
=======
<<<<<<< HEAD
   "execution_count": 144,
=======
   "execution_count": 27,
>>>>>>> 9bd7f88ebfedd5a89df5986dcd77b1da36ab594d
>>>>>>> 24dda479a5ba046c7a484d1d03e252fe06b1f1b7
>>>>>>> e473a17574320989a837412c48232da6c6d03e20
   "metadata": {},
   "outputs": [
    {
     "data": {
      "text/plain": [
       "array([324.,   0.,   0.,   0.,   0.,   0.,   1.,   0.,   0.,   0.,   0.,\n",
       "         0.,   0.,   0.,   0.,   0.,   0.,   0.,   0.,   0.,   0.,   0.,\n",
       "         0.,   0.,   0.,   0.,   1.,   0.,   0.,   0.,   0.,   0.,   0.,\n",
       "         0.,   0.,   0.,   0.,   0.,   0.,   0.,   0.,   0.,   0.,   0.,\n",
       "         0.,   0.,   0.,   0.,   0.,   0.,   0.,   0.,   0.,   0.,   0.,\n",
<<<<<<< HEAD
       "         0.,   0.,   0.,   1.,   0.,   0.,   0.,   0.,   0.,   0.,   0.,\n",
       "         0.,   0.,   0.,   0.,   0.,   0.,   0.,   0.,   0.,   0.,   0.])"
      ]
     },
     "execution_count": 184,
=======
       "         0.,   0.,   0.,   0.,   0.,   0.,   0.,   0.,   0.,   0.,   0.,\n",
       "         0.,   0.,   0.,   0.,   1.,   0.,   0.,   0.,   0.,   0.,   0.,\n",
       "         0.,   0.,   0.,   0.,   0.,   0.,   0.,   0.,   0.,   0.,   0.,\n",
       "         0.])"
      ]
     },
     "execution_count": 27,
<<<<<<< HEAD
=======
>>>>>>> 9bd7f88ebfedd5a89df5986dcd77b1da36ab594d
>>>>>>> 24dda479a5ba046c7a484d1d03e252fe06b1f1b7
>>>>>>> e473a17574320989a837412c48232da6c6d03e20
     "metadata": {},
     "output_type": "execute_result"
    }
   ],
   "source": [
    "X[0]"
   ]
  },
  {
   "cell_type": "code",
<<<<<<< HEAD
   "execution_count": 28,
=======
<<<<<<< HEAD
   "execution_count": 185,
=======
<<<<<<< HEAD
   "execution_count": 145,
=======
   "execution_count": 28,
>>>>>>> 9bd7f88ebfedd5a89df5986dcd77b1da36ab594d
>>>>>>> 24dda479a5ba046c7a484d1d03e252fe06b1f1b7
>>>>>>> e473a17574320989a837412c48232da6c6d03e20
   "metadata": {},
   "outputs": [
    {
     "data": {
      "text/plain": [
       "4.48"
      ]
     },
<<<<<<< HEAD
     "execution_count": 28,
=======
<<<<<<< HEAD
     "execution_count": 185,
=======
<<<<<<< HEAD
     "execution_count": 145,
=======
     "execution_count": 28,
>>>>>>> 9bd7f88ebfedd5a89df5986dcd77b1da36ab594d
>>>>>>> 24dda479a5ba046c7a484d1d03e252fe06b1f1b7
>>>>>>> e473a17574320989a837412c48232da6c6d03e20
     "metadata": {},
     "output_type": "execute_result"
    }
   ],
   "source": [
    "#Rating do livro 1\n",
    "y[0]"
   ]
  },
  {
   "cell_type": "code",
<<<<<<< HEAD
   "execution_count": 29,
=======
<<<<<<< HEAD
   "execution_count": 262,
=======
<<<<<<< HEAD
   "execution_count": 146,
=======
   "execution_count": 29,
>>>>>>> 9bd7f88ebfedd5a89df5986dcd77b1da36ab594d
>>>>>>> 24dda479a5ba046c7a484d1d03e252fe06b1f1b7
>>>>>>> e473a17574320989a837412c48232da6c6d03e20
   "metadata": {},
   "outputs": [
    {
     "data": {
      "text/html": [
       "<div>\n",
       "<style scoped>\n",
       "    .dataframe tbody tr th:only-of-type {\n",
       "        vertical-align: middle;\n",
       "    }\n",
       "\n",
       "    .dataframe tbody tr th {\n",
       "        vertical-align: top;\n",
       "    }\n",
       "\n",
       "    .dataframe thead th {\n",
       "        text-align: right;\n",
       "    }\n",
       "</style>\n",
       "<table border=\"1\" class=\"dataframe\">\n",
       "  <thead>\n",
       "    <tr style=\"text-align: right;\">\n",
       "      <th></th>\n",
       "      <th>Atual</th>\n",
       "      <th>Predito</th>\n",
       "    </tr>\n",
       "  </thead>\n",
       "  <tbody>\n",
       "    <tr>\n",
       "      <th>0</th>\n",
       "      <td>4.10</td>\n",
       "      <td>4.042155</td>\n",
       "    </tr>\n",
       "    <tr>\n",
       "      <th>1</th>\n",
       "      <td>4.27</td>\n",
       "      <td>4.031661</td>\n",
       "    </tr>\n",
       "    <tr>\n",
       "      <th>2</th>\n",
       "      <td>3.57</td>\n",
       "      <td>4.076540</td>\n",
       "    </tr>\n",
       "    <tr>\n",
       "      <th>3</th>\n",
       "      <td>4.24</td>\n",
       "      <td>4.139156</td>\n",
       "    </tr>\n",
       "    <tr>\n",
       "      <th>4</th>\n",
       "      <td>4.09</td>\n",
<<<<<<< HEAD
       "      <td>4.040881</td>\n",
=======
       "      <td>4.027803</td>\n",
<<<<<<< HEAD
=======
>>>>>>> 9bd7f88ebfedd5a89df5986dcd77b1da36ab594d
>>>>>>> 24dda479a5ba046c7a484d1d03e252fe06b1f1b7
>>>>>>> e473a17574320989a837412c48232da6c6d03e20
       "    </tr>\n",
       "  </tbody>\n",
       "</table>\n",
       "</div>"
      ],
      "text/plain": [
       "   Atual   Predito\n",
<<<<<<< HEAD
=======
<<<<<<< HEAD
       "0   4.10  4.042155\n",
       "1   4.27  4.031661\n",
       "2   3.57  4.076540\n",
       "3   4.24  4.139156\n",
       "4   4.09  4.040881"
      ]
     },
     "execution_count": 262,
=======
<<<<<<< HEAD
       "0   3.64  3.902044\n",
       "1   3.75  3.811071\n",
       "2   4.10  4.205652\n",
       "3   4.34  4.048923\n",
       "4   4.14  4.015772"
      ]
     },
     "execution_count": 146,
=======
>>>>>>> e473a17574320989a837412c48232da6c6d03e20
       "0   4.10  4.010505\n",
       "1   4.27  4.090224\n",
       "2   3.57  4.052217\n",
       "3   4.24  4.145721\n",
       "4   4.09  4.027803"
      ]
     },
     "execution_count": 29,
<<<<<<< HEAD
=======
>>>>>>> 9bd7f88ebfedd5a89df5986dcd77b1da36ab594d
>>>>>>> 24dda479a5ba046c7a484d1d03e252fe06b1f1b7
>>>>>>> e473a17574320989a837412c48232da6c6d03e20
     "metadata": {},
     "output_type": "execute_result"
    }
   ],
   "source": [
    "from sklearn.ensemble import RandomForestClassifier\n",
    "from sklearn.model_selection import train_test_split\n",
    "from sklearn.metrics import accuracy_score\n",
    "from sklearn import preprocessing,utils, metrics\n",
    "from sklearn.linear_model import LinearRegression\n",
    "\n",
    "X_train, X_test, y_train, y_test = train_test_split(X, y, test_size=0.2, random_state=0)\n",
    "\n",
    "regressor = LinearRegression()\n",
    "regressor.fit(X_train, y_train)\n",
    "\n",
    "y_pred = regressor.predict(X_test)\n",
    "\n",
    "for i in range(len(y_pred)):\n",
    "    if y_pred[i]>5:\n",
    "        y_pred[i]=5\n",
    "    elif y_pred[i]<0:\n",
    "        y_pred[i]=0\n",
    "        \n",
    "df = pd.DataFrame({'Atual': y_test.flatten(), 'Predito': y_pred.flatten()})\n",
    "df.head()"
   ]
  },
  {
   "cell_type": "code",
<<<<<<< HEAD
   "execution_count": 306,
=======
   "execution_count": 40,
>>>>>>> b9efb81c1ed17f0c451326eb2122519d92eab5ab
   "metadata": {},
   "outputs": [],
   "source": [
    "#Usando outro DataFrame (de 2018) para fazer a predição:\n",
    "teste_X2 = pd.read_csv('book_data_2018.csv')"
   ]
  },
  {
   "cell_type": "code",
<<<<<<< HEAD
   "execution_count": 307,
   "metadata": {},
   "outputs": [
    {
     "data": {
      "text/plain": [
       "1141"
      ]
     },
     "execution_count": 307,
     "metadata": {},
     "output_type": "execute_result"
    }
   ],
   "source": [
    "len(teste_X.index)"
   ]
  },
  {
   "cell_type": "code",
   "execution_count": 308,
   "metadata": {},
   "outputs": [],
   "source": [
    "teste_X.drop(['book_desc','book_edition','book_isbn','book_rating_count','book_review_count', 'image_url'], axis=1, inplace=True)"
   ]
  },
  {
   "cell_type": "code",
   "execution_count": 309,
   "metadata": {},
   "outputs": [
    {
     "data": {
      "text/plain": [
       "1048"
      ]
     },
     "execution_count": 309,
     "metadata": {},
     "output_type": "execute_result"
    }
   ],
   "source": [
    "teste_X=teste_X.dropna()\n",
    "len(teste_X.index)\n"
   ]
  },
  {
   "cell_type": "code",
   "execution_count": 310,
   "metadata": {},
   "outputs": [
    {
     "name": "stdout",
     "output_type": "stream",
     "text": [
      "[435, 393, 370, 449, 334, 525, 308, 352, 346, 504]\n",
      "['K', 'M', 'H', 'A', 'T', 'T', 'T', 'M', 'G', 'N']\n",
      "['Romance', 'Romance', 'Fantasy', 'Fiction', 'Romance', 'Historical', 'Mystery', 'Romance', 'Fiction', 'Mystery']\n"
     ]
    }
   ],
   "source": [
    "ar_2018 = teste_X['genres'].value_counts()\n",
    "ar1_2018 = []\n",
    "iniciais_2018 = []\n",
    "paginas_2018 = []\n",
    "\n",
    "# Escolhendo como gênero literário apenas o primeiro listado.\n",
    "for i in ar_2018.index:\n",
    "    if i == \"\":\n",
    "        ar1_2018.append(\"\")\n",
    "    else:\n",
    "        a = i.split('|')\n",
    "        ar1_2018.append(a[0])\n",
    "        \n",
    "# Selecionando apenas a inicial dos nomes dos autores\n",
    "for i in teste_X['book_authors']:\n",
    "    iniciais_2018.append(i[0])\n",
    "\n",
    "# Apenas o número de páginas aparecerá, sem a palavra \"pages\"\n",
    "for i in teste_X['book_pages']:\n",
    "    numero_2018 = i.split(' ')\n",
    "    paginas_2018.append(int(numero_2018[0]))\n",
    "print(paginas_2018[0:10])\n",
    "print(iniciais_2018[0:10])\n",
    "print(ar1_2018[0:10])"
   ]
  },
  {
   "cell_type": "code",
   "execution_count": 311,
   "metadata": {},
   "outputs": [
    {
     "data": {
      "text/plain": [
       "1048"
      ]
     },
     "execution_count": 311,
     "metadata": {},
     "output_type": "execute_result"
    }
   ],
   "source": [
    "len(teste_X.index)"
   ]
  },
  {
   "cell_type": "code",
   "execution_count": 312,
=======
   "execution_count": 41,
>>>>>>> b9efb81c1ed17f0c451326eb2122519d92eab5ab
   "metadata": {},
   "outputs": [
    {
     "data": {
      "text/html": [
       "<div>\n",
       "<style scoped>\n",
       "    .dataframe tbody tr th:only-of-type {\n",
       "        vertical-align: middle;\n",
       "    }\n",
       "\n",
       "    .dataframe tbody tr th {\n",
       "        vertical-align: top;\n",
       "    }\n",
       "\n",
       "    .dataframe thead th {\n",
       "        text-align: right;\n",
       "    }\n",
       "</style>\n",
       "<table border=\"1\" class=\"dataframe\">\n",
       "  <thead>\n",
       "    <tr style=\"text-align: right;\">\n",
       "      <th></th>\n",
       "      <th>book_authors</th>\n",
       "      <th>book_format</th>\n",
       "      <th>book_pages</th>\n",
       "      <th>book_rating</th>\n",
       "      <th>book_title</th>\n",
       "      <th>genres</th>\n",
       "      <th>genero</th>\n",
       "      <th>iniciais</th>\n",
       "      <th>paginas</th>\n",
       "    </tr>\n",
       "  </thead>\n",
       "  <tbody>\n",
       "    <tr>\n",
       "      <th>0</th>\n",
       "      <td>Kristin Hannah</td>\n",
       "      <td>Kindle Edition</td>\n",
       "      <td>435 pages</td>\n",
       "      <td>4.33</td>\n",
       "      <td>The Great Alone</td>\n",
       "      <td>Fiction|Historical|Historical Fiction|Audioboo...</td>\n",
       "      <td>Romance</td>\n",
       "      <td>K</td>\n",
       "      <td>435</td>\n",
       "    </tr>\n",
       "    <tr>\n",
       "      <th>1</th>\n",
       "      <td>Madeline Miller</td>\n",
       "      <td>Hardcover</td>\n",
       "      <td>393 pages</td>\n",
       "      <td>4.34</td>\n",
       "      <td>Circe</td>\n",
       "      <td>Fantasy|Fiction|Fantasy|Mythology|Historical|H...</td>\n",
       "      <td>Romance</td>\n",
       "      <td>M</td>\n",
       "      <td>393</td>\n",
       "    </tr>\n",
       "    <tr>\n",
       "      <th>2</th>\n",
       "      <td>Holly Black</td>\n",
       "      <td>Hardcover</td>\n",
       "      <td>370 pages</td>\n",
       "      <td>4.18</td>\n",
       "      <td>The Cruel Prince</td>\n",
       "      <td>Fantasy|Young Adult|Fairies|Fae</td>\n",
       "      <td>Fantasy</td>\n",
       "      <td>H</td>\n",
       "      <td>370</td>\n",
       "    </tr>\n",
       "    <tr>\n",
       "      <th>3</th>\n",
       "      <td>A.J. Finn</td>\n",
       "      <td>Kindle Edition</td>\n",
       "      <td>449 pages</td>\n",
       "      <td>3.97</td>\n",
       "      <td>The Woman in the Window</td>\n",
       "      <td>Mystery|Thriller|Fiction|Suspense|Thriller|Mys...</td>\n",
       "      <td>Fiction</td>\n",
       "      <td>A</td>\n",
       "      <td>449</td>\n",
       "    </tr>\n",
       "    <tr>\n",
       "      <th>4</th>\n",
       "      <td>Tara Westover</td>\n",
       "      <td>Hardcover</td>\n",
       "      <td>334 pages</td>\n",
       "      <td>4.47</td>\n",
       "      <td>Educated</td>\n",
       "      <td>Nonfiction|Autobiography|Memoir|Biography</td>\n",
       "      <td>Romance</td>\n",
       "      <td>T</td>\n",
       "      <td>334</td>\n",
       "    </tr>\n",
       "  </tbody>\n",
       "</table>\n",
       "</div>"
      ],
      "text/plain": [
       "      book_authors     book_format book_pages  book_rating  \\\n",
       "0   Kristin Hannah  Kindle Edition  435 pages         4.33   \n",
       "1  Madeline Miller       Hardcover  393 pages         4.34   \n",
       "2      Holly Black       Hardcover  370 pages         4.18   \n",
       "3        A.J. Finn  Kindle Edition  449 pages         3.97   \n",
       "4    Tara Westover       Hardcover  334 pages         4.47   \n",
       "\n",
       "                book_title                                             genres  \\\n",
       "0          The Great Alone  Fiction|Historical|Historical Fiction|Audioboo...   \n",
       "1                    Circe  Fantasy|Fiction|Fantasy|Mythology|Historical|H...   \n",
       "2         The Cruel Prince                    Fantasy|Young Adult|Fairies|Fae   \n",
       "3  The Woman in the Window  Mystery|Thriller|Fiction|Suspense|Thriller|Mys...   \n",
       "4                 Educated          Nonfiction|Autobiography|Memoir|Biography   \n",
       "\n",
       "    genero iniciais  paginas  \n",
       "0  Romance        K      435  \n",
       "1  Romance        M      393  \n",
       "2  Fantasy        H      370  \n",
       "3  Fiction        A      449  \n",
       "4  Romance        T      334  "
      ]
     },
     "execution_count": 312,
     "metadata": {},
     "output_type": "execute_result"
    }
   ],
   "source": [
    "ar1_2018=pd.DataFrame({'genero':ar1_2018})\n",
    "iniciais_2018_ = pd.DataFrame({'iniciais':iniciais_2018})\n",
    "paginas_2018_ = pd.DataFrame({'paginas':paginas_2018})\n",
    "\n",
    "teste_X = teste_X.join(ar1_2018,how='inner')\n",
    "teste_X = teste_X.join(iniciais_2018_,how='inner')\n",
    "teste_X = teste_X.join(paginas_2018_,how='inner')\n",
    "teste_X.head()"
   ]
  },
  {
   "cell_type": "code",
   "execution_count": 313,
   "metadata": {},
   "outputs": [
    {
     "data": {
      "text/html": [
       "<div>\n",
       "<style scoped>\n",
       "    .dataframe tbody tr th:only-of-type {\n",
       "        vertical-align: middle;\n",
       "    }\n",
       "\n",
       "    .dataframe tbody tr th {\n",
       "        vertical-align: top;\n",
       "    }\n",
       "\n",
       "    .dataframe thead th {\n",
       "        text-align: right;\n",
       "    }\n",
       "</style>\n",
       "<table border=\"1\" class=\"dataframe\">\n",
       "  <thead>\n",
       "    <tr style=\"text-align: right;\">\n",
       "      <th></th>\n",
       "      <th>book_format</th>\n",
       "      <th>book_rating</th>\n",
       "      <th>book_title</th>\n",
       "      <th>genero</th>\n",
       "      <th>iniciais</th>\n",
       "      <th>paginas</th>\n",
       "    </tr>\n",
       "  </thead>\n",
       "  <tbody>\n",
       "    <tr>\n",
       "      <th>0</th>\n",
       "      <td>Kindle Edition</td>\n",
       "      <td>4.33</td>\n",
       "      <td>The Great Alone</td>\n",
       "      <td>Romance</td>\n",
       "      <td>K</td>\n",
       "      <td>435</td>\n",
       "    </tr>\n",
       "    <tr>\n",
       "      <th>1</th>\n",
       "      <td>Hardcover</td>\n",
       "      <td>4.34</td>\n",
       "      <td>Circe</td>\n",
       "      <td>Romance</td>\n",
       "      <td>M</td>\n",
       "      <td>393</td>\n",
       "    </tr>\n",
       "    <tr>\n",
       "      <th>2</th>\n",
       "      <td>Hardcover</td>\n",
       "      <td>4.18</td>\n",
       "      <td>The Cruel Prince</td>\n",
       "      <td>Fantasy</td>\n",
       "      <td>H</td>\n",
       "      <td>370</td>\n",
       "    </tr>\n",
       "    <tr>\n",
       "      <th>3</th>\n",
       "      <td>Kindle Edition</td>\n",
       "      <td>3.97</td>\n",
       "      <td>The Woman in the Window</td>\n",
       "      <td>Fiction</td>\n",
       "      <td>A</td>\n",
       "      <td>449</td>\n",
       "    </tr>\n",
       "    <tr>\n",
       "      <th>4</th>\n",
       "      <td>Hardcover</td>\n",
       "      <td>4.47</td>\n",
       "      <td>Educated</td>\n",
       "      <td>Romance</td>\n",
       "      <td>T</td>\n",
       "      <td>334</td>\n",
       "    </tr>\n",
       "  </tbody>\n",
       "</table>\n",
       "</div>"
      ],
      "text/plain": [
       "      book_format  book_rating               book_title   genero iniciais  \\\n",
       "0  Kindle Edition         4.33          The Great Alone  Romance        K   \n",
       "1       Hardcover         4.34                    Circe  Romance        M   \n",
       "2       Hardcover         4.18         The Cruel Prince  Fantasy        H   \n",
       "3  Kindle Edition         3.97  The Woman in the Window  Fiction        A   \n",
       "4       Hardcover         4.47                 Educated  Romance        T   \n",
       "\n",
       "   paginas  \n",
       "0      435  \n",
       "1      393  \n",
       "2      370  \n",
       "3      449  \n",
       "4      334  "
      ]
     },
<<<<<<< HEAD
     "execution_count": 313,
=======
     "execution_count": 41,
>>>>>>> b9efb81c1ed17f0c451326eb2122519d92eab5ab
     "metadata": {},
     "output_type": "execute_result"
    }
   ],
   "source": [
<<<<<<< HEAD
    "teste_X.drop(['book_pages', 'book_authors', 'genres'], axis=1, inplace=True)\n",
    "teste_X.head()"
=======
    "teste_X2=teste_X.dropna()\n",
    "teste_X2.head()"
>>>>>>> b9efb81c1ed17f0c451326eb2122519d92eab5ab
   ]
  },
  {
   "cell_type": "code",
   "execution_count": 42,
   "metadata": {},
   "outputs": [
    {
     "ename": "ValueError",
     "evalue": "could not convert string to float: 'Jordan B. Peterson|Norman Doidge|Ethan Van Sciver'",
     "output_type": "error",
     "traceback": [
      "\u001b[0;31m---------------------------------------------------------------------------\u001b[0m",
      "\u001b[0;31mValueError\u001b[0m                                Traceback (most recent call last)",
      "\u001b[0;32m<ipython-input-42-920117aa3e8c>\u001b[0m in \u001b[0;36m<module>\u001b[0;34m\u001b[0m\n\u001b[0;32m----> 1\u001b[0;31m \u001b[0my_pred2\u001b[0m \u001b[0;34m=\u001b[0m \u001b[0mregressor\u001b[0m\u001b[0;34m.\u001b[0m\u001b[0mpredict\u001b[0m\u001b[0;34m(\u001b[0m\u001b[0mteste_X2\u001b[0m\u001b[0;34m)\u001b[0m\u001b[0;34m\u001b[0m\u001b[0;34m\u001b[0m\u001b[0m\n\u001b[0m\u001b[1;32m      2\u001b[0m \u001b[0;34m\u001b[0m\u001b[0m\n\u001b[1;32m      3\u001b[0m \u001b[0;32mfor\u001b[0m \u001b[0mi\u001b[0m \u001b[0;32min\u001b[0m \u001b[0mrange\u001b[0m\u001b[0;34m(\u001b[0m\u001b[0mlen\u001b[0m\u001b[0;34m(\u001b[0m\u001b[0my_pred2\u001b[0m\u001b[0;34m)\u001b[0m\u001b[0;34m)\u001b[0m\u001b[0;34m:\u001b[0m\u001b[0;34m\u001b[0m\u001b[0;34m\u001b[0m\u001b[0m\n\u001b[1;32m      4\u001b[0m     \u001b[0;32mif\u001b[0m \u001b[0my_pred2\u001b[0m\u001b[0;34m[\u001b[0m\u001b[0mi\u001b[0m\u001b[0;34m]\u001b[0m\u001b[0;34m>\u001b[0m\u001b[0;36m5\u001b[0m\u001b[0;34m:\u001b[0m\u001b[0;34m\u001b[0m\u001b[0;34m\u001b[0m\u001b[0m\n\u001b[1;32m      5\u001b[0m         \u001b[0my_pred2\u001b[0m\u001b[0;34m[\u001b[0m\u001b[0mi\u001b[0m\u001b[0;34m]\u001b[0m\u001b[0;34m=\u001b[0m\u001b[0;36m5\u001b[0m\u001b[0;34m\u001b[0m\u001b[0;34m\u001b[0m\u001b[0m\n",
      "\u001b[0;32m/usr/local/lib/python3.7/site-packages/sklearn/linear_model/base.py\u001b[0m in \u001b[0;36mpredict\u001b[0;34m(self, X)\u001b[0m\n\u001b[1;32m    219\u001b[0m             \u001b[0mReturns\u001b[0m \u001b[0mpredicted\u001b[0m \u001b[0mvalues\u001b[0m\u001b[0;34m.\u001b[0m\u001b[0;34m\u001b[0m\u001b[0;34m\u001b[0m\u001b[0m\n\u001b[1;32m    220\u001b[0m         \"\"\"\n\u001b[0;32m--> 221\u001b[0;31m         \u001b[0;32mreturn\u001b[0m \u001b[0mself\u001b[0m\u001b[0;34m.\u001b[0m\u001b[0m_decision_function\u001b[0m\u001b[0;34m(\u001b[0m\u001b[0mX\u001b[0m\u001b[0;34m)\u001b[0m\u001b[0;34m\u001b[0m\u001b[0;34m\u001b[0m\u001b[0m\n\u001b[0m\u001b[1;32m    222\u001b[0m \u001b[0;34m\u001b[0m\u001b[0m\n\u001b[1;32m    223\u001b[0m     \u001b[0m_preprocess_data\u001b[0m \u001b[0;34m=\u001b[0m \u001b[0mstaticmethod\u001b[0m\u001b[0;34m(\u001b[0m\u001b[0m_preprocess_data\u001b[0m\u001b[0;34m)\u001b[0m\u001b[0;34m\u001b[0m\u001b[0;34m\u001b[0m\u001b[0m\n",
      "\u001b[0;32m/usr/local/lib/python3.7/site-packages/sklearn/linear_model/base.py\u001b[0m in \u001b[0;36m_decision_function\u001b[0;34m(self, X)\u001b[0m\n\u001b[1;32m    202\u001b[0m         \u001b[0mcheck_is_fitted\u001b[0m\u001b[0;34m(\u001b[0m\u001b[0mself\u001b[0m\u001b[0;34m,\u001b[0m \u001b[0;34m\"coef_\"\u001b[0m\u001b[0;34m)\u001b[0m\u001b[0;34m\u001b[0m\u001b[0;34m\u001b[0m\u001b[0m\n\u001b[1;32m    203\u001b[0m \u001b[0;34m\u001b[0m\u001b[0m\n\u001b[0;32m--> 204\u001b[0;31m         \u001b[0mX\u001b[0m \u001b[0;34m=\u001b[0m \u001b[0mcheck_array\u001b[0m\u001b[0;34m(\u001b[0m\u001b[0mX\u001b[0m\u001b[0;34m,\u001b[0m \u001b[0maccept_sparse\u001b[0m\u001b[0;34m=\u001b[0m\u001b[0;34m[\u001b[0m\u001b[0;34m'csr'\u001b[0m\u001b[0;34m,\u001b[0m \u001b[0;34m'csc'\u001b[0m\u001b[0;34m,\u001b[0m \u001b[0;34m'coo'\u001b[0m\u001b[0;34m]\u001b[0m\u001b[0;34m)\u001b[0m\u001b[0;34m\u001b[0m\u001b[0;34m\u001b[0m\u001b[0m\n\u001b[0m\u001b[1;32m    205\u001b[0m         return safe_sparse_dot(X, self.coef_.T,\n\u001b[1;32m    206\u001b[0m                                dense_output=True) + self.intercept_\n",
      "\u001b[0;32m/usr/local/lib/python3.7/site-packages/sklearn/utils/validation.py\u001b[0m in \u001b[0;36mcheck_array\u001b[0;34m(array, accept_sparse, accept_large_sparse, dtype, order, copy, force_all_finite, ensure_2d, allow_nd, ensure_min_samples, ensure_min_features, warn_on_dtype, estimator)\u001b[0m\n\u001b[1;32m    534\u001b[0m         \u001b[0;31m# make sure we actually converted to numeric:\u001b[0m\u001b[0;34m\u001b[0m\u001b[0;34m\u001b[0m\u001b[0;34m\u001b[0m\u001b[0m\n\u001b[1;32m    535\u001b[0m         \u001b[0;32mif\u001b[0m \u001b[0mdtype_numeric\u001b[0m \u001b[0;32mand\u001b[0m \u001b[0marray\u001b[0m\u001b[0;34m.\u001b[0m\u001b[0mdtype\u001b[0m\u001b[0;34m.\u001b[0m\u001b[0mkind\u001b[0m \u001b[0;34m==\u001b[0m \u001b[0;34m\"O\"\u001b[0m\u001b[0;34m:\u001b[0m\u001b[0;34m\u001b[0m\u001b[0;34m\u001b[0m\u001b[0m\n\u001b[0;32m--> 536\u001b[0;31m             \u001b[0marray\u001b[0m \u001b[0;34m=\u001b[0m \u001b[0marray\u001b[0m\u001b[0;34m.\u001b[0m\u001b[0mastype\u001b[0m\u001b[0;34m(\u001b[0m\u001b[0mnp\u001b[0m\u001b[0;34m.\u001b[0m\u001b[0mfloat64\u001b[0m\u001b[0;34m)\u001b[0m\u001b[0;34m\u001b[0m\u001b[0;34m\u001b[0m\u001b[0m\n\u001b[0m\u001b[1;32m    537\u001b[0m         \u001b[0;32mif\u001b[0m \u001b[0;32mnot\u001b[0m \u001b[0mallow_nd\u001b[0m \u001b[0;32mand\u001b[0m \u001b[0marray\u001b[0m\u001b[0;34m.\u001b[0m\u001b[0mndim\u001b[0m \u001b[0;34m>=\u001b[0m \u001b[0;36m3\u001b[0m\u001b[0;34m:\u001b[0m\u001b[0;34m\u001b[0m\u001b[0;34m\u001b[0m\u001b[0m\n\u001b[1;32m    538\u001b[0m             raise ValueError(\"Found array with dim %d. %s expected <= 2.\"\n",
      "\u001b[0;31mValueError\u001b[0m: could not convert string to float: 'Jordan B. Peterson|Norman Doidge|Ethan Van Sciver'"
     ]
    }
   ],
   "source": [
    "y_pred2 = regressor.predict(teste_X2)\n",
    "\n",
    "for i in range(len(y_pred2)):\n",
    "    if y_pred2[i]>5:\n",
    "        y_pred2[i]=5\n",
    "    elif y_pred2[i]<0:\n",
    "        y_pred2[i]=0\n",
    "        \n",
    "df2 = pd.DataFrame({'Atual': y_test2.flatten(), 'Predito': y_pred2.flatten()})\n",
    "df2.head()"
   ]
  },
  {
   "cell_type": "code",
   "execution_count": 37,
<<<<<<< HEAD
=======
=======
<<<<<<< HEAD
   "execution_count": 314,
=======
<<<<<<< HEAD
   "execution_count": 155,
=======
   "execution_count": 32,
>>>>>>> 9bd7f88ebfedd5a89df5986dcd77b1da36ab594d
>>>>>>> 24dda479a5ba046c7a484d1d03e252fe06b1f1b7
>>>>>>> e473a17574320989a837412c48232da6c6d03e20
   "metadata": {},
   "outputs": [
    {
     "data": {
<<<<<<< HEAD
      "image/png": "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\n",
=======
<<<<<<< HEAD
      "image/png": "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\n",
=======
<<<<<<< HEAD
      "image/png": "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\n",
=======
      "image/png": "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\n",
>>>>>>> 9bd7f88ebfedd5a89df5986dcd77b1da36ab594d
>>>>>>> 24dda479a5ba046c7a484d1d03e252fe06b1f1b7
>>>>>>> e473a17574320989a837412c48232da6c6d03e20
      "text/plain": [
       "<Figure size 1152x720 with 1 Axes>"
      ]
     },
     "metadata": {
      "needs_background": "light"
     },
     "output_type": "display_data"
    }
   ],
   "source": [
    "df1 = df\n",
    "df1.plot(kind='bar',figsize=(16,10))\n",
    "plt.grid(which='major', linestyle='-', linewidth='0.5', color='green')\n",
    "plt.grid(which='minor', linestyle=':', linewidth='0.5', color='black')\n",
    "plt.xlabel('Book Index')\n",
    "plt.ylabel('Rating')\n",
    "plt.show()"
   ]
  },
  {
   "cell_type": "code",
<<<<<<< HEAD
   "execution_count": 38,
=======
<<<<<<< HEAD
<<<<<<< HEAD
   "execution_count": 190,
=======
   "execution_count": 38,
>>>>>>> b9efb81c1ed17f0c451326eb2122519d92eab5ab
=======
<<<<<<< HEAD
   "execution_count": 156,
=======
   "execution_count": 33,
>>>>>>> 9bd7f88ebfedd5a89df5986dcd77b1da36ab594d
>>>>>>> 24dda479a5ba046c7a484d1d03e252fe06b1f1b7
>>>>>>> e473a17574320989a837412c48232da6c6d03e20
   "metadata": {},
   "outputs": [
    {
     "name": "stdout",
     "output_type": "stream",
     "text": [
<<<<<<< HEAD
      "O R² é -5.11661312381575\n"
=======
<<<<<<< HEAD
      "O R² é -8.638230594576227\n"
=======
<<<<<<< HEAD
      "O R² é -1.9339043919555348\n"
=======
      "O R² é -5.11661312381575\n"
>>>>>>> 9bd7f88ebfedd5a89df5986dcd77b1da36ab594d
>>>>>>> 24dda479a5ba046c7a484d1d03e252fe06b1f1b7
>>>>>>> e473a17574320989a837412c48232da6c6d03e20
     ]
    }
   ],
   "source": [
    "print(\"O R² é \" + str(metrics.r2_score(df['Atual'],df['Predito'])))"
   ]
  },
  {
   "cell_type": "code",
   "execution_count": null,
   "metadata": {},
   "outputs": [],
   "source": []
  },
  {
   "cell_type": "code",
   "execution_count": null,
   "metadata": {},
   "outputs": [],
   "source": []
  },
  {
   "cell_type": "code",
   "execution_count": null,
   "metadata": {},
   "outputs": [],
   "source": []
  }
 ],
 "metadata": {
  "kernelspec": {
   "display_name": "Python 3",
   "language": "python",
   "name": "python3"
  },
  "language_info": {
   "codemirror_mode": {
    "name": "ipython",
    "version": 3
   },
   "file_extension": ".py",
   "mimetype": "text/x-python",
   "name": "python",
   "nbconvert_exporter": "python",
   "pygments_lexer": "ipython3",
   "version": "3.7.1"
  }
 },
 "nbformat": 4,
 "nbformat_minor": 2
}
