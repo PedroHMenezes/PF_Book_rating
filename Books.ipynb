{
 "cells": [
  {
   "cell_type": "markdown",
   "metadata": {},
   "source": [
    "# Projeto Final - Ciência dos dados\n",
    "### Alunos:\n",
    "- Beatriz Lourenço \n",
    "- Fernando Kenji \n",
    "- Sophia Kerber\n",
    "- Pedro H. Menezes"
   ]
  },
  {
   "cell_type": "markdown",
   "metadata": {},
   "source": [
    "<font color='darkcian'>ÍNDICE</font>\n",
    "___\n",
    "1. [Dataset](#Dataset)\n",
    "2. [Pergunta Motivadora](#Pergunta_Motivadora)\n",
    "3. [Por que regressão linear?](#Por_que_regressão_linear?)\n",
    "4. [Análise exploratória](#Analise_exploratoria)\n",
    "5. [Limpeza dos dados e regressão](#Limpeza_dos_dados_e_regressao)\n",
    "6. [Conclusão](#Conclusão)\n",
    "7. [R²](#R²)"
   ]
  },
  {
   "cell_type": "markdown",
   "metadata": {},
   "source": [
    "<a id='Dataset'></a>\n",
    "## <font color='#FA8072'> O Dataset</font>\n",
    "___\n",
    "<font color='darkcian'>Dataset:</font> https://www.kaggle.com/meetnaren/goodreads-best-books\n",
    "\n",
    "<font color='darkcian'>Objetivo do dataset:</font> o objetivo deste dataset específico é a simples curiosidade. O dataset é facilmente obtido por meio do API do Goodreads, de modo que qualquer um possa fazer análises como a deste projeto. Neste caso, o autor queria saber se era possível prever alguma variável (os exemplos dados foram a avaliação e gênero) pela descrição de um livro."
   ]
  },
  {
   "cell_type": "markdown",
   "metadata": {},
   "source": [
    "<a id='Pergunta_Motivadora'></a>\n",
    "### <font color='#FA8072'> Pergunta Motivadora:</font>\n",
    "___\n",
    "Nossa pergunta é se é possível prever a avaliação de um livro a partir do número de páginas, formato do livro (Capa dura, capa de papel, versão Kindle…), inicial do autor, gênero do livro e número de reviews (ou seja, a quantidade de pessoa que comentaram nas suas avaliações).   "
   ]
  },
  {
   "cell_type": "markdown",
   "metadata": {},
   "source": [
    "<a id='Por_que_regressão_linear?'></a>\n",
    "### <font color='#FA8072'>Por que regressão linear?</font>\n",
    "___\n",
    "\n",
    "Como o objetivo do projeto era prever a avaliação do livro, decidiu-se utilizar a regressão linear para tanto, uma vez que a variável de saída é quantitativa. A ideia da regressão linear é aproximar os dados de uma reta, tentando diminuir o erro quadrático ao máximo. Utilizamos o One Hot Enconder, aliado ao SciKitLearn para dividir o dataset, classificar as variáveis qualitativas em números binários, e finalmente fazer a predição e o teste do dataset.\n",
    "\n",
    "As técnicas que se prestam a este tipo de análise: regressão linear, regression tree, random forest regression"
   ]
  },
  {
   "cell_type": "code",
   "execution_count": null,
   "metadata": {},
   "outputs": [],
   "source": [
    "import pandas as pd\n",
    "import matplotlib.pyplot as plt\n",
    "from sklearn.preprocessing import OneHotEncoder\n",
    "import numpy as np\n",
    "import seaborn\n",
    "import statsmodels.api as sm"
   ]
  },
  {
   "cell_type": "code",
   "execution_count": null,
   "metadata": {},
   "outputs": [],
   "source": [
    "csv = pd.read_csv('book_data.csv')\n",
    "csv.head()"
   ]
  },
  {
   "cell_type": "markdown",
   "metadata": {},
   "source": [
    "<a id='Analise_exploratoria'></a>\n",
    "## <font color='#FA8072'>Análise Exploratória</font>\n"
   ]
  },
  {
   "cell_type": "markdown",
   "metadata": {},
   "source": [
    "___\n",
    "### <font color='CORNFLOWERBLUE'>Para iniciar a análise exploratória vale entender como cada uma das variáveis se correlacionam e de que maneira o book rating em função das outras variáveis do dataframe. Para isso, utilizamos scatterplots para ver a correlação entre variáveis quantitativas X quantitativas; histogramas e boxplots divididos por categorias entre variáveis qualitativas X quantitativas; e crosstabs entre qualitativas X qualitativas.</font>"
   ]
  },
  {
   "cell_type": "code",
   "execution_count": null,
   "metadata": {},
   "outputs": [],
   "source": [
    "plt.scatter(csv.book_rating_count, csv.book_rating, color='b')\n",
    "seaborn.regplot(x=csv.book_rating_count,y=csv.book_rating)"
   ]
  },
  {
   "cell_type": "markdown",
   "metadata": {},
   "source": [
    "### <font color='CORNFLOWERBLUE'>Não há visivelmente uma correlação entre a contagem da avaliação do livro e sua própria avaliação, logo elas não estão muito bem correlacionadas e possivelmente usar ela na regressão."
   ]
  },
  {
   "cell_type": "code",
   "execution_count": null,
   "metadata": {},
   "outputs": [],
   "source": [
    "plt.scatter(csv.book_review_count, csv.book_rating, color='green')\n",
    "seaborn.regplot(x=csv.book_review_count,y=csv.book_rating)"
   ]
  },
  {
   "cell_type": "markdown",
   "metadata": {},
   "source": [
    "### <font color='CORNFLOWERBLUE'>Da mesma forma que a anterior as duas variáveis aqui não estão evidentemente correlacionadas e não serão utilizadas para o modelo.</font>"
   ]
  },
  {
   "cell_type": "code",
   "execution_count": null,
   "metadata": {},
   "outputs": [],
   "source": [
    "# Retirando todas as variáveis que não serão utilizadas\n",
    "csv.drop(['book_isbn','book_desc','book_edition','book_rating_count','image_url'],axis=1,inplace=True)\n",
    "# Retirando os livros com informações faltando\n",
    "csv=csv.dropna()\n",
    "csv.head()"
   ]
  },
  {
   "cell_type": "code",
   "execution_count": null,
   "metadata": {},
   "outputs": [],
   "source": [
    "def limpando(csv):\n",
    "    # Ajeitando as variáveis\n",
    "    ar = csv['genres'].tolist()\n",
    "    ar1 = []\n",
    "    iniciais = []\n",
    "    paginas = []\n",
    "\n",
    "    # Escolhendo como gênero literário apenas o primeiro listado.\n",
    "    for i in ar:\n",
    "        if i == \"\":\n",
    "            ar1.append(\"\")\n",
    "        else:\n",
    "            a = i.split('|')\n",
    "            ar1.append(a[0])\n",
    "\n",
    "    # Selecionando apenas a inicial dos nomes dos autores\n",
    "    for i in csv['book_authors']:\n",
    "        iniciais.append(i[0])\n",
    "\n",
    "    # Apenas o número de páginas aparecerá, sem a palavra \"pages\"\n",
    "    for i in csv['book_pages']:\n",
    "        numero = i.split(' ')\n",
    "        paginas.append(int(numero[0]))\n",
    "    return ar1,paginas,iniciais\n",
    "\n",
    "ar1,paginas,iniciais = limpando(csv)\n",
    "print(ar1[0:10],paginas[0:10],iniciais[0:10])"
   ]
  },
  {
   "cell_type": "code",
   "execution_count": null,
   "metadata": {},
   "outputs": [],
   "source": [
    "# Criando colunas no DataFrame para as iniciais dos autores, os números de páginas e o principal gênero do livro\n",
    "ar1=pd.DataFrame({'genero':ar1},index = csv.index)\n",
    "iniciais_ = pd.DataFrame({'iniciais':iniciais}, index = csv.index)\n",
    "paginas_ = pd.DataFrame({'paginas':paginas}, index = csv.index)"
   ]
  },
  {
   "cell_type": "code",
   "execution_count": null,
   "metadata": {},
   "outputs": [],
   "source": [
    "csv = csv.join(ar1,how='inner')\n",
    "csv = csv.join(iniciais_,how='inner')\n",
    "csv = csv.join(paginas_,how='inner')"
   ]
  },
  {
   "cell_type": "code",
   "execution_count": null,
   "metadata": {},
   "outputs": [],
   "source": [
    "csv.head()"
   ]
  },
  {
   "cell_type": "code",
   "execution_count": null,
   "metadata": {},
   "outputs": [],
   "source": [
    "csv['genero'].value_counts()[40:70]"
   ]
  },
  {
   "cell_type": "code",
   "execution_count": null,
   "metadata": {},
   "outputs": [],
   "source": [
    "print('Gêneros mais famosos:')\n",
    "fantasy = csv.loc[(csv['genero']=='Fantasy')]\n",
    "print('Média da Fantasia: ' + str(fantasy['book_rating'].mean()))\n",
    "classics = csv.loc[(csv['genero']=='Classics')]\n",
    "print('Média do clássico: ' + str(classics['book_rating'].mean()))\n",
    "fiction = csv.loc[(csv['genero']=='Fiction')]\n",
    "print('Média da ficção: ' + str(fiction['book_rating'].mean()))\n",
    "print('-----------------')\n",
    "print('Gêneros pouco famosos:')\n",
    "economics = csv.loc[(csv['genero']=='Economics')]\n",
    "print('Média da economics: ' + str(economics['book_rating'].mean()))\n",
    "war = csv.loc[(csv['genero']=='War')]\n",
    "print('Média do gênero Guerra: ' + str(war['book_rating'].mean()))\n",
    "sports = csv.loc[(csv['genero']=='Sports')]\n",
    "print('Média do gênero Esportes: ' + str(sports['book_rating'].mean()))\n"
   ]
  },
  {
   "cell_type": "markdown",
   "metadata": {},
   "source": [
    "### <font color='CORNFLOWERBLUE'>A partir da análise acima é possível observar que, na média, os gêneros não alteram muito a avaliação do livro. Porém, como o campo amostral ficou pequeno, seria interessante pensar em outra maneira de ver a correlação entre gênero e avaliação do livro</font>"
   ]
  },
  {
   "cell_type": "code",
   "execution_count": null,
   "metadata": {
    "scrolled": true
   },
   "outputs": [],
   "source": [
    "plt.scatter(csv['genero'].sort_values(), csv.book_rating)\n",
    "#seaborn.regplot(x=csv['genero'].sort_values(),y=csv.book_rating)"
   ]
  },
  {
   "cell_type": "markdown",
   "metadata": {},
   "source": [
    "### <font color='CORNFLOWERBLUE'>No gráfico acima, apesar de não se saber bem quais são cada um dos gêneros, pode enxergar que não há uma forte relação entre o gênero e sua avaliação, podendo ser deixado de lado na construção da regressão linear.</font>"
   ]
  },
  {
   "cell_type": "code",
   "execution_count": null,
   "metadata": {},
   "outputs": [],
   "source": [
    "plt.scatter(csv.paginas, csv.book_rating, color='green')\n",
    "seaborn.regplot(x=csv.paginas,y=csv.book_rating)"
   ]
  },
  {
   "cell_type": "markdown",
   "metadata": {},
   "source": [
    "### <font color='CORNFLOWERBLUE'>Com o gráfico acima é possível perceber que há uma certa correlação com a avaliação e o número de páginas. Como o gráfico acima está com valores que não permitem analisar o local onde há mais pontos, vamos focar em uma região específica (até 1000 páginas).</font>"
   ]
  },
  {
   "cell_type": "code",
   "execution_count": null,
   "metadata": {},
   "outputs": [],
   "source": [
    "pag = csv.loc[(csv.paginas < 1000)]\n",
    "pag.book_rating.head()"
   ]
  },
  {
   "cell_type": "code",
   "execution_count": null,
   "metadata": {},
   "outputs": [],
   "source": [
    "plt.scatter(pag.paginas, pag.book_rating, color='green',alpha = 0.3)\n",
    "seaborn.regplot(x=pag.paginas,y=pag.book_rating, fit_reg=True)"
   ]
  },
  {
   "cell_type": "markdown",
   "metadata": {},
   "source": [
    "### <font color='CORNFLOWERBLUE'>A partir do gráfico acima é possível perceber que a correlação entre essas variáveis não é tão grande. Portanto, elas podem ser deixadas de serem levadas em conta na hora da regressão neste primeiro momento.</font>"
   ]
  },
  {
   "cell_type": "code",
   "execution_count": null,
   "metadata": {},
   "outputs": [],
   "source": [
    "plt.scatter(csv['iniciais'].sort_values(), csv.book_rating, color='purple',alpha=0.2)\n",
    "#seaborn.regplot(x=csv['iniciais'].sort_values(),y=csv.book_rating)"
   ]
  },
  {
   "cell_type": "markdown",
   "metadata": {},
   "source": [
    "### <font color='CORNFLOWERBLUE'>Com o gráfico acima fica complicado de ver as iniciais dos autores pela quantidade que existe, não podendo ser percebido nenhum padrão. Para melhorar a visualização, faremos uma secção do gráfico.</font>"
   ]
  },
  {
   "cell_type": "code",
   "execution_count": null,
   "metadata": {},
   "outputs": [],
   "source": [
    "ini = csv[['iniciais','book_rating']]\n",
    "inia= ini.sort_values(by='iniciais')[0:47000]"
   ]
  },
  {
   "cell_type": "code",
   "execution_count": null,
   "metadata": {},
   "outputs": [],
   "source": [
    "plt.scatter(inia.iniciais, inia.book_rating, color='purple',alpha = 0.1)"
   ]
  },
  {
   "cell_type": "markdown",
   "metadata": {},
   "source": [
    "### <font color='CORNFLOWERBLUE'>Com o gráfico acima é possível perceber que algumas letras ficam mais na média dos valores (4) e algumas conseguem se deslocar mais para regiões da parte de cima quanto da parte de baixo. Logo, a variável inicial do nome do autor pode ser interessante de ser analisada na regressão.</font>"
   ]
  },
  {
   "cell_type": "markdown",
   "metadata": {},
   "source": [
    "<a id='Limpeza_dos_dados_e_regressao'></a>\n",
    "## <font color='#FA8072'>Limpeza dos dados e regressão</font>\n",
    "___"
   ]
  },
  {
   "cell_type": "markdown",
   "metadata": {},
   "source": [
    "Decidiu-se tirar e modificar algumas variáveis do código, para que o resultado da regressão fosse otimizado. Para isso, \n",
    "o código foi modificado aos poucos de acordo com o [R²](#R²). Para melhorar os resultados, decidimos tirar os nomes dos autores e substituí-los pelas iniciais dos mesmos. Além disso, decidiu-se trocar os vários gêneros por somente um"
   ]
  },
  {
   "cell_type": "code",
   "execution_count": null,
   "metadata": {},
   "outputs": [],
   "source": [
    "# Retirando as colunas irrelevantes para a análise geral de avaliações\n",
    "csv.drop(['book_authors','genres','book_pages'],axis=1,inplace=True)"
   ]
  },
  {
   "cell_type": "code",
   "execution_count": null,
   "metadata": {},
   "outputs": [],
   "source": [
    "csv.head()"
   ]
  },
  {
   "cell_type": "code",
   "execution_count": null,
   "metadata": {},
   "outputs": [],
   "source": [
    "# Separando as variáveis em quantitativas, qualitativas e a desejada\n",
    "y = csv['book_rating'].values\n",
    "num = csv[['paginas','book_review_count']]\n",
    "qual = csv[['book_format','genero','iniciais']]"
   ]
  },
  {
   "cell_type": "code",
   "execution_count": null,
   "metadata": {},
   "outputs": [],
   "source": [
    "qual.head()"
   ]
  },
  {
   "cell_type": "code",
   "execution_count": null,
   "metadata": {},
   "outputs": [],
   "source": [
    "encoder = OneHotEncoder()\n",
    "capa_encoded = encoder.fit_transform(qual)"
   ]
  },
  {
   "cell_type": "code",
   "execution_count": null,
   "metadata": {},
   "outputs": [],
   "source": [
    "x_num = num.values"
   ]
  },
  {
   "cell_type": "code",
   "execution_count": null,
   "metadata": {
    "scrolled": false
   },
   "outputs": [],
   "source": [
    "#Transformar em array facilita a exploração dos dados\n",
    "x_encoded = capa_encoded.toarray()"
   ]
  },
  {
   "cell_type": "code",
   "execution_count": null,
   "metadata": {},
   "outputs": [],
   "source": [
    "#Juntando a lista binária e as páginas\n",
    "X = np.concatenate((x_num,x_encoded), axis=1)"
   ]
  },
  {
   "cell_type": "code",
   "execution_count": null,
   "metadata": {},
   "outputs": [],
   "source": [
    "X[0]"
   ]
  },
  {
   "cell_type": "code",
   "execution_count": null,
   "metadata": {},
   "outputs": [],
   "source": [
    "#Rating do livro 1\n",
    "y[0]"
   ]
  },
  {
   "cell_type": "code",
   "execution_count": null,
   "metadata": {},
   "outputs": [],
   "source": [
    "from sklearn.model_selection import train_test_split\n",
    "from sklearn.metrics import accuracy_score\n",
    "from sklearn import preprocessing,utils, metrics\n",
    "from sklearn.linear_model import LinearRegression\n",
    "\n",
    "X_train, X_test, y_train, y_test = train_test_split(X, y, test_size=0.2, random_state=0)\n",
    "\n",
    "regressor = LinearRegression()\n",
    "regressor.fit(X_train, y_train)\n",
    "\n",
    "y_pred = regressor.predict(X_test)\n",
    "\n",
    "for i in range(len(y_pred)):\n",
    "    if y_pred[i]>5:\n",
    "        y_pred[i]=5\n",
    "    elif y_pred[i]<0:\n",
    "        y_pred[i]=0\n",
    "        \n",
    "df = pd.DataFrame({'Atual': y_test.flatten(), 'Predito': y_pred.flatten()})\n",
    "df.head()"
   ]
  },
  {
   "cell_type": "code",
   "execution_count": null,
   "metadata": {},
   "outputs": [],
   "source": [
    "df1 = df.head(25)\n",
    "df1.plot(kind='bar',figsize=(16,10))\n",
    "plt.grid(which='major', linestyle='-', linewidth='0.5', color='green')\n",
    "plt.grid(which='minor', linestyle=':', linewidth='0.5', color='black')\n",
    "plt.xlabel('Book Index')\n",
    "plt.ylabel('Rating')\n",
    "plt.show()"
   ]
  },
  {
   "cell_type": "code",
   "execution_count": null,
   "metadata": {},
   "outputs": [],
   "source": [
    "print(\"O R² é \" + str(np.sqrt(metrics.mean_squared_error(df['Atual'],df['Predito']))))"
   ]
  },
  {
   "cell_type": "code",
   "execution_count": null,
   "metadata": {},
   "outputs": [],
   "source": [
    "plt.hist(df['Atual'] - df['Predito'],bins=100,density=True);\n",
    "plt.grid(True)"
   ]
  },
  {
   "cell_type": "markdown",
   "metadata": {},
   "source": [
    "## <font color='#FA8072'>Conclusão</font>\n",
    "<a id='Conclusão'></a>\n",
    "___"
   ]
  },
  {
   "cell_type": "markdown",
   "metadata": {},
   "source": [
    "A partir das métricas acima (sobretudo do R²) é possível observar que o modelo dista das medidas que de fato existem em até uma unidade (tanto para mais, quanto para menos). Visto que as avaliações vão de 0 até 5 e que nosso R² é 0,32, temos que ele tem um erro relativamente pequeno.  Porém, para  ver de que maneira poderíamos ajustar o modelo para ficar da melhor maneira, podemos refazer a análise, contudo, ao invés de usar valores inteiros, vamos fazer uma [`classificação`](classification.ipynb) dos livros."
   ]
  },
  {
   "cell_type": "markdown",
   "metadata": {},
   "source": [
    "## <font color='#FA8072'>R²</font>\n",
    "\n",
    "___\n",
    "<a id='R²'></a>"
   ]
  },
  {
   "cell_type": "markdown",
   "metadata": {},
   "source": [
    "### Como melhorar a análise?\n",
    "___\n",
    "\n",
    "Pode-se melhorar a análise feita por meio da K-Folds Cross Validation."
   ]
  },
  {
   "cell_type": "code",
   "execution_count": null,
   "metadata": {},
   "outputs": [],
   "source": []
  }
 ],
 "metadata": {
  "kernelspec": {
   "display_name": "Python 3",
   "language": "python",
   "name": "python3"
  },
  "language_info": {
   "codemirror_mode": {
    "name": "ipython",
    "version": 3
   },
   "file_extension": ".py",
   "mimetype": "text/x-python",
   "name": "python",
   "nbconvert_exporter": "python",
   "pygments_lexer": "ipython3",
   "version": "3.7.4"
  }
 },
 "nbformat": 4,
 "nbformat_minor": 2
}
